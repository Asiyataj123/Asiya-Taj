{
 "cells": [
  {
   "cell_type": "markdown",
   "id": "a6211c4b",
   "metadata": {},
   "source": [
    "###  Importing required libraries and reading the dataset. "
   ]
  },
  {
   "cell_type": "code",
   "execution_count": 1,
   "id": "5337ff43",
   "metadata": {
    "ExecuteTime": {
     "end_time": "2024-02-05T09:17:19.116390Z",
     "start_time": "2024-02-05T09:17:16.004451Z"
    }
   },
   "outputs": [],
   "source": [
    "# Importing required libraries:\n",
    "import  matplotlib.pyplot as plt \n",
    "import seaborn as sns\n",
    "import numpy as np \n",
    "import warnings \n",
    "warnings.filterwarnings(\"ignore\") \n",
    "%matplotlib inline \n",
    "import pandas as pd  "
   ]
  },
  {
   "cell_type": "code",
   "execution_count": 2,
   "id": "f2d9e35e",
   "metadata": {
    "ExecuteTime": {
     "end_time": "2024-02-05T09:17:19.222022Z",
     "start_time": "2024-02-05T09:17:19.120537Z"
    }
   },
   "outputs": [
    {
     "data": {
      "text/html": [
       "<div>\n",
       "<style scoped>\n",
       "    .dataframe tbody tr th:only-of-type {\n",
       "        vertical-align: middle;\n",
       "    }\n",
       "\n",
       "    .dataframe tbody tr th {\n",
       "        vertical-align: top;\n",
       "    }\n",
       "\n",
       "    .dataframe thead th {\n",
       "        text-align: right;\n",
       "    }\n",
       "</style>\n",
       "<table border=\"1\" class=\"dataframe\">\n",
       "  <thead>\n",
       "    <tr style=\"text-align: right;\">\n",
       "      <th></th>\n",
       "      <th>App</th>\n",
       "      <th>Category</th>\n",
       "      <th>Rating</th>\n",
       "      <th>Reviews</th>\n",
       "      <th>Size</th>\n",
       "      <th>Installs</th>\n",
       "      <th>Type</th>\n",
       "      <th>Price</th>\n",
       "      <th>Content Rating</th>\n",
       "      <th>Genres</th>\n",
       "      <th>Last Updated</th>\n",
       "      <th>Current Ver</th>\n",
       "      <th>Android Ver</th>\n",
       "    </tr>\n",
       "  </thead>\n",
       "  <tbody>\n",
       "    <tr>\n",
       "      <th>0</th>\n",
       "      <td>Photo Editor &amp; Candy Camera &amp; Grid &amp; ScrapBook</td>\n",
       "      <td>ART_AND_DESIGN</td>\n",
       "      <td>4.1</td>\n",
       "      <td>159</td>\n",
       "      <td>19M</td>\n",
       "      <td>10,000+</td>\n",
       "      <td>Free</td>\n",
       "      <td>0</td>\n",
       "      <td>Everyone</td>\n",
       "      <td>Art &amp; Design</td>\n",
       "      <td>January 7, 2018</td>\n",
       "      <td>1.0.0</td>\n",
       "      <td>4.0.3 and up</td>\n",
       "    </tr>\n",
       "    <tr>\n",
       "      <th>1</th>\n",
       "      <td>Coloring book moana</td>\n",
       "      <td>ART_AND_DESIGN</td>\n",
       "      <td>3.9</td>\n",
       "      <td>967</td>\n",
       "      <td>14M</td>\n",
       "      <td>500,000+</td>\n",
       "      <td>Free</td>\n",
       "      <td>0</td>\n",
       "      <td>Everyone</td>\n",
       "      <td>Art &amp; Design;Pretend Play</td>\n",
       "      <td>January 15, 2018</td>\n",
       "      <td>2.0.0</td>\n",
       "      <td>4.0.3 and up</td>\n",
       "    </tr>\n",
       "    <tr>\n",
       "      <th>2</th>\n",
       "      <td>U Launcher Lite – FREE Live Cool Themes, Hide ...</td>\n",
       "      <td>ART_AND_DESIGN</td>\n",
       "      <td>4.7</td>\n",
       "      <td>87510</td>\n",
       "      <td>8.7M</td>\n",
       "      <td>5,000,000+</td>\n",
       "      <td>Free</td>\n",
       "      <td>0</td>\n",
       "      <td>Everyone</td>\n",
       "      <td>Art &amp; Design</td>\n",
       "      <td>August 1, 2018</td>\n",
       "      <td>1.2.4</td>\n",
       "      <td>4.0.3 and up</td>\n",
       "    </tr>\n",
       "    <tr>\n",
       "      <th>3</th>\n",
       "      <td>Sketch - Draw &amp; Paint</td>\n",
       "      <td>ART_AND_DESIGN</td>\n",
       "      <td>4.5</td>\n",
       "      <td>215644</td>\n",
       "      <td>25M</td>\n",
       "      <td>50,000,000+</td>\n",
       "      <td>Free</td>\n",
       "      <td>0</td>\n",
       "      <td>Teen</td>\n",
       "      <td>Art &amp; Design</td>\n",
       "      <td>June 8, 2018</td>\n",
       "      <td>Varies with device</td>\n",
       "      <td>4.2 and up</td>\n",
       "    </tr>\n",
       "    <tr>\n",
       "      <th>4</th>\n",
       "      <td>Pixel Draw - Number Art Coloring Book</td>\n",
       "      <td>ART_AND_DESIGN</td>\n",
       "      <td>4.3</td>\n",
       "      <td>967</td>\n",
       "      <td>2.8M</td>\n",
       "      <td>100,000+</td>\n",
       "      <td>Free</td>\n",
       "      <td>0</td>\n",
       "      <td>Everyone</td>\n",
       "      <td>Art &amp; Design;Creativity</td>\n",
       "      <td>June 20, 2018</td>\n",
       "      <td>1.1</td>\n",
       "      <td>4.4 and up</td>\n",
       "    </tr>\n",
       "    <tr>\n",
       "      <th>...</th>\n",
       "      <td>...</td>\n",
       "      <td>...</td>\n",
       "      <td>...</td>\n",
       "      <td>...</td>\n",
       "      <td>...</td>\n",
       "      <td>...</td>\n",
       "      <td>...</td>\n",
       "      <td>...</td>\n",
       "      <td>...</td>\n",
       "      <td>...</td>\n",
       "      <td>...</td>\n",
       "      <td>...</td>\n",
       "      <td>...</td>\n",
       "    </tr>\n",
       "    <tr>\n",
       "      <th>10836</th>\n",
       "      <td>Sya9a Maroc - FR</td>\n",
       "      <td>FAMILY</td>\n",
       "      <td>4.5</td>\n",
       "      <td>38</td>\n",
       "      <td>53M</td>\n",
       "      <td>5,000+</td>\n",
       "      <td>Free</td>\n",
       "      <td>0</td>\n",
       "      <td>Everyone</td>\n",
       "      <td>Education</td>\n",
       "      <td>July 25, 2017</td>\n",
       "      <td>1.48</td>\n",
       "      <td>4.1 and up</td>\n",
       "    </tr>\n",
       "    <tr>\n",
       "      <th>10837</th>\n",
       "      <td>Fr. Mike Schmitz Audio Teachings</td>\n",
       "      <td>FAMILY</td>\n",
       "      <td>5.0</td>\n",
       "      <td>4</td>\n",
       "      <td>3.6M</td>\n",
       "      <td>100+</td>\n",
       "      <td>Free</td>\n",
       "      <td>0</td>\n",
       "      <td>Everyone</td>\n",
       "      <td>Education</td>\n",
       "      <td>July 6, 2018</td>\n",
       "      <td>1.0</td>\n",
       "      <td>4.1 and up</td>\n",
       "    </tr>\n",
       "    <tr>\n",
       "      <th>10838</th>\n",
       "      <td>Parkinson Exercices FR</td>\n",
       "      <td>MEDICAL</td>\n",
       "      <td>NaN</td>\n",
       "      <td>3</td>\n",
       "      <td>9.5M</td>\n",
       "      <td>1,000+</td>\n",
       "      <td>Free</td>\n",
       "      <td>0</td>\n",
       "      <td>Everyone</td>\n",
       "      <td>Medical</td>\n",
       "      <td>January 20, 2017</td>\n",
       "      <td>1.0</td>\n",
       "      <td>2.2 and up</td>\n",
       "    </tr>\n",
       "    <tr>\n",
       "      <th>10839</th>\n",
       "      <td>The SCP Foundation DB fr nn5n</td>\n",
       "      <td>BOOKS_AND_REFERENCE</td>\n",
       "      <td>4.5</td>\n",
       "      <td>114</td>\n",
       "      <td>Varies with device</td>\n",
       "      <td>1,000+</td>\n",
       "      <td>Free</td>\n",
       "      <td>0</td>\n",
       "      <td>Mature 17+</td>\n",
       "      <td>Books &amp; Reference</td>\n",
       "      <td>January 19, 2015</td>\n",
       "      <td>Varies with device</td>\n",
       "      <td>Varies with device</td>\n",
       "    </tr>\n",
       "    <tr>\n",
       "      <th>10840</th>\n",
       "      <td>iHoroscope - 2018 Daily Horoscope &amp; Astrology</td>\n",
       "      <td>LIFESTYLE</td>\n",
       "      <td>4.5</td>\n",
       "      <td>398307</td>\n",
       "      <td>19M</td>\n",
       "      <td>10,000,000+</td>\n",
       "      <td>Free</td>\n",
       "      <td>0</td>\n",
       "      <td>Everyone</td>\n",
       "      <td>Lifestyle</td>\n",
       "      <td>July 25, 2018</td>\n",
       "      <td>Varies with device</td>\n",
       "      <td>Varies with device</td>\n",
       "    </tr>\n",
       "  </tbody>\n",
       "</table>\n",
       "<p>10841 rows × 13 columns</p>\n",
       "</div>"
      ],
      "text/plain": [
       "                                                     App             Category  \\\n",
       "0         Photo Editor & Candy Camera & Grid & ScrapBook       ART_AND_DESIGN   \n",
       "1                                    Coloring book moana       ART_AND_DESIGN   \n",
       "2      U Launcher Lite – FREE Live Cool Themes, Hide ...       ART_AND_DESIGN   \n",
       "3                                  Sketch - Draw & Paint       ART_AND_DESIGN   \n",
       "4                  Pixel Draw - Number Art Coloring Book       ART_AND_DESIGN   \n",
       "...                                                  ...                  ...   \n",
       "10836                                   Sya9a Maroc - FR               FAMILY   \n",
       "10837                   Fr. Mike Schmitz Audio Teachings               FAMILY   \n",
       "10838                             Parkinson Exercices FR              MEDICAL   \n",
       "10839                      The SCP Foundation DB fr nn5n  BOOKS_AND_REFERENCE   \n",
       "10840      iHoroscope - 2018 Daily Horoscope & Astrology            LIFESTYLE   \n",
       "\n",
       "       Rating Reviews                Size     Installs  Type Price  \\\n",
       "0         4.1     159                 19M      10,000+  Free     0   \n",
       "1         3.9     967                 14M     500,000+  Free     0   \n",
       "2         4.7   87510                8.7M   5,000,000+  Free     0   \n",
       "3         4.5  215644                 25M  50,000,000+  Free     0   \n",
       "4         4.3     967                2.8M     100,000+  Free     0   \n",
       "...       ...     ...                 ...          ...   ...   ...   \n",
       "10836     4.5      38                 53M       5,000+  Free     0   \n",
       "10837     5.0       4                3.6M         100+  Free     0   \n",
       "10838     NaN       3                9.5M       1,000+  Free     0   \n",
       "10839     4.5     114  Varies with device       1,000+  Free     0   \n",
       "10840     4.5  398307                 19M  10,000,000+  Free     0   \n",
       "\n",
       "      Content Rating                     Genres      Last Updated  \\\n",
       "0           Everyone               Art & Design   January 7, 2018   \n",
       "1           Everyone  Art & Design;Pretend Play  January 15, 2018   \n",
       "2           Everyone               Art & Design    August 1, 2018   \n",
       "3               Teen               Art & Design      June 8, 2018   \n",
       "4           Everyone    Art & Design;Creativity     June 20, 2018   \n",
       "...              ...                        ...               ...   \n",
       "10836       Everyone                  Education     July 25, 2017   \n",
       "10837       Everyone                  Education      July 6, 2018   \n",
       "10838       Everyone                    Medical  January 20, 2017   \n",
       "10839     Mature 17+          Books & Reference  January 19, 2015   \n",
       "10840       Everyone                  Lifestyle     July 25, 2018   \n",
       "\n",
       "              Current Ver         Android Ver  \n",
       "0                   1.0.0        4.0.3 and up  \n",
       "1                   2.0.0        4.0.3 and up  \n",
       "2                   1.2.4        4.0.3 and up  \n",
       "3      Varies with device          4.2 and up  \n",
       "4                     1.1          4.4 and up  \n",
       "...                   ...                 ...  \n",
       "10836                1.48          4.1 and up  \n",
       "10837                 1.0          4.1 and up  \n",
       "10838                 1.0          2.2 and up  \n",
       "10839  Varies with device  Varies with device  \n",
       "10840  Varies with device  Varies with device  \n",
       "\n",
       "[10841 rows x 13 columns]"
      ]
     },
     "execution_count": 2,
     "metadata": {},
     "output_type": "execute_result"
    }
   ],
   "source": [
    "# reading the csv_file as df \n",
    "df=pd.read_csv(r\"C:\\Users\\tabre\\OneDrive\\GL_Python\\Week3_PROJECT\\Apps_data+(1).csv\")  \n",
    "df "
   ]
  },
  {
   "cell_type": "markdown",
   "id": "d0c2593f",
   "metadata": {
    "ExecuteTime": {
     "end_time": "2024-01-21T07:23:01.329672Z",
     "start_time": "2024-01-21T07:23:01.320067Z"
    }
   },
   "source": [
    "### 2. Check the first few samples, shape, info of the data and try to familiarize yourself with different features. (2 marks) "
   ]
  },
  {
   "cell_type": "code",
   "execution_count": 3,
   "id": "104f06d6",
   "metadata": {
    "ExecuteTime": {
     "end_time": "2024-02-05T09:17:19.238934Z",
     "start_time": "2024-02-05T09:17:19.222022Z"
    }
   },
   "outputs": [
    {
     "data": {
      "text/html": [
       "<div>\n",
       "<style scoped>\n",
       "    .dataframe tbody tr th:only-of-type {\n",
       "        vertical-align: middle;\n",
       "    }\n",
       "\n",
       "    .dataframe tbody tr th {\n",
       "        vertical-align: top;\n",
       "    }\n",
       "\n",
       "    .dataframe thead th {\n",
       "        text-align: right;\n",
       "    }\n",
       "</style>\n",
       "<table border=\"1\" class=\"dataframe\">\n",
       "  <thead>\n",
       "    <tr style=\"text-align: right;\">\n",
       "      <th></th>\n",
       "      <th>App</th>\n",
       "      <th>Category</th>\n",
       "      <th>Rating</th>\n",
       "      <th>Reviews</th>\n",
       "      <th>Size</th>\n",
       "      <th>Installs</th>\n",
       "      <th>Type</th>\n",
       "      <th>Price</th>\n",
       "      <th>Content Rating</th>\n",
       "      <th>Genres</th>\n",
       "      <th>Last Updated</th>\n",
       "      <th>Current Ver</th>\n",
       "      <th>Android Ver</th>\n",
       "    </tr>\n",
       "  </thead>\n",
       "  <tbody>\n",
       "    <tr>\n",
       "      <th>0</th>\n",
       "      <td>Photo Editor &amp; Candy Camera &amp; Grid &amp; ScrapBook</td>\n",
       "      <td>ART_AND_DESIGN</td>\n",
       "      <td>4.1</td>\n",
       "      <td>159</td>\n",
       "      <td>19M</td>\n",
       "      <td>10,000+</td>\n",
       "      <td>Free</td>\n",
       "      <td>0</td>\n",
       "      <td>Everyone</td>\n",
       "      <td>Art &amp; Design</td>\n",
       "      <td>January 7, 2018</td>\n",
       "      <td>1.0.0</td>\n",
       "      <td>4.0.3 and up</td>\n",
       "    </tr>\n",
       "    <tr>\n",
       "      <th>1</th>\n",
       "      <td>Coloring book moana</td>\n",
       "      <td>ART_AND_DESIGN</td>\n",
       "      <td>3.9</td>\n",
       "      <td>967</td>\n",
       "      <td>14M</td>\n",
       "      <td>500,000+</td>\n",
       "      <td>Free</td>\n",
       "      <td>0</td>\n",
       "      <td>Everyone</td>\n",
       "      <td>Art &amp; Design;Pretend Play</td>\n",
       "      <td>January 15, 2018</td>\n",
       "      <td>2.0.0</td>\n",
       "      <td>4.0.3 and up</td>\n",
       "    </tr>\n",
       "    <tr>\n",
       "      <th>2</th>\n",
       "      <td>U Launcher Lite – FREE Live Cool Themes, Hide ...</td>\n",
       "      <td>ART_AND_DESIGN</td>\n",
       "      <td>4.7</td>\n",
       "      <td>87510</td>\n",
       "      <td>8.7M</td>\n",
       "      <td>5,000,000+</td>\n",
       "      <td>Free</td>\n",
       "      <td>0</td>\n",
       "      <td>Everyone</td>\n",
       "      <td>Art &amp; Design</td>\n",
       "      <td>August 1, 2018</td>\n",
       "      <td>1.2.4</td>\n",
       "      <td>4.0.3 and up</td>\n",
       "    </tr>\n",
       "    <tr>\n",
       "      <th>3</th>\n",
       "      <td>Sketch - Draw &amp; Paint</td>\n",
       "      <td>ART_AND_DESIGN</td>\n",
       "      <td>4.5</td>\n",
       "      <td>215644</td>\n",
       "      <td>25M</td>\n",
       "      <td>50,000,000+</td>\n",
       "      <td>Free</td>\n",
       "      <td>0</td>\n",
       "      <td>Teen</td>\n",
       "      <td>Art &amp; Design</td>\n",
       "      <td>June 8, 2018</td>\n",
       "      <td>Varies with device</td>\n",
       "      <td>4.2 and up</td>\n",
       "    </tr>\n",
       "    <tr>\n",
       "      <th>4</th>\n",
       "      <td>Pixel Draw - Number Art Coloring Book</td>\n",
       "      <td>ART_AND_DESIGN</td>\n",
       "      <td>4.3</td>\n",
       "      <td>967</td>\n",
       "      <td>2.8M</td>\n",
       "      <td>100,000+</td>\n",
       "      <td>Free</td>\n",
       "      <td>0</td>\n",
       "      <td>Everyone</td>\n",
       "      <td>Art &amp; Design;Creativity</td>\n",
       "      <td>June 20, 2018</td>\n",
       "      <td>1.1</td>\n",
       "      <td>4.4 and up</td>\n",
       "    </tr>\n",
       "  </tbody>\n",
       "</table>\n",
       "</div>"
      ],
      "text/plain": [
       "                                                 App        Category  Rating  \\\n",
       "0     Photo Editor & Candy Camera & Grid & ScrapBook  ART_AND_DESIGN     4.1   \n",
       "1                                Coloring book moana  ART_AND_DESIGN     3.9   \n",
       "2  U Launcher Lite – FREE Live Cool Themes, Hide ...  ART_AND_DESIGN     4.7   \n",
       "3                              Sketch - Draw & Paint  ART_AND_DESIGN     4.5   \n",
       "4              Pixel Draw - Number Art Coloring Book  ART_AND_DESIGN     4.3   \n",
       "\n",
       "  Reviews  Size     Installs  Type Price Content Rating  \\\n",
       "0     159   19M      10,000+  Free     0       Everyone   \n",
       "1     967   14M     500,000+  Free     0       Everyone   \n",
       "2   87510  8.7M   5,000,000+  Free     0       Everyone   \n",
       "3  215644   25M  50,000,000+  Free     0           Teen   \n",
       "4     967  2.8M     100,000+  Free     0       Everyone   \n",
       "\n",
       "                      Genres      Last Updated         Current Ver  \\\n",
       "0               Art & Design   January 7, 2018               1.0.0   \n",
       "1  Art & Design;Pretend Play  January 15, 2018               2.0.0   \n",
       "2               Art & Design    August 1, 2018               1.2.4   \n",
       "3               Art & Design      June 8, 2018  Varies with device   \n",
       "4    Art & Design;Creativity     June 20, 2018                 1.1   \n",
       "\n",
       "    Android Ver  \n",
       "0  4.0.3 and up  \n",
       "1  4.0.3 and up  \n",
       "2  4.0.3 and up  \n",
       "3    4.2 and up  \n",
       "4    4.4 and up  "
      ]
     },
     "execution_count": 3,
     "metadata": {},
     "output_type": "execute_result"
    }
   ],
   "source": [
    "# Reading top 5 records:\n",
    "df.head() "
   ]
  },
  {
   "cell_type": "code",
   "execution_count": 4,
   "id": "0e248513",
   "metadata": {
    "ExecuteTime": {
     "end_time": "2024-02-05T09:17:19.246388Z",
     "start_time": "2024-02-05T09:17:19.238934Z"
    }
   },
   "outputs": [
    {
     "data": {
      "text/plain": [
       "(10841, 13)"
      ]
     },
     "execution_count": 4,
     "metadata": {},
     "output_type": "execute_result"
    }
   ],
   "source": [
    "df.shape"
   ]
  },
  {
   "cell_type": "code",
   "execution_count": 5,
   "id": "d7a7249f",
   "metadata": {
    "ExecuteTime": {
     "end_time": "2024-02-05T09:17:19.274143Z",
     "start_time": "2024-02-05T09:17:19.246388Z"
    }
   },
   "outputs": [
    {
     "name": "stdout",
     "output_type": "stream",
     "text": [
      "<class 'pandas.core.frame.DataFrame'>\n",
      "RangeIndex: 10841 entries, 0 to 10840\n",
      "Data columns (total 13 columns):\n",
      " #   Column          Non-Null Count  Dtype  \n",
      "---  ------          --------------  -----  \n",
      " 0   App             10841 non-null  object \n",
      " 1   Category        10841 non-null  object \n",
      " 2   Rating          9367 non-null   float64\n",
      " 3   Reviews         10841 non-null  object \n",
      " 4   Size            10841 non-null  object \n",
      " 5   Installs        10841 non-null  object \n",
      " 6   Type            10840 non-null  object \n",
      " 7   Price           10841 non-null  object \n",
      " 8   Content Rating  10840 non-null  object \n",
      " 9   Genres          10841 non-null  object \n",
      " 10  Last Updated    10841 non-null  object \n",
      " 11  Current Ver     10833 non-null  object \n",
      " 12  Android Ver     10838 non-null  object \n",
      "dtypes: float64(1), object(12)\n",
      "memory usage: 1.1+ MB\n"
     ]
    }
   ],
   "source": [
    "df.info() "
   ]
  },
  {
   "cell_type": "code",
   "execution_count": 6,
   "id": "dc155788",
   "metadata": {
    "ExecuteTime": {
     "end_time": "2024-02-05T09:17:19.290606Z",
     "start_time": "2024-02-05T09:17:19.274143Z"
    }
   },
   "outputs": [
    {
     "data": {
      "text/plain": [
       "App                0.000000\n",
       "Category           0.000000\n",
       "Rating            13.596532\n",
       "Reviews            0.000000\n",
       "Size               0.000000\n",
       "Installs           0.000000\n",
       "Type               0.009224\n",
       "Price              0.000000\n",
       "Content Rating     0.009224\n",
       "Genres             0.000000\n",
       "Last Updated       0.000000\n",
       "Current Ver        0.073794\n",
       "Android Ver        0.027673\n",
       "dtype: float64"
      ]
     },
     "execution_count": 6,
     "metadata": {},
     "output_type": "execute_result"
    }
   ],
   "source": [
    "df.isnull().sum()*100/len(df)  "
   ]
  },
  {
   "cell_type": "markdown",
   "id": "314c2444",
   "metadata": {},
   "source": [
    "###  Checking summary statistics of the dataset. Listing out the columns that need to be worked upon for model building"
   ]
  },
  {
   "cell_type": "code",
   "execution_count": 7,
   "id": "9c4066db",
   "metadata": {
    "ExecuteTime": {
     "end_time": "2024-02-05T09:17:19.305720Z",
     "start_time": "2024-02-05T09:17:19.290606Z"
    }
   },
   "outputs": [
    {
     "data": {
      "text/html": [
       "<div>\n",
       "<style scoped>\n",
       "    .dataframe tbody tr th:only-of-type {\n",
       "        vertical-align: middle;\n",
       "    }\n",
       "\n",
       "    .dataframe tbody tr th {\n",
       "        vertical-align: top;\n",
       "    }\n",
       "\n",
       "    .dataframe thead th {\n",
       "        text-align: right;\n",
       "    }\n",
       "</style>\n",
       "<table border=\"1\" class=\"dataframe\">\n",
       "  <thead>\n",
       "    <tr style=\"text-align: right;\">\n",
       "      <th></th>\n",
       "      <th>Rating</th>\n",
       "    </tr>\n",
       "  </thead>\n",
       "  <tbody>\n",
       "    <tr>\n",
       "      <th>count</th>\n",
       "      <td>9367.000000</td>\n",
       "    </tr>\n",
       "    <tr>\n",
       "      <th>mean</th>\n",
       "      <td>4.193338</td>\n",
       "    </tr>\n",
       "    <tr>\n",
       "      <th>std</th>\n",
       "      <td>0.537431</td>\n",
       "    </tr>\n",
       "    <tr>\n",
       "      <th>min</th>\n",
       "      <td>1.000000</td>\n",
       "    </tr>\n",
       "    <tr>\n",
       "      <th>25%</th>\n",
       "      <td>4.000000</td>\n",
       "    </tr>\n",
       "    <tr>\n",
       "      <th>50%</th>\n",
       "      <td>4.300000</td>\n",
       "    </tr>\n",
       "    <tr>\n",
       "      <th>75%</th>\n",
       "      <td>4.500000</td>\n",
       "    </tr>\n",
       "    <tr>\n",
       "      <th>max</th>\n",
       "      <td>19.000000</td>\n",
       "    </tr>\n",
       "  </tbody>\n",
       "</table>\n",
       "</div>"
      ],
      "text/plain": [
       "            Rating\n",
       "count  9367.000000\n",
       "mean      4.193338\n",
       "std       0.537431\n",
       "min       1.000000\n",
       "25%       4.000000\n",
       "50%       4.300000\n",
       "75%       4.500000\n",
       "max      19.000000"
      ]
     },
     "execution_count": 7,
     "metadata": {},
     "output_type": "execute_result"
    }
   ],
   "source": [
    "df.describe(include=\"number\")  "
   ]
  },
  {
   "cell_type": "code",
   "execution_count": 8,
   "id": "c360a195",
   "metadata": {
    "ExecuteTime": {
     "end_time": "2024-02-05T09:17:19.348113Z",
     "start_time": "2024-02-05T09:17:19.305720Z"
    },
    "scrolled": true
   },
   "outputs": [
    {
     "data": {
      "text/html": [
       "<div>\n",
       "<style scoped>\n",
       "    .dataframe tbody tr th:only-of-type {\n",
       "        vertical-align: middle;\n",
       "    }\n",
       "\n",
       "    .dataframe tbody tr th {\n",
       "        vertical-align: top;\n",
       "    }\n",
       "\n",
       "    .dataframe thead th {\n",
       "        text-align: right;\n",
       "    }\n",
       "</style>\n",
       "<table border=\"1\" class=\"dataframe\">\n",
       "  <thead>\n",
       "    <tr style=\"text-align: right;\">\n",
       "      <th></th>\n",
       "      <th>count</th>\n",
       "      <th>unique</th>\n",
       "      <th>top</th>\n",
       "      <th>freq</th>\n",
       "    </tr>\n",
       "  </thead>\n",
       "  <tbody>\n",
       "    <tr>\n",
       "      <th>App</th>\n",
       "      <td>10841</td>\n",
       "      <td>9660</td>\n",
       "      <td>ROBLOX</td>\n",
       "      <td>9</td>\n",
       "    </tr>\n",
       "    <tr>\n",
       "      <th>Category</th>\n",
       "      <td>10841</td>\n",
       "      <td>34</td>\n",
       "      <td>FAMILY</td>\n",
       "      <td>1972</td>\n",
       "    </tr>\n",
       "    <tr>\n",
       "      <th>Reviews</th>\n",
       "      <td>10841</td>\n",
       "      <td>6002</td>\n",
       "      <td>0</td>\n",
       "      <td>596</td>\n",
       "    </tr>\n",
       "    <tr>\n",
       "      <th>Size</th>\n",
       "      <td>10841</td>\n",
       "      <td>462</td>\n",
       "      <td>Varies with device</td>\n",
       "      <td>1695</td>\n",
       "    </tr>\n",
       "    <tr>\n",
       "      <th>Installs</th>\n",
       "      <td>10841</td>\n",
       "      <td>22</td>\n",
       "      <td>1,000,000+</td>\n",
       "      <td>1579</td>\n",
       "    </tr>\n",
       "    <tr>\n",
       "      <th>Type</th>\n",
       "      <td>10840</td>\n",
       "      <td>3</td>\n",
       "      <td>Free</td>\n",
       "      <td>10039</td>\n",
       "    </tr>\n",
       "    <tr>\n",
       "      <th>Price</th>\n",
       "      <td>10841</td>\n",
       "      <td>93</td>\n",
       "      <td>0</td>\n",
       "      <td>10040</td>\n",
       "    </tr>\n",
       "    <tr>\n",
       "      <th>Content Rating</th>\n",
       "      <td>10840</td>\n",
       "      <td>6</td>\n",
       "      <td>Everyone</td>\n",
       "      <td>8714</td>\n",
       "    </tr>\n",
       "    <tr>\n",
       "      <th>Genres</th>\n",
       "      <td>10841</td>\n",
       "      <td>120</td>\n",
       "      <td>Tools</td>\n",
       "      <td>842</td>\n",
       "    </tr>\n",
       "    <tr>\n",
       "      <th>Last Updated</th>\n",
       "      <td>10841</td>\n",
       "      <td>1378</td>\n",
       "      <td>August 3, 2018</td>\n",
       "      <td>326</td>\n",
       "    </tr>\n",
       "    <tr>\n",
       "      <th>Current Ver</th>\n",
       "      <td>10833</td>\n",
       "      <td>2832</td>\n",
       "      <td>Varies with device</td>\n",
       "      <td>1459</td>\n",
       "    </tr>\n",
       "    <tr>\n",
       "      <th>Android Ver</th>\n",
       "      <td>10838</td>\n",
       "      <td>33</td>\n",
       "      <td>4.1 and up</td>\n",
       "      <td>2451</td>\n",
       "    </tr>\n",
       "  </tbody>\n",
       "</table>\n",
       "</div>"
      ],
      "text/plain": [
       "                count unique                 top   freq\n",
       "App             10841   9660              ROBLOX      9\n",
       "Category        10841     34              FAMILY   1972\n",
       "Reviews         10841   6002                   0    596\n",
       "Size            10841    462  Varies with device   1695\n",
       "Installs        10841     22          1,000,000+   1579\n",
       "Type            10840      3                Free  10039\n",
       "Price           10841     93                   0  10040\n",
       "Content Rating  10840      6            Everyone   8714\n",
       "Genres          10841    120               Tools    842\n",
       "Last Updated    10841   1378      August 3, 2018    326\n",
       "Current Ver     10833   2832  Varies with device   1459\n",
       "Android Ver     10838     33          4.1 and up   2451"
      ]
     },
     "execution_count": 8,
     "metadata": {},
     "output_type": "execute_result"
    }
   ],
   "source": [
    "df.describe(include=\"object\").T  "
   ]
  },
  {
   "cell_type": "code",
   "execution_count": 9,
   "id": "d495df2c",
   "metadata": {
    "ExecuteTime": {
     "end_time": "2024-02-05T09:17:19.362729Z",
     "start_time": "2024-02-05T09:17:19.348113Z"
    }
   },
   "outputs": [
    {
     "data": {
      "text/html": [
       "<div>\n",
       "<style scoped>\n",
       "    .dataframe tbody tr th:only-of-type {\n",
       "        vertical-align: middle;\n",
       "    }\n",
       "\n",
       "    .dataframe tbody tr th {\n",
       "        vertical-align: top;\n",
       "    }\n",
       "\n",
       "    .dataframe thead th {\n",
       "        text-align: right;\n",
       "    }\n",
       "</style>\n",
       "<table border=\"1\" class=\"dataframe\">\n",
       "  <thead>\n",
       "    <tr style=\"text-align: right;\">\n",
       "      <th></th>\n",
       "      <th>App</th>\n",
       "      <th>Category</th>\n",
       "      <th>Rating</th>\n",
       "      <th>Reviews</th>\n",
       "      <th>Size</th>\n",
       "      <th>Installs</th>\n",
       "      <th>Type</th>\n",
       "      <th>Price</th>\n",
       "      <th>Content Rating</th>\n",
       "      <th>Genres</th>\n",
       "      <th>Last Updated</th>\n",
       "      <th>Current Ver</th>\n",
       "      <th>Android Ver</th>\n",
       "    </tr>\n",
       "  </thead>\n",
       "  <tbody>\n",
       "    <tr>\n",
       "      <th>0</th>\n",
       "      <td>Photo Editor &amp; Candy Camera &amp; Grid &amp; ScrapBook</td>\n",
       "      <td>ART_AND_DESIGN</td>\n",
       "      <td>4.1</td>\n",
       "      <td>159</td>\n",
       "      <td>19M</td>\n",
       "      <td>10,000+</td>\n",
       "      <td>Free</td>\n",
       "      <td>0</td>\n",
       "      <td>Everyone</td>\n",
       "      <td>Art &amp; Design</td>\n",
       "      <td>January 7, 2018</td>\n",
       "      <td>1.0.0</td>\n",
       "      <td>4.0.3 and up</td>\n",
       "    </tr>\n",
       "  </tbody>\n",
       "</table>\n",
       "</div>"
      ],
      "text/plain": [
       "                                              App        Category  Rating  \\\n",
       "0  Photo Editor & Candy Camera & Grid & ScrapBook  ART_AND_DESIGN     4.1   \n",
       "\n",
       "  Reviews Size Installs  Type Price Content Rating        Genres  \\\n",
       "0     159  19M  10,000+  Free     0       Everyone  Art & Design   \n",
       "\n",
       "      Last Updated Current Ver   Android Ver  \n",
       "0  January 7, 2018       1.0.0  4.0.3 and up  "
      ]
     },
     "execution_count": 9,
     "metadata": {},
     "output_type": "execute_result"
    }
   ],
   "source": [
    "df.head(1) "
   ]
  },
  {
   "cell_type": "code",
   "execution_count": 10,
   "id": "0b1b192e",
   "metadata": {
    "ExecuteTime": {
     "end_time": "2024-02-05T09:17:19.367744Z",
     "start_time": "2024-02-05T09:17:19.362729Z"
    }
   },
   "outputs": [],
   "source": [
    "# By seeing statistical summary we can see that there is only one numeric columns , and all other are categorical\n",
    "#Since model building only supports numerical columns , we need to convert object columns into numeric in order to use in model.\n",
    "# we need to work on following columns \n",
    "# Rating \n",
    "#Reviews \n",
    "# Size\n",
    "#Install \n",
    "#Type \n",
    "#price \n",
    "#Content Rating . all this columns are object type , need to convert into appropriate numeric one."
   ]
  },
  {
   "cell_type": "markdown",
   "id": "5279532d",
   "metadata": {},
   "source": [
    "### Checking if there are any duplicate records in the dataset, if any droping them"
   ]
  },
  {
   "cell_type": "code",
   "execution_count": 11,
   "id": "438f95d3",
   "metadata": {
    "ExecuteTime": {
     "end_time": "2024-02-05T09:17:19.388017Z",
     "start_time": "2024-02-05T09:17:19.367744Z"
    }
   },
   "outputs": [
    {
     "data": {
      "text/plain": [
       "483"
      ]
     },
     "execution_count": 11,
     "metadata": {},
     "output_type": "execute_result"
    }
   ],
   "source": [
    "#Checking total number of duplicates present in DataFrame.\n",
    "df.duplicated().sum()  "
   ]
  },
  {
   "cell_type": "code",
   "execution_count": 12,
   "id": "905ab208",
   "metadata": {
    "ExecuteTime": {
     "end_time": "2024-02-05T09:17:19.433369Z",
     "start_time": "2024-02-05T09:17:19.389022Z"
    }
   },
   "outputs": [
    {
     "data": {
      "text/html": [
       "<div>\n",
       "<style scoped>\n",
       "    .dataframe tbody tr th:only-of-type {\n",
       "        vertical-align: middle;\n",
       "    }\n",
       "\n",
       "    .dataframe tbody tr th {\n",
       "        vertical-align: top;\n",
       "    }\n",
       "\n",
       "    .dataframe thead th {\n",
       "        text-align: right;\n",
       "    }\n",
       "</style>\n",
       "<table border=\"1\" class=\"dataframe\">\n",
       "  <thead>\n",
       "    <tr style=\"text-align: right;\">\n",
       "      <th></th>\n",
       "      <th>App</th>\n",
       "      <th>Category</th>\n",
       "      <th>Rating</th>\n",
       "      <th>Reviews</th>\n",
       "      <th>Size</th>\n",
       "      <th>Installs</th>\n",
       "      <th>Type</th>\n",
       "      <th>Price</th>\n",
       "      <th>Content Rating</th>\n",
       "      <th>Genres</th>\n",
       "      <th>Last Updated</th>\n",
       "      <th>Current Ver</th>\n",
       "      <th>Android Ver</th>\n",
       "    </tr>\n",
       "  </thead>\n",
       "  <tbody>\n",
       "    <tr>\n",
       "      <th>229</th>\n",
       "      <td>Quick PDF Scanner + OCR FREE</td>\n",
       "      <td>BUSINESS</td>\n",
       "      <td>4.2</td>\n",
       "      <td>80805</td>\n",
       "      <td>Varies with device</td>\n",
       "      <td>5,000,000+</td>\n",
       "      <td>Free</td>\n",
       "      <td>0</td>\n",
       "      <td>Everyone</td>\n",
       "      <td>Business</td>\n",
       "      <td>February 26, 2018</td>\n",
       "      <td>Varies with device</td>\n",
       "      <td>4.0.3 and up</td>\n",
       "    </tr>\n",
       "    <tr>\n",
       "      <th>236</th>\n",
       "      <td>Box</td>\n",
       "      <td>BUSINESS</td>\n",
       "      <td>4.2</td>\n",
       "      <td>159872</td>\n",
       "      <td>Varies with device</td>\n",
       "      <td>10,000,000+</td>\n",
       "      <td>Free</td>\n",
       "      <td>0</td>\n",
       "      <td>Everyone</td>\n",
       "      <td>Business</td>\n",
       "      <td>July 31, 2018</td>\n",
       "      <td>Varies with device</td>\n",
       "      <td>Varies with device</td>\n",
       "    </tr>\n",
       "    <tr>\n",
       "      <th>239</th>\n",
       "      <td>Google My Business</td>\n",
       "      <td>BUSINESS</td>\n",
       "      <td>4.4</td>\n",
       "      <td>70991</td>\n",
       "      <td>Varies with device</td>\n",
       "      <td>5,000,000+</td>\n",
       "      <td>Free</td>\n",
       "      <td>0</td>\n",
       "      <td>Everyone</td>\n",
       "      <td>Business</td>\n",
       "      <td>July 24, 2018</td>\n",
       "      <td>2.19.0.204537701</td>\n",
       "      <td>4.4 and up</td>\n",
       "    </tr>\n",
       "    <tr>\n",
       "      <th>256</th>\n",
       "      <td>ZOOM Cloud Meetings</td>\n",
       "      <td>BUSINESS</td>\n",
       "      <td>4.4</td>\n",
       "      <td>31614</td>\n",
       "      <td>37M</td>\n",
       "      <td>10,000,000+</td>\n",
       "      <td>Free</td>\n",
       "      <td>0</td>\n",
       "      <td>Everyone</td>\n",
       "      <td>Business</td>\n",
       "      <td>July 20, 2018</td>\n",
       "      <td>4.1.28165.0716</td>\n",
       "      <td>4.0 and up</td>\n",
       "    </tr>\n",
       "    <tr>\n",
       "      <th>261</th>\n",
       "      <td>join.me - Simple Meetings</td>\n",
       "      <td>BUSINESS</td>\n",
       "      <td>4.0</td>\n",
       "      <td>6989</td>\n",
       "      <td>Varies with device</td>\n",
       "      <td>1,000,000+</td>\n",
       "      <td>Free</td>\n",
       "      <td>0</td>\n",
       "      <td>Everyone</td>\n",
       "      <td>Business</td>\n",
       "      <td>July 16, 2018</td>\n",
       "      <td>4.3.0.508</td>\n",
       "      <td>4.4 and up</td>\n",
       "    </tr>\n",
       "    <tr>\n",
       "      <th>...</th>\n",
       "      <td>...</td>\n",
       "      <td>...</td>\n",
       "      <td>...</td>\n",
       "      <td>...</td>\n",
       "      <td>...</td>\n",
       "      <td>...</td>\n",
       "      <td>...</td>\n",
       "      <td>...</td>\n",
       "      <td>...</td>\n",
       "      <td>...</td>\n",
       "      <td>...</td>\n",
       "      <td>...</td>\n",
       "      <td>...</td>\n",
       "    </tr>\n",
       "    <tr>\n",
       "      <th>8643</th>\n",
       "      <td>Wunderlist: To-Do List &amp; Tasks</td>\n",
       "      <td>PRODUCTIVITY</td>\n",
       "      <td>4.6</td>\n",
       "      <td>404610</td>\n",
       "      <td>Varies with device</td>\n",
       "      <td>10,000,000+</td>\n",
       "      <td>Free</td>\n",
       "      <td>0</td>\n",
       "      <td>Everyone</td>\n",
       "      <td>Productivity</td>\n",
       "      <td>April 6, 2018</td>\n",
       "      <td>Varies with device</td>\n",
       "      <td>Varies with device</td>\n",
       "    </tr>\n",
       "    <tr>\n",
       "      <th>8654</th>\n",
       "      <td>TickTick: To Do List with Reminder, Day Planner</td>\n",
       "      <td>PRODUCTIVITY</td>\n",
       "      <td>4.6</td>\n",
       "      <td>25370</td>\n",
       "      <td>Varies with device</td>\n",
       "      <td>1,000,000+</td>\n",
       "      <td>Free</td>\n",
       "      <td>0</td>\n",
       "      <td>Everyone</td>\n",
       "      <td>Productivity</td>\n",
       "      <td>August 6, 2018</td>\n",
       "      <td>Varies with device</td>\n",
       "      <td>Varies with device</td>\n",
       "    </tr>\n",
       "    <tr>\n",
       "      <th>8658</th>\n",
       "      <td>ColorNote Notepad Notes</td>\n",
       "      <td>PRODUCTIVITY</td>\n",
       "      <td>4.6</td>\n",
       "      <td>2401017</td>\n",
       "      <td>Varies with device</td>\n",
       "      <td>100,000,000+</td>\n",
       "      <td>Free</td>\n",
       "      <td>0</td>\n",
       "      <td>Everyone</td>\n",
       "      <td>Productivity</td>\n",
       "      <td>June 27, 2018</td>\n",
       "      <td>Varies with device</td>\n",
       "      <td>Varies with device</td>\n",
       "    </tr>\n",
       "    <tr>\n",
       "      <th>10049</th>\n",
       "      <td>Airway Ex - Intubate. Anesthetize. Train.</td>\n",
       "      <td>MEDICAL</td>\n",
       "      <td>4.3</td>\n",
       "      <td>123</td>\n",
       "      <td>86M</td>\n",
       "      <td>10,000+</td>\n",
       "      <td>Free</td>\n",
       "      <td>0</td>\n",
       "      <td>Everyone</td>\n",
       "      <td>Medical</td>\n",
       "      <td>June 1, 2018</td>\n",
       "      <td>0.6.88</td>\n",
       "      <td>5.0 and up</td>\n",
       "    </tr>\n",
       "    <tr>\n",
       "      <th>10768</th>\n",
       "      <td>AAFP</td>\n",
       "      <td>MEDICAL</td>\n",
       "      <td>3.8</td>\n",
       "      <td>63</td>\n",
       "      <td>24M</td>\n",
       "      <td>10,000+</td>\n",
       "      <td>Free</td>\n",
       "      <td>0</td>\n",
       "      <td>Everyone</td>\n",
       "      <td>Medical</td>\n",
       "      <td>June 22, 2018</td>\n",
       "      <td>2.3.1</td>\n",
       "      <td>5.0 and up</td>\n",
       "    </tr>\n",
       "  </tbody>\n",
       "</table>\n",
       "<p>483 rows × 13 columns</p>\n",
       "</div>"
      ],
      "text/plain": [
       "                                                   App      Category  Rating  \\\n",
       "229                       Quick PDF Scanner + OCR FREE      BUSINESS     4.2   \n",
       "236                                                Box      BUSINESS     4.2   \n",
       "239                                 Google My Business      BUSINESS     4.4   \n",
       "256                                ZOOM Cloud Meetings      BUSINESS     4.4   \n",
       "261                          join.me - Simple Meetings      BUSINESS     4.0   \n",
       "...                                                ...           ...     ...   \n",
       "8643                    Wunderlist: To-Do List & Tasks  PRODUCTIVITY     4.6   \n",
       "8654   TickTick: To Do List with Reminder, Day Planner  PRODUCTIVITY     4.6   \n",
       "8658                           ColorNote Notepad Notes  PRODUCTIVITY     4.6   \n",
       "10049        Airway Ex - Intubate. Anesthetize. Train.       MEDICAL     4.3   \n",
       "10768                                             AAFP       MEDICAL     3.8   \n",
       "\n",
       "       Reviews                Size      Installs  Type Price Content Rating  \\\n",
       "229      80805  Varies with device    5,000,000+  Free     0       Everyone   \n",
       "236     159872  Varies with device   10,000,000+  Free     0       Everyone   \n",
       "239      70991  Varies with device    5,000,000+  Free     0       Everyone   \n",
       "256      31614                 37M   10,000,000+  Free     0       Everyone   \n",
       "261       6989  Varies with device    1,000,000+  Free     0       Everyone   \n",
       "...        ...                 ...           ...   ...   ...            ...   \n",
       "8643    404610  Varies with device   10,000,000+  Free     0       Everyone   \n",
       "8654     25370  Varies with device    1,000,000+  Free     0       Everyone   \n",
       "8658   2401017  Varies with device  100,000,000+  Free     0       Everyone   \n",
       "10049      123                 86M       10,000+  Free     0       Everyone   \n",
       "10768       63                 24M       10,000+  Free     0       Everyone   \n",
       "\n",
       "             Genres       Last Updated         Current Ver         Android Ver  \n",
       "229        Business  February 26, 2018  Varies with device        4.0.3 and up  \n",
       "236        Business      July 31, 2018  Varies with device  Varies with device  \n",
       "239        Business      July 24, 2018    2.19.0.204537701          4.4 and up  \n",
       "256        Business      July 20, 2018      4.1.28165.0716          4.0 and up  \n",
       "261        Business      July 16, 2018           4.3.0.508          4.4 and up  \n",
       "...             ...                ...                 ...                 ...  \n",
       "8643   Productivity      April 6, 2018  Varies with device  Varies with device  \n",
       "8654   Productivity     August 6, 2018  Varies with device  Varies with device  \n",
       "8658   Productivity      June 27, 2018  Varies with device  Varies with device  \n",
       "10049       Medical       June 1, 2018              0.6.88          5.0 and up  \n",
       "10768       Medical      June 22, 2018               2.3.1          5.0 and up  \n",
       "\n",
       "[483 rows x 13 columns]"
      ]
     },
     "execution_count": 12,
     "metadata": {},
     "output_type": "execute_result"
    }
   ],
   "source": [
    "#Displaying the Duplicates of dataframe.\n",
    "df[df.duplicated()]"
   ]
  },
  {
   "cell_type": "code",
   "execution_count": 13,
   "id": "38414c08",
   "metadata": {
    "ExecuteTime": {
     "end_time": "2024-02-05T09:17:19.452538Z",
     "start_time": "2024-02-05T09:17:19.433369Z"
    }
   },
   "outputs": [],
   "source": [
    "#Droping the duplicates perminantly.\n",
    "df.drop_duplicates(keep=\"first\",inplace=True) "
   ]
  },
  {
   "cell_type": "code",
   "execution_count": 14,
   "id": "df4c2863",
   "metadata": {
    "ExecuteTime": {
     "end_time": "2024-02-05T09:17:19.472353Z",
     "start_time": "2024-02-05T09:17:19.452538Z"
    }
   },
   "outputs": [
    {
     "data": {
      "text/plain": [
       "0"
      ]
     },
     "execution_count": 14,
     "metadata": {},
     "output_type": "execute_result"
    }
   ],
   "source": [
    "#Rechecking the duplicates after droping it.\n",
    "df.duplicated().sum() "
   ]
  },
  {
   "cell_type": "markdown",
   "id": "c7ba8c8a",
   "metadata": {},
   "source": [
    "### Checking the unique categories of the column 'Category"
   ]
  },
  {
   "cell_type": "code",
   "execution_count": 15,
   "id": "cba48944",
   "metadata": {
    "ExecuteTime": {
     "end_time": "2024-02-05T09:17:19.479686Z",
     "start_time": "2024-02-05T09:17:19.472353Z"
    },
    "scrolled": true
   },
   "outputs": [
    {
     "data": {
      "text/plain": [
       "array(['ART_AND_DESIGN', 'AUTO_AND_VEHICLES', 'BEAUTY',\n",
       "       'BOOKS_AND_REFERENCE', 'BUSINESS', 'COMICS', 'COMMUNICATION',\n",
       "       'DATING', 'EDUCATION', 'ENTERTAINMENT', 'EVENTS', 'FINANCE',\n",
       "       'FOOD_AND_DRINK', 'HEALTH_AND_FITNESS', 'HOUSE_AND_HOME',\n",
       "       'LIBRARIES_AND_DEMO', 'LIFESTYLE', 'GAME', 'FAMILY', 'MEDICAL',\n",
       "       'SOCIAL', 'SHOPPING', 'PHOTOGRAPHY', 'SPORTS', 'TRAVEL_AND_LOCAL',\n",
       "       'TOOLS', 'PERSONALIZATION', 'PRODUCTIVITY', 'PARENTING', 'WEATHER',\n",
       "       'VIDEO_PLAYERS', 'NEWS_AND_MAGAZINES', 'MAPS_AND_NAVIGATION',\n",
       "       '1.9'], dtype=object)"
      ]
     },
     "execution_count": 15,
     "metadata": {},
     "output_type": "execute_result"
    }
   ],
   "source": [
    "#Checking the unique Categories of the category column.\n",
    "df[\"Category\"].unique() "
   ]
  },
  {
   "cell_type": "code",
   "execution_count": 16,
   "id": "7e7c139c",
   "metadata": {
    "ExecuteTime": {
     "end_time": "2024-02-05T09:17:19.498265Z",
     "start_time": "2024-02-05T09:17:19.479686Z"
    }
   },
   "outputs": [
    {
     "data": {
      "text/html": [
       "<div>\n",
       "<style scoped>\n",
       "    .dataframe tbody tr th:only-of-type {\n",
       "        vertical-align: middle;\n",
       "    }\n",
       "\n",
       "    .dataframe tbody tr th {\n",
       "        vertical-align: top;\n",
       "    }\n",
       "\n",
       "    .dataframe thead th {\n",
       "        text-align: right;\n",
       "    }\n",
       "</style>\n",
       "<table border=\"1\" class=\"dataframe\">\n",
       "  <thead>\n",
       "    <tr style=\"text-align: right;\">\n",
       "      <th></th>\n",
       "      <th>App</th>\n",
       "      <th>Category</th>\n",
       "      <th>Rating</th>\n",
       "      <th>Reviews</th>\n",
       "      <th>Size</th>\n",
       "      <th>Installs</th>\n",
       "      <th>Type</th>\n",
       "      <th>Price</th>\n",
       "      <th>Content Rating</th>\n",
       "      <th>Genres</th>\n",
       "      <th>Last Updated</th>\n",
       "      <th>Current Ver</th>\n",
       "      <th>Android Ver</th>\n",
       "    </tr>\n",
       "  </thead>\n",
       "  <tbody>\n",
       "    <tr>\n",
       "      <th>10472</th>\n",
       "      <td>Life Made WI-Fi Touchscreen Photo Frame</td>\n",
       "      <td>1.9</td>\n",
       "      <td>19.0</td>\n",
       "      <td>3.0M</td>\n",
       "      <td>1,000+</td>\n",
       "      <td>Free</td>\n",
       "      <td>0</td>\n",
       "      <td>Everyone</td>\n",
       "      <td>NaN</td>\n",
       "      <td>February 11, 2018</td>\n",
       "      <td>1.0.19</td>\n",
       "      <td>4.0 and up</td>\n",
       "      <td>NaN</td>\n",
       "    </tr>\n",
       "  </tbody>\n",
       "</table>\n",
       "</div>"
      ],
      "text/plain": [
       "                                           App Category  Rating Reviews  \\\n",
       "10472  Life Made WI-Fi Touchscreen Photo Frame      1.9    19.0    3.0M   \n",
       "\n",
       "         Size Installs Type     Price Content Rating             Genres  \\\n",
       "10472  1,000+     Free    0  Everyone            NaN  February 11, 2018   \n",
       "\n",
       "      Last Updated Current Ver Android Ver  \n",
       "10472       1.0.19  4.0 and up         NaN  "
      ]
     },
     "execution_count": 16,
     "metadata": {},
     "output_type": "execute_result"
    }
   ],
   "source": [
    "#All unique categories of a category column are sting values except 1.9 which is making it invalid in this column. \n",
    "df.query('Category==\"1.9\"') "
   ]
  },
  {
   "cell_type": "code",
   "execution_count": 17,
   "id": "9e7fe989",
   "metadata": {
    "ExecuteTime": {
     "end_time": "2024-02-05T09:17:19.507588Z",
     "start_time": "2024-02-05T09:17:19.500278Z"
    }
   },
   "outputs": [],
   "source": [
    "# Since 1.9 is the invalid category of column category ,so  droping it. \n",
    "df.drop(index=10472,inplace=True,axis=0) "
   ]
  },
  {
   "cell_type": "code",
   "execution_count": 18,
   "id": "aa71ab7d",
   "metadata": {
    "ExecuteTime": {
     "end_time": "2024-02-05T09:17:19.516708Z",
     "start_time": "2024-02-05T09:17:19.507588Z"
    },
    "scrolled": true
   },
   "outputs": [
    {
     "data": {
      "text/plain": [
       "array(['ART_AND_DESIGN', 'AUTO_AND_VEHICLES', 'BEAUTY',\n",
       "       'BOOKS_AND_REFERENCE', 'BUSINESS', 'COMICS', 'COMMUNICATION',\n",
       "       'DATING', 'EDUCATION', 'ENTERTAINMENT', 'EVENTS', 'FINANCE',\n",
       "       'FOOD_AND_DRINK', 'HEALTH_AND_FITNESS', 'HOUSE_AND_HOME',\n",
       "       'LIBRARIES_AND_DEMO', 'LIFESTYLE', 'GAME', 'FAMILY', 'MEDICAL',\n",
       "       'SOCIAL', 'SHOPPING', 'PHOTOGRAPHY', 'SPORTS', 'TRAVEL_AND_LOCAL',\n",
       "       'TOOLS', 'PERSONALIZATION', 'PRODUCTIVITY', 'PARENTING', 'WEATHER',\n",
       "       'VIDEO_PLAYERS', 'NEWS_AND_MAGAZINES', 'MAPS_AND_NAVIGATION'],\n",
       "      dtype=object)"
      ]
     },
     "execution_count": 18,
     "metadata": {},
     "output_type": "execute_result"
    }
   ],
   "source": [
    "#Rechecking the unique categories of a category column after removing invalid record.\n",
    "df[\"Category\"].unique() "
   ]
  },
  {
   "cell_type": "markdown",
   "id": "bff2c131",
   "metadata": {},
   "source": [
    "### Checking if there are missing values present in the column , If any?\n",
    "### droping them and and creating a new column "
   ]
  },
  {
   "cell_type": "code",
   "execution_count": 19,
   "id": "3cdc43dc",
   "metadata": {
    "ExecuteTime": {
     "end_time": "2024-02-05T09:17:19.524801Z",
     "start_time": "2024-02-05T09:17:19.516708Z"
    }
   },
   "outputs": [
    {
     "data": {
      "text/plain": [
       "1465"
      ]
     },
     "execution_count": 19,
     "metadata": {},
     "output_type": "execute_result"
    }
   ],
   "source": [
    "#Checking total number of missing values in the rating column .\n",
    "df['Rating'].isnull().sum() "
   ]
  },
  {
   "cell_type": "code",
   "execution_count": 20,
   "id": "fa74abe2",
   "metadata": {
    "ExecuteTime": {
     "end_time": "2024-02-05T09:17:19.534439Z",
     "start_time": "2024-02-05T09:17:19.524801Z"
    }
   },
   "outputs": [],
   "source": [
    "# Droping all missing values of a Rating column.\n",
    "df.dropna(subset=['Rating'], inplace=True) "
   ]
  },
  {
   "cell_type": "code",
   "execution_count": 21,
   "id": "e8ffa674",
   "metadata": {
    "ExecuteTime": {
     "end_time": "2024-02-05T09:17:19.542687Z",
     "start_time": "2024-02-05T09:17:19.534439Z"
    }
   },
   "outputs": [
    {
     "data": {
      "text/plain": [
       "0"
      ]
     },
     "execution_count": 21,
     "metadata": {},
     "output_type": "execute_result"
    }
   ],
   "source": [
    "df['Rating'].isnull().sum()  "
   ]
  },
  {
   "cell_type": "code",
   "execution_count": 22,
   "id": "031f4a67",
   "metadata": {
    "ExecuteTime": {
     "end_time": "2024-02-05T09:17:19.549193Z",
     "start_time": "2024-02-05T09:17:19.542687Z"
    }
   },
   "outputs": [],
   "source": [
    "#Creating the new column as Rating_category .\n",
    "df[\"Rating_category\"]=np.where(df[\"Rating\"]>3.5,\"high\",\"low\") "
   ]
  },
  {
   "cell_type": "code",
   "execution_count": 23,
   "id": "901a6dbf",
   "metadata": {
    "ExecuteTime": {
     "end_time": "2024-02-05T09:17:19.601977Z",
     "start_time": "2024-02-05T09:17:19.549193Z"
    },
    "scrolled": true
   },
   "outputs": [
    {
     "data": {
      "text/plain": [
       "0        high\n",
       "1        high\n",
       "2        high\n",
       "3        high\n",
       "4        high\n",
       "         ... \n",
       "10834    high\n",
       "10836    high\n",
       "10837    high\n",
       "10839    high\n",
       "10840    high\n",
       "Name: Rating_category, Length: 8892, dtype: object"
      ]
     },
     "execution_count": 23,
     "metadata": {},
     "output_type": "execute_result"
    }
   ],
   "source": [
    "# checking the new column after creating it .\n",
    "df[\"Rating_category\"]  "
   ]
  },
  {
   "cell_type": "markdown",
   "id": "9d3b6c82",
   "metadata": {},
   "source": [
    "###  Checking the distribution of the newly created column 'Rating_category' "
   ]
  },
  {
   "cell_type": "code",
   "execution_count": 24,
   "id": "1755df10",
   "metadata": {
    "ExecuteTime": {
     "end_time": "2024-02-05T09:17:19.627242Z",
     "start_time": "2024-02-05T09:17:19.601977Z"
    }
   },
   "outputs": [
    {
     "data": {
      "text/plain": [
       "Rating_category\n",
       "high    8012\n",
       "low      880\n",
       "Name: count, dtype: int64"
      ]
     },
     "execution_count": 24,
     "metadata": {},
     "output_type": "execute_result"
    }
   ],
   "source": [
    "df[\"Rating_category\"].value_counts() "
   ]
  },
  {
   "cell_type": "code",
   "execution_count": 25,
   "id": "65b68da2",
   "metadata": {
    "ExecuteTime": {
     "end_time": "2024-02-05T09:17:19.935165Z",
     "start_time": "2024-02-05T09:17:19.627242Z"
    }
   },
   "outputs": [
    {
     "data": {
      "image/png": "[encoded data removed]",
      "text/plain": [
       "<Figure size 640x480 with 1 Axes>"
      ]
     },
     "metadata": {},
     "output_type": "display_data"
    }
   ],
   "source": [
    "# Checking the Distribution of Rating  using countplot.\n",
    "ax=sns.countplot(data=df,x=\"Rating_category\")\n",
    "plt.bar_label(ax.containers[0])\n",
    "plt.title(\"Distribution of Rating_Category\")\n",
    "plt.show() "
   ]
  },
  {
   "cell_type": "markdown",
   "id": "90f5a8b2",
   "metadata": {},
   "source": [
    "###  Converting the column \"Reviews'' to numeric data type and checking the presence of outliers in the column \n",
    "### and handling the outliers using a transformation approach"
   ]
  },
  {
   "cell_type": "code",
   "execution_count": 26,
   "id": "88d4e281",
   "metadata": {
    "ExecuteTime": {
     "end_time": "2024-02-05T09:17:19.953698Z",
     "start_time": "2024-02-05T09:17:19.935165Z"
    }
   },
   "outputs": [],
   "source": [
    "#Converting the Reviews column from object to Numeric.\n",
    "df['Reviews'] = pd.to_numeric(df['Reviews']) "
   ]
  },
  {
   "cell_type": "code",
   "execution_count": 27,
   "id": "2530349b",
   "metadata": {
    "ExecuteTime": {
     "end_time": "2024-02-05T09:17:19.973532Z",
     "start_time": "2024-02-05T09:17:19.963994Z"
    }
   },
   "outputs": [
    {
     "name": "stdout",
     "output_type": "stream",
     "text": [
      "<class 'pandas.core.series.Series'>\n",
      "Index: 8892 entries, 0 to 10840\n",
      "Series name: Reviews\n",
      "Non-Null Count  Dtype\n",
      "--------------  -----\n",
      "8892 non-null   int64\n",
      "dtypes: int64(1)\n",
      "memory usage: 138.9 KB\n"
     ]
    }
   ],
   "source": [
    "# Checking the info() of the column  after converting it into numeric.\n",
    "df[\"Reviews\"].info()   "
   ]
  },
  {
   "cell_type": "code",
   "execution_count": 28,
   "id": "29899baf",
   "metadata": {
    "ExecuteTime": {
     "end_time": "2024-02-05T09:17:19.984489Z",
     "start_time": "2024-02-05T09:17:19.974560Z"
    }
   },
   "outputs": [
    {
     "data": {
      "text/plain": [
       "0"
      ]
     },
     "execution_count": 28,
     "metadata": {},
     "output_type": "execute_result"
    }
   ],
   "source": [
    "df[\"Reviews\"].isnull().sum() "
   ]
  },
  {
   "cell_type": "code",
   "execution_count": 29,
   "id": "a6f495bd",
   "metadata": {
    "ExecuteTime": {
     "end_time": "2024-02-05T09:17:20.182246Z",
     "start_time": "2024-02-05T09:17:19.986530Z"
    }
   },
   "outputs": [
    {
     "data": {
      "image/png": "[encoded data removed]",
      "text/plain": [
       "<Figure size 1000x600 with 1 Axes>"
      ]
     },
     "metadata": {},
     "output_type": "display_data"
    }
   ],
   "source": [
    "# cheking the outliers of a Reviews column using boxplot.\n",
    "plt.figure(figsize=(10, 6))\n",
    "sns.boxplot(x=df['Reviews'])\n",
    "plt.title('Boxplot of Reviews')\n",
    "plt.show()  "
   ]
  },
  {
   "cell_type": "code",
   "execution_count": 30,
   "id": "c0b9ec98",
   "metadata": {
    "ExecuteTime": {
     "end_time": "2024-02-05T09:17:20.190907Z",
     "start_time": "2024-02-05T09:17:20.183714Z"
    }
   },
   "outputs": [],
   "source": [
    "# Handle outliers using log transformation\n",
    "df['Reviews'] = np.log1p(df['Reviews']) "
   ]
  },
  {
   "cell_type": "code",
   "execution_count": 31,
   "id": "96155f1c",
   "metadata": {
    "ExecuteTime": {
     "end_time": "2024-02-05T09:17:20.328862Z",
     "start_time": "2024-02-05T09:17:20.191418Z"
    },
    "scrolled": true
   },
   "outputs": [
    {
     "data": {
      "image/png": "[encoded data removed]",
      "text/plain": [
       "<Figure size 1000x600 with 1 Axes>"
      ]
     },
     "metadata": {},
     "output_type": "display_data"
    }
   ],
   "source": [
    "#Reching the presence of outliers in Reviews column after log tranformation.\n",
    "plt.figure(figsize=(10, 6))\n",
    "sns.boxplot(x=df['Reviews'])\n",
    "plt.title('Boxplot of Reviews after Log Transformation')\n",
    "plt.show()  "
   ]
  },
  {
   "cell_type": "markdown",
   "id": "ff877130",
   "metadata": {},
   "source": [
    "###  Checking the column , removing the unwanted characters and convert the column into a suitable data type"
   ]
  },
  {
   "cell_type": "code",
   "execution_count": 32,
   "id": "0268e031",
   "metadata": {
    "ExecuteTime": {
     "end_time": "2024-02-05T09:17:20.356999Z",
     "start_time": "2024-02-05T09:17:20.328862Z"
    },
    "scrolled": false
   },
   "outputs": [
    {
     "data": {
      "text/html": [
       "<div>\n",
       "<style scoped>\n",
       "    .dataframe tbody tr th:only-of-type {\n",
       "        vertical-align: middle;\n",
       "    }\n",
       "\n",
       "    .dataframe tbody tr th {\n",
       "        vertical-align: top;\n",
       "    }\n",
       "\n",
       "    .dataframe thead th {\n",
       "        text-align: right;\n",
       "    }\n",
       "</style>\n",
       "<table border=\"1\" class=\"dataframe\">\n",
       "  <thead>\n",
       "    <tr style=\"text-align: right;\">\n",
       "      <th></th>\n",
       "      <th>App</th>\n",
       "      <th>Category</th>\n",
       "      <th>Rating</th>\n",
       "      <th>Reviews</th>\n",
       "      <th>Size</th>\n",
       "      <th>Installs</th>\n",
       "      <th>Type</th>\n",
       "      <th>Price</th>\n",
       "      <th>Content Rating</th>\n",
       "      <th>Genres</th>\n",
       "      <th>Last Updated</th>\n",
       "      <th>Current Ver</th>\n",
       "      <th>Android Ver</th>\n",
       "      <th>Rating_category</th>\n",
       "    </tr>\n",
       "  </thead>\n",
       "  <tbody>\n",
       "    <tr>\n",
       "      <th>37</th>\n",
       "      <td>Floor Plan Creator</td>\n",
       "      <td>ART_AND_DESIGN</td>\n",
       "      <td>4.1</td>\n",
       "      <td>10.508896</td>\n",
       "      <td>Varies with device</td>\n",
       "      <td>5,000,000+</td>\n",
       "      <td>Free</td>\n",
       "      <td>0</td>\n",
       "      <td>Everyone</td>\n",
       "      <td>Art &amp; Design</td>\n",
       "      <td>July 14, 2018</td>\n",
       "      <td>Varies with device</td>\n",
       "      <td>2.3.3 and up</td>\n",
       "      <td>high</td>\n",
       "    </tr>\n",
       "    <tr>\n",
       "      <th>42</th>\n",
       "      <td>Textgram - write on photos</td>\n",
       "      <td>ART_AND_DESIGN</td>\n",
       "      <td>4.4</td>\n",
       "      <td>12.595483</td>\n",
       "      <td>Varies with device</td>\n",
       "      <td>10,000,000+</td>\n",
       "      <td>Free</td>\n",
       "      <td>0</td>\n",
       "      <td>Everyone</td>\n",
       "      <td>Art &amp; Design</td>\n",
       "      <td>July 30, 2018</td>\n",
       "      <td>Varies with device</td>\n",
       "      <td>Varies with device</td>\n",
       "      <td>high</td>\n",
       "    </tr>\n",
       "    <tr>\n",
       "      <th>52</th>\n",
       "      <td>Used Cars and Trucks for Sale</td>\n",
       "      <td>AUTO_AND_VEHICLES</td>\n",
       "      <td>4.6</td>\n",
       "      <td>9.744375</td>\n",
       "      <td>Varies with device</td>\n",
       "      <td>1,000,000+</td>\n",
       "      <td>Free</td>\n",
       "      <td>0</td>\n",
       "      <td>Everyone</td>\n",
       "      <td>Auto &amp; Vehicles</td>\n",
       "      <td>July 30, 2018</td>\n",
       "      <td>Varies with device</td>\n",
       "      <td>Varies with device</td>\n",
       "      <td>high</td>\n",
       "    </tr>\n",
       "    <tr>\n",
       "      <th>67</th>\n",
       "      <td>Ulysse Speedometer</td>\n",
       "      <td>AUTO_AND_VEHICLES</td>\n",
       "      <td>4.3</td>\n",
       "      <td>10.601921</td>\n",
       "      <td>Varies with device</td>\n",
       "      <td>5,000,000+</td>\n",
       "      <td>Free</td>\n",
       "      <td>0</td>\n",
       "      <td>Everyone</td>\n",
       "      <td>Auto &amp; Vehicles</td>\n",
       "      <td>July 30, 2018</td>\n",
       "      <td>Varies with device</td>\n",
       "      <td>Varies with device</td>\n",
       "      <td>high</td>\n",
       "    </tr>\n",
       "    <tr>\n",
       "      <th>68</th>\n",
       "      <td>REPUVE</td>\n",
       "      <td>AUTO_AND_VEHICLES</td>\n",
       "      <td>3.9</td>\n",
       "      <td>5.877736</td>\n",
       "      <td>Varies with device</td>\n",
       "      <td>100,000+</td>\n",
       "      <td>Free</td>\n",
       "      <td>0</td>\n",
       "      <td>Everyone</td>\n",
       "      <td>Auto &amp; Vehicles</td>\n",
       "      <td>May 25, 2018</td>\n",
       "      <td>Varies with device</td>\n",
       "      <td>Varies with device</td>\n",
       "      <td>high</td>\n",
       "    </tr>\n",
       "    <tr>\n",
       "      <th>...</th>\n",
       "      <td>...</td>\n",
       "      <td>...</td>\n",
       "      <td>...</td>\n",
       "      <td>...</td>\n",
       "      <td>...</td>\n",
       "      <td>...</td>\n",
       "      <td>...</td>\n",
       "      <td>...</td>\n",
       "      <td>...</td>\n",
       "      <td>...</td>\n",
       "      <td>...</td>\n",
       "      <td>...</td>\n",
       "      <td>...</td>\n",
       "      <td>...</td>\n",
       "    </tr>\n",
       "    <tr>\n",
       "      <th>10713</th>\n",
       "      <td>My Earthquake Alerts - US &amp; Worldwide Earthquakes</td>\n",
       "      <td>WEATHER</td>\n",
       "      <td>4.4</td>\n",
       "      <td>8.152486</td>\n",
       "      <td>Varies with device</td>\n",
       "      <td>100,000+</td>\n",
       "      <td>Free</td>\n",
       "      <td>0</td>\n",
       "      <td>Everyone</td>\n",
       "      <td>Weather</td>\n",
       "      <td>July 24, 2018</td>\n",
       "      <td>Varies with device</td>\n",
       "      <td>Varies with device</td>\n",
       "      <td>high</td>\n",
       "    </tr>\n",
       "    <tr>\n",
       "      <th>10725</th>\n",
       "      <td>Posta App</td>\n",
       "      <td>MAPS_AND_NAVIGATION</td>\n",
       "      <td>3.6</td>\n",
       "      <td>2.197225</td>\n",
       "      <td>Varies with device</td>\n",
       "      <td>1,000+</td>\n",
       "      <td>Free</td>\n",
       "      <td>0</td>\n",
       "      <td>Everyone</td>\n",
       "      <td>Maps &amp; Navigation</td>\n",
       "      <td>September 27, 2017</td>\n",
       "      <td>Varies with device</td>\n",
       "      <td>4.4 and up</td>\n",
       "      <td>high</td>\n",
       "    </tr>\n",
       "    <tr>\n",
       "      <th>10765</th>\n",
       "      <td>Chat For Strangers - Video Chat</td>\n",
       "      <td>SOCIAL</td>\n",
       "      <td>3.4</td>\n",
       "      <td>6.434547</td>\n",
       "      <td>Varies with device</td>\n",
       "      <td>100,000+</td>\n",
       "      <td>Free</td>\n",
       "      <td>0</td>\n",
       "      <td>Mature 17+</td>\n",
       "      <td>Social</td>\n",
       "      <td>May 23, 2018</td>\n",
       "      <td>Varies with device</td>\n",
       "      <td>Varies with device</td>\n",
       "      <td>low</td>\n",
       "    </tr>\n",
       "    <tr>\n",
       "      <th>10826</th>\n",
       "      <td>Frim: get new friends on local chat rooms</td>\n",
       "      <td>SOCIAL</td>\n",
       "      <td>4.0</td>\n",
       "      <td>11.390611</td>\n",
       "      <td>Varies with device</td>\n",
       "      <td>5,000,000+</td>\n",
       "      <td>Free</td>\n",
       "      <td>0</td>\n",
       "      <td>Mature 17+</td>\n",
       "      <td>Social</td>\n",
       "      <td>March 23, 2018</td>\n",
       "      <td>Varies with device</td>\n",
       "      <td>Varies with device</td>\n",
       "      <td>high</td>\n",
       "    </tr>\n",
       "    <tr>\n",
       "      <th>10839</th>\n",
       "      <td>The SCP Foundation DB fr nn5n</td>\n",
       "      <td>BOOKS_AND_REFERENCE</td>\n",
       "      <td>4.5</td>\n",
       "      <td>4.744932</td>\n",
       "      <td>Varies with device</td>\n",
       "      <td>1,000+</td>\n",
       "      <td>Free</td>\n",
       "      <td>0</td>\n",
       "      <td>Mature 17+</td>\n",
       "      <td>Books &amp; Reference</td>\n",
       "      <td>January 19, 2015</td>\n",
       "      <td>Varies with device</td>\n",
       "      <td>Varies with device</td>\n",
       "      <td>high</td>\n",
       "    </tr>\n",
       "  </tbody>\n",
       "</table>\n",
       "<p>1468 rows × 14 columns</p>\n",
       "</div>"
      ],
      "text/plain": [
       "                                                     App             Category  \\\n",
       "37                                    Floor Plan Creator       ART_AND_DESIGN   \n",
       "42                            Textgram - write on photos       ART_AND_DESIGN   \n",
       "52                         Used Cars and Trucks for Sale    AUTO_AND_VEHICLES   \n",
       "67                                    Ulysse Speedometer    AUTO_AND_VEHICLES   \n",
       "68                                                REPUVE    AUTO_AND_VEHICLES   \n",
       "...                                                  ...                  ...   \n",
       "10713  My Earthquake Alerts - US & Worldwide Earthquakes              WEATHER   \n",
       "10725                                          Posta App  MAPS_AND_NAVIGATION   \n",
       "10765                    Chat For Strangers - Video Chat               SOCIAL   \n",
       "10826          Frim: get new friends on local chat rooms               SOCIAL   \n",
       "10839                      The SCP Foundation DB fr nn5n  BOOKS_AND_REFERENCE   \n",
       "\n",
       "       Rating    Reviews                Size     Installs  Type Price  \\\n",
       "37        4.1  10.508896  Varies with device   5,000,000+  Free     0   \n",
       "42        4.4  12.595483  Varies with device  10,000,000+  Free     0   \n",
       "52        4.6   9.744375  Varies with device   1,000,000+  Free     0   \n",
       "67        4.3  10.601921  Varies with device   5,000,000+  Free     0   \n",
       "68        3.9   5.877736  Varies with device     100,000+  Free     0   \n",
       "...       ...        ...                 ...          ...   ...   ...   \n",
       "10713     4.4   8.152486  Varies with device     100,000+  Free     0   \n",
       "10725     3.6   2.197225  Varies with device       1,000+  Free     0   \n",
       "10765     3.4   6.434547  Varies with device     100,000+  Free     0   \n",
       "10826     4.0  11.390611  Varies with device   5,000,000+  Free     0   \n",
       "10839     4.5   4.744932  Varies with device       1,000+  Free     0   \n",
       "\n",
       "      Content Rating             Genres        Last Updated  \\\n",
       "37          Everyone       Art & Design       July 14, 2018   \n",
       "42          Everyone       Art & Design       July 30, 2018   \n",
       "52          Everyone    Auto & Vehicles       July 30, 2018   \n",
       "67          Everyone    Auto & Vehicles       July 30, 2018   \n",
       "68          Everyone    Auto & Vehicles        May 25, 2018   \n",
       "...              ...                ...                 ...   \n",
       "10713       Everyone            Weather       July 24, 2018   \n",
       "10725       Everyone  Maps & Navigation  September 27, 2017   \n",
       "10765     Mature 17+             Social        May 23, 2018   \n",
       "10826     Mature 17+             Social      March 23, 2018   \n",
       "10839     Mature 17+  Books & Reference    January 19, 2015   \n",
       "\n",
       "              Current Ver         Android Ver Rating_category  \n",
       "37     Varies with device        2.3.3 and up            high  \n",
       "42     Varies with device  Varies with device            high  \n",
       "52     Varies with device  Varies with device            high  \n",
       "67     Varies with device  Varies with device            high  \n",
       "68     Varies with device  Varies with device            high  \n",
       "...                   ...                 ...             ...  \n",
       "10713  Varies with device  Varies with device            high  \n",
       "10725  Varies with device          4.4 and up            high  \n",
       "10765  Varies with device  Varies with device             low  \n",
       "10826  Varies with device  Varies with device            high  \n",
       "10839  Varies with device  Varies with device            high  \n",
       "\n",
       "[1468 rows x 14 columns]"
      ]
     },
     "execution_count": 32,
     "metadata": {},
     "output_type": "execute_result"
    }
   ],
   "source": [
    "#Desplaying records of size with Varies with device records.\n",
    "df[df[\"Size\"]=='Varies with device'] "
   ]
  },
  {
   "cell_type": "code",
   "execution_count": 33,
   "id": "775d765e",
   "metadata": {
    "ExecuteTime": {
     "end_time": "2024-02-05T09:17:20.385932Z",
     "start_time": "2024-02-05T09:17:20.359523Z"
    }
   },
   "outputs": [
    {
     "data": {
      "text/html": [
       "<div>\n",
       "<style scoped>\n",
       "    .dataframe tbody tr th:only-of-type {\n",
       "        vertical-align: middle;\n",
       "    }\n",
       "\n",
       "    .dataframe tbody tr th {\n",
       "        vertical-align: top;\n",
       "    }\n",
       "\n",
       "    .dataframe thead th {\n",
       "        text-align: right;\n",
       "    }\n",
       "</style>\n",
       "<table border=\"1\" class=\"dataframe\">\n",
       "  <thead>\n",
       "    <tr style=\"text-align: right;\">\n",
       "      <th></th>\n",
       "      <th>App</th>\n",
       "      <th>Category</th>\n",
       "      <th>Rating</th>\n",
       "      <th>Reviews</th>\n",
       "      <th>Size</th>\n",
       "      <th>Installs</th>\n",
       "      <th>Type</th>\n",
       "      <th>Price</th>\n",
       "      <th>Content Rating</th>\n",
       "      <th>Genres</th>\n",
       "      <th>Last Updated</th>\n",
       "      <th>Current Ver</th>\n",
       "      <th>Android Ver</th>\n",
       "      <th>Rating_category</th>\n",
       "    </tr>\n",
       "  </thead>\n",
       "  <tbody>\n",
       "    <tr>\n",
       "      <th>0</th>\n",
       "      <td>Photo Editor &amp; Candy Camera &amp; Grid &amp; ScrapBook</td>\n",
       "      <td>ART_AND_DESIGN</td>\n",
       "      <td>4.1</td>\n",
       "      <td>5.075174</td>\n",
       "      <td>19M</td>\n",
       "      <td>10,000+</td>\n",
       "      <td>Free</td>\n",
       "      <td>0</td>\n",
       "      <td>Everyone</td>\n",
       "      <td>Art &amp; Design</td>\n",
       "      <td>January 7, 2018</td>\n",
       "      <td>1.0.0</td>\n",
       "      <td>4.0.3 and up</td>\n",
       "      <td>high</td>\n",
       "    </tr>\n",
       "    <tr>\n",
       "      <th>1</th>\n",
       "      <td>Coloring book moana</td>\n",
       "      <td>ART_AND_DESIGN</td>\n",
       "      <td>3.9</td>\n",
       "      <td>6.875232</td>\n",
       "      <td>14M</td>\n",
       "      <td>500,000+</td>\n",
       "      <td>Free</td>\n",
       "      <td>0</td>\n",
       "      <td>Everyone</td>\n",
       "      <td>Art &amp; Design;Pretend Play</td>\n",
       "      <td>January 15, 2018</td>\n",
       "      <td>2.0.0</td>\n",
       "      <td>4.0.3 and up</td>\n",
       "      <td>high</td>\n",
       "    </tr>\n",
       "    <tr>\n",
       "      <th>2</th>\n",
       "      <td>U Launcher Lite – FREE Live Cool Themes, Hide ...</td>\n",
       "      <td>ART_AND_DESIGN</td>\n",
       "      <td>4.7</td>\n",
       "      <td>11.379520</td>\n",
       "      <td>8.7M</td>\n",
       "      <td>5,000,000+</td>\n",
       "      <td>Free</td>\n",
       "      <td>0</td>\n",
       "      <td>Everyone</td>\n",
       "      <td>Art &amp; Design</td>\n",
       "      <td>August 1, 2018</td>\n",
       "      <td>1.2.4</td>\n",
       "      <td>4.0.3 and up</td>\n",
       "      <td>high</td>\n",
       "    </tr>\n",
       "    <tr>\n",
       "      <th>3</th>\n",
       "      <td>Sketch - Draw &amp; Paint</td>\n",
       "      <td>ART_AND_DESIGN</td>\n",
       "      <td>4.5</td>\n",
       "      <td>12.281389</td>\n",
       "      <td>25M</td>\n",
       "      <td>50,000,000+</td>\n",
       "      <td>Free</td>\n",
       "      <td>0</td>\n",
       "      <td>Teen</td>\n",
       "      <td>Art &amp; Design</td>\n",
       "      <td>June 8, 2018</td>\n",
       "      <td>Varies with device</td>\n",
       "      <td>4.2 and up</td>\n",
       "      <td>high</td>\n",
       "    </tr>\n",
       "    <tr>\n",
       "      <th>4</th>\n",
       "      <td>Pixel Draw - Number Art Coloring Book</td>\n",
       "      <td>ART_AND_DESIGN</td>\n",
       "      <td>4.3</td>\n",
       "      <td>6.875232</td>\n",
       "      <td>2.8M</td>\n",
       "      <td>100,000+</td>\n",
       "      <td>Free</td>\n",
       "      <td>0</td>\n",
       "      <td>Everyone</td>\n",
       "      <td>Art &amp; Design;Creativity</td>\n",
       "      <td>June 20, 2018</td>\n",
       "      <td>1.1</td>\n",
       "      <td>4.4 and up</td>\n",
       "      <td>high</td>\n",
       "    </tr>\n",
       "    <tr>\n",
       "      <th>...</th>\n",
       "      <td>...</td>\n",
       "      <td>...</td>\n",
       "      <td>...</td>\n",
       "      <td>...</td>\n",
       "      <td>...</td>\n",
       "      <td>...</td>\n",
       "      <td>...</td>\n",
       "      <td>...</td>\n",
       "      <td>...</td>\n",
       "      <td>...</td>\n",
       "      <td>...</td>\n",
       "      <td>...</td>\n",
       "      <td>...</td>\n",
       "      <td>...</td>\n",
       "    </tr>\n",
       "    <tr>\n",
       "      <th>10830</th>\n",
       "      <td>News Minecraft.fr</td>\n",
       "      <td>NEWS_AND_MAGAZINES</td>\n",
       "      <td>3.8</td>\n",
       "      <td>6.782192</td>\n",
       "      <td>2.3M</td>\n",
       "      <td>100,000+</td>\n",
       "      <td>Free</td>\n",
       "      <td>0</td>\n",
       "      <td>Everyone</td>\n",
       "      <td>News &amp; Magazines</td>\n",
       "      <td>January 20, 2014</td>\n",
       "      <td>1.5</td>\n",
       "      <td>1.6 and up</td>\n",
       "      <td>high</td>\n",
       "    </tr>\n",
       "    <tr>\n",
       "      <th>10834</th>\n",
       "      <td>FR Calculator</td>\n",
       "      <td>FAMILY</td>\n",
       "      <td>4.0</td>\n",
       "      <td>2.079442</td>\n",
       "      <td>2.6M</td>\n",
       "      <td>500+</td>\n",
       "      <td>Free</td>\n",
       "      <td>0</td>\n",
       "      <td>Everyone</td>\n",
       "      <td>Education</td>\n",
       "      <td>June 18, 2017</td>\n",
       "      <td>1.0.0</td>\n",
       "      <td>4.1 and up</td>\n",
       "      <td>high</td>\n",
       "    </tr>\n",
       "    <tr>\n",
       "      <th>10836</th>\n",
       "      <td>Sya9a Maroc - FR</td>\n",
       "      <td>FAMILY</td>\n",
       "      <td>4.5</td>\n",
       "      <td>3.663562</td>\n",
       "      <td>53M</td>\n",
       "      <td>5,000+</td>\n",
       "      <td>Free</td>\n",
       "      <td>0</td>\n",
       "      <td>Everyone</td>\n",
       "      <td>Education</td>\n",
       "      <td>July 25, 2017</td>\n",
       "      <td>1.48</td>\n",
       "      <td>4.1 and up</td>\n",
       "      <td>high</td>\n",
       "    </tr>\n",
       "    <tr>\n",
       "      <th>10837</th>\n",
       "      <td>Fr. Mike Schmitz Audio Teachings</td>\n",
       "      <td>FAMILY</td>\n",
       "      <td>5.0</td>\n",
       "      <td>1.609438</td>\n",
       "      <td>3.6M</td>\n",
       "      <td>100+</td>\n",
       "      <td>Free</td>\n",
       "      <td>0</td>\n",
       "      <td>Everyone</td>\n",
       "      <td>Education</td>\n",
       "      <td>July 6, 2018</td>\n",
       "      <td>1.0</td>\n",
       "      <td>4.1 and up</td>\n",
       "      <td>high</td>\n",
       "    </tr>\n",
       "    <tr>\n",
       "      <th>10840</th>\n",
       "      <td>iHoroscope - 2018 Daily Horoscope &amp; Astrology</td>\n",
       "      <td>LIFESTYLE</td>\n",
       "      <td>4.5</td>\n",
       "      <td>12.894981</td>\n",
       "      <td>19M</td>\n",
       "      <td>10,000,000+</td>\n",
       "      <td>Free</td>\n",
       "      <td>0</td>\n",
       "      <td>Everyone</td>\n",
       "      <td>Lifestyle</td>\n",
       "      <td>July 25, 2018</td>\n",
       "      <td>Varies with device</td>\n",
       "      <td>Varies with device</td>\n",
       "      <td>high</td>\n",
       "    </tr>\n",
       "  </tbody>\n",
       "</table>\n",
       "<p>7167 rows × 14 columns</p>\n",
       "</div>"
      ],
      "text/plain": [
       "                                                     App            Category  \\\n",
       "0         Photo Editor & Candy Camera & Grid & ScrapBook      ART_AND_DESIGN   \n",
       "1                                    Coloring book moana      ART_AND_DESIGN   \n",
       "2      U Launcher Lite – FREE Live Cool Themes, Hide ...      ART_AND_DESIGN   \n",
       "3                                  Sketch - Draw & Paint      ART_AND_DESIGN   \n",
       "4                  Pixel Draw - Number Art Coloring Book      ART_AND_DESIGN   \n",
       "...                                                  ...                 ...   \n",
       "10830                                  News Minecraft.fr  NEWS_AND_MAGAZINES   \n",
       "10834                                      FR Calculator              FAMILY   \n",
       "10836                                   Sya9a Maroc - FR              FAMILY   \n",
       "10837                   Fr. Mike Schmitz Audio Teachings              FAMILY   \n",
       "10840      iHoroscope - 2018 Daily Horoscope & Astrology           LIFESTYLE   \n",
       "\n",
       "       Rating    Reviews  Size     Installs  Type Price Content Rating  \\\n",
       "0         4.1   5.075174   19M      10,000+  Free     0       Everyone   \n",
       "1         3.9   6.875232   14M     500,000+  Free     0       Everyone   \n",
       "2         4.7  11.379520  8.7M   5,000,000+  Free     0       Everyone   \n",
       "3         4.5  12.281389   25M  50,000,000+  Free     0           Teen   \n",
       "4         4.3   6.875232  2.8M     100,000+  Free     0       Everyone   \n",
       "...       ...        ...   ...          ...   ...   ...            ...   \n",
       "10830     3.8   6.782192  2.3M     100,000+  Free     0       Everyone   \n",
       "10834     4.0   2.079442  2.6M         500+  Free     0       Everyone   \n",
       "10836     4.5   3.663562   53M       5,000+  Free     0       Everyone   \n",
       "10837     5.0   1.609438  3.6M         100+  Free     0       Everyone   \n",
       "10840     4.5  12.894981   19M  10,000,000+  Free     0       Everyone   \n",
       "\n",
       "                          Genres      Last Updated         Current Ver  \\\n",
       "0                   Art & Design   January 7, 2018               1.0.0   \n",
       "1      Art & Design;Pretend Play  January 15, 2018               2.0.0   \n",
       "2                   Art & Design    August 1, 2018               1.2.4   \n",
       "3                   Art & Design      June 8, 2018  Varies with device   \n",
       "4        Art & Design;Creativity     June 20, 2018                 1.1   \n",
       "...                          ...               ...                 ...   \n",
       "10830           News & Magazines  January 20, 2014                 1.5   \n",
       "10834                  Education     June 18, 2017               1.0.0   \n",
       "10836                  Education     July 25, 2017                1.48   \n",
       "10837                  Education      July 6, 2018                 1.0   \n",
       "10840                  Lifestyle     July 25, 2018  Varies with device   \n",
       "\n",
       "              Android Ver Rating_category  \n",
       "0            4.0.3 and up            high  \n",
       "1            4.0.3 and up            high  \n",
       "2            4.0.3 and up            high  \n",
       "3              4.2 and up            high  \n",
       "4              4.4 and up            high  \n",
       "...                   ...             ...  \n",
       "10830          1.6 and up            high  \n",
       "10834          4.1 and up            high  \n",
       "10836          4.1 and up            high  \n",
       "10837          4.1 and up            high  \n",
       "10840  Varies with device            high  \n",
       "\n",
       "[7167 rows x 14 columns]"
      ]
     },
     "execution_count": 33,
     "metadata": {},
     "output_type": "execute_result"
    }
   ],
   "source": [
    "df[df[\"Size\"].str.contains(\"M\",\"k\")]  "
   ]
  },
  {
   "cell_type": "code",
   "execution_count": 34,
   "id": "34813160",
   "metadata": {
    "ExecuteTime": {
     "end_time": "2024-02-05T09:17:20.402030Z",
     "start_time": "2024-02-05T09:17:20.385932Z"
    }
   },
   "outputs": [],
   "source": [
    "#  Using Function to convert alphanumeric values to numeric in the Size Column.\n",
    "def convert_size(size_str):\n",
    "    if size_str == 'Varies with device':\n",
    "        return None  # Making Varies with device records null in order to  drop these entries later.\n",
    "    if 'M' in size_str:\n",
    "        return float(size_str.replace('M', '')) * 1000000  # Convert to million\n",
    "    elif 'k' in size_str:\n",
    "        return float(size_str.replace('k', '')) * 1000  # Convert to thousand\n",
    "    else:\n",
    "        return float(size_str)\n",
    "\n",
    "# Apply the function to the 'Size' column\n",
    "df['Size'] = df['Size'].apply(convert_size) "
   ]
  },
  {
   "cell_type": "code",
   "execution_count": 35,
   "id": "5f8a7d4a",
   "metadata": {
    "ExecuteTime": {
     "end_time": "2024-02-05T09:17:20.410849Z",
     "start_time": "2024-02-05T09:17:20.402030Z"
    }
   },
   "outputs": [],
   "source": [
    "#Droping the Varies with device_record which has converted into nulls by using function.\n",
    "df.dropna(subset=[\"Size\"],inplace=True) "
   ]
  },
  {
   "cell_type": "code",
   "execution_count": 36,
   "id": "558ecb83",
   "metadata": {
    "ExecuteTime": {
     "end_time": "2024-02-05T09:17:20.418116Z",
     "start_time": "2024-02-05T09:17:20.410849Z"
    }
   },
   "outputs": [
    {
     "data": {
      "text/plain": [
       "0"
      ]
     },
     "execution_count": 36,
     "metadata": {},
     "output_type": "execute_result"
    }
   ],
   "source": [
    "#Rechecking  missing values after droping it.  \n",
    "df['Size'].isnull().sum()   "
   ]
  },
  {
   "cell_type": "code",
   "execution_count": 37,
   "id": "c50d3ff4",
   "metadata": {
    "ExecuteTime": {
     "end_time": "2024-02-05T09:17:20.425042Z",
     "start_time": "2024-02-05T09:17:20.418116Z"
    }
   },
   "outputs": [],
   "source": [
    "#Converting Size column into numeric.\n",
    "df[\"Size\"]=pd.to_numeric(df[\"Size\"]) "
   ]
  },
  {
   "cell_type": "code",
   "execution_count": 38,
   "id": "639dc6ca",
   "metadata": {
    "ExecuteTime": {
     "end_time": "2024-02-05T09:17:20.441098Z",
     "start_time": "2024-02-05T09:17:20.425042Z"
    }
   },
   "outputs": [
    {
     "name": "stdout",
     "output_type": "stream",
     "text": [
      "<class 'pandas.core.series.Series'>\n",
      "Index: 7424 entries, 0 to 10840\n",
      "Series name: Size\n",
      "Non-Null Count  Dtype  \n",
      "--------------  -----  \n",
      "7424 non-null   float64\n",
      "dtypes: float64(1)\n",
      "memory usage: 116.0 KB\n"
     ]
    }
   ],
   "source": [
    "#Checking info() after converting into numeric.\n",
    "df[\"Size\"].info() "
   ]
  },
  {
   "cell_type": "markdown",
   "id": "2e05c3fa",
   "metadata": {},
   "source": [
    "###  Checking the column , removing the unwanted characters and convert the column into a suitable data type "
   ]
  },
  {
   "cell_type": "code",
   "execution_count": 39,
   "id": "695bf0c8",
   "metadata": {
    "ExecuteTime": {
     "end_time": "2024-02-05T09:17:20.483104Z",
     "start_time": "2024-02-05T09:17:20.441098Z"
    }
   },
   "outputs": [
    {
     "data": {
      "text/plain": [
       "0            10,000+\n",
       "1           500,000+\n",
       "2         5,000,000+\n",
       "3        50,000,000+\n",
       "4           100,000+\n",
       "            ...     \n",
       "10833         1,000+\n",
       "10834           500+\n",
       "10836         5,000+\n",
       "10837           100+\n",
       "10840    10,000,000+\n",
       "Name: Installs, Length: 7424, dtype: object"
      ]
     },
     "execution_count": 39,
     "metadata": {},
     "output_type": "execute_result"
    }
   ],
   "source": [
    "#Checking Installs column in order to get idea of presence of unwanted charaters in it.\n",
    "df[\"Installs\"] "
   ]
  },
  {
   "cell_type": "code",
   "execution_count": 40,
   "id": "0f7f1b44",
   "metadata": {
    "ExecuteTime": {
     "end_time": "2024-02-05T09:17:20.513186Z",
     "start_time": "2024-02-05T09:17:20.483104Z"
    }
   },
   "outputs": [
    {
     "data": {
      "text/plain": [
       "0           10000+\n",
       "1          500000+\n",
       "2         5000000+\n",
       "3        50000000+\n",
       "4          100000+\n",
       "           ...    \n",
       "10833        1000+\n",
       "10834         500+\n",
       "10836        5000+\n",
       "10837         100+\n",
       "10840    10000000+\n",
       "Name: Installs, Length: 7424, dtype: object"
      ]
     },
     "execution_count": 40,
     "metadata": {},
     "output_type": "execute_result"
    }
   ],
   "source": [
    "#Treating Unwanted character (,)\n",
    "df[\"Installs\"]=df[\"Installs\"].str.replace(\",\",\"\") \n",
    "df[\"Installs\"]    "
   ]
  },
  {
   "cell_type": "code",
   "execution_count": 41,
   "id": "80b0d546",
   "metadata": {
    "ExecuteTime": {
     "end_time": "2024-02-05T09:17:20.554643Z",
     "start_time": "2024-02-05T09:17:20.513186Z"
    }
   },
   "outputs": [
    {
     "data": {
      "text/plain": [
       "0           10000\n",
       "1          500000\n",
       "2         5000000\n",
       "3        50000000\n",
       "4          100000\n",
       "           ...   \n",
       "10833        1000\n",
       "10834         500\n",
       "10836        5000\n",
       "10837         100\n",
       "10840    10000000\n",
       "Name: Installs, Length: 7424, dtype: object"
      ]
     },
     "execution_count": 41,
     "metadata": {},
     "output_type": "execute_result"
    }
   ],
   "source": [
    "#Treating Unwanted character (+)\n",
    "df[\"Installs\"]=df[\"Installs\"].str.replace(\"+\",\"\")\n",
    "df[\"Installs\"] "
   ]
  },
  {
   "cell_type": "code",
   "execution_count": 42,
   "id": "24777625",
   "metadata": {
    "ExecuteTime": {
     "end_time": "2024-02-05T09:17:20.576207Z",
     "start_time": "2024-02-05T09:17:20.557171Z"
    }
   },
   "outputs": [
    {
     "data": {
      "text/plain": [
       "0           10000\n",
       "1          500000\n",
       "2         5000000\n",
       "3        50000000\n",
       "4          100000\n",
       "           ...   \n",
       "10833        1000\n",
       "10834         500\n",
       "10836        5000\n",
       "10837         100\n",
       "10840    10000000\n",
       "Name: Installs, Length: 7424, dtype: object"
      ]
     },
     "execution_count": 42,
     "metadata": {},
     "output_type": "execute_result"
    }
   ],
   "source": [
    "#Checking the column again \n",
    "df[\"Installs\"] "
   ]
  },
  {
   "cell_type": "code",
   "execution_count": 43,
   "id": "9578ed89",
   "metadata": {
    "ExecuteTime": {
     "end_time": "2024-02-05T09:17:20.587809Z",
     "start_time": "2024-02-05T09:17:20.576207Z"
    }
   },
   "outputs": [],
   "source": [
    "#Converting the column into numeric .\n",
    "df[\"Installs\"]=pd.to_numeric(df[\"Installs\"])  "
   ]
  },
  {
   "cell_type": "code",
   "execution_count": 44,
   "id": "81a20b3a",
   "metadata": {
    "ExecuteTime": {
     "end_time": "2024-02-05T09:17:20.599828Z",
     "start_time": "2024-02-05T09:17:20.589316Z"
    }
   },
   "outputs": [
    {
     "name": "stdout",
     "output_type": "stream",
     "text": [
      "<class 'pandas.core.series.Series'>\n",
      "Index: 7424 entries, 0 to 10840\n",
      "Series name: Installs\n",
      "Non-Null Count  Dtype\n",
      "--------------  -----\n",
      "7424 non-null   int64\n",
      "dtypes: int64(1)\n",
      "memory usage: 116.0 KB\n"
     ]
    }
   ],
   "source": [
    "# Checking the info() of Installs after converting it into numeric.\n",
    "df[\"Installs\"].info()  "
   ]
  },
  {
   "cell_type": "markdown",
   "id": "bb8ff104",
   "metadata": {},
   "source": [
    "###  Checking the column , removing the unwanted characters and convert the column into a suitable data type"
   ]
  },
  {
   "cell_type": "code",
   "execution_count": 45,
   "id": "0252b659",
   "metadata": {
    "ExecuteTime": {
     "end_time": "2024-02-05T09:17:20.613778Z",
     "start_time": "2024-02-05T09:17:20.599828Z"
    }
   },
   "outputs": [
    {
     "data": {
      "text/plain": [
       "count     7424\n",
       "unique      68\n",
       "top          0\n",
       "freq      6877\n",
       "Name: Price, dtype: object"
      ]
     },
     "execution_count": 45,
     "metadata": {},
     "output_type": "execute_result"
    }
   ],
   "source": [
    "df[\"Price\"].describe() "
   ]
  },
  {
   "cell_type": "code",
   "execution_count": 46,
   "id": "cb4893ff",
   "metadata": {
    "ExecuteTime": {
     "end_time": "2024-02-05T09:17:20.624767Z",
     "start_time": "2024-02-05T09:17:20.613778Z"
    },
    "scrolled": true
   },
   "outputs": [
    {
     "data": {
      "text/plain": [
       "array(['0', '$4.99', '$6.99', '$7.99', '$3.99', '$5.99', '$2.99', '$1.99',\n",
       "       '$9.99', '$0.99', '$9.00', '$5.49', '$10.00', '$24.99', '$11.99',\n",
       "       '$79.99', '$16.99', '$14.99', '$29.99', '$12.99', '$3.49',\n",
       "       '$10.99', '$7.49', '$1.50', '$19.99', '$15.99', '$33.99', '$39.99',\n",
       "       '$2.49', '$4.49', '$1.70', '$1.49', '$3.88', '$399.99', '$17.99',\n",
       "       '$400.00', '$3.02', '$1.76', '$4.84', '$4.77', '$1.61', '$1.59',\n",
       "       '$6.49', '$1.29', '$299.99', '$379.99', '$37.99', '$18.99',\n",
       "       '$389.99', '$8.49', '$1.75', '$14.00', '$2.00', '$3.08', '$2.59',\n",
       "       '$19.40', '$15.46', '$8.99', '$3.04', '$13.99', '$4.29', '$3.28',\n",
       "       '$4.60', '$1.00', '$2.90', '$1.97', '$2.56', '$1.20'], dtype=object)"
      ]
     },
     "execution_count": 46,
     "metadata": {},
     "output_type": "execute_result"
    }
   ],
   "source": [
    "df[\"Price\"].unique() #Cheking its unique records in order to get an idea of unwanted characters present in it."
   ]
  },
  {
   "cell_type": "code",
   "execution_count": 47,
   "id": "789de6e6",
   "metadata": {
    "ExecuteTime": {
     "end_time": "2024-02-05T09:17:20.638538Z",
     "start_time": "2024-02-05T09:17:20.624767Z"
    }
   },
   "outputs": [],
   "source": [
    "# Treating Unwanted character ($) anmd converting it into float at once \n",
    "df[\"Price\"]=df[\"Price\"].str.replace(\"$\",\"\").astype(float) \n"
   ]
  },
  {
   "cell_type": "code",
   "execution_count": 48,
   "id": "a3c6fa17",
   "metadata": {
    "ExecuteTime": {
     "end_time": "2024-02-05T09:17:20.651334Z",
     "start_time": "2024-02-05T09:17:20.638538Z"
    }
   },
   "outputs": [
    {
     "name": "stdout",
     "output_type": "stream",
     "text": [
      "<class 'pandas.core.series.Series'>\n",
      "Index: 7424 entries, 0 to 10840\n",
      "Series name: Price\n",
      "Non-Null Count  Dtype  \n",
      "--------------  -----  \n",
      "7424 non-null   float64\n",
      "dtypes: float64(1)\n",
      "memory usage: 116.0 KB\n"
     ]
    }
   ],
   "source": [
    "# Checking the info() of the column Price after converting it in to numeric one.\n",
    "df[\"Price\"].info()  "
   ]
  },
  {
   "cell_type": "markdown",
   "id": "ee171c02",
   "metadata": {},
   "source": [
    "### Droping the columns which are redundant for the analysis.\n"
   ]
  },
  {
   "cell_type": "code",
   "execution_count": 49,
   "id": "30d0458a",
   "metadata": {
    "ExecuteTime": {
     "end_time": "2024-02-05T09:17:20.660968Z",
     "start_time": "2024-02-05T09:17:20.653353Z"
    }
   },
   "outputs": [],
   "source": [
    "#Droping Multiple columns at once which are are redundant for model building. Since all this columns are of object data type \n",
    "# and does not contain meaningful insights , so droping it is a good approach before model building.\n",
    "df.drop(columns=[\"App\",\"Rating\",\"Genres\",\"Last Updated\",\"Current Ver\",\"Android Ver\"],inplace=True,axis=1)   "
   ]
  },
  {
   "cell_type": "code",
   "execution_count": 50,
   "id": "5605ac6a",
   "metadata": {
    "ExecuteTime": {
     "end_time": "2024-02-05T09:17:20.668657Z",
     "start_time": "2024-02-05T09:17:20.660968Z"
    },
    "scrolled": false
   },
   "outputs": [],
   "source": [
    "# df=df.reset_index() \n",
    "# df "
   ]
  },
  {
   "cell_type": "code",
   "execution_count": 51,
   "id": "4c4798b6",
   "metadata": {
    "ExecuteTime": {
     "end_time": "2024-02-05T09:17:20.683881Z",
     "start_time": "2024-02-05T09:17:20.668657Z"
    }
   },
   "outputs": [
    {
     "data": {
      "text/plain": [
       "Category           0\n",
       "Reviews            0\n",
       "Size               0\n",
       "Installs           0\n",
       "Type               0\n",
       "Price              0\n",
       "Content Rating     0\n",
       "Rating_category    0\n",
       "dtype: int64"
      ]
     },
     "execution_count": 51,
     "metadata": {},
     "output_type": "execute_result"
    }
   ],
   "source": [
    "df.isnull().sum()"
   ]
  },
  {
   "cell_type": "markdown",
   "id": "609ac61e",
   "metadata": {},
   "source": [
    "###  Encoding the categorical columns"
   ]
  },
  {
   "cell_type": "code",
   "execution_count": 52,
   "id": "69c712b6",
   "metadata": {
    "ExecuteTime": {
     "end_time": "2024-02-05T09:17:20.697243Z",
     "start_time": "2024-02-05T09:17:20.683881Z"
    }
   },
   "outputs": [
    {
     "name": "stdout",
     "output_type": "stream",
     "text": [
      "Category\n",
      "FAMILY                 1591\n",
      "GAME                    959\n",
      "TOOLS                   634\n",
      "PERSONALIZATION         279\n",
      "MEDICAL                 277\n",
      "LIFESTYLE               273\n",
      "FINANCE                 263\n",
      "SPORTS                  232\n",
      "PRODUCTIVITY            231\n",
      "BUSINESS                225\n",
      "PHOTOGRAPHY             225\n",
      "COMMUNICATION           206\n",
      "HEALTH_AND_FITNESS      199\n",
      "SOCIAL                  170\n",
      "NEWS_AND_MAGAZINES      162\n",
      "SHOPPING                159\n",
      "TRAVEL_AND_LOCAL        147\n",
      "BOOKS_AND_REFERENCE     143\n",
      "DATING                  141\n",
      "VIDEO_PLAYERS           116\n",
      "MAPS_AND_NAVIGATION      95\n",
      "EDUCATION                95\n",
      "FOOD_AND_DRINK           82\n",
      "ENTERTAINMENT            67\n",
      "AUTO_AND_VEHICLES        63\n",
      "LIBRARIES_AND_DEMO       62\n",
      "ART_AND_DESIGN           59\n",
      "WEATHER                  51\n",
      "HOUSE_AND_HOME           50\n",
      "COMICS                   49\n",
      "PARENTING                44\n",
      "EVENTS                   38\n",
      "BEAUTY                   37\n",
      "Name: count, dtype: int64\n",
      "**************************************************\n",
      "Type\n",
      "Free    6877\n",
      "Paid     547\n",
      "Name: count, dtype: int64\n",
      "**************************************************\n",
      "Content Rating\n",
      "Everyone           5958\n",
      "Teen                832\n",
      "Mature 17+          332\n",
      "Everyone 10+        299\n",
      "Adults only 18+       2\n",
      "Unrated               1\n",
      "Name: count, dtype: int64\n",
      "**************************************************\n",
      "Rating_category\n",
      "high    6599\n",
      "low      825\n",
      "Name: count, dtype: int64\n",
      "**************************************************\n"
     ]
    }
   ],
   "source": [
    "# Cheking unique records of multiple columns at once inorder to get an idea of which encoding \n",
    "# method is appropriate for which column.\n",
    "for i in ['Category', 'Type', 'Content Rating','Rating_category']:\n",
    "    print(df[i].value_counts())\n",
    "    print('*'*50) "
   ]
  },
  {
   "cell_type": "code",
   "execution_count": 53,
   "id": "737c21c3",
   "metadata": {
    "ExecuteTime": {
     "end_time": "2024-02-05T09:17:20.996619Z",
     "start_time": "2024-02-05T09:17:20.699757Z"
    }
   },
   "outputs": [],
   "source": [
    "#Importing LabeEncoder from sklearn library in order to perform Label Encoding \n",
    "from sklearn.preprocessing import LabelEncoder "
   ]
  },
  {
   "cell_type": "code",
   "execution_count": 54,
   "id": "29b0c61c",
   "metadata": {
    "ExecuteTime": {
     "end_time": "2024-02-05T09:17:21.001788Z",
     "start_time": "2024-02-05T09:17:20.998327Z"
    }
   },
   "outputs": [],
   "source": [
    "le = LabelEncoder() "
   ]
  },
  {
   "cell_type": "code",
   "execution_count": 55,
   "id": "ea3ae30d",
   "metadata": {
    "ExecuteTime": {
     "end_time": "2024-02-05T09:17:21.015390Z",
     "start_time": "2024-02-05T09:17:21.003928Z"
    }
   },
   "outputs": [
    {
     "data": {
      "text/plain": [
       "33"
      ]
     },
     "execution_count": 55,
     "metadata": {},
     "output_type": "execute_result"
    }
   ],
   "source": [
    "len(df[\"Category\"].value_counts()) "
   ]
  },
  {
   "cell_type": "code",
   "execution_count": 56,
   "id": "0e95b4a1",
   "metadata": {
    "ExecuteTime": {
     "end_time": "2024-02-05T09:17:21.025639Z",
     "start_time": "2024-02-05T09:17:21.015390Z"
    }
   },
   "outputs": [],
   "source": [
    "# converting the  categorical column into numerical by using label encoding.\n",
    "df[\"Category\"]=le.fit_transform(df[\"Category\"])\n"
   ]
  },
  {
   "cell_type": "code",
   "execution_count": 57,
   "id": "d78b144c",
   "metadata": {
    "ExecuteTime": {
     "end_time": "2024-02-05T09:17:21.033737Z",
     "start_time": "2024-02-05T09:17:21.028503Z"
    }
   },
   "outputs": [],
   "source": [
    "#Since this column contains only 2 categories we can encode it with label encoding tecnique.\n",
    "df['Type']=le.fit_transform(df[\"Type\"]) "
   ]
  },
  {
   "cell_type": "code",
   "execution_count": 58,
   "id": "785dcef8",
   "metadata": {
    "ExecuteTime": {
     "end_time": "2024-02-05T09:17:21.042443Z",
     "start_time": "2024-02-05T09:17:21.036047Z"
    }
   },
   "outputs": [],
   "source": [
    "#Since there 6 nominal categories in the column we can perform label encoding in order to convert a column into numeric form.\n",
    "df['Content Rating'] = le.fit_transform(df['Content Rating'])  "
   ]
  },
  {
   "cell_type": "code",
   "execution_count": 59,
   "id": "dd948bd3",
   "metadata": {
    "ExecuteTime": {
     "end_time": "2024-02-05T09:17:21.052132Z",
     "start_time": "2024-02-05T09:17:21.044892Z"
    }
   },
   "outputs": [],
   "source": [
    "#Since this column contains only 2 categories we can encode it with label encoding tecnique.\n",
    "df['Rating_category']=le.fit_transform(df[\"Rating_category\"]) "
   ]
  },
  {
   "cell_type": "code",
   "execution_count": 60,
   "id": "fbd5e48e",
   "metadata": {
    "ExecuteTime": {
     "end_time": "2024-02-05T09:17:21.072844Z",
     "start_time": "2024-02-05T09:17:21.052132Z"
    },
    "scrolled": true
   },
   "outputs": [
    {
     "data": {
      "text/html": [
       "<div>\n",
       "<style scoped>\n",
       "    .dataframe tbody tr th:only-of-type {\n",
       "        vertical-align: middle;\n",
       "    }\n",
       "\n",
       "    .dataframe tbody tr th {\n",
       "        vertical-align: top;\n",
       "    }\n",
       "\n",
       "    .dataframe thead th {\n",
       "        text-align: right;\n",
       "    }\n",
       "</style>\n",
       "<table border=\"1\" class=\"dataframe\">\n",
       "  <thead>\n",
       "    <tr style=\"text-align: right;\">\n",
       "      <th></th>\n",
       "      <th>index</th>\n",
       "      <th>Category</th>\n",
       "      <th>Reviews</th>\n",
       "      <th>Size</th>\n",
       "      <th>Installs</th>\n",
       "      <th>Type</th>\n",
       "      <th>Price</th>\n",
       "      <th>Content Rating</th>\n",
       "      <th>Rating_category</th>\n",
       "    </tr>\n",
       "  </thead>\n",
       "  <tbody>\n",
       "    <tr>\n",
       "      <th>0</th>\n",
       "      <td>0</td>\n",
       "      <td>0</td>\n",
       "      <td>5.075174</td>\n",
       "      <td>19000000.0</td>\n",
       "      <td>10000</td>\n",
       "      <td>0</td>\n",
       "      <td>0.0</td>\n",
       "      <td>1</td>\n",
       "      <td>0</td>\n",
       "    </tr>\n",
       "    <tr>\n",
       "      <th>1</th>\n",
       "      <td>1</td>\n",
       "      <td>0</td>\n",
       "      <td>6.875232</td>\n",
       "      <td>14000000.0</td>\n",
       "      <td>500000</td>\n",
       "      <td>0</td>\n",
       "      <td>0.0</td>\n",
       "      <td>1</td>\n",
       "      <td>0</td>\n",
       "    </tr>\n",
       "    <tr>\n",
       "      <th>2</th>\n",
       "      <td>2</td>\n",
       "      <td>0</td>\n",
       "      <td>11.379520</td>\n",
       "      <td>8700000.0</td>\n",
       "      <td>5000000</td>\n",
       "      <td>0</td>\n",
       "      <td>0.0</td>\n",
       "      <td>1</td>\n",
       "      <td>0</td>\n",
       "    </tr>\n",
       "    <tr>\n",
       "      <th>3</th>\n",
       "      <td>3</td>\n",
       "      <td>0</td>\n",
       "      <td>12.281389</td>\n",
       "      <td>25000000.0</td>\n",
       "      <td>50000000</td>\n",
       "      <td>0</td>\n",
       "      <td>0.0</td>\n",
       "      <td>4</td>\n",
       "      <td>0</td>\n",
       "    </tr>\n",
       "    <tr>\n",
       "      <th>4</th>\n",
       "      <td>4</td>\n",
       "      <td>0</td>\n",
       "      <td>6.875232</td>\n",
       "      <td>2800000.0</td>\n",
       "      <td>100000</td>\n",
       "      <td>0</td>\n",
       "      <td>0.0</td>\n",
       "      <td>1</td>\n",
       "      <td>0</td>\n",
       "    </tr>\n",
       "    <tr>\n",
       "      <th>...</th>\n",
       "      <td>...</td>\n",
       "      <td>...</td>\n",
       "      <td>...</td>\n",
       "      <td>...</td>\n",
       "      <td>...</td>\n",
       "      <td>...</td>\n",
       "      <td>...</td>\n",
       "      <td>...</td>\n",
       "      <td>...</td>\n",
       "    </tr>\n",
       "    <tr>\n",
       "      <th>7419</th>\n",
       "      <td>10833</td>\n",
       "      <td>3</td>\n",
       "      <td>3.806662</td>\n",
       "      <td>619000.0</td>\n",
       "      <td>1000</td>\n",
       "      <td>0</td>\n",
       "      <td>0.0</td>\n",
       "      <td>1</td>\n",
       "      <td>0</td>\n",
       "    </tr>\n",
       "    <tr>\n",
       "      <th>7420</th>\n",
       "      <td>10834</td>\n",
       "      <td>11</td>\n",
       "      <td>2.079442</td>\n",
       "      <td>2600000.0</td>\n",
       "      <td>500</td>\n",
       "      <td>0</td>\n",
       "      <td>0.0</td>\n",
       "      <td>1</td>\n",
       "      <td>0</td>\n",
       "    </tr>\n",
       "    <tr>\n",
       "      <th>7421</th>\n",
       "      <td>10836</td>\n",
       "      <td>11</td>\n",
       "      <td>3.663562</td>\n",
       "      <td>53000000.0</td>\n",
       "      <td>5000</td>\n",
       "      <td>0</td>\n",
       "      <td>0.0</td>\n",
       "      <td>1</td>\n",
       "      <td>0</td>\n",
       "    </tr>\n",
       "    <tr>\n",
       "      <th>7422</th>\n",
       "      <td>10837</td>\n",
       "      <td>11</td>\n",
       "      <td>1.609438</td>\n",
       "      <td>3600000.0</td>\n",
       "      <td>100</td>\n",
       "      <td>0</td>\n",
       "      <td>0.0</td>\n",
       "      <td>1</td>\n",
       "      <td>0</td>\n",
       "    </tr>\n",
       "    <tr>\n",
       "      <th>7423</th>\n",
       "      <td>10840</td>\n",
       "      <td>18</td>\n",
       "      <td>12.894981</td>\n",
       "      <td>19000000.0</td>\n",
       "      <td>10000000</td>\n",
       "      <td>0</td>\n",
       "      <td>0.0</td>\n",
       "      <td>1</td>\n",
       "      <td>0</td>\n",
       "    </tr>\n",
       "  </tbody>\n",
       "</table>\n",
       "<p>7424 rows × 9 columns</p>\n",
       "</div>"
      ],
      "text/plain": [
       "      index  Category    Reviews        Size  Installs  Type  Price  \\\n",
       "0         0         0   5.075174  19000000.0     10000     0    0.0   \n",
       "1         1         0   6.875232  14000000.0    500000     0    0.0   \n",
       "2         2         0  11.379520   8700000.0   5000000     0    0.0   \n",
       "3         3         0  12.281389  25000000.0  50000000     0    0.0   \n",
       "4         4         0   6.875232   2800000.0    100000     0    0.0   \n",
       "...     ...       ...        ...         ...       ...   ...    ...   \n",
       "7419  10833         3   3.806662    619000.0      1000     0    0.0   \n",
       "7420  10834        11   2.079442   2600000.0       500     0    0.0   \n",
       "7421  10836        11   3.663562  53000000.0      5000     0    0.0   \n",
       "7422  10837        11   1.609438   3600000.0       100     0    0.0   \n",
       "7423  10840        18  12.894981  19000000.0  10000000     0    0.0   \n",
       "\n",
       "      Content Rating  Rating_category  \n",
       "0                  1                0  \n",
       "1                  1                0  \n",
       "2                  1                0  \n",
       "3                  4                0  \n",
       "4                  1                0  \n",
       "...              ...              ...  \n",
       "7419               1                0  \n",
       "7420               1                0  \n",
       "7421               1                0  \n",
       "7422               1                0  \n",
       "7423               1                0  \n",
       "\n",
       "[7424 rows x 9 columns]"
      ]
     },
     "execution_count": 60,
     "metadata": {},
     "output_type": "execute_result"
    }
   ],
   "source": [
    "df.reset_index()  \n",
    " "
   ]
  },
  {
   "cell_type": "markdown",
   "id": "91661943",
   "metadata": {},
   "source": [
    "###  Segregating the target and independent features"
   ]
  },
  {
   "cell_type": "code",
   "execution_count": 61,
   "id": "11038b70",
   "metadata": {
    "ExecuteTime": {
     "end_time": "2024-02-05T09:17:21.079441Z",
     "start_time": "2024-02-05T09:17:21.072844Z"
    }
   },
   "outputs": [],
   "source": [
    "# Segregate the target and independent features\n",
    "X = df.drop(columns=['Rating_category'],axis=1)  # Independent features\n",
    "y = df[\"Rating_category\"]  #Dependent Variable."
   ]
  },
  {
   "cell_type": "markdown",
   "id": "0b961ee3",
   "metadata": {},
   "source": [
    "### . Spliting the dataset into train and test."
   ]
  },
  {
   "cell_type": "code",
   "execution_count": 62,
   "id": "a1e055d6",
   "metadata": {
    "ExecuteTime": {
     "end_time": "2024-02-05T09:17:21.344847Z",
     "start_time": "2024-02-05T09:17:21.079441Z"
    }
   },
   "outputs": [],
   "source": [
    "#Since the target variable has  boolean values we need to consider Logistic Reression .\n",
    "from sklearn.model_selection import train_test_split "
   ]
  },
  {
   "cell_type": "code",
   "execution_count": 63,
   "id": "0d201333",
   "metadata": {
    "ExecuteTime": {
     "end_time": "2024-02-05T09:17:21.361199Z",
     "start_time": "2024-02-05T09:17:21.348957Z"
    }
   },
   "outputs": [],
   "source": [
    "x_train, x_test, y_train, y_test = train_test_split(X, y, random_state=42, test_size=0.3) "
   ]
  },
  {
   "cell_type": "code",
   "execution_count": 64,
   "id": "9234d334",
   "metadata": {
    "ExecuteTime": {
     "end_time": "2024-02-05T09:17:21.397785Z",
     "start_time": "2024-02-05T09:17:21.365041Z"
    }
   },
   "outputs": [
    {
     "data": {
      "text/html": [
       "<div>\n",
       "<style scoped>\n",
       "    .dataframe tbody tr th:only-of-type {\n",
       "        vertical-align: middle;\n",
       "    }\n",
       "\n",
       "    .dataframe tbody tr th {\n",
       "        vertical-align: top;\n",
       "    }\n",
       "\n",
       "    .dataframe thead th {\n",
       "        text-align: right;\n",
       "    }\n",
       "</style>\n",
       "<table border=\"1\" class=\"dataframe\">\n",
       "  <thead>\n",
       "    <tr style=\"text-align: right;\">\n",
       "      <th></th>\n",
       "      <th>Category</th>\n",
       "      <th>Reviews</th>\n",
       "      <th>Size</th>\n",
       "      <th>Installs</th>\n",
       "      <th>Type</th>\n",
       "      <th>Price</th>\n",
       "      <th>Content Rating</th>\n",
       "    </tr>\n",
       "  </thead>\n",
       "  <tbody>\n",
       "    <tr>\n",
       "      <th>6799</th>\n",
       "      <td>27</td>\n",
       "      <td>5.068904</td>\n",
       "      <td>26000000.0</td>\n",
       "      <td>50000</td>\n",
       "      <td>0</td>\n",
       "      <td>0.0</td>\n",
       "      <td>3</td>\n",
       "    </tr>\n",
       "    <tr>\n",
       "      <th>428</th>\n",
       "      <td>6</td>\n",
       "      <td>12.158006</td>\n",
       "      <td>11000000.0</td>\n",
       "      <td>10000000</td>\n",
       "      <td>0</td>\n",
       "      <td>0.0</td>\n",
       "      <td>1</td>\n",
       "    </tr>\n",
       "    <tr>\n",
       "      <th>3304</th>\n",
       "      <td>29</td>\n",
       "      <td>9.424564</td>\n",
       "      <td>5300000.0</td>\n",
       "      <td>1000000</td>\n",
       "      <td>0</td>\n",
       "      <td>0.0</td>\n",
       "      <td>1</td>\n",
       "    </tr>\n",
       "    <tr>\n",
       "      <th>5662</th>\n",
       "      <td>28</td>\n",
       "      <td>2.890372</td>\n",
       "      <td>14000000.0</td>\n",
       "      <td>1000</td>\n",
       "      <td>0</td>\n",
       "      <td>0.0</td>\n",
       "      <td>1</td>\n",
       "    </tr>\n",
       "    <tr>\n",
       "      <th>3714</th>\n",
       "      <td>31</td>\n",
       "      <td>10.561810</td>\n",
       "      <td>89000000.0</td>\n",
       "      <td>1000000</td>\n",
       "      <td>0</td>\n",
       "      <td>0.0</td>\n",
       "      <td>1</td>\n",
       "    </tr>\n",
       "    <tr>\n",
       "      <th>...</th>\n",
       "      <td>...</td>\n",
       "      <td>...</td>\n",
       "      <td>...</td>\n",
       "      <td>...</td>\n",
       "      <td>...</td>\n",
       "      <td>...</td>\n",
       "      <td>...</td>\n",
       "    </tr>\n",
       "    <tr>\n",
       "      <th>7754</th>\n",
       "      <td>28</td>\n",
       "      <td>2.890372</td>\n",
       "      <td>1500000.0</td>\n",
       "      <td>50</td>\n",
       "      <td>0</td>\n",
       "      <td>0.0</td>\n",
       "      <td>1</td>\n",
       "    </tr>\n",
       "    <tr>\n",
       "      <th>7795</th>\n",
       "      <td>11</td>\n",
       "      <td>7.791936</td>\n",
       "      <td>6700000.0</td>\n",
       "      <td>50000</td>\n",
       "      <td>0</td>\n",
       "      <td>0.0</td>\n",
       "      <td>4</td>\n",
       "    </tr>\n",
       "    <tr>\n",
       "      <th>7988</th>\n",
       "      <td>11</td>\n",
       "      <td>9.704549</td>\n",
       "      <td>13000000.0</td>\n",
       "      <td>500000</td>\n",
       "      <td>0</td>\n",
       "      <td>0.0</td>\n",
       "      <td>4</td>\n",
       "    </tr>\n",
       "    <tr>\n",
       "      <th>1446</th>\n",
       "      <td>16</td>\n",
       "      <td>12.943017</td>\n",
       "      <td>34000000.0</td>\n",
       "      <td>10000000</td>\n",
       "      <td>0</td>\n",
       "      <td>0.0</td>\n",
       "      <td>1</td>\n",
       "    </tr>\n",
       "    <tr>\n",
       "      <th>10599</th>\n",
       "      <td>25</td>\n",
       "      <td>1.945910</td>\n",
       "      <td>43000000.0</td>\n",
       "      <td>500</td>\n",
       "      <td>0</td>\n",
       "      <td>0.0</td>\n",
       "      <td>1</td>\n",
       "    </tr>\n",
       "  </tbody>\n",
       "</table>\n",
       "<p>5196 rows × 7 columns</p>\n",
       "</div>"
      ],
      "text/plain": [
       "       Category    Reviews        Size  Installs  Type  Price  Content Rating\n",
       "6799         27   5.068904  26000000.0     50000     0    0.0               3\n",
       "428           6  12.158006  11000000.0  10000000     0    0.0               1\n",
       "3304         29   9.424564   5300000.0   1000000     0    0.0               1\n",
       "5662         28   2.890372  14000000.0      1000     0    0.0               1\n",
       "3714         31  10.561810  89000000.0   1000000     0    0.0               1\n",
       "...         ...        ...         ...       ...   ...    ...             ...\n",
       "7754         28   2.890372   1500000.0        50     0    0.0               1\n",
       "7795         11   7.791936   6700000.0     50000     0    0.0               4\n",
       "7988         11   9.704549  13000000.0    500000     0    0.0               4\n",
       "1446         16  12.943017  34000000.0  10000000     0    0.0               1\n",
       "10599        25   1.945910  43000000.0       500     0    0.0               1\n",
       "\n",
       "[5196 rows x 7 columns]"
      ]
     },
     "execution_count": 64,
     "metadata": {},
     "output_type": "execute_result"
    }
   ],
   "source": [
    "x_train"
   ]
  },
  {
   "cell_type": "code",
   "execution_count": 65,
   "id": "d166dd5b",
   "metadata": {
    "ExecuteTime": {
     "end_time": "2024-02-05T09:17:21.431080Z",
     "start_time": "2024-02-05T09:17:21.397785Z"
    },
    "scrolled": true
   },
   "outputs": [
    {
     "data": {
      "text/html": [
       "<div>\n",
       "<style scoped>\n",
       "    .dataframe tbody tr th:only-of-type {\n",
       "        vertical-align: middle;\n",
       "    }\n",
       "\n",
       "    .dataframe tbody tr th {\n",
       "        vertical-align: top;\n",
       "    }\n",
       "\n",
       "    .dataframe thead th {\n",
       "        text-align: right;\n",
       "    }\n",
       "</style>\n",
       "<table border=\"1\" class=\"dataframe\">\n",
       "  <thead>\n",
       "    <tr style=\"text-align: right;\">\n",
       "      <th></th>\n",
       "      <th>Category</th>\n",
       "      <th>Reviews</th>\n",
       "      <th>Size</th>\n",
       "      <th>Installs</th>\n",
       "      <th>Type</th>\n",
       "      <th>Price</th>\n",
       "      <th>Content Rating</th>\n",
       "    </tr>\n",
       "  </thead>\n",
       "  <tbody>\n",
       "    <tr>\n",
       "      <th>1867</th>\n",
       "      <td>14</td>\n",
       "      <td>12.321698</td>\n",
       "      <td>81000000.0</td>\n",
       "      <td>5000000</td>\n",
       "      <td>0</td>\n",
       "      <td>0.00</td>\n",
       "      <td>4</td>\n",
       "    </tr>\n",
       "    <tr>\n",
       "      <th>4414</th>\n",
       "      <td>14</td>\n",
       "      <td>4.394449</td>\n",
       "      <td>7600000.0</td>\n",
       "      <td>10000</td>\n",
       "      <td>0</td>\n",
       "      <td>0.00</td>\n",
       "      <td>1</td>\n",
       "    </tr>\n",
       "    <tr>\n",
       "      <th>116</th>\n",
       "      <td>2</td>\n",
       "      <td>4.317488</td>\n",
       "      <td>2900000.0</td>\n",
       "      <td>10000</td>\n",
       "      <td>0</td>\n",
       "      <td>0.00</td>\n",
       "      <td>1</td>\n",
       "    </tr>\n",
       "    <tr>\n",
       "      <th>7608</th>\n",
       "      <td>11</td>\n",
       "      <td>10.575258</td>\n",
       "      <td>98000000.0</td>\n",
       "      <td>1000000</td>\n",
       "      <td>0</td>\n",
       "      <td>0.00</td>\n",
       "      <td>1</td>\n",
       "    </tr>\n",
       "    <tr>\n",
       "      <th>9463</th>\n",
       "      <td>11</td>\n",
       "      <td>10.794091</td>\n",
       "      <td>68000000.0</td>\n",
       "      <td>5000000</td>\n",
       "      <td>0</td>\n",
       "      <td>0.00</td>\n",
       "      <td>1</td>\n",
       "    </tr>\n",
       "    <tr>\n",
       "      <th>...</th>\n",
       "      <td>...</td>\n",
       "      <td>...</td>\n",
       "      <td>...</td>\n",
       "      <td>...</td>\n",
       "      <td>...</td>\n",
       "      <td>...</td>\n",
       "      <td>...</td>\n",
       "    </tr>\n",
       "    <tr>\n",
       "      <th>6666</th>\n",
       "      <td>11</td>\n",
       "      <td>11.234798</td>\n",
       "      <td>30000000.0</td>\n",
       "      <td>5000000</td>\n",
       "      <td>0</td>\n",
       "      <td>0.00</td>\n",
       "      <td>1</td>\n",
       "    </tr>\n",
       "    <tr>\n",
       "      <th>5645</th>\n",
       "      <td>14</td>\n",
       "      <td>9.964912</td>\n",
       "      <td>45000000.0</td>\n",
       "      <td>100000</td>\n",
       "      <td>1</td>\n",
       "      <td>2.99</td>\n",
       "      <td>4</td>\n",
       "    </tr>\n",
       "    <tr>\n",
       "      <th>457</th>\n",
       "      <td>6</td>\n",
       "      <td>11.716650</td>\n",
       "      <td>30000000.0</td>\n",
       "      <td>1000000</td>\n",
       "      <td>0</td>\n",
       "      <td>0.00</td>\n",
       "      <td>1</td>\n",
       "    </tr>\n",
       "    <tr>\n",
       "      <th>4151</th>\n",
       "      <td>29</td>\n",
       "      <td>13.661445</td>\n",
       "      <td>7900000.0</td>\n",
       "      <td>100000000</td>\n",
       "      <td>0</td>\n",
       "      <td>0.00</td>\n",
       "      <td>1</td>\n",
       "    </tr>\n",
       "    <tr>\n",
       "      <th>5541</th>\n",
       "      <td>14</td>\n",
       "      <td>9.855924</td>\n",
       "      <td>90000000.0</td>\n",
       "      <td>100000</td>\n",
       "      <td>0</td>\n",
       "      <td>0.00</td>\n",
       "      <td>2</td>\n",
       "    </tr>\n",
       "  </tbody>\n",
       "</table>\n",
       "<p>2228 rows × 7 columns</p>\n",
       "</div>"
      ],
      "text/plain": [
       "      Category    Reviews        Size   Installs  Type  Price  Content Rating\n",
       "1867        14  12.321698  81000000.0    5000000     0   0.00               4\n",
       "4414        14   4.394449   7600000.0      10000     0   0.00               1\n",
       "116          2   4.317488   2900000.0      10000     0   0.00               1\n",
       "7608        11  10.575258  98000000.0    1000000     0   0.00               1\n",
       "9463        11  10.794091  68000000.0    5000000     0   0.00               1\n",
       "...        ...        ...         ...        ...   ...    ...             ...\n",
       "6666        11  11.234798  30000000.0    5000000     0   0.00               1\n",
       "5645        14   9.964912  45000000.0     100000     1   2.99               4\n",
       "457          6  11.716650  30000000.0    1000000     0   0.00               1\n",
       "4151        29  13.661445   7900000.0  100000000     0   0.00               1\n",
       "5541        14   9.855924  90000000.0     100000     0   0.00               2\n",
       "\n",
       "[2228 rows x 7 columns]"
      ]
     },
     "execution_count": 65,
     "metadata": {},
     "output_type": "execute_result"
    }
   ],
   "source": [
    "x_test "
   ]
  },
  {
   "cell_type": "code",
   "execution_count": 66,
   "id": "df030145",
   "metadata": {
    "ExecuteTime": {
     "end_time": "2024-02-05T09:17:21.504331Z",
     "start_time": "2024-02-05T09:17:21.441589Z"
    }
   },
   "outputs": [
    {
     "data": {
      "text/plain": [
       "6799     0\n",
       "428      0\n",
       "3304     0\n",
       "5662     1\n",
       "3714     0\n",
       "        ..\n",
       "7754     0\n",
       "7795     0\n",
       "7988     0\n",
       "1446     0\n",
       "10599    0\n",
       "Name: Rating_category, Length: 5196, dtype: int32"
      ]
     },
     "execution_count": 66,
     "metadata": {},
     "output_type": "execute_result"
    }
   ],
   "source": [
    "y_train "
   ]
  },
  {
   "cell_type": "code",
   "execution_count": 67,
   "id": "3fbb22d5",
   "metadata": {
    "ExecuteTime": {
     "end_time": "2024-02-05T09:17:21.562286Z",
     "start_time": "2024-02-05T09:17:21.513024Z"
    }
   },
   "outputs": [
    {
     "data": {
      "text/plain": [
       "1867    0\n",
       "4414    0\n",
       "116     0\n",
       "7608    0\n",
       "9463    0\n",
       "       ..\n",
       "6666    0\n",
       "5645    0\n",
       "457     0\n",
       "4151    0\n",
       "5541    0\n",
       "Name: Rating_category, Length: 2228, dtype: int32"
      ]
     },
     "execution_count": 67,
     "metadata": {},
     "output_type": "execute_result"
    }
   ],
   "source": [
    "y_test "
   ]
  },
  {
   "cell_type": "markdown",
   "id": "fb4e2a8d",
   "metadata": {},
   "source": [
    "### Standardizing the data, so that the values are within a particular range"
   ]
  },
  {
   "cell_type": "code",
   "execution_count": 73,
   "id": "10671304",
   "metadata": {
    "ExecuteTime": {
     "end_time": "2024-02-05T09:22:11.230342Z",
     "start_time": "2024-02-05T09:22:11.148857Z"
    }
   },
   "outputs": [
    {
     "data": {
      "text/html": [
       "<div>\n",
       "<style scoped>\n",
       "    .dataframe tbody tr th:only-of-type {\n",
       "        vertical-align: middle;\n",
       "    }\n",
       "\n",
       "    .dataframe tbody tr th {\n",
       "        vertical-align: top;\n",
       "    }\n",
       "\n",
       "    .dataframe thead tr th {\n",
       "        text-align: left;\n",
       "    }\n",
       "</style>\n",
       "<table border=\"1\" class=\"dataframe\">\n",
       "  <thead>\n",
       "    <tr>\n",
       "      <th></th>\n",
       "      <th>Category</th>\n",
       "      <th>Reviews</th>\n",
       "      <th>Size</th>\n",
       "      <th>Installs</th>\n",
       "      <th>Type</th>\n",
       "      <th>Price</th>\n",
       "      <th>Content Rating</th>\n",
       "      <th>Rating_category</th>\n",
       "    </tr>\n",
       "  </thead>\n",
       "  <tbody>\n",
       "    <tr>\n",
       "      <th>0</th>\n",
       "      <td>-2.037666</td>\n",
       "      <td>-0.694347</td>\n",
       "      <td>-0.159928</td>\n",
       "      <td>-0.168764</td>\n",
       "      <td>-0.282029</td>\n",
       "      <td>-0.063058</td>\n",
       "      <td>-0.463220</td>\n",
       "      <td>-0.35358</td>\n",
       "    </tr>\n",
       "    <tr>\n",
       "      <th>1</th>\n",
       "      <td>-2.037666</td>\n",
       "      <td>-0.206386</td>\n",
       "      <td>-0.373300</td>\n",
       "      <td>-0.158181</td>\n",
       "      <td>-0.282029</td>\n",
       "      <td>-0.063058</td>\n",
       "      <td>-0.463220</td>\n",
       "      <td>-0.35358</td>\n",
       "    </tr>\n",
       "    <tr>\n",
       "      <th>2</th>\n",
       "      <td>-2.037666</td>\n",
       "      <td>1.014637</td>\n",
       "      <td>-0.599475</td>\n",
       "      <td>-0.060990</td>\n",
       "      <td>-0.282029</td>\n",
       "      <td>-0.063058</td>\n",
       "      <td>-0.463220</td>\n",
       "      <td>-0.35358</td>\n",
       "    </tr>\n",
       "    <tr>\n",
       "      <th>3</th>\n",
       "      <td>-2.037666</td>\n",
       "      <td>1.259116</td>\n",
       "      <td>0.096119</td>\n",
       "      <td>0.910911</td>\n",
       "      <td>-0.282029</td>\n",
       "      <td>-0.063058</td>\n",
       "      <td>2.517665</td>\n",
       "      <td>-0.35358</td>\n",
       "    </tr>\n",
       "    <tr>\n",
       "      <th>4</th>\n",
       "      <td>-2.037666</td>\n",
       "      <td>-0.206386</td>\n",
       "      <td>-0.851254</td>\n",
       "      <td>-0.166820</td>\n",
       "      <td>-0.282029</td>\n",
       "      <td>-0.063058</td>\n",
       "      <td>-0.463220</td>\n",
       "      <td>-0.35358</td>\n",
       "    </tr>\n",
       "    <tr>\n",
       "      <th>...</th>\n",
       "      <td>...</td>\n",
       "      <td>...</td>\n",
       "      <td>...</td>\n",
       "      <td>...</td>\n",
       "      <td>...</td>\n",
       "      <td>...</td>\n",
       "      <td>...</td>\n",
       "      <td>...</td>\n",
       "    </tr>\n",
       "    <tr>\n",
       "      <th>7419</th>\n",
       "      <td>-1.669089</td>\n",
       "      <td>-1.038215</td>\n",
       "      <td>-0.944327</td>\n",
       "      <td>-0.168958</td>\n",
       "      <td>-0.282029</td>\n",
       "      <td>-0.063058</td>\n",
       "      <td>-0.463220</td>\n",
       "      <td>-0.35358</td>\n",
       "    </tr>\n",
       "    <tr>\n",
       "      <th>7420</th>\n",
       "      <td>-0.686217</td>\n",
       "      <td>-1.506431</td>\n",
       "      <td>-0.859789</td>\n",
       "      <td>-0.168969</td>\n",
       "      <td>-0.282029</td>\n",
       "      <td>-0.063058</td>\n",
       "      <td>-0.463220</td>\n",
       "      <td>-0.35358</td>\n",
       "    </tr>\n",
       "    <tr>\n",
       "      <th>7421</th>\n",
       "      <td>-0.686217</td>\n",
       "      <td>-1.077007</td>\n",
       "      <td>1.291004</td>\n",
       "      <td>-0.168872</td>\n",
       "      <td>-0.282029</td>\n",
       "      <td>-0.063058</td>\n",
       "      <td>-0.463220</td>\n",
       "      <td>-0.35358</td>\n",
       "    </tr>\n",
       "    <tr>\n",
       "      <th>7422</th>\n",
       "      <td>-0.686217</td>\n",
       "      <td>-1.633839</td>\n",
       "      <td>-0.817115</td>\n",
       "      <td>-0.168977</td>\n",
       "      <td>-0.282029</td>\n",
       "      <td>-0.063058</td>\n",
       "      <td>-0.463220</td>\n",
       "      <td>-0.35358</td>\n",
       "    </tr>\n",
       "    <tr>\n",
       "      <th>7423</th>\n",
       "      <td>0.173797</td>\n",
       "      <td>1.425449</td>\n",
       "      <td>-0.159928</td>\n",
       "      <td>0.046999</td>\n",
       "      <td>-0.282029</td>\n",
       "      <td>-0.063058</td>\n",
       "      <td>-0.463220</td>\n",
       "      <td>-0.35358</td>\n",
       "    </tr>\n",
       "  </tbody>\n",
       "</table>\n",
       "<p>7424 rows × 8 columns</p>\n",
       "</div>"
      ],
      "text/plain": [
       "      Category   Reviews      Size  Installs      Type     Price  \\\n",
       "0    -2.037666 -0.694347 -0.159928 -0.168764 -0.282029 -0.063058   \n",
       "1    -2.037666 -0.206386 -0.373300 -0.158181 -0.282029 -0.063058   \n",
       "2    -2.037666  1.014637 -0.599475 -0.060990 -0.282029 -0.063058   \n",
       "3    -2.037666  1.259116  0.096119  0.910911 -0.282029 -0.063058   \n",
       "4    -2.037666 -0.206386 -0.851254 -0.166820 -0.282029 -0.063058   \n",
       "...        ...       ...       ...       ...       ...       ...   \n",
       "7419 -1.669089 -1.038215 -0.944327 -0.168958 -0.282029 -0.063058   \n",
       "7420 -0.686217 -1.506431 -0.859789 -0.168969 -0.282029 -0.063058   \n",
       "7421 -0.686217 -1.077007  1.291004 -0.168872 -0.282029 -0.063058   \n",
       "7422 -0.686217 -1.633839 -0.817115 -0.168977 -0.282029 -0.063058   \n",
       "7423  0.173797  1.425449 -0.159928  0.046999 -0.282029 -0.063058   \n",
       "\n",
       "     Content Rating Rating_category  \n",
       "0         -0.463220        -0.35358  \n",
       "1         -0.463220        -0.35358  \n",
       "2         -0.463220        -0.35358  \n",
       "3          2.517665        -0.35358  \n",
       "4         -0.463220        -0.35358  \n",
       "...             ...             ...  \n",
       "7419      -0.463220        -0.35358  \n",
       "7420      -0.463220        -0.35358  \n",
       "7421      -0.463220        -0.35358  \n",
       "7422      -0.463220        -0.35358  \n",
       "7423      -0.463220        -0.35358  \n",
       "\n",
       "[7424 rows x 8 columns]"
      ]
     },
     "execution_count": 73,
     "metadata": {},
     "output_type": "execute_result"
    }
   ],
   "source": [
    "# by  Using StandardScaler from sklearn Library normalizing the data in order to make all the values comes under particular range.\n",
    "from sklearn.preprocessing import StandardScaler\n",
    "import numpy as np\n",
    "scaler = StandardScaler()\n",
    "scaled_data = scaler.fit_transform(df) \n",
    "pd.DataFrame(scaled_data,columns=[['Category','Reviews', 'Size', 'Installs', 'Type', 'Price', 'Content Rating',\n",
    "       'Rating_category']] ) # if want to scale whole dataframe."
   ]
  },
  {
   "cell_type": "code",
   "execution_count": 72,
   "id": "9cd72902",
   "metadata": {
    "ExecuteTime": {
     "end_time": "2024-02-05T09:21:26.811989Z",
     "start_time": "2024-02-05T09:21:26.775357Z"
    }
   },
   "outputs": [
    {
     "data": {
      "text/plain": [
       "(array([[ 1.27778756, -0.70921533,  0.13906904, ..., -0.27648688,\n",
       "         -0.06402002,  1.52304438],\n",
       "        [-1.30668392,  1.21346414, -0.50074741, ..., -0.27648688,\n",
       "         -0.06402002, -0.46483269],\n",
       "        [ 1.5239277 ,  0.47211042, -0.74387767, ..., -0.27648688,\n",
       "         -0.06402002, -0.46483269],\n",
       "        ...,\n",
       "        [-0.69133357,  0.54804675, -0.41543855, ..., -0.27648688,\n",
       "         -0.06402002,  2.51698292],\n",
       "        [-0.07598322,  1.42637184,  0.48030449, ..., -0.27648688,\n",
       "         -0.06402002, -0.46483269],\n",
       "        [ 1.03164742, -1.55622204,  0.86419436, ..., -0.27648688,\n",
       "         -0.06402002, -0.46483269]]),\n",
       " array([[-0.32212336,  1.25786009,  2.48506272, ..., -0.27648688,\n",
       "         -0.06402002,  2.51698292],\n",
       "        [-0.32212336, -0.8921385 , -0.64577248, ..., -0.27648688,\n",
       "         -0.06402002, -0.46483269],\n",
       "        [-1.7989642 , -0.91301158, -0.8462483 , ..., -0.27648688,\n",
       "         -0.06402002, -0.46483269],\n",
       "        ...,\n",
       "        [-1.30668392,  1.09376121,  0.30968677, ..., -0.27648688,\n",
       "         -0.06402002, -0.46483269],\n",
       "        [ 1.5239277 ,  1.62122135, -0.63297615, ..., -0.27648688,\n",
       "         -0.06402002, -0.46483269],\n",
       "        [-0.32212336,  0.58910223,  2.8689526 , ..., -0.27648688,\n",
       "         -0.06402002,  0.52910585]]))"
      ]
     },
     "execution_count": 72,
     "metadata": {},
     "output_type": "execute_result"
    }
   ],
   "source": [
    "from sklearn.preprocessing import StandardScaler\n",
    "sc = StandardScaler()\n",
    "\n",
    "# fit_transform() method first trains the Scaler on dataset and then transforms it between 0 and 1\n",
    "X_train = sc.fit_transform(x_train)\n",
    "\n",
    "# transform() method only transforms the dataset based on what it has learnt on the dataset before\n",
    "X_test = sc.transform(x_test)  \n",
    "\n",
    "X_train,X_test # if we  want to scale only x_train and y_train."
   ]
  },
  {
   "cell_type": "code",
   "execution_count": null,
   "id": "22f009ff",
   "metadata": {},
   "outputs": [],
   "source": []
  }
 ],
 "metadata": {
  "kernelspec": {
   "display_name": "Python 3 (ipykernel)",
   "language": "python",
   "name": "python3"
  },
  "language_info": {
   "codemirror_mode": {
    "name": "ipython",
    "version": 3
   },
   "file_extension": ".py",
   "mimetype": "text/x-python",
   "name": "python",
   "nbconvert_exporter": "python",
   "pygments_lexer": "ipython3",
   "version": "3.11.5"
  },
  "varInspector": {
   "cols": {
    "lenName": 16,
    "lenType": 16,
    "lenVar": 40
   },
   "kernels_config": {
    "python": {
     "delete_cmd_postfix": "",
     "delete_cmd_prefix": "del ",
     "library": "var_list.py",
     "varRefreshCmd": "print(var_dic_list())"
    },
    "r": {
     "delete_cmd_postfix": ") ",
     "delete_cmd_prefix": "rm(",
     "library": "var_list.r",
     "varRefreshCmd": "cat(var_dic_list()) "
    }
   },
   "types_to_exclude": [
    "module",
    "function",
    "builtin_function_or_method",
    "instance",
    "_Feature"
   ],
   "window_display": false
  }
 },
 "nbformat": 4,
 "nbformat_minor": 5
}
