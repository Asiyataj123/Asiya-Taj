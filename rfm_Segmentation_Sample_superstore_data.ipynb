{
 "cells": [
  {
   "cell_type": "code",
   "execution_count": 6,
   "metadata": {},
   "outputs": [],
   "source": [
    "\n",
    "import pandas as pd  #importing the libraries\n",
    "import numpy as np"
   ]
  },
  {
   "cell_type": "code",
   "execution_count": null,
   "metadata": {},
   "outputs": [],
   "source": [
    "df=pd.read_csv # this is how I tell them how to immport the data(CSV file)"
   ]
  },
  {
   "cell_type": "code",
   "execution_count": 2,
   "metadata": {},
   "outputs": [],
   "source": [
    "df=pd.read_excel?"
   ]
  },
  {
   "cell_type": "code",
   "execution_count": 3,
   "metadata": {},
   "outputs": [],
   "source": [
    "df=pd.read_csv?\n"
   ]
  },
  {
   "cell_type": "code",
   "execution_count": null,
   "metadata": {},
   "outputs": [],
   "source": [
    "df=pd.read_csv"
   ]
  },
  {
   "cell_type": "code",
   "execution_count": 2,
   "metadata": {},
   "outputs": [
    {
     "data": {
      "text/html": [
       "<div>\n",
       "<style scoped>\n",
       "    .dataframe tbody tr th:only-of-type {\n",
       "        vertical-align: middle;\n",
       "    }\n",
       "\n",
       "    .dataframe tbody tr th {\n",
       "        vertical-align: top;\n",
       "    }\n",
       "\n",
       "    .dataframe thead th {\n",
       "        text-align: right;\n",
       "    }\n",
       "</style>\n",
       "<table border=\"1\" class=\"dataframe\">\n",
       "  <thead>\n",
       "    <tr style=\"text-align: right;\">\n",
       "      <th></th>\n",
       "      <th>Row ID</th>\n",
       "      <th>Order ID</th>\n",
       "      <th>Order Date</th>\n",
       "      <th>Ship Date</th>\n",
       "      <th>Ship Mode</th>\n",
       "      <th>Customer ID</th>\n",
       "      <th>Customer Name</th>\n",
       "      <th>Segment</th>\n",
       "      <th>Country</th>\n",
       "      <th>City</th>\n",
       "      <th>...</th>\n",
       "      <th>Postal Code</th>\n",
       "      <th>Region</th>\n",
       "      <th>Product ID</th>\n",
       "      <th>Category</th>\n",
       "      <th>Sub-Category</th>\n",
       "      <th>Product Name</th>\n",
       "      <th>Sales</th>\n",
       "      <th>Quantity</th>\n",
       "      <th>Discount</th>\n",
       "      <th>Profit</th>\n",
       "    </tr>\n",
       "  </thead>\n",
       "  <tbody>\n",
       "    <tr>\n",
       "      <th>0</th>\n",
       "      <td>1</td>\n",
       "      <td>CA-2016-152156</td>\n",
       "      <td>2016-11-08</td>\n",
       "      <td>2016-11-11</td>\n",
       "      <td>Second Class</td>\n",
       "      <td>CG-12520</td>\n",
       "      <td>Claire Gute</td>\n",
       "      <td>Consumer</td>\n",
       "      <td>United States</td>\n",
       "      <td>Henderson</td>\n",
       "      <td>...</td>\n",
       "      <td>42420</td>\n",
       "      <td>South</td>\n",
       "      <td>FUR-BO-10001798</td>\n",
       "      <td>Furniture</td>\n",
       "      <td>Bookcases</td>\n",
       "      <td>Bush Somerset Collection Bookcase</td>\n",
       "      <td>261.96</td>\n",
       "      <td>2</td>\n",
       "      <td>0.0</td>\n",
       "      <td>41.9136</td>\n",
       "    </tr>\n",
       "    <tr>\n",
       "      <th>1</th>\n",
       "      <td>2</td>\n",
       "      <td>CA-2016-152156</td>\n",
       "      <td>2016-11-08</td>\n",
       "      <td>2016-11-11</td>\n",
       "      <td>Second Class</td>\n",
       "      <td>CG-12520</td>\n",
       "      <td>Claire Gute</td>\n",
       "      <td>Consumer</td>\n",
       "      <td>United States</td>\n",
       "      <td>Henderson</td>\n",
       "      <td>...</td>\n",
       "      <td>42420</td>\n",
       "      <td>South</td>\n",
       "      <td>FUR-CH-10000454</td>\n",
       "      <td>Furniture</td>\n",
       "      <td>Chairs</td>\n",
       "      <td>Hon Deluxe Fabric Upholstered Stacking Chairs,...</td>\n",
       "      <td>731.94</td>\n",
       "      <td>3</td>\n",
       "      <td>0.0</td>\n",
       "      <td>219.5820</td>\n",
       "    </tr>\n",
       "  </tbody>\n",
       "</table>\n",
       "<p>2 rows × 21 columns</p>\n",
       "</div>"
      ],
      "text/plain": [
       "   Row ID        Order ID Order Date  Ship Date     Ship Mode Customer ID  \\\n",
       "0       1  CA-2016-152156 2016-11-08 2016-11-11  Second Class    CG-12520   \n",
       "1       2  CA-2016-152156 2016-11-08 2016-11-11  Second Class    CG-12520   \n",
       "\n",
       "  Customer Name   Segment        Country       City  ... Postal Code  Region  \\\n",
       "0   Claire Gute  Consumer  United States  Henderson  ...       42420   South   \n",
       "1   Claire Gute  Consumer  United States  Henderson  ...       42420   South   \n",
       "\n",
       "        Product ID   Category Sub-Category  \\\n",
       "0  FUR-BO-10001798  Furniture    Bookcases   \n",
       "1  FUR-CH-10000454  Furniture       Chairs   \n",
       "\n",
       "                                        Product Name   Sales  Quantity  \\\n",
       "0                  Bush Somerset Collection Bookcase  261.96         2   \n",
       "1  Hon Deluxe Fabric Upholstered Stacking Chairs,...  731.94         3   \n",
       "\n",
       "   Discount    Profit  \n",
       "0       0.0   41.9136  \n",
       "1       0.0  219.5820  \n",
       "\n",
       "[2 rows x 21 columns]"
      ]
     },
     "execution_count": 2,
     "metadata": {},
     "output_type": "execute_result"
    }
   ],
   "source": [
    "# loading the data file\n",
    "df=pd.read_excel(\"Sample - Superstore.xls\")\n",
    "df.head(2)"
   ]
  },
  {
   "cell_type": "code",
   "execution_count": 403,
   "metadata": {},
   "outputs": [
    {
     "data": {
      "text/plain": [
       "Index(['Row ID', 'Order ID', 'Order Date', 'Ship Date', 'Ship Mode',\n",
       "       'Customer ID', 'Customer Name', 'Segment', 'Country', 'City', 'State',\n",
       "       'Postal Code', 'Region', 'Product ID', 'Category', 'Sub-Category',\n",
       "       'Product Name', 'Sales', 'Quantity', 'Discount', 'Profit'],\n",
       "      dtype='object')"
      ]
     },
     "execution_count": 403,
     "metadata": {},
     "output_type": "execute_result"
    }
   ],
   "source": [
    "df.columns  \n",
    "# What #getting all columns names printed\n",
    "# Why : So that I can get clue about which columns to retain and which one to drop"
   ]
  },
  {
   "cell_type": "code",
   "execution_count": 404,
   "metadata": {},
   "outputs": [
    {
     "data": {
      "text/plain": [
       "Index(['Customer ID', 'Sales', 'Order_Date'], dtype='object')"
      ]
     },
     "execution_count": 404,
     "metadata": {},
     "output_type": "execute_result"
    }
   ],
   "source": [
    "# Keep the required columns\n",
    "df = df[['Customer ID', 'Sales', 'Order_Date']]"
   ]
  },
  {
   "cell_type": "code",
   "execution_count": 7,
   "metadata": {},
   "outputs": [
    {
     "ename": "AttributeError",
     "evalue": "module 'pandas' has no attribute 'datetime'",
     "output_type": "error",
     "traceback": [
      "\u001b[1;31m---------------------------------------------------------------------------\u001b[0m",
      "\u001b[1;31mAttributeError\u001b[0m                            Traceback (most recent call last)",
      "Cell \u001b[1;32mIn[7], line 3\u001b[0m\n\u001b[0;32m      1\u001b[0m \u001b[38;5;66;03m# What I am doing here | Why I am doing this ?\u001b[39;00m\n\u001b[0;32m      2\u001b[0m \u001b[38;5;66;03m#_______________________________________________________\u001b[39;00m\n\u001b[1;32m----> 3\u001b[0m today\u001b[38;5;241m=\u001b[39mpd\u001b[38;5;241m.\u001b[39mdatetime\u001b[38;5;241m.\u001b[39mnow()   \u001b[38;5;66;03m# TIME STAMP : getting today's date\u001b[39;00m\n\u001b[0;32m      4\u001b[0m today\u001b[38;5;241m=\u001b[39mpd\u001b[38;5;241m.\u001b[39mto_datetime(today\u001b[38;5;241m.\u001b[39mdate())\n",
      "\u001b[1;31mAttributeError\u001b[0m: module 'pandas' has no attribute 'datetime'"
     ]
    }
   ],
   "source": [
    "# What I am doing here | Why I am doing this ?\n",
    "#_______________________________________________________\n",
    "today=pd.datetime.now()   # TIME STAMP : getting today's date\n",
    "today=pd.to_datetime(today.date())        #only date, no time"
   ]
  },
  {
   "cell_type": "code",
   "execution_count": 4,
   "metadata": {},
   "outputs": [
    {
     "name": "stdout",
     "output_type": "stream",
     "text": [
      "2023-12-28 15:08:34.875457\n",
      "2023-12-28\n"
     ]
    }
   ],
   "source": [
    "today = pd.Timestamp.now()  # Getting current date and time\n",
    "today_date = today.date()   # Extracting the date\n",
    "\n",
    "print(today)\n",
    "print(today_date)"
   ]
  },
  {
   "cell_type": "code",
   "execution_count": 406,
   "metadata": {},
   "outputs": [
    {
     "data": {
      "text/html": [
       "<div>\n",
       "<style scoped>\n",
       "    .dataframe tbody tr th:only-of-type {\n",
       "        vertical-align: middle;\n",
       "    }\n",
       "\n",
       "    .dataframe tbody tr th {\n",
       "        vertical-align: top;\n",
       "    }\n",
       "\n",
       "    .dataframe thead th {\n",
       "        text-align: right;\n",
       "    }\n",
       "</style>\n",
       "<table border=\"1\" class=\"dataframe\">\n",
       "  <thead>\n",
       "    <tr style=\"text-align: right;\">\n",
       "      <th></th>\n",
       "      <th>Customer ID</th>\n",
       "      <th>Sales</th>\n",
       "      <th>Order_Date</th>\n",
       "      <th>Recency</th>\n",
       "    </tr>\n",
       "  </thead>\n",
       "  <tbody>\n",
       "    <tr>\n",
       "      <th>0</th>\n",
       "      <td>CG-12520</td>\n",
       "      <td>261.9600</td>\n",
       "      <td>2016-11-08</td>\n",
       "      <td>1498 days</td>\n",
       "    </tr>\n",
       "    <tr>\n",
       "      <th>1</th>\n",
       "      <td>CG-12520</td>\n",
       "      <td>731.9400</td>\n",
       "      <td>2016-11-08</td>\n",
       "      <td>1498 days</td>\n",
       "    </tr>\n",
       "    <tr>\n",
       "      <th>2</th>\n",
       "      <td>DV-13045</td>\n",
       "      <td>14.6200</td>\n",
       "      <td>2016-06-12</td>\n",
       "      <td>1647 days</td>\n",
       "    </tr>\n",
       "    <tr>\n",
       "      <th>3</th>\n",
       "      <td>SO-20335</td>\n",
       "      <td>957.5775</td>\n",
       "      <td>2015-10-11</td>\n",
       "      <td>1892 days</td>\n",
       "    </tr>\n",
       "    <tr>\n",
       "      <th>4</th>\n",
       "      <td>SO-20335</td>\n",
       "      <td>22.3680</td>\n",
       "      <td>2015-10-11</td>\n",
       "      <td>1892 days</td>\n",
       "    </tr>\n",
       "  </tbody>\n",
       "</table>\n",
       "</div>"
      ],
      "text/plain": [
       "  Customer ID     Sales Order_Date   Recency\n",
       "0    CG-12520  261.9600 2016-11-08 1498 days\n",
       "1    CG-12520  731.9400 2016-11-08 1498 days\n",
       "2    DV-13045   14.6200 2016-06-12 1647 days\n",
       "3    SO-20335  957.5775 2015-10-11 1892 days\n",
       "4    SO-20335   22.3680 2015-10-11 1892 days"
      ]
     },
     "execution_count": 406,
     "metadata": {},
     "output_type": "execute_result"
    }
   ],
   "source": [
    "# type(today)\n",
    "data[\"Recency\"]=today-data['Order_Date']   #getting recency in no of days ,from todays date to the last order date\n",
    "# type(grouped[\"Order_Date\"])\n",
    "data.head()"
   ]
  },
  {
   "cell_type": "code",
   "execution_count": 407,
   "metadata": {},
   "outputs": [
    {
     "name": "stdout",
     "output_type": "stream",
     "text": [
      "<class 'pandas.core.frame.DataFrame'>\n",
      "Index: 793 entries, AA-10315 to ZD-21925\n",
      "Data columns (total 3 columns):\n",
      " #   Column       Non-Null Count  Dtype          \n",
      "---  ------       --------------  -----          \n",
      " 0   Recency      793 non-null    timedelta64[ns]\n",
      " 1   Customer ID  793 non-null    int64          \n",
      " 2   Sales        793 non-null    float64        \n",
      "dtypes: float64(1), int64(1), timedelta64[ns](1)\n",
      "memory usage: 24.8+ KB\n"
     ]
    }
   ],
   "source": [
    "grouped = data.groupby(by='Customer ID').agg({\"Recency\":'min',\n",
    "                                               \"Customer ID\":'count', \n",
    "                                              'Sales': 'sum'})\n",
    "#grouping data by customer id\n",
    "grouped.info() #aggreagting on recency for latest orders, customer id for count of each order, sales to sum all previous orders values"
   ]
  },
  {
   "cell_type": "code",
   "execution_count": 408,
   "metadata": {},
   "outputs": [
    {
     "data": {
      "text/html": [
       "<div>\n",
       "<style scoped>\n",
       "    .dataframe tbody tr th:only-of-type {\n",
       "        vertical-align: middle;\n",
       "    }\n",
       "\n",
       "    .dataframe tbody tr th {\n",
       "        vertical-align: top;\n",
       "    }\n",
       "\n",
       "    .dataframe thead th {\n",
       "        text-align: right;\n",
       "    }\n",
       "</style>\n",
       "<table border=\"1\" class=\"dataframe\">\n",
       "  <thead>\n",
       "    <tr style=\"text-align: right;\">\n",
       "      <th></th>\n",
       "      <th>Recency</th>\n",
       "      <th>Customer ID</th>\n",
       "      <th>Sales</th>\n",
       "    </tr>\n",
       "    <tr>\n",
       "      <th>Customer ID</th>\n",
       "      <th></th>\n",
       "      <th></th>\n",
       "      <th></th>\n",
       "    </tr>\n",
       "  </thead>\n",
       "  <tbody>\n",
       "    <tr>\n",
       "      <th>AA-10315</th>\n",
       "      <td>1265 days</td>\n",
       "      <td>11</td>\n",
       "      <td>5563.560</td>\n",
       "    </tr>\n",
       "    <tr>\n",
       "      <th>AA-10375</th>\n",
       "      <td>1100 days</td>\n",
       "      <td>15</td>\n",
       "      <td>1056.390</td>\n",
       "    </tr>\n",
       "    <tr>\n",
       "      <th>AA-10480</th>\n",
       "      <td>1340 days</td>\n",
       "      <td>12</td>\n",
       "      <td>1790.512</td>\n",
       "    </tr>\n",
       "    <tr>\n",
       "      <th>AA-10645</th>\n",
       "      <td>1136 days</td>\n",
       "      <td>18</td>\n",
       "      <td>5086.935</td>\n",
       "    </tr>\n",
       "    <tr>\n",
       "      <th>AB-10015</th>\n",
       "      <td>1496 days</td>\n",
       "      <td>6</td>\n",
       "      <td>886.156</td>\n",
       "    </tr>\n",
       "  </tbody>\n",
       "</table>\n",
       "</div>"
      ],
      "text/plain": [
       "              Recency  Customer ID     Sales\n",
       "Customer ID                                 \n",
       "AA-10315    1265 days           11  5563.560\n",
       "AA-10375    1100 days           15  1056.390\n",
       "AA-10480    1340 days           12  1790.512\n",
       "AA-10645    1136 days           18  5086.935\n",
       "AB-10015    1496 days            6   886.156"
      ]
     },
     "execution_count": 408,
     "metadata": {},
     "output_type": "execute_result"
    }
   ],
   "source": [
    "grouped.head(5)"
   ]
  },
  {
   "cell_type": "code",
   "execution_count": 409,
   "metadata": {},
   "outputs": [
    {
     "data": {
      "text/plain": [
       "Index(['Recency', 'Frequency', 'Monetary'], dtype='object')"
      ]
     },
     "execution_count": 409,
     "metadata": {},
     "output_type": "execute_result"
    }
   ],
   "source": [
    "grouped=grouped.rename(columns={'Customer ID':'Frequency' , 'Sales':'Monetary' })   #renaming column names\n",
    "grouped.columns"
   ]
  },
  {
   "cell_type": "code",
   "execution_count": 1,
   "metadata": {},
   "outputs": [],
   "source": [
    "import pandas as pd"
   ]
  },
  {
   "cell_type": "code",
   "execution_count": 5,
   "metadata": {},
   "outputs": [
    {
     "ename": "SyntaxError",
     "evalue": "invalid syntax (346759594.py, line 1)",
     "output_type": "error",
     "traceback": [
      "\u001b[1;36m  Cell \u001b[1;32mIn[5], line 1\u001b[1;36m\u001b[0m\n\u001b[1;33m    pd.qcut? # What | Why | How\u001b[0m\n\u001b[1;37m           ^\u001b[0m\n\u001b[1;31mSyntaxError\u001b[0m\u001b[1;31m:\u001b[0m invalid syntax\n"
     ]
    }
   ],
   "source": [
    "pd.qcut? # What | Why | How "
   ]
  },
  {
   "cell_type": "code",
   "execution_count": 410,
   "metadata": {},
   "outputs": [],
   "source": [
    "# creating 4 groups in the data\n",
    "#labels=['Q1','Q2','Q3','Q4']\n",
    "grouped['Q_Recency'] = pd.qcut(grouped[\"Recency\"], 4, labels = False) # Quartiling I  am doing\n",
    "\n",
    "# grouped['Q_Recency'] = pd.qcut(grouped[\"Recency\"], 10, labels = False) # Deciling I am doing\n",
    "\n",
    "grouped['Q_Frequency'] = pd.qcut(grouped[\"Frequency\"], 4, labels = False)\n",
    "grouped['Q_Monetary'] = pd.qcut(grouped[\"Monetary\"], 4, labels = False)"
   ]
  },
  {
   "cell_type": "code",
   "execution_count": 411,
   "metadata": {},
   "outputs": [
    {
     "data": {
      "text/html": [
       "<div>\n",
       "<style scoped>\n",
       "    .dataframe tbody tr th:only-of-type {\n",
       "        vertical-align: middle;\n",
       "    }\n",
       "\n",
       "    .dataframe tbody tr th {\n",
       "        vertical-align: top;\n",
       "    }\n",
       "\n",
       "    .dataframe thead th {\n",
       "        text-align: right;\n",
       "    }\n",
       "</style>\n",
       "<table border=\"1\" class=\"dataframe\">\n",
       "  <thead>\n",
       "    <tr style=\"text-align: right;\">\n",
       "      <th></th>\n",
       "      <th>Recency</th>\n",
       "      <th>Frequency</th>\n",
       "      <th>Monetary</th>\n",
       "      <th>Q_Recency</th>\n",
       "      <th>Q_Frequency</th>\n",
       "      <th>Q_Monetary</th>\n",
       "    </tr>\n",
       "    <tr>\n",
       "      <th>Customer ID</th>\n",
       "      <th></th>\n",
       "      <th></th>\n",
       "      <th></th>\n",
       "      <th></th>\n",
       "      <th></th>\n",
       "      <th></th>\n",
       "    </tr>\n",
       "  </thead>\n",
       "  <tbody>\n",
       "    <tr>\n",
       "      <th>AA-10315</th>\n",
       "      <td>1265 days</td>\n",
       "      <td>11</td>\n",
       "      <td>5563.560</td>\n",
       "      <td>3</td>\n",
       "      <td>1</td>\n",
       "      <td>3</td>\n",
       "    </tr>\n",
       "    <tr>\n",
       "      <th>AA-10375</th>\n",
       "      <td>1100 days</td>\n",
       "      <td>15</td>\n",
       "      <td>1056.390</td>\n",
       "      <td>0</td>\n",
       "      <td>2</td>\n",
       "      <td>0</td>\n",
       "    </tr>\n",
       "    <tr>\n",
       "      <th>AA-10480</th>\n",
       "      <td>1340 days</td>\n",
       "      <td>12</td>\n",
       "      <td>1790.512</td>\n",
       "      <td>3</td>\n",
       "      <td>1</td>\n",
       "      <td>1</td>\n",
       "    </tr>\n",
       "  </tbody>\n",
       "</table>\n",
       "</div>"
      ],
      "text/plain": [
       "              Recency  Frequency  Monetary  Q_Recency  Q_Frequency  Q_Monetary\n",
       "Customer ID                                                                   \n",
       "AA-10315    1265 days         11  5563.560          3            1           3\n",
       "AA-10375    1100 days         15  1056.390          0            2           0\n",
       "AA-10480    1340 days         12  1790.512          3            1           1"
      ]
     },
     "execution_count": 411,
     "metadata": {},
     "output_type": "execute_result"
    }
   ],
   "source": [
    "grouped.head(3)"
   ]
  },
  {
   "cell_type": "code",
   "execution_count": 412,
   "metadata": {},
   "outputs": [],
   "source": [
    "Status=[]                                  #assigning status acc to rencency values\n",
    "for a in grouped['Q_Recency']:           \n",
    "    if a==0:                                #lies in quartile 1\n",
    "        Status.append(\"Active\")\n",
    "    elif (a==1 or a==2):                    #lies in q2 or q3\n",
    "        Status.append(\"Risky\")\n",
    "    else:\n",
    "        Status.append(\"Churned\")             #liesin q4\n",
    "\n"
   ]
  },
  {
   "cell_type": "code",
   "execution_count": 413,
   "metadata": {},
   "outputs": [],
   "source": [
    "a_series=pd.Series(Status).values\n",
    "grouped[\"Status\"]=a_series                    #adding Status column to the dataframe"
   ]
  },
  {
   "cell_type": "code",
   "execution_count": 414,
   "metadata": {},
   "outputs": [
    {
     "data": {
      "text/html": [
       "<div>\n",
       "<style scoped>\n",
       "    .dataframe tbody tr th:only-of-type {\n",
       "        vertical-align: middle;\n",
       "    }\n",
       "\n",
       "    .dataframe tbody tr th {\n",
       "        vertical-align: top;\n",
       "    }\n",
       "\n",
       "    .dataframe thead th {\n",
       "        text-align: right;\n",
       "    }\n",
       "</style>\n",
       "<table border=\"1\" class=\"dataframe\">\n",
       "  <thead>\n",
       "    <tr style=\"text-align: right;\">\n",
       "      <th></th>\n",
       "      <th>Recency</th>\n",
       "      <th>Frequency</th>\n",
       "      <th>Monetary</th>\n",
       "      <th>Q_Recency</th>\n",
       "      <th>Q_Frequency</th>\n",
       "      <th>Q_Monetary</th>\n",
       "      <th>Status</th>\n",
       "    </tr>\n",
       "    <tr>\n",
       "      <th>Customer ID</th>\n",
       "      <th></th>\n",
       "      <th></th>\n",
       "      <th></th>\n",
       "      <th></th>\n",
       "      <th></th>\n",
       "      <th></th>\n",
       "      <th></th>\n",
       "    </tr>\n",
       "  </thead>\n",
       "  <tbody>\n",
       "    <tr>\n",
       "      <th>AA-10315</th>\n",
       "      <td>1265 days</td>\n",
       "      <td>11</td>\n",
       "      <td>5563.560</td>\n",
       "      <td>3</td>\n",
       "      <td>1</td>\n",
       "      <td>3</td>\n",
       "      <td>Churned</td>\n",
       "    </tr>\n",
       "    <tr>\n",
       "      <th>AA-10375</th>\n",
       "      <td>1100 days</td>\n",
       "      <td>15</td>\n",
       "      <td>1056.390</td>\n",
       "      <td>0</td>\n",
       "      <td>2</td>\n",
       "      <td>0</td>\n",
       "      <td>Active</td>\n",
       "    </tr>\n",
       "    <tr>\n",
       "      <th>AA-10480</th>\n",
       "      <td>1340 days</td>\n",
       "      <td>12</td>\n",
       "      <td>1790.512</td>\n",
       "      <td>3</td>\n",
       "      <td>1</td>\n",
       "      <td>1</td>\n",
       "      <td>Churned</td>\n",
       "    </tr>\n",
       "    <tr>\n",
       "      <th>AA-10645</th>\n",
       "      <td>1136 days</td>\n",
       "      <td>18</td>\n",
       "      <td>5086.935</td>\n",
       "      <td>1</td>\n",
       "      <td>3</td>\n",
       "      <td>3</td>\n",
       "      <td>Risky</td>\n",
       "    </tr>\n",
       "    <tr>\n",
       "      <th>AB-10015</th>\n",
       "      <td>1496 days</td>\n",
       "      <td>6</td>\n",
       "      <td>886.156</td>\n",
       "      <td>3</td>\n",
       "      <td>0</td>\n",
       "      <td>0</td>\n",
       "      <td>Churned</td>\n",
       "    </tr>\n",
       "    <tr>\n",
       "      <th>...</th>\n",
       "      <td>...</td>\n",
       "      <td>...</td>\n",
       "      <td>...</td>\n",
       "      <td>...</td>\n",
       "      <td>...</td>\n",
       "      <td>...</td>\n",
       "      <td>...</td>\n",
       "    </tr>\n",
       "    <tr>\n",
       "      <th>XP-21865</th>\n",
       "      <td>1124 days</td>\n",
       "      <td>28</td>\n",
       "      <td>2374.658</td>\n",
       "      <td>1</td>\n",
       "      <td>3</td>\n",
       "      <td>2</td>\n",
       "      <td>Risky</td>\n",
       "    </tr>\n",
       "    <tr>\n",
       "      <th>YC-21895</th>\n",
       "      <td>1085 days</td>\n",
       "      <td>8</td>\n",
       "      <td>5454.350</td>\n",
       "      <td>0</td>\n",
       "      <td>0</td>\n",
       "      <td>3</td>\n",
       "      <td>Active</td>\n",
       "    </tr>\n",
       "    <tr>\n",
       "      <th>YS-21880</th>\n",
       "      <td>1090 days</td>\n",
       "      <td>12</td>\n",
       "      <td>6720.444</td>\n",
       "      <td>0</td>\n",
       "      <td>1</td>\n",
       "      <td>3</td>\n",
       "      <td>Active</td>\n",
       "    </tr>\n",
       "    <tr>\n",
       "      <th>ZC-21910</th>\n",
       "      <td>1135 days</td>\n",
       "      <td>31</td>\n",
       "      <td>8025.707</td>\n",
       "      <td>1</td>\n",
       "      <td>3</td>\n",
       "      <td>3</td>\n",
       "      <td>Risky</td>\n",
       "    </tr>\n",
       "    <tr>\n",
       "      <th>ZD-21925</th>\n",
       "      <td>1283 days</td>\n",
       "      <td>9</td>\n",
       "      <td>1493.944</td>\n",
       "      <td>3</td>\n",
       "      <td>1</td>\n",
       "      <td>1</td>\n",
       "      <td>Churned</td>\n",
       "    </tr>\n",
       "  </tbody>\n",
       "</table>\n",
       "<p>793 rows × 7 columns</p>\n",
       "</div>"
      ],
      "text/plain": [
       "              Recency  Frequency  Monetary  Q_Recency  Q_Frequency  \\\n",
       "Customer ID                                                          \n",
       "AA-10315    1265 days         11  5563.560          3            1   \n",
       "AA-10375    1100 days         15  1056.390          0            2   \n",
       "AA-10480    1340 days         12  1790.512          3            1   \n",
       "AA-10645    1136 days         18  5086.935          1            3   \n",
       "AB-10015    1496 days          6   886.156          3            0   \n",
       "...               ...        ...       ...        ...          ...   \n",
       "XP-21865    1124 days         28  2374.658          1            3   \n",
       "YC-21895    1085 days          8  5454.350          0            0   \n",
       "YS-21880    1090 days         12  6720.444          0            1   \n",
       "ZC-21910    1135 days         31  8025.707          1            3   \n",
       "ZD-21925    1283 days          9  1493.944          3            1   \n",
       "\n",
       "             Q_Monetary   Status  \n",
       "Customer ID                       \n",
       "AA-10315              3  Churned  \n",
       "AA-10375              0   Active  \n",
       "AA-10480              1  Churned  \n",
       "AA-10645              3    Risky  \n",
       "AB-10015              0  Churned  \n",
       "...                 ...      ...  \n",
       "XP-21865              2    Risky  \n",
       "YC-21895              3   Active  \n",
       "YS-21880              3   Active  \n",
       "ZC-21910              3    Risky  \n",
       "ZD-21925              1  Churned  \n",
       "\n",
       "[793 rows x 7 columns]"
      ]
     },
     "execution_count": 414,
     "metadata": {},
     "output_type": "execute_result"
    }
   ],
   "source": [
    "grouped"
   ]
  },
  {
   "cell_type": "code",
   "execution_count": 415,
   "metadata": {
    "scrolled": true
   },
   "outputs": [
    {
     "data": {
      "text/html": [
       "<div>\n",
       "<style scoped>\n",
       "    .dataframe tbody tr th:only-of-type {\n",
       "        vertical-align: middle;\n",
       "    }\n",
       "\n",
       "    .dataframe tbody tr th {\n",
       "        vertical-align: top;\n",
       "    }\n",
       "\n",
       "    .dataframe thead th {\n",
       "        text-align: right;\n",
       "    }\n",
       "</style>\n",
       "<table border=\"1\" class=\"dataframe\">\n",
       "  <thead>\n",
       "    <tr style=\"text-align: right;\">\n",
       "      <th></th>\n",
       "      <th>Recency</th>\n",
       "      <th>Frequency</th>\n",
       "      <th>Monetary</th>\n",
       "      <th>Q_Recency</th>\n",
       "      <th>Q_Frequency</th>\n",
       "      <th>Q_Monetary</th>\n",
       "      <th>Status</th>\n",
       "      <th>CustomerValue</th>\n",
       "    </tr>\n",
       "    <tr>\n",
       "      <th>Customer ID</th>\n",
       "      <th></th>\n",
       "      <th></th>\n",
       "      <th></th>\n",
       "      <th></th>\n",
       "      <th></th>\n",
       "      <th></th>\n",
       "      <th></th>\n",
       "      <th></th>\n",
       "    </tr>\n",
       "  </thead>\n",
       "  <tbody>\n",
       "    <tr>\n",
       "      <th>AA-10315</th>\n",
       "      <td>1265 days</td>\n",
       "      <td>11</td>\n",
       "      <td>5563.560</td>\n",
       "      <td>3</td>\n",
       "      <td>1</td>\n",
       "      <td>3</td>\n",
       "      <td>Churned</td>\n",
       "      <td>Gold</td>\n",
       "    </tr>\n",
       "    <tr>\n",
       "      <th>AA-10375</th>\n",
       "      <td>1100 days</td>\n",
       "      <td>15</td>\n",
       "      <td>1056.390</td>\n",
       "      <td>0</td>\n",
       "      <td>2</td>\n",
       "      <td>0</td>\n",
       "      <td>Active</td>\n",
       "      <td>Silver</td>\n",
       "    </tr>\n",
       "    <tr>\n",
       "      <th>AA-10480</th>\n",
       "      <td>1340 days</td>\n",
       "      <td>12</td>\n",
       "      <td>1790.512</td>\n",
       "      <td>3</td>\n",
       "      <td>1</td>\n",
       "      <td>1</td>\n",
       "      <td>Churned</td>\n",
       "      <td>Silver</td>\n",
       "    </tr>\n",
       "    <tr>\n",
       "      <th>AA-10645</th>\n",
       "      <td>1136 days</td>\n",
       "      <td>18</td>\n",
       "      <td>5086.935</td>\n",
       "      <td>1</td>\n",
       "      <td>3</td>\n",
       "      <td>3</td>\n",
       "      <td>Risky</td>\n",
       "      <td>Premium</td>\n",
       "    </tr>\n",
       "    <tr>\n",
       "      <th>AB-10015</th>\n",
       "      <td>1496 days</td>\n",
       "      <td>6</td>\n",
       "      <td>886.156</td>\n",
       "      <td>3</td>\n",
       "      <td>0</td>\n",
       "      <td>0</td>\n",
       "      <td>Churned</td>\n",
       "      <td></td>\n",
       "    </tr>\n",
       "  </tbody>\n",
       "</table>\n",
       "</div>"
      ],
      "text/plain": [
       "              Recency  Frequency  Monetary  Q_Recency  Q_Frequency  \\\n",
       "Customer ID                                                          \n",
       "AA-10315    1265 days         11  5563.560          3            1   \n",
       "AA-10375    1100 days         15  1056.390          0            2   \n",
       "AA-10480    1340 days         12  1790.512          3            1   \n",
       "AA-10645    1136 days         18  5086.935          1            3   \n",
       "AB-10015    1496 days          6   886.156          3            0   \n",
       "\n",
       "             Q_Monetary   Status CustomerValue  \n",
       "Customer ID                                     \n",
       "AA-10315              3  Churned          Gold  \n",
       "AA-10375              0   Active        Silver  \n",
       "AA-10480              1  Churned        Silver  \n",
       "AA-10645              3    Risky       Premium  \n",
       "AB-10015              0  Churned                "
      ]
     },
     "execution_count": 415,
     "metadata": {},
     "output_type": "execute_result"
    }
   ],
   "source": [
    "SegmentNames=[]\n",
    "f=grouped['Q_Frequency']\n",
    "m=grouped['Q_Monetary']\n",
    "sum_dict={0:'', 1:'', 2:'Silver', 3:'Silver', 4:'Gold', 5:'Gold', 6:'Premium'}\n",
    "\n",
    "totalof_fm=f+m\n",
    "\n",
    "grouped['CustomerValue'] = totalof_fm.map(sum_dict)                   #assigning customer_value acc to q_frequency nd q_monetary\n",
    "\n",
    "grouped.head()"
   ]
  },
  {
   "cell_type": "code",
   "execution_count": 416,
   "metadata": {},
   "outputs": [],
   "source": [
    "#  rename values for quartiles\n",
    "labels={0:'Q1', 1:'Q2', 2:'Q3', 3:'Q4'}\n",
    "grouped['Q_Recency'] = grouped['Q_Recency'].map(labels) \n",
    "grouped['Q_Frequency'] = grouped['Q_Frequency'].map(labels)\n",
    "grouped['Q_Monetary'] = grouped['Q_Monetary'].map(labels)\n"
   ]
  },
  {
   "cell_type": "code",
   "execution_count": 417,
   "metadata": {},
   "outputs": [
    {
     "data": {
      "image/png": "[encoded data removed]",
      "text/plain": [
       "<Figure size 432x288 with 1 Axes>"
      ]
     },
     "metadata": {},
     "output_type": "display_data"
    }
   ],
   "source": [
    "import matplotlib.pyplot as plt\n",
    "new=list(grouped['Status'].value_counts())               #get a list to fed to the pie chart\n",
    "colors = ['gold', 'lightskyblue', 'lightcoral']\n",
    "plt.pie(new, labels=[\"Risky\",\"Active\",\"Churned\"] , autopct='%0.f%%', colors=colors, shadow=True, startangle=90) #create pie chart\n",
    "\n",
    "\n",
    "#create donut from above pie chart\n",
    "circle = plt.Circle((0,0),0.65,fc='white') \n",
    "donut = plt.gcf()\n",
    "donut.gca().add_artist(circle)\n",
    "plt.axis('equal')\n",
    "plt.tight_layout()"
   ]
  },
  {
   "cell_type": "code",
   "execution_count": 418,
   "metadata": {},
   "outputs": [
    {
     "data": {
      "text/html": [
       "<div>\n",
       "<style scoped>\n",
       "    .dataframe tbody tr th:only-of-type {\n",
       "        vertical-align: middle;\n",
       "    }\n",
       "\n",
       "    .dataframe tbody tr th {\n",
       "        vertical-align: top;\n",
       "    }\n",
       "\n",
       "    .dataframe thead th {\n",
       "        text-align: right;\n",
       "    }\n",
       "</style>\n",
       "<table border=\"1\" class=\"dataframe\">\n",
       "  <thead>\n",
       "    <tr style=\"text-align: right;\">\n",
       "      <th></th>\n",
       "      <th>Recency</th>\n",
       "      <th>Frequency</th>\n",
       "      <th>Monetary</th>\n",
       "      <th>Q_Recency</th>\n",
       "      <th>Q_Frequency</th>\n",
       "      <th>Q_Monetary</th>\n",
       "      <th>Status</th>\n",
       "      <th>CustomerValue</th>\n",
       "    </tr>\n",
       "    <tr>\n",
       "      <th>Customer ID</th>\n",
       "      <th></th>\n",
       "      <th></th>\n",
       "      <th></th>\n",
       "      <th></th>\n",
       "      <th></th>\n",
       "      <th></th>\n",
       "      <th></th>\n",
       "      <th></th>\n",
       "    </tr>\n",
       "  </thead>\n",
       "  <tbody>\n",
       "    <tr>\n",
       "      <th>AA-10315</th>\n",
       "      <td>1265 days</td>\n",
       "      <td>11</td>\n",
       "      <td>5563.560</td>\n",
       "      <td>Q4</td>\n",
       "      <td>Q2</td>\n",
       "      <td>Q4</td>\n",
       "      <td>Churned</td>\n",
       "      <td>Gold</td>\n",
       "    </tr>\n",
       "    <tr>\n",
       "      <th>AA-10375</th>\n",
       "      <td>1100 days</td>\n",
       "      <td>15</td>\n",
       "      <td>1056.390</td>\n",
       "      <td>Q1</td>\n",
       "      <td>Q3</td>\n",
       "      <td>Q1</td>\n",
       "      <td>Active</td>\n",
       "      <td>Silver</td>\n",
       "    </tr>\n",
       "    <tr>\n",
       "      <th>AA-10480</th>\n",
       "      <td>1340 days</td>\n",
       "      <td>12</td>\n",
       "      <td>1790.512</td>\n",
       "      <td>Q4</td>\n",
       "      <td>Q2</td>\n",
       "      <td>Q2</td>\n",
       "      <td>Churned</td>\n",
       "      <td>Silver</td>\n",
       "    </tr>\n",
       "    <tr>\n",
       "      <th>AA-10645</th>\n",
       "      <td>1136 days</td>\n",
       "      <td>18</td>\n",
       "      <td>5086.935</td>\n",
       "      <td>Q2</td>\n",
       "      <td>Q4</td>\n",
       "      <td>Q4</td>\n",
       "      <td>Risky</td>\n",
       "      <td>Premium</td>\n",
       "    </tr>\n",
       "    <tr>\n",
       "      <th>AB-10015</th>\n",
       "      <td>1496 days</td>\n",
       "      <td>6</td>\n",
       "      <td>886.156</td>\n",
       "      <td>Q4</td>\n",
       "      <td>Q1</td>\n",
       "      <td>Q1</td>\n",
       "      <td>Churned</td>\n",
       "      <td></td>\n",
       "    </tr>\n",
       "  </tbody>\n",
       "</table>\n",
       "</div>"
      ],
      "text/plain": [
       "              Recency  Frequency  Monetary Q_Recency Q_Frequency Q_Monetary  \\\n",
       "Customer ID                                                                   \n",
       "AA-10315    1265 days         11  5563.560        Q4          Q2         Q4   \n",
       "AA-10375    1100 days         15  1056.390        Q1          Q3         Q1   \n",
       "AA-10480    1340 days         12  1790.512        Q4          Q2         Q2   \n",
       "AA-10645    1136 days         18  5086.935        Q2          Q4         Q4   \n",
       "AB-10015    1496 days          6   886.156        Q4          Q1         Q1   \n",
       "\n",
       "              Status CustomerValue  \n",
       "Customer ID                         \n",
       "AA-10315     Churned          Gold  \n",
       "AA-10375      Active        Silver  \n",
       "AA-10480     Churned        Silver  \n",
       "AA-10645       Risky       Premium  \n",
       "AB-10015     Churned                "
      ]
     },
     "execution_count": 418,
     "metadata": {},
     "output_type": "execute_result"
    }
   ],
   "source": [
    "grouped.head()            #########final table"
   ]
  },
  {
   "cell_type": "code",
   "execution_count": null,
   "metadata": {},
   "outputs": [],
   "source": []
  },
  {
   "cell_type": "code",
   "execution_count": null,
   "metadata": {},
   "outputs": [],
   "source": []
  }
 ],
 "metadata": {
  "kernelspec": {
   "display_name": "Python 3 (ipykernel)",
   "language": "python",
   "name": "python3"
  },
  "language_info": {
   "codemirror_mode": {
    "name": "ipython",
    "version": 3
   },
   "file_extension": ".py",
   "mimetype": "text/x-python",
   "name": "python",
   "nbconvert_exporter": "python",
   "pygments_lexer": "ipython3",
   "version": "3.11.5"
  },
  "varInspector": {
   "cols": {
    "lenName": 16,
    "lenType": 16,
    "lenVar": 40
   },
   "kernels_config": {
    "python": {
     "delete_cmd_postfix": "",
     "delete_cmd_prefix": "del ",
     "library": "var_list.py",
     "varRefreshCmd": "print(var_dic_list())"
    },
    "r": {
     "delete_cmd_postfix": ") ",
     "delete_cmd_prefix": "rm(",
     "library": "var_list.r",
     "varRefreshCmd": "cat(var_dic_list()) "
    }
   },
   "types_to_exclude": [
    "module",
    "function",
    "builtin_function_or_method",
    "instance",
    "_Feature"
   ],
   "window_display": false
  }
 },
 "nbformat": 4,
 "nbformat_minor": 4
}
