{
 "cells": [
  {
   "cell_type": "code",
   "execution_count": 1,
   "id": "4bfc9cc8",
   "metadata": {
    "ExecuteTime": {
     "end_time": "2024-02-07T16:33:41.004979Z",
     "start_time": "2024-02-07T16:33:31.657521Z"
    }
   },
   "outputs": [],
   "source": [
    "import numpy as np\n",
    "import pandas as pd\n",
    "\n",
    "import matplotlib.pyplot as plt\n",
    "import seaborn as sns\n",
    "\n",
    "%matplotlib inline\n",
    "\n",
    "import warnings\n",
    "warnings.filterwarnings('ignore') \n",
    "\n",
    "from sklearn.linear_model import LogisticRegression\n",
    "\n",
    "from statsmodels.api import Logit "
   ]
  },
  {
   "cell_type": "code",
   "execution_count": 2,
   "id": "68c73d29",
   "metadata": {
    "ExecuteTime": {
     "end_time": "2024-02-07T16:33:44.197740Z",
     "start_time": "2024-02-07T16:33:41.044845Z"
    }
   },
   "outputs": [
    {
     "data": {
      "text/html": [
       "<div>\n",
       "<style scoped>\n",
       "    .dataframe tbody tr th:only-of-type {\n",
       "        vertical-align: middle;\n",
       "    }\n",
       "\n",
       "    .dataframe tbody tr th {\n",
       "        vertical-align: top;\n",
       "    }\n",
       "\n",
       "    .dataframe thead th {\n",
       "        text-align: right;\n",
       "    }\n",
       "</style>\n",
       "<table border=\"1\" class=\"dataframe\">\n",
       "  <thead>\n",
       "    <tr style=\"text-align: right;\">\n",
       "      <th></th>\n",
       "      <th>Churn</th>\n",
       "      <th>AccountWeeks</th>\n",
       "      <th>ContractRenewal</th>\n",
       "      <th>DataPlan</th>\n",
       "      <th>DataUsage</th>\n",
       "      <th>CustServCalls</th>\n",
       "      <th>DayMins</th>\n",
       "      <th>DayCalls</th>\n",
       "      <th>MonthlyCharge</th>\n",
       "      <th>OverageFee</th>\n",
       "      <th>RoamMins</th>\n",
       "    </tr>\n",
       "  </thead>\n",
       "  <tbody>\n",
       "    <tr>\n",
       "      <th>0</th>\n",
       "      <td>1</td>\n",
       "      <td>108.0</td>\n",
       "      <td>0.0</td>\n",
       "      <td>0.0</td>\n",
       "      <td>0.38</td>\n",
       "      <td>2.0</td>\n",
       "      <td>115.1</td>\n",
       "      <td>114.0</td>\n",
       "      <td>41.8</td>\n",
       "      <td>10.57</td>\n",
       "      <td>13.8</td>\n",
       "    </tr>\n",
       "    <tr>\n",
       "      <th>1</th>\n",
       "      <td>0</td>\n",
       "      <td>113.0</td>\n",
       "      <td>1.0</td>\n",
       "      <td>1.0</td>\n",
       "      <td>3.59</td>\n",
       "      <td>1.0</td>\n",
       "      <td>44.9</td>\n",
       "      <td>63.0</td>\n",
       "      <td>55.9</td>\n",
       "      <td>6.71</td>\n",
       "      <td>13.3</td>\n",
       "    </tr>\n",
       "    <tr>\n",
       "      <th>2</th>\n",
       "      <td>0</td>\n",
       "      <td>101.0</td>\n",
       "      <td>1.0</td>\n",
       "      <td>0.0</td>\n",
       "      <td>0.00</td>\n",
       "      <td>0.0</td>\n",
       "      <td>257.3</td>\n",
       "      <td>84.0</td>\n",
       "      <td>60.0</td>\n",
       "      <td>9.24</td>\n",
       "      <td>13.5</td>\n",
       "    </tr>\n",
       "    <tr>\n",
       "      <th>3</th>\n",
       "      <td>0</td>\n",
       "      <td>80.0</td>\n",
       "      <td>1.0</td>\n",
       "      <td>1.0</td>\n",
       "      <td>2.89</td>\n",
       "      <td>4.0</td>\n",
       "      <td>166.4</td>\n",
       "      <td>92.0</td>\n",
       "      <td>77.9</td>\n",
       "      <td>11.92</td>\n",
       "      <td>10.7</td>\n",
       "    </tr>\n",
       "    <tr>\n",
       "      <th>4</th>\n",
       "      <td>0</td>\n",
       "      <td>70.0</td>\n",
       "      <td>1.0</td>\n",
       "      <td>0.0</td>\n",
       "      <td>0.00</td>\n",
       "      <td>0.0</td>\n",
       "      <td>175.4</td>\n",
       "      <td>130.0</td>\n",
       "      <td>44.0</td>\n",
       "      <td>7.98</td>\n",
       "      <td>11.6</td>\n",
       "    </tr>\n",
       "  </tbody>\n",
       "</table>\n",
       "</div>"
      ],
      "text/plain": [
       "   Churn  AccountWeeks  ContractRenewal  DataPlan  DataUsage  CustServCalls  \\\n",
       "0      1         108.0              0.0       0.0       0.38            2.0   \n",
       "1      0         113.0              1.0       1.0       3.59            1.0   \n",
       "2      0         101.0              1.0       0.0       0.00            0.0   \n",
       "3      0          80.0              1.0       1.0       2.89            4.0   \n",
       "4      0          70.0              1.0       0.0       0.00            0.0   \n",
       "\n",
       "   DayMins  DayCalls  MonthlyCharge  OverageFee  RoamMins  \n",
       "0    115.1     114.0           41.8       10.57      13.8  \n",
       "1     44.9      63.0           55.9        6.71      13.3  \n",
       "2    257.3      84.0           60.0        9.24      13.5  \n",
       "3    166.4      92.0           77.9       11.92      10.7  \n",
       "4    175.4     130.0           44.0        7.98      11.6  "
      ]
     },
     "execution_count": 2,
     "metadata": {},
     "output_type": "execute_result"
    }
   ],
   "source": [
    "df = pd.read_excel('Cellphone (2).xlsx') \n",
    "df.head() "
   ]
  },
  {
   "cell_type": "code",
   "execution_count": 15,
   "id": "1b210356",
   "metadata": {
    "ExecuteTime": {
     "end_time": "2024-02-07T16:44:18.126570Z",
     "start_time": "2024-02-07T16:44:18.110504Z"
    }
   },
   "outputs": [
    {
     "data": {
      "text/plain": [
       "Churn              0.000000\n",
       "AccountWeeks       0.900090\n",
       "ContractRenewal    0.540054\n",
       "DataPlan           0.270027\n",
       "DataUsage          0.480048\n",
       "CustServCalls      1.560156\n",
       "DayMins            1.050105\n",
       "DayCalls           0.330033\n",
       "MonthlyCharge      0.390039\n",
       "OverageFee         0.720072\n",
       "RoamMins           0.210021\n",
       "dtype: float64"
      ]
     },
     "execution_count": 15,
     "metadata": {},
     "output_type": "execute_result"
    }
   ],
   "source": [
    "df.isnull().sum()*100/len(df) "
   ]
  },
  {
   "cell_type": "code",
   "execution_count": 16,
   "id": "a9d79096",
   "metadata": {
    "ExecuteTime": {
     "end_time": "2024-02-07T16:44:44.243575Z",
     "start_time": "2024-02-07T16:44:44.233777Z"
    }
   },
   "outputs": [],
   "source": [
    "df.dropna(axis=0,inplace=True) "
   ]
  },
  {
   "cell_type": "code",
   "execution_count": 17,
   "id": "bae62aa6",
   "metadata": {
    "ExecuteTime": {
     "end_time": "2024-02-07T16:44:47.515046Z",
     "start_time": "2024-02-07T16:44:47.495201Z"
    },
    "scrolled": true
   },
   "outputs": [
    {
     "name": "stdout",
     "output_type": "stream",
     "text": [
      "<class 'pandas.core.frame.DataFrame'>\n",
      "Index: 3196 entries, 0 to 3332\n",
      "Data columns (total 11 columns):\n",
      " #   Column           Non-Null Count  Dtype  \n",
      "---  ------           --------------  -----  \n",
      " 0   Churn            3196 non-null   int64  \n",
      " 1   AccountWeeks     3196 non-null   float64\n",
      " 2   ContractRenewal  3196 non-null   float64\n",
      " 3   DataPlan         3196 non-null   float64\n",
      " 4   DataUsage        3196 non-null   float64\n",
      " 5   CustServCalls    3196 non-null   float64\n",
      " 6   DayMins          3196 non-null   float64\n",
      " 7   DayCalls         3196 non-null   float64\n",
      " 8   MonthlyCharge    3196 non-null   float64\n",
      " 9   OverageFee       3196 non-null   float64\n",
      " 10  RoamMins         3196 non-null   float64\n",
      "dtypes: float64(10), int64(1)\n",
      "memory usage: 299.6 KB\n"
     ]
    }
   ],
   "source": [
    "df.info()  "
   ]
  },
  {
   "cell_type": "code",
   "execution_count": 19,
   "id": "a4128670",
   "metadata": {
    "ExecuteTime": {
     "end_time": "2024-02-07T16:45:11.331415Z",
     "start_time": "2024-02-07T16:45:11.324061Z"
    }
   },
   "outputs": [],
   "source": [
    "from statsmodels.api import Logit "
   ]
  },
  {
   "cell_type": "code",
   "execution_count": 20,
   "id": "5a7a0094",
   "metadata": {
    "ExecuteTime": {
     "end_time": "2024-02-07T16:45:11.704340Z",
     "start_time": "2024-02-07T16:45:11.697558Z"
    }
   },
   "outputs": [],
   "source": [
    "from sklearn.linear_model import LogisticRegression"
   ]
  },
  {
   "cell_type": "code",
   "execution_count": 21,
   "id": "9aa29691",
   "metadata": {
    "ExecuteTime": {
     "end_time": "2024-02-07T16:45:12.121948Z",
     "start_time": "2024-02-07T16:45:12.114307Z"
    }
   },
   "outputs": [],
   "source": [
    "X=df.drop(\"Churn\",axis=1) \n",
    "y=df[\"Churn\"] "
   ]
  },
  {
   "cell_type": "code",
   "execution_count": 22,
   "id": "8e64e8cd",
   "metadata": {
    "ExecuteTime": {
     "end_time": "2024-02-07T16:45:13.361588Z",
     "start_time": "2024-02-07T16:45:13.355418Z"
    }
   },
   "outputs": [],
   "source": [
    "from sklearn.model_selection import train_test_split "
   ]
  },
  {
   "cell_type": "code",
   "execution_count": 23,
   "id": "dbe5a5ee",
   "metadata": {
    "ExecuteTime": {
     "end_time": "2024-02-07T16:45:14.167059Z",
     "start_time": "2024-02-07T16:45:14.156158Z"
    }
   },
   "outputs": [],
   "source": [
    "x_train,x_test,y_train,y_test=train_test_split(X,y,test_size=0.3,random_state=100) "
   ]
  },
  {
   "cell_type": "code",
   "execution_count": 24,
   "id": "2e1e1fc9",
   "metadata": {
    "ExecuteTime": {
     "end_time": "2024-02-07T16:45:15.088380Z",
     "start_time": "2024-02-07T16:45:15.041663Z"
    }
   },
   "outputs": [
    {
     "data": {
      "text/html": [
       "<div>\n",
       "<style scoped>\n",
       "    .dataframe tbody tr th:only-of-type {\n",
       "        vertical-align: middle;\n",
       "    }\n",
       "\n",
       "    .dataframe tbody tr th {\n",
       "        vertical-align: top;\n",
       "    }\n",
       "\n",
       "    .dataframe thead th {\n",
       "        text-align: right;\n",
       "    }\n",
       "</style>\n",
       "<table border=\"1\" class=\"dataframe\">\n",
       "  <thead>\n",
       "    <tr style=\"text-align: right;\">\n",
       "      <th></th>\n",
       "      <th>AccountWeeks</th>\n",
       "      <th>ContractRenewal</th>\n",
       "      <th>DataPlan</th>\n",
       "      <th>DataUsage</th>\n",
       "      <th>CustServCalls</th>\n",
       "      <th>DayMins</th>\n",
       "      <th>DayCalls</th>\n",
       "      <th>MonthlyCharge</th>\n",
       "      <th>OverageFee</th>\n",
       "      <th>RoamMins</th>\n",
       "    </tr>\n",
       "  </thead>\n",
       "  <tbody>\n",
       "    <tr>\n",
       "      <th>1311</th>\n",
       "      <td>105.0</td>\n",
       "      <td>1.0</td>\n",
       "      <td>1.0</td>\n",
       "      <td>2.62</td>\n",
       "      <td>2.0</td>\n",
       "      <td>88.1</td>\n",
       "      <td>125.0</td>\n",
       "      <td>56.2</td>\n",
       "      <td>8.80</td>\n",
       "      <td>9.7</td>\n",
       "    </tr>\n",
       "    <tr>\n",
       "      <th>2387</th>\n",
       "      <td>18.0</td>\n",
       "      <td>1.0</td>\n",
       "      <td>0.0</td>\n",
       "      <td>0.27</td>\n",
       "      <td>3.0</td>\n",
       "      <td>197.0</td>\n",
       "      <td>97.0</td>\n",
       "      <td>53.7</td>\n",
       "      <td>10.19</td>\n",
       "      <td>8.7</td>\n",
       "    </tr>\n",
       "    <tr>\n",
       "      <th>1563</th>\n",
       "      <td>111.0</td>\n",
       "      <td>1.0</td>\n",
       "      <td>0.0</td>\n",
       "      <td>0.00</td>\n",
       "      <td>4.0</td>\n",
       "      <td>176.9</td>\n",
       "      <td>128.0</td>\n",
       "      <td>39.0</td>\n",
       "      <td>5.14</td>\n",
       "      <td>10.5</td>\n",
       "    </tr>\n",
       "    <tr>\n",
       "      <th>2504</th>\n",
       "      <td>162.0</td>\n",
       "      <td>1.0</td>\n",
       "      <td>0.0</td>\n",
       "      <td>0.33</td>\n",
       "      <td>2.0</td>\n",
       "      <td>217.6</td>\n",
       "      <td>87.0</td>\n",
       "      <td>64.3</td>\n",
       "      <td>13.95</td>\n",
       "      <td>10.4</td>\n",
       "    </tr>\n",
       "    <tr>\n",
       "      <th>110</th>\n",
       "      <td>86.0</td>\n",
       "      <td>1.0</td>\n",
       "      <td>1.0</td>\n",
       "      <td>2.73</td>\n",
       "      <td>0.0</td>\n",
       "      <td>197.9</td>\n",
       "      <td>99.0</td>\n",
       "      <td>75.3</td>\n",
       "      <td>8.28</td>\n",
       "      <td>10.1</td>\n",
       "    </tr>\n",
       "    <tr>\n",
       "      <th>...</th>\n",
       "      <td>...</td>\n",
       "      <td>...</td>\n",
       "      <td>...</td>\n",
       "      <td>...</td>\n",
       "      <td>...</td>\n",
       "      <td>...</td>\n",
       "      <td>...</td>\n",
       "      <td>...</td>\n",
       "      <td>...</td>\n",
       "      <td>...</td>\n",
       "    </tr>\n",
       "    <tr>\n",
       "      <th>2020</th>\n",
       "      <td>63.0</td>\n",
       "      <td>1.0</td>\n",
       "      <td>0.0</td>\n",
       "      <td>0.37</td>\n",
       "      <td>0.0</td>\n",
       "      <td>211.2</td>\n",
       "      <td>80.0</td>\n",
       "      <td>60.7</td>\n",
       "      <td>11.89</td>\n",
       "      <td>12.3</td>\n",
       "    </tr>\n",
       "    <tr>\n",
       "      <th>85</th>\n",
       "      <td>118.0</td>\n",
       "      <td>1.0</td>\n",
       "      <td>0.0</td>\n",
       "      <td>0.00</td>\n",
       "      <td>2.0</td>\n",
       "      <td>253.2</td>\n",
       "      <td>122.0</td>\n",
       "      <td>61.0</td>\n",
       "      <td>10.05</td>\n",
       "      <td>9.7</td>\n",
       "    </tr>\n",
       "    <tr>\n",
       "      <th>1946</th>\n",
       "      <td>72.0</td>\n",
       "      <td>1.0</td>\n",
       "      <td>0.0</td>\n",
       "      <td>0.27</td>\n",
       "      <td>0.0</td>\n",
       "      <td>272.4</td>\n",
       "      <td>88.0</td>\n",
       "      <td>58.7</td>\n",
       "      <td>5.40</td>\n",
       "      <td>12.7</td>\n",
       "    </tr>\n",
       "    <tr>\n",
       "      <th>2965</th>\n",
       "      <td>62.0</td>\n",
       "      <td>1.0</td>\n",
       "      <td>0.0</td>\n",
       "      <td>0.00</td>\n",
       "      <td>2.0</td>\n",
       "      <td>86.3</td>\n",
       "      <td>84.0</td>\n",
       "      <td>35.0</td>\n",
       "      <td>11.94</td>\n",
       "      <td>12.5</td>\n",
       "    </tr>\n",
       "    <tr>\n",
       "      <th>1620</th>\n",
       "      <td>146.0</td>\n",
       "      <td>1.0</td>\n",
       "      <td>0.0</td>\n",
       "      <td>0.00</td>\n",
       "      <td>3.0</td>\n",
       "      <td>195.9</td>\n",
       "      <td>86.0</td>\n",
       "      <td>53.0</td>\n",
       "      <td>11.43</td>\n",
       "      <td>12.2</td>\n",
       "    </tr>\n",
       "  </tbody>\n",
       "</table>\n",
       "<p>2237 rows × 10 columns</p>\n",
       "</div>"
      ],
      "text/plain": [
       "      AccountWeeks  ContractRenewal  DataPlan  DataUsage  CustServCalls  \\\n",
       "1311         105.0              1.0       1.0       2.62            2.0   \n",
       "2387          18.0              1.0       0.0       0.27            3.0   \n",
       "1563         111.0              1.0       0.0       0.00            4.0   \n",
       "2504         162.0              1.0       0.0       0.33            2.0   \n",
       "110           86.0              1.0       1.0       2.73            0.0   \n",
       "...            ...              ...       ...        ...            ...   \n",
       "2020          63.0              1.0       0.0       0.37            0.0   \n",
       "85           118.0              1.0       0.0       0.00            2.0   \n",
       "1946          72.0              1.0       0.0       0.27            0.0   \n",
       "2965          62.0              1.0       0.0       0.00            2.0   \n",
       "1620         146.0              1.0       0.0       0.00            3.0   \n",
       "\n",
       "      DayMins  DayCalls  MonthlyCharge  OverageFee  RoamMins  \n",
       "1311     88.1     125.0           56.2        8.80       9.7  \n",
       "2387    197.0      97.0           53.7       10.19       8.7  \n",
       "1563    176.9     128.0           39.0        5.14      10.5  \n",
       "2504    217.6      87.0           64.3       13.95      10.4  \n",
       "110     197.9      99.0           75.3        8.28      10.1  \n",
       "...       ...       ...            ...         ...       ...  \n",
       "2020    211.2      80.0           60.7       11.89      12.3  \n",
       "85      253.2     122.0           61.0       10.05       9.7  \n",
       "1946    272.4      88.0           58.7        5.40      12.7  \n",
       "2965     86.3      84.0           35.0       11.94      12.5  \n",
       "1620    195.9      86.0           53.0       11.43      12.2  \n",
       "\n",
       "[2237 rows x 10 columns]"
      ]
     },
     "execution_count": 24,
     "metadata": {},
     "output_type": "execute_result"
    }
   ],
   "source": [
    "x_train"
   ]
  },
  {
   "cell_type": "code",
   "execution_count": 25,
   "id": "d841090d",
   "metadata": {
    "ExecuteTime": {
     "end_time": "2024-02-07T16:45:15.636780Z",
     "start_time": "2024-02-07T16:45:15.630549Z"
    }
   },
   "outputs": [],
   "source": [
    "model=LogisticRegression(solver=\"newton-cg\",max_iter=10000,n_jobs=-1) "
   ]
  },
  {
   "cell_type": "code",
   "execution_count": 26,
   "id": "898f1b54",
   "metadata": {
    "ExecuteTime": {
     "end_time": "2024-02-07T16:45:18.581481Z",
     "start_time": "2024-02-07T16:45:16.497224Z"
    }
   },
   "outputs": [
    {
     "data": {
      "text/html": [
       "<style>#sk-container-id-1 {color: black;}#sk-container-id-1 pre{padding: 0;}#sk-container-id-1 div.sk-toggleable {background-color: white;}#sk-container-id-1 label.sk-toggleable__label {cursor: pointer;display: block;width: 100%;margin-bottom: 0;padding: 0.3em;box-sizing: border-box;text-align: center;}#sk-container-id-1 label.sk-toggleable__label-arrow:before {content: \"▸\";float: left;margin-right: 0.25em;color: #696969;}#sk-container-id-1 label.sk-toggleable__label-arrow:hover:before {color: black;}#sk-container-id-1 div.sk-estimator:hover label.sk-toggleable__label-arrow:before {color: black;}#sk-container-id-1 div.sk-toggleable__content {max-height: 0;max-width: 0;overflow: hidden;text-align: left;background-color: #f0f8ff;}#sk-container-id-1 div.sk-toggleable__content pre {margin: 0.2em;color: black;border-radius: 0.25em;background-color: #f0f8ff;}#sk-container-id-1 input.sk-toggleable__control:checked~div.sk-toggleable__content {max-height: 200px;max-width: 100%;overflow: auto;}#sk-container-id-1 input.sk-toggleable__control:checked~label.sk-toggleable__label-arrow:before {content: \"▾\";}#sk-container-id-1 div.sk-estimator input.sk-toggleable__control:checked~label.sk-toggleable__label {background-color: #d4ebff;}#sk-container-id-1 div.sk-label input.sk-toggleable__control:checked~label.sk-toggleable__label {background-color: #d4ebff;}#sk-container-id-1 input.sk-hidden--visually {border: 0;clip: rect(1px 1px 1px 1px);clip: rect(1px, 1px, 1px, 1px);height: 1px;margin: -1px;overflow: hidden;padding: 0;position: absolute;width: 1px;}#sk-container-id-1 div.sk-estimator {font-family: monospace;background-color: #f0f8ff;border: 1px dotted black;border-radius: 0.25em;box-sizing: border-box;margin-bottom: 0.5em;}#sk-container-id-1 div.sk-estimator:hover {background-color: #d4ebff;}#sk-container-id-1 div.sk-parallel-item::after {content: \"\";width: 100%;border-bottom: 1px solid gray;flex-grow: 1;}#sk-container-id-1 div.sk-label:hover label.sk-toggleable__label {background-color: #d4ebff;}#sk-container-id-1 div.sk-serial::before {content: \"\";position: absolute;border-left: 1px solid gray;box-sizing: border-box;top: 0;bottom: 0;left: 50%;z-index: 0;}#sk-container-id-1 div.sk-serial {display: flex;flex-direction: column;align-items: center;background-color: white;padding-right: 0.2em;padding-left: 0.2em;position: relative;}#sk-container-id-1 div.sk-item {position: relative;z-index: 1;}#sk-container-id-1 div.sk-parallel {display: flex;align-items: stretch;justify-content: center;background-color: white;position: relative;}#sk-container-id-1 div.sk-item::before, #sk-container-id-1 div.sk-parallel-item::before {content: \"\";position: absolute;border-left: 1px solid gray;box-sizing: border-box;top: 0;bottom: 0;left: 50%;z-index: -1;}#sk-container-id-1 div.sk-parallel-item {display: flex;flex-direction: column;z-index: 1;position: relative;background-color: white;}#sk-container-id-1 div.sk-parallel-item:first-child::after {align-self: flex-end;width: 50%;}#sk-container-id-1 div.sk-parallel-item:last-child::after {align-self: flex-start;width: 50%;}#sk-container-id-1 div.sk-parallel-item:only-child::after {width: 0;}#sk-container-id-1 div.sk-dashed-wrapped {border: 1px dashed gray;margin: 0 0.4em 0.5em 0.4em;box-sizing: border-box;padding-bottom: 0.4em;background-color: white;}#sk-container-id-1 div.sk-label label {font-family: monospace;font-weight: bold;display: inline-block;line-height: 1.2em;}#sk-container-id-1 div.sk-label-container {text-align: center;}#sk-container-id-1 div.sk-container {/* jupyter's `normalize.less` sets `[hidden] { display: none; }` but bootstrap.min.css set `[hidden] { display: none !important; }` so we also need the `!important` here to be able to override the default hidden behavior on the sphinx rendered scikit-learn.org. See: https://github.com/scikit-learn/scikit-learn/issues/21755 */display: inline-block !important;position: relative;}#sk-container-id-1 div.sk-text-repr-fallback {display: none;}</style><div id=\"sk-container-id-1\" class=\"sk-top-container\"><div class=\"sk-text-repr-fallback\"><pre>LogisticRegression(max_iter=10000, n_jobs=-1, solver=&#x27;newton-cg&#x27;)</pre><b>In a Jupyter environment, please rerun this cell to show the HTML representation or trust the notebook. <br />On GitHub, the HTML representation is unable to render, please try loading this page with nbviewer.org.</b></div><div class=\"sk-container\" hidden><div class=\"sk-item\"><div class=\"sk-estimator sk-toggleable\"><input class=\"sk-toggleable__control sk-hidden--visually\" id=\"sk-estimator-id-1\" type=\"checkbox\" checked><label for=\"sk-estimator-id-1\" class=\"sk-toggleable__label sk-toggleable__label-arrow\">LogisticRegression</label><div class=\"sk-toggleable__content\"><pre>LogisticRegression(max_iter=10000, n_jobs=-1, solver=&#x27;newton-cg&#x27;)</pre></div></div></div></div></div>"
      ],
      "text/plain": [
       "LogisticRegression(max_iter=10000, n_jobs=-1, solver='newton-cg')"
      ]
     },
     "execution_count": 26,
     "metadata": {},
     "output_type": "execute_result"
    }
   ],
   "source": [
    "model.fit(x_train,y_train) "
   ]
  },
  {
   "cell_type": "code",
   "execution_count": 29,
   "id": "3372b5a1",
   "metadata": {
    "ExecuteTime": {
     "end_time": "2024-02-07T16:55:25.617246Z",
     "start_time": "2024-02-07T16:55:25.607379Z"
    }
   },
   "outputs": [],
   "source": [
    "prd=model.predict(x_test) \n"
   ]
  },
  {
   "cell_type": "code",
   "execution_count": 30,
   "id": "4b13edc4",
   "metadata": {
    "ExecuteTime": {
     "end_time": "2024-02-07T16:56:17.125705Z",
     "start_time": "2024-02-07T16:56:17.100550Z"
    }
   },
   "outputs": [
    {
     "data": {
      "text/html": [
       "<div>\n",
       "<style scoped>\n",
       "    .dataframe tbody tr th:only-of-type {\n",
       "        vertical-align: middle;\n",
       "    }\n",
       "\n",
       "    .dataframe tbody tr th {\n",
       "        vertical-align: top;\n",
       "    }\n",
       "\n",
       "    .dataframe thead th {\n",
       "        text-align: right;\n",
       "    }\n",
       "</style>\n",
       "<table border=\"1\" class=\"dataframe\">\n",
       "  <thead>\n",
       "    <tr style=\"text-align: right;\">\n",
       "      <th></th>\n",
       "      <th>0</th>\n",
       "      <th>1</th>\n",
       "    </tr>\n",
       "  </thead>\n",
       "  <tbody>\n",
       "    <tr>\n",
       "      <th>0</th>\n",
       "      <td>0.848820</td>\n",
       "      <td>0.151180</td>\n",
       "    </tr>\n",
       "    <tr>\n",
       "      <th>1</th>\n",
       "      <td>0.975918</td>\n",
       "      <td>0.024082</td>\n",
       "    </tr>\n",
       "    <tr>\n",
       "      <th>2</th>\n",
       "      <td>0.859715</td>\n",
       "      <td>0.140285</td>\n",
       "    </tr>\n",
       "    <tr>\n",
       "      <th>3</th>\n",
       "      <td>0.867425</td>\n",
       "      <td>0.132575</td>\n",
       "    </tr>\n",
       "    <tr>\n",
       "      <th>4</th>\n",
       "      <td>0.876507</td>\n",
       "      <td>0.123493</td>\n",
       "    </tr>\n",
       "    <tr>\n",
       "      <th>...</th>\n",
       "      <td>...</td>\n",
       "      <td>...</td>\n",
       "    </tr>\n",
       "    <tr>\n",
       "      <th>954</th>\n",
       "      <td>0.990905</td>\n",
       "      <td>0.009095</td>\n",
       "    </tr>\n",
       "    <tr>\n",
       "      <th>955</th>\n",
       "      <td>0.936140</td>\n",
       "      <td>0.063860</td>\n",
       "    </tr>\n",
       "    <tr>\n",
       "      <th>956</th>\n",
       "      <td>0.787722</td>\n",
       "      <td>0.212278</td>\n",
       "    </tr>\n",
       "    <tr>\n",
       "      <th>957</th>\n",
       "      <td>0.744808</td>\n",
       "      <td>0.255192</td>\n",
       "    </tr>\n",
       "    <tr>\n",
       "      <th>958</th>\n",
       "      <td>0.771222</td>\n",
       "      <td>0.228778</td>\n",
       "    </tr>\n",
       "  </tbody>\n",
       "</table>\n",
       "<p>959 rows × 2 columns</p>\n",
       "</div>"
      ],
      "text/plain": [
       "            0         1\n",
       "0    0.848820  0.151180\n",
       "1    0.975918  0.024082\n",
       "2    0.859715  0.140285\n",
       "3    0.867425  0.132575\n",
       "4    0.876507  0.123493\n",
       "..        ...       ...\n",
       "954  0.990905  0.009095\n",
       "955  0.936140  0.063860\n",
       "956  0.787722  0.212278\n",
       "957  0.744808  0.255192\n",
       "958  0.771222  0.228778\n",
       "\n",
       "[959 rows x 2 columns]"
      ]
     },
     "execution_count": 30,
     "metadata": {},
     "output_type": "execute_result"
    }
   ],
   "source": [
    "pd.DataFrame(model.predict_proba(x_test))"
   ]
  },
  {
   "cell_type": "code",
   "execution_count": 31,
   "id": "e8c51bf0",
   "metadata": {
    "ExecuteTime": {
     "end_time": "2024-02-07T16:56:56.515329Z",
     "start_time": "2024-02-07T16:56:56.508664Z"
    }
   },
   "outputs": [],
   "source": [
    "from sklearn import metrics "
   ]
  },
  {
   "cell_type": "code",
   "execution_count": 32,
   "id": "ca538173",
   "metadata": {
    "ExecuteTime": {
     "end_time": "2024-02-07T16:57:52.756081Z",
     "start_time": "2024-02-07T16:57:52.738864Z"
    }
   },
   "outputs": [
    {
     "data": {
      "text/plain": [
       "array([[791,  20],\n",
       "       [122,  26]], dtype=int64)"
      ]
     },
     "execution_count": 32,
     "metadata": {},
     "output_type": "execute_result"
    }
   ],
   "source": [
    "metrics.confusion_matrix(y_test,prd) "
   ]
  },
  {
   "cell_type": "code",
   "execution_count": 33,
   "id": "dd8216ac",
   "metadata": {
    "ExecuteTime": {
     "end_time": "2024-02-07T16:58:55.747628Z",
     "start_time": "2024-02-07T16:58:55.711907Z"
    }
   },
   "outputs": [
    {
     "name": "stdout",
     "output_type": "stream",
     "text": [
      "              precision    recall  f1-score   support\n",
      "\n",
      "           0       0.87      0.98      0.92       811\n",
      "           1       0.57      0.18      0.27       148\n",
      "\n",
      "    accuracy                           0.85       959\n",
      "   macro avg       0.72      0.58      0.59       959\n",
      "weighted avg       0.82      0.85      0.82       959\n",
      "\n"
     ]
    }
   ],
   "source": [
    "print(metrics.classification_report(y_test,prd)) "
   ]
  },
  {
   "cell_type": "code",
   "execution_count": 34,
   "id": "d9300d78",
   "metadata": {
    "ExecuteTime": {
     "end_time": "2024-02-07T17:02:12.585182Z",
     "start_time": "2024-02-07T17:02:12.576511Z"
    }
   },
   "outputs": [],
   "source": [
    "model=LogisticRegression(solver='newton-cg',max_iter=10000,n_jobs=-1,class_weight={0:0.18,1:0.98}) "
   ]
  },
  {
   "cell_type": "code",
   "execution_count": 38,
   "id": "750a5d4d",
   "metadata": {
    "ExecuteTime": {
     "end_time": "2024-02-07T17:04:26.365132Z",
     "start_time": "2024-02-07T17:04:24.416720Z"
    }
   },
   "outputs": [
    {
     "data": {
      "text/html": [
       "<style>#sk-container-id-2 {color: black;}#sk-container-id-2 pre{padding: 0;}#sk-container-id-2 div.sk-toggleable {background-color: white;}#sk-container-id-2 label.sk-toggleable__label {cursor: pointer;display: block;width: 100%;margin-bottom: 0;padding: 0.3em;box-sizing: border-box;text-align: center;}#sk-container-id-2 label.sk-toggleable__label-arrow:before {content: \"▸\";float: left;margin-right: 0.25em;color: #696969;}#sk-container-id-2 label.sk-toggleable__label-arrow:hover:before {color: black;}#sk-container-id-2 div.sk-estimator:hover label.sk-toggleable__label-arrow:before {color: black;}#sk-container-id-2 div.sk-toggleable__content {max-height: 0;max-width: 0;overflow: hidden;text-align: left;background-color: #f0f8ff;}#sk-container-id-2 div.sk-toggleable__content pre {margin: 0.2em;color: black;border-radius: 0.25em;background-color: #f0f8ff;}#sk-container-id-2 input.sk-toggleable__control:checked~div.sk-toggleable__content {max-height: 200px;max-width: 100%;overflow: auto;}#sk-container-id-2 input.sk-toggleable__control:checked~label.sk-toggleable__label-arrow:before {content: \"▾\";}#sk-container-id-2 div.sk-estimator input.sk-toggleable__control:checked~label.sk-toggleable__label {background-color: #d4ebff;}#sk-container-id-2 div.sk-label input.sk-toggleable__control:checked~label.sk-toggleable__label {background-color: #d4ebff;}#sk-container-id-2 input.sk-hidden--visually {border: 0;clip: rect(1px 1px 1px 1px);clip: rect(1px, 1px, 1px, 1px);height: 1px;margin: -1px;overflow: hidden;padding: 0;position: absolute;width: 1px;}#sk-container-id-2 div.sk-estimator {font-family: monospace;background-color: #f0f8ff;border: 1px dotted black;border-radius: 0.25em;box-sizing: border-box;margin-bottom: 0.5em;}#sk-container-id-2 div.sk-estimator:hover {background-color: #d4ebff;}#sk-container-id-2 div.sk-parallel-item::after {content: \"\";width: 100%;border-bottom: 1px solid gray;flex-grow: 1;}#sk-container-id-2 div.sk-label:hover label.sk-toggleable__label {background-color: #d4ebff;}#sk-container-id-2 div.sk-serial::before {content: \"\";position: absolute;border-left: 1px solid gray;box-sizing: border-box;top: 0;bottom: 0;left: 50%;z-index: 0;}#sk-container-id-2 div.sk-serial {display: flex;flex-direction: column;align-items: center;background-color: white;padding-right: 0.2em;padding-left: 0.2em;position: relative;}#sk-container-id-2 div.sk-item {position: relative;z-index: 1;}#sk-container-id-2 div.sk-parallel {display: flex;align-items: stretch;justify-content: center;background-color: white;position: relative;}#sk-container-id-2 div.sk-item::before, #sk-container-id-2 div.sk-parallel-item::before {content: \"\";position: absolute;border-left: 1px solid gray;box-sizing: border-box;top: 0;bottom: 0;left: 50%;z-index: -1;}#sk-container-id-2 div.sk-parallel-item {display: flex;flex-direction: column;z-index: 1;position: relative;background-color: white;}#sk-container-id-2 div.sk-parallel-item:first-child::after {align-self: flex-end;width: 50%;}#sk-container-id-2 div.sk-parallel-item:last-child::after {align-self: flex-start;width: 50%;}#sk-container-id-2 div.sk-parallel-item:only-child::after {width: 0;}#sk-container-id-2 div.sk-dashed-wrapped {border: 1px dashed gray;margin: 0 0.4em 0.5em 0.4em;box-sizing: border-box;padding-bottom: 0.4em;background-color: white;}#sk-container-id-2 div.sk-label label {font-family: monospace;font-weight: bold;display: inline-block;line-height: 1.2em;}#sk-container-id-2 div.sk-label-container {text-align: center;}#sk-container-id-2 div.sk-container {/* jupyter's `normalize.less` sets `[hidden] { display: none; }` but bootstrap.min.css set `[hidden] { display: none !important; }` so we also need the `!important` here to be able to override the default hidden behavior on the sphinx rendered scikit-learn.org. See: https://github.com/scikit-learn/scikit-learn/issues/21755 */display: inline-block !important;position: relative;}#sk-container-id-2 div.sk-text-repr-fallback {display: none;}</style><div id=\"sk-container-id-2\" class=\"sk-top-container\"><div class=\"sk-text-repr-fallback\"><pre>LogisticRegression(class_weight={0: 0.18, 1: 0.98}, max_iter=10000, n_jobs=-1,\n",
       "                   solver=&#x27;newton-cg&#x27;)</pre><b>In a Jupyter environment, please rerun this cell to show the HTML representation or trust the notebook. <br />On GitHub, the HTML representation is unable to render, please try loading this page with nbviewer.org.</b></div><div class=\"sk-container\" hidden><div class=\"sk-item\"><div class=\"sk-estimator sk-toggleable\"><input class=\"sk-toggleable__control sk-hidden--visually\" id=\"sk-estimator-id-2\" type=\"checkbox\" checked><label for=\"sk-estimator-id-2\" class=\"sk-toggleable__label sk-toggleable__label-arrow\">LogisticRegression</label><div class=\"sk-toggleable__content\"><pre>LogisticRegression(class_weight={0: 0.18, 1: 0.98}, max_iter=10000, n_jobs=-1,\n",
       "                   solver=&#x27;newton-cg&#x27;)</pre></div></div></div></div></div>"
      ],
      "text/plain": [
       "LogisticRegression(class_weight={0: 0.18, 1: 0.98}, max_iter=10000, n_jobs=-1,\n",
       "                   solver='newton-cg')"
      ]
     },
     "execution_count": 38,
     "metadata": {},
     "output_type": "execute_result"
    }
   ],
   "source": [
    "model.fit(x_train,y_train)  "
   ]
  },
  {
   "cell_type": "code",
   "execution_count": 39,
   "id": "7d31b1c2",
   "metadata": {
    "ExecuteTime": {
     "end_time": "2024-02-07T17:04:36.138601Z",
     "start_time": "2024-02-07T17:04:36.129437Z"
    }
   },
   "outputs": [],
   "source": [
    "prd=model.predict(x_test) "
   ]
  },
  {
   "cell_type": "code",
   "execution_count": 40,
   "id": "57b7d602",
   "metadata": {
    "ExecuteTime": {
     "end_time": "2024-02-07T17:05:21.520433Z",
     "start_time": "2024-02-07T17:05:21.497089Z"
    }
   },
   "outputs": [
    {
     "data": {
      "text/html": [
       "<div>\n",
       "<style scoped>\n",
       "    .dataframe tbody tr th:only-of-type {\n",
       "        vertical-align: middle;\n",
       "    }\n",
       "\n",
       "    .dataframe tbody tr th {\n",
       "        vertical-align: top;\n",
       "    }\n",
       "\n",
       "    .dataframe thead th {\n",
       "        text-align: right;\n",
       "    }\n",
       "</style>\n",
       "<table border=\"1\" class=\"dataframe\">\n",
       "  <thead>\n",
       "    <tr style=\"text-align: right;\">\n",
       "      <th></th>\n",
       "      <th>0</th>\n",
       "      <th>1</th>\n",
       "    </tr>\n",
       "  </thead>\n",
       "  <tbody>\n",
       "    <tr>\n",
       "      <th>0</th>\n",
       "      <td>0.574554</td>\n",
       "      <td>0.425446</td>\n",
       "    </tr>\n",
       "    <tr>\n",
       "      <th>1</th>\n",
       "      <td>0.889568</td>\n",
       "      <td>0.110432</td>\n",
       "    </tr>\n",
       "    <tr>\n",
       "      <th>2</th>\n",
       "      <td>0.585237</td>\n",
       "      <td>0.414763</td>\n",
       "    </tr>\n",
       "    <tr>\n",
       "      <th>3</th>\n",
       "      <td>0.496140</td>\n",
       "      <td>0.503860</td>\n",
       "    </tr>\n",
       "    <tr>\n",
       "      <th>4</th>\n",
       "      <td>0.567836</td>\n",
       "      <td>0.432164</td>\n",
       "    </tr>\n",
       "    <tr>\n",
       "      <th>...</th>\n",
       "      <td>...</td>\n",
       "      <td>...</td>\n",
       "    </tr>\n",
       "    <tr>\n",
       "      <th>954</th>\n",
       "      <td>0.966407</td>\n",
       "      <td>0.033593</td>\n",
       "    </tr>\n",
       "    <tr>\n",
       "      <th>955</th>\n",
       "      <td>0.760731</td>\n",
       "      <td>0.239269</td>\n",
       "    </tr>\n",
       "    <tr>\n",
       "      <th>956</th>\n",
       "      <td>0.408769</td>\n",
       "      <td>0.591231</td>\n",
       "    </tr>\n",
       "    <tr>\n",
       "      <th>957</th>\n",
       "      <td>0.362745</td>\n",
       "      <td>0.637255</td>\n",
       "    </tr>\n",
       "    <tr>\n",
       "      <th>958</th>\n",
       "      <td>0.368295</td>\n",
       "      <td>0.631705</td>\n",
       "    </tr>\n",
       "  </tbody>\n",
       "</table>\n",
       "<p>959 rows × 2 columns</p>\n",
       "</div>"
      ],
      "text/plain": [
       "            0         1\n",
       "0    0.574554  0.425446\n",
       "1    0.889568  0.110432\n",
       "2    0.585237  0.414763\n",
       "3    0.496140  0.503860\n",
       "4    0.567836  0.432164\n",
       "..        ...       ...\n",
       "954  0.966407  0.033593\n",
       "955  0.760731  0.239269\n",
       "956  0.408769  0.591231\n",
       "957  0.362745  0.637255\n",
       "958  0.368295  0.631705\n",
       "\n",
       "[959 rows x 2 columns]"
      ]
     },
     "execution_count": 40,
     "metadata": {},
     "output_type": "execute_result"
    }
   ],
   "source": [
    "pd.DataFrame(model.predict_proba(x_test)) "
   ]
  },
  {
   "cell_type": "code",
   "execution_count": 41,
   "id": "e143a8cb",
   "metadata": {
    "ExecuteTime": {
     "end_time": "2024-02-07T17:05:34.326175Z",
     "start_time": "2024-02-07T17:05:34.312170Z"
    },
    "scrolled": true
   },
   "outputs": [
    {
     "data": {
      "text/plain": [
       "array([[622, 189],\n",
       "       [ 38, 110]], dtype=int64)"
      ]
     },
     "execution_count": 41,
     "metadata": {},
     "output_type": "execute_result"
    }
   ],
   "source": [
    "metrics.confusion_matrix(y_test,prd)  #After class balance"
   ]
  },
  {
   "cell_type": "code",
   "execution_count": 42,
   "id": "8b43764f",
   "metadata": {
    "ExecuteTime": {
     "end_time": "2024-02-07T17:08:42.595132Z",
     "start_time": "2024-02-07T17:08:42.564775Z"
    }
   },
   "outputs": [
    {
     "name": "stdout",
     "output_type": "stream",
     "text": [
      "              precision    recall  f1-score   support\n",
      "\n",
      "           0       0.94      0.77      0.85       811\n",
      "           1       0.37      0.74      0.49       148\n",
      "\n",
      "    accuracy                           0.76       959\n",
      "   macro avg       0.66      0.76      0.67       959\n",
      "weighted avg       0.85      0.76      0.79       959\n",
      "\n"
     ]
    }
   ],
   "source": [
    "print(metrics.classification_report(y_test,prd)) "
   ]
  },
  {
   "cell_type": "code",
   "execution_count": 43,
   "id": "a6340567",
   "metadata": {
    "ExecuteTime": {
     "end_time": "2024-02-07T17:09:48.308775Z",
     "start_time": "2024-02-07T17:09:48.275994Z"
    }
   },
   "outputs": [],
   "source": [
    "prd_tst=model.predict(x_train) "
   ]
  },
  {
   "cell_type": "code",
   "execution_count": 45,
   "id": "5ddcd740",
   "metadata": {
    "ExecuteTime": {
     "end_time": "2024-02-07T17:10:29.448595Z",
     "start_time": "2024-02-07T17:10:29.412220Z"
    }
   },
   "outputs": [
    {
     "name": "stdout",
     "output_type": "stream",
     "text": [
      "              precision    recall  f1-score   support\n",
      "\n",
      "           0       0.95      0.80      0.87      1920\n",
      "           1       0.38      0.74      0.50       317\n",
      "\n",
      "    accuracy                           0.79      2237\n",
      "   macro avg       0.66      0.77      0.68      2237\n",
      "weighted avg       0.87      0.79      0.82      2237\n",
      "\n"
     ]
    }
   ],
   "source": [
    "print(metrics.classification_report(y_train,prd_tst))  #train Classification.report "
   ]
  },
  {
   "cell_type": "code",
   "execution_count": 46,
   "id": "04c68b96",
   "metadata": {
    "ExecuteTime": {
     "end_time": "2024-02-07T17:12:04.881354Z",
     "start_time": "2024-02-07T17:12:04.871362Z"
    }
   },
   "outputs": [
    {
     "data": {
      "text/plain": [
       "array([-3.72247991])"
      ]
     },
     "execution_count": 46,
     "metadata": {},
     "output_type": "execute_result"
    }
   ],
   "source": [
    "model.intercept_ "
   ]
  },
  {
   "cell_type": "code",
   "execution_count": 50,
   "id": "1b02845d",
   "metadata": {
    "ExecuteTime": {
     "end_time": "2024-02-07T17:14:07.194998Z",
     "start_time": "2024-02-07T17:14:07.185562Z"
    }
   },
   "outputs": [
    {
     "data": {
      "text/plain": [
       "array([[ 1.62501227e-03, -2.15225569e+00, -9.49766629e-01,\n",
       "         9.01612912e-02,  6.11240389e-01,  1.41211062e-02,\n",
       "         1.00392108e-03, -6.53909471e-03,  1.30558643e-01,\n",
       "         4.85141205e-02]])"
      ]
     },
     "execution_count": 50,
     "metadata": {},
     "output_type": "execute_result"
    }
   ],
   "source": [
    "model.coef_ "
   ]
  },
  {
   "cell_type": "code",
   "execution_count": null,
   "id": "a8252577",
   "metadata": {},
   "outputs": [],
   "source": []
  },
  {
   "cell_type": "code",
   "execution_count": null,
   "id": "b3b43a33",
   "metadata": {},
   "outputs": [],
   "source": []
  },
  {
   "cell_type": "code",
   "execution_count": null,
   "id": "fb411c04",
   "metadata": {},
   "outputs": [],
   "source": []
  },
  {
   "cell_type": "code",
   "execution_count": null,
   "id": "7e66cc34",
   "metadata": {},
   "outputs": [],
   "source": []
  },
  {
   "cell_type": "code",
   "execution_count": 5,
   "id": "5a56cf39",
   "metadata": {
    "ExecuteTime": {
     "end_time": "2024-02-07T16:35:23.837221Z",
     "start_time": "2024-02-07T16:35:23.828889Z"
    }
   },
   "outputs": [],
   "source": [
    "X = df.drop('Churn', axis=1)\n",
    "y = df['Churn']  "
   ]
  },
  {
   "cell_type": "code",
   "execution_count": 7,
   "id": "d8d0b742",
   "metadata": {
    "ExecuteTime": {
     "end_time": "2024-01-31T14:02:47.589470Z",
     "start_time": "2024-01-31T14:02:47.569186Z"
    }
   },
   "outputs": [],
   "source": [
    "from sklearn.model_selection import train_test_split\n",
    "\n",
    "x_train, x_test, y_train, y_test = train_test_split(X, y, random_state=42, test_size=0.3)"
   ]
  },
  {
   "cell_type": "code",
   "execution_count": 20,
   "id": "b89b0d1e",
   "metadata": {
    "ExecuteTime": {
     "end_time": "2024-01-31T14:35:05.012551Z",
     "start_time": "2024-01-31T14:35:04.995241Z"
    }
   },
   "outputs": [],
   "source": [
    "model = LogisticRegression(solver='newton-cg', max_iter=10000, n_jobs=-1, \n",
    "                              class_weight={0: 0.15, 1: 0.85})"
   ]
  },
  {
   "cell_type": "code",
   "execution_count": 21,
   "id": "e669bf3e",
   "metadata": {
    "ExecuteTime": {
     "end_time": "2024-01-31T14:35:10.642801Z",
     "start_time": "2024-01-31T14:35:06.144815Z"
    }
   },
   "outputs": [
    {
     "data": {
      "text/html": [
       "<style>#sk-container-id-2 {color: black;background-color: white;}#sk-container-id-2 pre{padding: 0;}#sk-container-id-2 div.sk-toggleable {background-color: white;}#sk-container-id-2 label.sk-toggleable__label {cursor: pointer;display: block;width: 100%;margin-bottom: 0;padding: 0.3em;box-sizing: border-box;text-align: center;}#sk-container-id-2 label.sk-toggleable__label-arrow:before {content: \"▸\";float: left;margin-right: 0.25em;color: #696969;}#sk-container-id-2 label.sk-toggleable__label-arrow:hover:before {color: black;}#sk-container-id-2 div.sk-estimator:hover label.sk-toggleable__label-arrow:before {color: black;}#sk-container-id-2 div.sk-toggleable__content {max-height: 0;max-width: 0;overflow: hidden;text-align: left;background-color: #f0f8ff;}#sk-container-id-2 div.sk-toggleable__content pre {margin: 0.2em;color: black;border-radius: 0.25em;background-color: #f0f8ff;}#sk-container-id-2 input.sk-toggleable__control:checked~div.sk-toggleable__content {max-height: 200px;max-width: 100%;overflow: auto;}#sk-container-id-2 input.sk-toggleable__control:checked~label.sk-toggleable__label-arrow:before {content: \"▾\";}#sk-container-id-2 div.sk-estimator input.sk-toggleable__control:checked~label.sk-toggleable__label {background-color: #d4ebff;}#sk-container-id-2 div.sk-label input.sk-toggleable__control:checked~label.sk-toggleable__label {background-color: #d4ebff;}#sk-container-id-2 input.sk-hidden--visually {border: 0;clip: rect(1px 1px 1px 1px);clip: rect(1px, 1px, 1px, 1px);height: 1px;margin: -1px;overflow: hidden;padding: 0;position: absolute;width: 1px;}#sk-container-id-2 div.sk-estimator {font-family: monospace;background-color: #f0f8ff;border: 1px dotted black;border-radius: 0.25em;box-sizing: border-box;margin-bottom: 0.5em;}#sk-container-id-2 div.sk-estimator:hover {background-color: #d4ebff;}#sk-container-id-2 div.sk-parallel-item::after {content: \"\";width: 100%;border-bottom: 1px solid gray;flex-grow: 1;}#sk-container-id-2 div.sk-label:hover label.sk-toggleable__label {background-color: #d4ebff;}#sk-container-id-2 div.sk-serial::before {content: \"\";position: absolute;border-left: 1px solid gray;box-sizing: border-box;top: 0;bottom: 0;left: 50%;z-index: 0;}#sk-container-id-2 div.sk-serial {display: flex;flex-direction: column;align-items: center;background-color: white;padding-right: 0.2em;padding-left: 0.2em;position: relative;}#sk-container-id-2 div.sk-item {position: relative;z-index: 1;}#sk-container-id-2 div.sk-parallel {display: flex;align-items: stretch;justify-content: center;background-color: white;position: relative;}#sk-container-id-2 div.sk-item::before, #sk-container-id-2 div.sk-parallel-item::before {content: \"\";position: absolute;border-left: 1px solid gray;box-sizing: border-box;top: 0;bottom: 0;left: 50%;z-index: -1;}#sk-container-id-2 div.sk-parallel-item {display: flex;flex-direction: column;z-index: 1;position: relative;background-color: white;}#sk-container-id-2 div.sk-parallel-item:first-child::after {align-self: flex-end;width: 50%;}#sk-container-id-2 div.sk-parallel-item:last-child::after {align-self: flex-start;width: 50%;}#sk-container-id-2 div.sk-parallel-item:only-child::after {width: 0;}#sk-container-id-2 div.sk-dashed-wrapped {border: 1px dashed gray;margin: 0 0.4em 0.5em 0.4em;box-sizing: border-box;padding-bottom: 0.4em;background-color: white;}#sk-container-id-2 div.sk-label label {font-family: monospace;font-weight: bold;display: inline-block;line-height: 1.2em;}#sk-container-id-2 div.sk-label-container {text-align: center;}#sk-container-id-2 div.sk-container {/* jupyter's `normalize.less` sets `[hidden] { display: none; }` but bootstrap.min.css set `[hidden] { display: none !important; }` so we also need the `!important` here to be able to override the default hidden behavior on the sphinx rendered scikit-learn.org. See: https://github.com/scikit-learn/scikit-learn/issues/21755 */display: inline-block !important;position: relative;}#sk-container-id-2 div.sk-text-repr-fallback {display: none;}</style><div id=\"sk-container-id-2\" class=\"sk-top-container\"><div class=\"sk-text-repr-fallback\"><pre>LogisticRegression(class_weight={0: 0.15, 1: 0.85}, max_iter=10000, n_jobs=-1,\n",
       "                   solver=&#x27;newton-cg&#x27;)</pre><b>In a Jupyter environment, please rerun this cell to show the HTML representation or trust the notebook. <br />On GitHub, the HTML representation is unable to render, please try loading this page with nbviewer.org.</b></div><div class=\"sk-container\" hidden><div class=\"sk-item\"><div class=\"sk-estimator sk-toggleable\"><input class=\"sk-toggleable__control sk-hidden--visually\" id=\"sk-estimator-id-2\" type=\"checkbox\" checked><label for=\"sk-estimator-id-2\" class=\"sk-toggleable__label sk-toggleable__label-arrow\">LogisticRegression</label><div class=\"sk-toggleable__content\"><pre>LogisticRegression(class_weight={0: 0.15, 1: 0.85}, max_iter=10000, n_jobs=-1,\n",
       "                   solver=&#x27;newton-cg&#x27;)</pre></div></div></div></div></div>"
      ],
      "text/plain": [
       "LogisticRegression(class_weight={0: 0.15, 1: 0.85}, max_iter=10000, n_jobs=-1,\n",
       "                   solver='newton-cg')"
      ]
     },
     "execution_count": 21,
     "metadata": {},
     "output_type": "execute_result"
    }
   ],
   "source": [
    "model.fit(x_train, y_train)"
   ]
  },
  {
   "cell_type": "code",
   "execution_count": 22,
   "id": "167c993e",
   "metadata": {
    "ExecuteTime": {
     "end_time": "2024-01-31T14:35:11.605135Z",
     "start_time": "2024-01-31T14:35:11.564258Z"
    },
    "scrolled": true
   },
   "outputs": [
    {
     "data": {
      "text/plain": [
       "array([0, 0, 0, 0, 1, 0, 0, 0, 0, 0, 1, 0, 1, 0, 0, 0, 1, 0, 0, 0, 0, 0,\n",
       "       0, 0, 1, 0, 0, 0, 0, 0, 1, 0, 0, 0, 0, 0, 1, 1, 0, 0, 0, 0, 0, 0,\n",
       "       1, 1, 1, 0, 0, 0, 1, 0, 1, 0, 0, 0, 0, 1, 1, 0, 0, 0, 0, 0, 0, 1,\n",
       "       1, 0, 1, 1, 1, 0, 0, 0, 0, 0, 0, 0, 0, 0, 0, 0, 0, 1, 1, 0, 0, 0,\n",
       "       0, 1, 0, 0, 1, 1, 0, 0, 1, 0, 0, 0, 0, 0, 0, 0, 1, 1, 0, 0, 0, 1,\n",
       "       0, 1, 0, 1, 1, 0, 0, 0, 1, 0, 0, 0, 1, 0, 0, 1, 0, 0, 0, 1, 0, 0,\n",
       "       0, 0, 0, 1, 1, 0, 0, 1, 0, 0, 0, 0, 0, 1, 0, 1, 0, 0, 1, 0, 0, 1,\n",
       "       0, 1, 0, 0, 0, 1, 0, 0, 0, 0, 0, 1, 0, 0, 0, 0, 0, 1, 0, 0, 1, 0,\n",
       "       0, 0, 0, 0, 0, 1, 0, 0, 1, 0, 0, 1, 0, 1, 1, 0, 0, 0, 0, 1, 1, 0,\n",
       "       1, 0, 1, 0, 0, 0, 0, 0, 1, 0, 0, 0, 0, 0, 0, 0, 0, 0, 1, 0, 1, 1,\n",
       "       0, 0, 0, 1, 1, 0, 1, 0, 1, 0, 0, 1, 1, 0, 0, 1, 0, 0, 1, 0, 0, 1,\n",
       "       0, 0, 0, 0, 0, 1, 0, 0, 0, 0, 0, 0, 0, 0, 1, 0, 0, 0, 1, 0, 1, 1,\n",
       "       0, 0, 0, 0, 0, 0, 0, 0, 0, 1, 1, 0, 0, 0, 0, 0, 0, 0, 1, 0, 0, 0,\n",
       "       1, 0, 0, 0, 0, 0, 0, 0, 1, 1, 0, 1, 0, 0, 1, 0, 1, 0, 1, 0, 0, 1,\n",
       "       0, 0, 0, 0, 0, 1, 0, 0, 0, 0, 0, 1, 0, 0, 0, 0, 1, 0, 0, 0, 0, 0,\n",
       "       1, 0, 0, 0, 0, 0, 0, 1, 0, 0, 1, 0, 0, 0, 0, 0, 0, 0, 0, 0, 0, 1,\n",
       "       0, 0, 0, 0, 1, 0, 1, 0, 1, 0, 1, 0, 1, 0, 1, 0, 1, 0, 1, 0, 1, 0,\n",
       "       0, 1, 0, 0, 0, 0, 1, 0, 1, 0, 0, 0, 0, 1, 0, 0, 0, 0, 1, 0, 1, 0,\n",
       "       0, 0, 1, 0, 0, 1, 1, 0, 1, 0, 0, 1, 0, 1, 0, 0, 0, 0, 0, 1, 1, 0,\n",
       "       0, 1, 1, 1, 1, 0, 0, 0, 0, 1, 0, 0, 0, 0, 1, 0, 1, 0, 0, 0, 0, 0,\n",
       "       0, 0, 0, 0, 0, 1, 0, 1, 1, 0, 0, 0, 0, 0, 0, 0, 1, 0, 0, 0, 0, 0,\n",
       "       1, 0, 0, 0, 0, 1, 0, 0, 1, 0, 0, 0, 1, 0, 0, 0, 1, 0, 0, 0, 1, 1,\n",
       "       0, 1, 1, 0, 0, 0, 0, 0, 0, 0, 1, 0, 0, 0, 0, 1, 0, 0, 1, 0, 0, 0,\n",
       "       0, 1, 1, 0, 1, 1, 0, 1, 0, 0, 0, 0, 0, 1, 1, 1, 1, 1, 0, 1, 0, 0,\n",
       "       1, 0, 0, 0, 0, 1, 0, 0, 0, 0, 1, 1, 0, 0, 0, 0, 0, 0, 0, 0, 0, 0,\n",
       "       1, 0, 1, 0, 0, 0, 0, 1, 0, 0, 0, 0, 0, 0, 0, 0, 0, 0, 1, 0, 1, 0,\n",
       "       1, 0, 0, 0, 1, 0, 0, 0, 0, 1, 1, 0, 0, 0, 0, 1, 1, 0, 1, 0, 0, 0,\n",
       "       0, 1, 0, 1, 0, 0, 0, 0, 0, 0, 1, 1, 0, 1, 0, 0, 1, 0, 1, 0, 1, 0,\n",
       "       0, 1, 0, 1, 1, 0, 1, 0, 0, 0, 0, 1, 0, 0, 1, 1, 0, 1, 0, 0, 0, 0,\n",
       "       0, 0, 0, 0, 0, 0, 0, 1, 1, 1, 1, 0, 0, 0, 1, 1, 0, 0, 0, 0, 0, 0,\n",
       "       0, 0, 0, 0, 0, 1, 0, 0, 0, 0, 1, 1, 0, 1, 0, 0, 0, 0, 1, 0, 1, 1,\n",
       "       0, 0, 1, 0, 0, 0, 1, 0, 0, 0, 0, 0, 1, 0, 0, 0, 1, 0, 1, 1, 1, 0,\n",
       "       1, 1, 0, 0, 1, 0, 0, 0, 0, 0, 1, 0, 0, 1, 1, 0, 0, 0, 1, 1, 0, 1,\n",
       "       1, 0, 0, 0, 0, 0, 0, 0, 1, 0, 1, 0, 1, 1, 1, 1, 0, 1, 0, 0, 0, 1,\n",
       "       1, 0, 0, 0, 1, 0, 0, 0, 0, 0, 0, 0, 0, 0, 0, 0, 0, 0, 0, 1, 0, 1,\n",
       "       0, 0, 1, 0, 0, 0, 0, 0, 0, 0, 0, 1, 1, 1, 1, 1, 0, 1, 0, 0, 0, 0,\n",
       "       0, 0, 1, 0, 1, 1, 0, 0, 0, 0, 1, 0, 0, 0, 0, 0, 0, 0, 0, 0, 1, 1,\n",
       "       0, 0, 0, 0, 0, 0, 1, 0, 1, 1, 0, 0, 0, 1, 0, 0, 1, 1, 0, 0, 0, 1,\n",
       "       0, 0, 0, 1, 0, 1, 0, 0, 0, 0, 0, 1, 0, 0, 0, 0, 0, 1, 0, 0, 0, 0,\n",
       "       0, 0, 1, 0, 0, 0, 0, 0, 0, 0, 0, 1, 1, 0, 0, 0, 0, 0, 1, 0, 0, 0,\n",
       "       0, 1, 0, 0, 0, 0, 1, 0, 1, 0, 0, 0, 1, 0, 0, 0, 1, 1, 0, 0, 1, 1,\n",
       "       0, 0, 0, 0, 0, 0, 0, 1, 1, 0, 0, 1, 1, 1, 0, 0, 0, 1, 1, 0, 1, 0,\n",
       "       0, 0, 0, 1, 1, 1, 0, 1, 0, 0, 1, 0, 0, 1, 1, 1, 0, 0, 0, 0, 0, 0,\n",
       "       1, 0, 0, 0, 0, 0, 0, 1, 0, 0, 1, 0, 0, 0, 0, 0, 0, 0, 1, 0, 0, 1,\n",
       "       0, 1, 0, 0, 1, 1, 1, 0, 1, 0, 0, 1, 0, 1, 0, 0, 0, 0, 1, 0, 0, 0,\n",
       "       0, 0, 0, 0, 0, 0, 0, 0, 0, 0], dtype=int64)"
      ]
     },
     "execution_count": 22,
     "metadata": {},
     "output_type": "execute_result"
    }
   ],
   "source": [
    "pred = model.predict(x_test)    # Class Prediction\n",
    "pred"
   ]
  },
  {
   "cell_type": "code",
   "execution_count": 23,
   "id": "2d4b72d4",
   "metadata": {
    "ExecuteTime": {
     "end_time": "2024-01-31T14:35:15.194931Z",
     "start_time": "2024-01-31T14:35:15.138228Z"
    }
   },
   "outputs": [
    {
     "data": {
      "text/html": [
       "<div>\n",
       "<style scoped>\n",
       "    .dataframe tbody tr th:only-of-type {\n",
       "        vertical-align: middle;\n",
       "    }\n",
       "\n",
       "    .dataframe tbody tr th {\n",
       "        vertical-align: top;\n",
       "    }\n",
       "\n",
       "    .dataframe thead th {\n",
       "        text-align: right;\n",
       "    }\n",
       "</style>\n",
       "<table border=\"1\" class=\"dataframe\">\n",
       "  <thead>\n",
       "    <tr style=\"text-align: right;\">\n",
       "      <th></th>\n",
       "      <th>0</th>\n",
       "      <th>1</th>\n",
       "    </tr>\n",
       "  </thead>\n",
       "  <tbody>\n",
       "    <tr>\n",
       "      <th>0</th>\n",
       "      <td>0.725022</td>\n",
       "      <td>0.274978</td>\n",
       "    </tr>\n",
       "    <tr>\n",
       "      <th>1</th>\n",
       "      <td>0.763562</td>\n",
       "      <td>0.236438</td>\n",
       "    </tr>\n",
       "    <tr>\n",
       "      <th>2</th>\n",
       "      <td>0.823628</td>\n",
       "      <td>0.176372</td>\n",
       "    </tr>\n",
       "    <tr>\n",
       "      <th>3</th>\n",
       "      <td>0.517163</td>\n",
       "      <td>0.482837</td>\n",
       "    </tr>\n",
       "    <tr>\n",
       "      <th>4</th>\n",
       "      <td>0.310441</td>\n",
       "      <td>0.689559</td>\n",
       "    </tr>\n",
       "    <tr>\n",
       "      <th>...</th>\n",
       "      <td>...</td>\n",
       "      <td>...</td>\n",
       "    </tr>\n",
       "    <tr>\n",
       "      <th>995</th>\n",
       "      <td>0.766316</td>\n",
       "      <td>0.233684</td>\n",
       "    </tr>\n",
       "    <tr>\n",
       "      <th>996</th>\n",
       "      <td>0.683250</td>\n",
       "      <td>0.316750</td>\n",
       "    </tr>\n",
       "    <tr>\n",
       "      <th>997</th>\n",
       "      <td>0.784996</td>\n",
       "      <td>0.215004</td>\n",
       "    </tr>\n",
       "    <tr>\n",
       "      <th>998</th>\n",
       "      <td>0.839903</td>\n",
       "      <td>0.160097</td>\n",
       "    </tr>\n",
       "    <tr>\n",
       "      <th>999</th>\n",
       "      <td>0.771042</td>\n",
       "      <td>0.228958</td>\n",
       "    </tr>\n",
       "  </tbody>\n",
       "</table>\n",
       "<p>1000 rows × 2 columns</p>\n",
       "</div>"
      ],
      "text/plain": [
       "            0         1\n",
       "0    0.725022  0.274978\n",
       "1    0.763562  0.236438\n",
       "2    0.823628  0.176372\n",
       "3    0.517163  0.482837\n",
       "4    0.310441  0.689559\n",
       "..        ...       ...\n",
       "995  0.766316  0.233684\n",
       "996  0.683250  0.316750\n",
       "997  0.784996  0.215004\n",
       "998  0.839903  0.160097\n",
       "999  0.771042  0.228958\n",
       "\n",
       "[1000 rows x 2 columns]"
      ]
     },
     "execution_count": 23,
     "metadata": {},
     "output_type": "execute_result"
    }
   ],
   "source": [
    "pd.DataFrame(model.predict_proba(x_test))"
   ]
  },
  {
   "cell_type": "code",
   "execution_count": null,
   "id": "ec8d0557",
   "metadata": {},
   "outputs": [],
   "source": []
  },
  {
   "cell_type": "code",
   "execution_count": 24,
   "id": "3fdbf335",
   "metadata": {
    "ExecuteTime": {
     "end_time": "2024-01-31T14:35:24.809450Z",
     "start_time": "2024-01-31T14:35:24.786476Z"
    }
   },
   "outputs": [],
   "source": [
    "from sklearn import metrics"
   ]
  },
  {
   "cell_type": "code",
   "execution_count": 16,
   "id": "ee8228b7",
   "metadata": {
    "ExecuteTime": {
     "end_time": "2024-01-31T14:12:04.814396Z",
     "start_time": "2024-01-31T14:12:04.785422Z"
    }
   },
   "outputs": [
    {
     "data": {
      "text/plain": [
       "array([[835,  12],\n",
       "       [135,  18]], dtype=int64)"
      ]
     },
     "execution_count": 16,
     "metadata": {},
     "output_type": "execute_result"
    }
   ],
   "source": [
    "metrics.confusion_matrix(y_test, pred)    # Original Data"
   ]
  },
  {
   "cell_type": "code",
   "execution_count": 25,
   "id": "b9c4b5c8",
   "metadata": {
    "ExecuteTime": {
     "end_time": "2024-01-31T14:35:30.049661Z",
     "start_time": "2024-01-31T14:35:30.009518Z"
    }
   },
   "outputs": [
    {
     "data": {
      "text/plain": [
       "array([[673, 174],\n",
       "       [ 38, 115]], dtype=int64)"
      ]
     },
     "execution_count": 25,
     "metadata": {},
     "output_type": "execute_result"
    }
   ],
   "source": [
    "metrics.confusion_matrix(y_test, pred)   # After Class Balance"
   ]
  },
  {
   "cell_type": "code",
   "execution_count": 17,
   "id": "51c72028",
   "metadata": {
    "ExecuteTime": {
     "end_time": "2024-01-31T14:21:36.897479Z",
     "start_time": "2024-01-31T14:21:36.845458Z"
    }
   },
   "outputs": [
    {
     "name": "stdout",
     "output_type": "stream",
     "text": [
      "              precision    recall  f1-score   support\n",
      "\n",
      "           0       0.86      0.99      0.92       847\n",
      "           1       0.60      0.12      0.20       153\n",
      "\n",
      "    accuracy                           0.85      1000\n",
      "   macro avg       0.73      0.55      0.56      1000\n",
      "weighted avg       0.82      0.85      0.81      1000\n",
      "\n"
     ]
    }
   ],
   "source": [
    "# Accuracy\n",
    "# Recall (0, 1)\n",
    "# Precision (0, 1)\n",
    "\n",
    "print(metrics.classification_report(y_test, pred))    # Original Data"
   ]
  },
  {
   "cell_type": "code",
   "execution_count": 26,
   "id": "c5a94bb3",
   "metadata": {
    "ExecuteTime": {
     "end_time": "2024-01-31T14:36:21.212527Z",
     "start_time": "2024-01-31T14:36:21.180053Z"
    }
   },
   "outputs": [
    {
     "name": "stdout",
     "output_type": "stream",
     "text": [
      "              precision    recall  f1-score   support\n",
      "\n",
      "           0       0.95      0.79      0.86       847\n",
      "           1       0.40      0.75      0.52       153\n",
      "\n",
      "    accuracy                           0.79      1000\n",
      "   macro avg       0.67      0.77      0.69      1000\n",
      "weighted avg       0.86      0.79      0.81      1000\n",
      "\n"
     ]
    }
   ],
   "source": [
    "print(metrics.classification_report(y_test, pred))   # Class Balance"
   ]
  },
  {
   "cell_type": "code",
   "execution_count": 18,
   "id": "09e17300",
   "metadata": {
    "ExecuteTime": {
     "end_time": "2024-01-31T14:27:15.521020Z",
     "start_time": "2024-01-31T14:27:15.477700Z"
    }
   },
   "outputs": [
    {
     "name": "stdout",
     "output_type": "stream",
     "text": [
      "              precision    recall  f1-score   support\n",
      "\n",
      "           0       0.88      0.98      0.93      2003\n",
      "           1       0.56      0.17      0.26       330\n",
      "\n",
      "    accuracy                           0.86      2333\n",
      "   macro avg       0.72      0.58      0.59      2333\n",
      "weighted avg       0.83      0.86      0.83      2333\n",
      "\n"
     ]
    }
   ],
   "source": [
    "pred_train = model.predict(x_train)\n",
    "print(metrics.classification_report(y_train, pred_train))"
   ]
  },
  {
   "cell_type": "code",
   "execution_count": null,
   "id": "0e859c7d",
   "metadata": {},
   "outputs": [],
   "source": []
  },
  {
   "cell_type": "code",
   "execution_count": 19,
   "id": "bb313fbf",
   "metadata": {
    "ExecuteTime": {
     "end_time": "2024-01-31T14:30:41.984356Z",
     "start_time": "2024-01-31T14:30:41.957632Z"
    }
   },
   "outputs": [
    {
     "data": {
      "text/plain": [
       "Churn\n",
       "0    0.855086\n",
       "1    0.144914\n",
       "Name: proportion, dtype: float64"
      ]
     },
     "execution_count": 19,
     "metadata": {},
     "output_type": "execute_result"
    }
   ],
   "source": [
    "df['Churn'].value_counts(normalize=True)"
   ]
  },
  {
   "cell_type": "code",
   "execution_count": null,
   "id": "6d230fc5",
   "metadata": {},
   "outputs": [],
   "source": []
  },
  {
   "cell_type": "code",
   "execution_count": 27,
   "id": "e3355bd9",
   "metadata": {
    "ExecuteTime": {
     "end_time": "2024-01-31T14:41:14.879009Z",
     "start_time": "2024-01-31T14:41:14.856006Z"
    }
   },
   "outputs": [
    {
     "data": {
      "text/plain": [
       "array([[ 1.41566821e-03, -2.03706139e+00, -8.64711198e-01,\n",
       "        -3.03013149e-01,  5.51632671e-01,  6.10131826e-03,\n",
       "         1.58255321e-03,  3.68160615e-02,  6.39014349e-02,\n",
       "         5.75230016e-02]])"
      ]
     },
     "execution_count": 27,
     "metadata": {},
     "output_type": "execute_result"
    }
   ],
   "source": [
    "model.coef_"
   ]
  },
  {
   "cell_type": "code",
   "execution_count": 29,
   "id": "02f01e9a",
   "metadata": {
    "ExecuteTime": {
     "end_time": "2024-01-31T14:41:23.864277Z",
     "start_time": "2024-01-31T14:41:23.845887Z"
    }
   },
   "outputs": [
    {
     "data": {
      "text/plain": [
       "array([-3.82044135])"
      ]
     },
     "execution_count": 29,
     "metadata": {},
     "output_type": "execute_result"
    }
   ],
   "source": [
    "model.intercept_"
   ]
  },
  {
   "cell_type": "code",
   "execution_count": null,
   "id": "beaa3104",
   "metadata": {},
   "outputs": [],
   "source": []
  },
  {
   "cell_type": "code",
   "execution_count": 31,
   "id": "996904e5",
   "metadata": {
    "ExecuteTime": {
     "end_time": "2024-01-31T14:45:39.634127Z",
     "start_time": "2024-01-31T14:45:39.597765Z"
    }
   },
   "outputs": [],
   "source": [
    "from statsmodels.api import add_constant\n",
    "X = add_constant(X)\n",
    "\n",
    "x_train, x_test, y_train, y_test = train_test_split(X, y, test_size=0.3, random_state=42)"
   ]
  },
  {
   "cell_type": "code",
   "execution_count": 32,
   "id": "1a630dc8",
   "metadata": {
    "ExecuteTime": {
     "end_time": "2024-01-31T14:45:40.935062Z",
     "start_time": "2024-01-31T14:45:40.732762Z"
    }
   },
   "outputs": [
    {
     "name": "stdout",
     "output_type": "stream",
     "text": [
      "Optimization terminated successfully.\n",
      "         Current function value: 0.326432\n",
      "         Iterations 7\n"
     ]
    },
    {
     "data": {
      "text/html": [
       "<table class=\"simpletable\">\n",
       "<caption>Logit Regression Results</caption>\n",
       "<tr>\n",
       "  <th>Dep. Variable:</th>         <td>Churn</td>      <th>  No. Observations:  </th>  <td>  2333</td>  \n",
       "</tr>\n",
       "<tr>\n",
       "  <th>Model:</th>                 <td>Logit</td>      <th>  Df Residuals:      </th>  <td>  2322</td>  \n",
       "</tr>\n",
       "<tr>\n",
       "  <th>Method:</th>                 <td>MLE</td>       <th>  Df Model:          </th>  <td>    10</td>  \n",
       "</tr>\n",
       "<tr>\n",
       "  <th>Date:</th>            <td>Wed, 31 Jan 2024</td> <th>  Pseudo R-squ.:     </th>  <td>0.1991</td>  \n",
       "</tr>\n",
       "<tr>\n",
       "  <th>Time:</th>                <td>20:15:40</td>     <th>  Log-Likelihood:    </th> <td> -761.57</td> \n",
       "</tr>\n",
       "<tr>\n",
       "  <th>converged:</th>             <td>True</td>       <th>  LL-Null:           </th> <td> -950.90</td> \n",
       "</tr>\n",
       "<tr>\n",
       "  <th>Covariance Type:</th>     <td>nonrobust</td>    <th>  LLR p-value:       </th> <td>3.262e-75</td>\n",
       "</tr>\n",
       "</table>\n",
       "<table class=\"simpletable\">\n",
       "<tr>\n",
       "         <td></td>            <th>coef</th>     <th>std err</th>      <th>z</th>      <th>P>|z|</th>  <th>[0.025</th>    <th>0.975]</th>  \n",
       "</tr>\n",
       "<tr>\n",
       "  <th>const</th>           <td>   -5.7718</td> <td>    0.646</td> <td>   -8.932</td> <td> 0.000</td> <td>   -7.038</td> <td>   -4.505</td>\n",
       "</tr>\n",
       "<tr>\n",
       "  <th>AccountWeeks</th>    <td>    0.0010</td> <td>    0.002</td> <td>    0.624</td> <td> 0.533</td> <td>   -0.002</td> <td>    0.004</td>\n",
       "</tr>\n",
       "<tr>\n",
       "  <th>ContractRenewal</th> <td>   -1.8768</td> <td>    0.168</td> <td>  -11.178</td> <td> 0.000</td> <td>   -2.206</td> <td>   -1.548</td>\n",
       "</tr>\n",
       "<tr>\n",
       "  <th>DataPlan</th>        <td>   -1.6390</td> <td>    0.624</td> <td>   -2.626</td> <td> 0.009</td> <td>   -2.862</td> <td>   -0.416</td>\n",
       "</tr>\n",
       "<tr>\n",
       "  <th>DataUsage</th>       <td>   -0.2789</td> <td>    0.301</td> <td>   -0.926</td> <td> 0.354</td> <td>   -0.869</td> <td>    0.311</td>\n",
       "</tr>\n",
       "<tr>\n",
       "  <th>CustServCalls</th>   <td>    0.4847</td> <td>    0.046</td> <td>   10.463</td> <td> 0.000</td> <td>    0.394</td> <td>    0.575</td>\n",
       "</tr>\n",
       "<tr>\n",
       "  <th>DayMins</th>         <td>    0.0029</td> <td>    0.006</td> <td>    0.498</td> <td> 0.618</td> <td>   -0.009</td> <td>    0.014</td>\n",
       "</tr>\n",
       "<tr>\n",
       "  <th>DayCalls</th>        <td>    0.0023</td> <td>    0.003</td> <td>    0.706</td> <td> 0.480</td> <td>   -0.004</td> <td>    0.009</td>\n",
       "</tr>\n",
       "<tr>\n",
       "  <th>MonthlyCharge</th>   <td>    0.0565</td> <td>    0.034</td> <td>    1.680</td> <td> 0.093</td> <td>   -0.009</td> <td>    0.123</td>\n",
       "</tr>\n",
       "<tr>\n",
       "  <th>OverageFee</th>      <td>    0.0432</td> <td>    0.064</td> <td>    0.679</td> <td> 0.497</td> <td>   -0.081</td> <td>    0.168</td>\n",
       "</tr>\n",
       "<tr>\n",
       "  <th>RoamMins</th>        <td>    0.0592</td> <td>    0.026</td> <td>    2.269</td> <td> 0.023</td> <td>    0.008</td> <td>    0.110</td>\n",
       "</tr>\n",
       "</table>"
      ],
      "text/latex": [
       "\\begin{center}\n",
       "\\begin{tabular}{lclc}\n",
       "\\toprule\n",
       "\\textbf{Dep. Variable:}   &      Churn       & \\textbf{  No. Observations:  } &     2333    \\\\\n",
       "\\textbf{Model:}           &      Logit       & \\textbf{  Df Residuals:      } &     2322    \\\\\n",
       "\\textbf{Method:}          &       MLE        & \\textbf{  Df Model:          } &       10    \\\\\n",
       "\\textbf{Date:}            & Wed, 31 Jan 2024 & \\textbf{  Pseudo R-squ.:     } &   0.1991    \\\\\n",
       "\\textbf{Time:}            &     20:15:40     & \\textbf{  Log-Likelihood:    } &   -761.57   \\\\\n",
       "\\textbf{converged:}       &       True       & \\textbf{  LL-Null:           } &   -950.90   \\\\\n",
       "\\textbf{Covariance Type:} &    nonrobust     & \\textbf{  LLR p-value:       } & 3.262e-75   \\\\\n",
       "\\bottomrule\n",
       "\\end{tabular}\n",
       "\\begin{tabular}{lcccccc}\n",
       "                         & \\textbf{coef} & \\textbf{std err} & \\textbf{z} & \\textbf{P$> |$z$|$} & \\textbf{[0.025} & \\textbf{0.975]}  \\\\\n",
       "\\midrule\n",
       "\\textbf{const}           &      -5.7718  &        0.646     &    -8.932  &         0.000        &       -7.038    &       -4.505     \\\\\n",
       "\\textbf{AccountWeeks}    &       0.0010  &        0.002     &     0.624  &         0.533        &       -0.002    &        0.004     \\\\\n",
       "\\textbf{ContractRenewal} &      -1.8768  &        0.168     &   -11.178  &         0.000        &       -2.206    &       -1.548     \\\\\n",
       "\\textbf{DataPlan}        &      -1.6390  &        0.624     &    -2.626  &         0.009        &       -2.862    &       -0.416     \\\\\n",
       "\\textbf{DataUsage}       &      -0.2789  &        0.301     &    -0.926  &         0.354        &       -0.869    &        0.311     \\\\\n",
       "\\textbf{CustServCalls}   &       0.4847  &        0.046     &    10.463  &         0.000        &        0.394    &        0.575     \\\\\n",
       "\\textbf{DayMins}         &       0.0029  &        0.006     &     0.498  &         0.618        &       -0.009    &        0.014     \\\\\n",
       "\\textbf{DayCalls}        &       0.0023  &        0.003     &     0.706  &         0.480        &       -0.004    &        0.009     \\\\\n",
       "\\textbf{MonthlyCharge}   &       0.0565  &        0.034     &     1.680  &         0.093        &       -0.009    &        0.123     \\\\\n",
       "\\textbf{OverageFee}      &       0.0432  &        0.064     &     0.679  &         0.497        &       -0.081    &        0.168     \\\\\n",
       "\\textbf{RoamMins}        &       0.0592  &        0.026     &     2.269  &         0.023        &        0.008    &        0.110     \\\\\n",
       "\\bottomrule\n",
       "\\end{tabular}\n",
       "%\\caption{Logit Regression Results}\n",
       "\\end{center}"
      ],
      "text/plain": [
       "<class 'statsmodels.iolib.summary.Summary'>\n",
       "\"\"\"\n",
       "                           Logit Regression Results                           \n",
       "==============================================================================\n",
       "Dep. Variable:                  Churn   No. Observations:                 2333\n",
       "Model:                          Logit   Df Residuals:                     2322\n",
       "Method:                           MLE   Df Model:                           10\n",
       "Date:                Wed, 31 Jan 2024   Pseudo R-squ.:                  0.1991\n",
       "Time:                        20:15:40   Log-Likelihood:                -761.57\n",
       "converged:                       True   LL-Null:                       -950.90\n",
       "Covariance Type:            nonrobust   LLR p-value:                 3.262e-75\n",
       "===================================================================================\n",
       "                      coef    std err          z      P>|z|      [0.025      0.975]\n",
       "-----------------------------------------------------------------------------------\n",
       "const              -5.7718      0.646     -8.932      0.000      -7.038      -4.505\n",
       "AccountWeeks        0.0010      0.002      0.624      0.533      -0.002       0.004\n",
       "ContractRenewal    -1.8768      0.168    -11.178      0.000      -2.206      -1.548\n",
       "DataPlan           -1.6390      0.624     -2.626      0.009      -2.862      -0.416\n",
       "DataUsage          -0.2789      0.301     -0.926      0.354      -0.869       0.311\n",
       "CustServCalls       0.4847      0.046     10.463      0.000       0.394       0.575\n",
       "DayMins             0.0029      0.006      0.498      0.618      -0.009       0.014\n",
       "DayCalls            0.0023      0.003      0.706      0.480      -0.004       0.009\n",
       "MonthlyCharge       0.0565      0.034      1.680      0.093      -0.009       0.123\n",
       "OverageFee          0.0432      0.064      0.679      0.497      -0.081       0.168\n",
       "RoamMins            0.0592      0.026      2.269      0.023       0.008       0.110\n",
       "===================================================================================\n",
       "\"\"\""
      ]
     },
     "execution_count": 32,
     "metadata": {},
     "output_type": "execute_result"
    }
   ],
   "source": [
    "logit = Logit(y_train, x_train.astype('float')).fit()\n",
    "logit.summary()"
   ]
  },
  {
   "cell_type": "code",
   "execution_count": 34,
   "id": "c182e216",
   "metadata": {
    "ExecuteTime": {
     "end_time": "2024-01-31T14:47:43.319737Z",
     "start_time": "2024-01-31T14:47:43.133068Z"
    }
   },
   "outputs": [
    {
     "name": "stdout",
     "output_type": "stream",
     "text": [
      "Optimization terminated successfully.\n",
      "         Current function value: 0.326487\n",
      "         Iterations 7\n"
     ]
    },
    {
     "data": {
      "text/html": [
       "<table class=\"simpletable\">\n",
       "<caption>Logit Regression Results</caption>\n",
       "<tr>\n",
       "  <th>Dep. Variable:</th>         <td>Churn</td>      <th>  No. Observations:  </th>  <td>  2333</td>  \n",
       "</tr>\n",
       "<tr>\n",
       "  <th>Model:</th>                 <td>Logit</td>      <th>  Df Residuals:      </th>  <td>  2323</td>  \n",
       "</tr>\n",
       "<tr>\n",
       "  <th>Method:</th>                 <td>MLE</td>       <th>  Df Model:          </th>  <td>     9</td>  \n",
       "</tr>\n",
       "<tr>\n",
       "  <th>Date:</th>            <td>Wed, 31 Jan 2024</td> <th>  Pseudo R-squ.:     </th>  <td>0.1990</td>  \n",
       "</tr>\n",
       "<tr>\n",
       "  <th>Time:</th>                <td>20:17:43</td>     <th>  Log-Likelihood:    </th> <td> -761.69</td> \n",
       "</tr>\n",
       "<tr>\n",
       "  <th>converged:</th>             <td>True</td>       <th>  LL-Null:           </th> <td> -950.90</td> \n",
       "</tr>\n",
       "<tr>\n",
       "  <th>Covariance Type:</th>     <td>nonrobust</td>    <th>  LLR p-value:       </th> <td>5.533e-76</td>\n",
       "</tr>\n",
       "</table>\n",
       "<table class=\"simpletable\">\n",
       "<tr>\n",
       "         <td></td>            <th>coef</th>     <th>std err</th>      <th>z</th>      <th>P>|z|</th>  <th>[0.025</th>    <th>0.975]</th>  \n",
       "</tr>\n",
       "<tr>\n",
       "  <th>const</th>           <td>   -5.7171</td> <td>    0.636</td> <td>   -8.992</td> <td> 0.000</td> <td>   -6.963</td> <td>   -4.471</td>\n",
       "</tr>\n",
       "<tr>\n",
       "  <th>AccountWeeks</th>    <td>    0.0010</td> <td>    0.002</td> <td>    0.619</td> <td> 0.536</td> <td>   -0.002</td> <td>    0.004</td>\n",
       "</tr>\n",
       "<tr>\n",
       "  <th>ContractRenewal</th> <td>   -1.8781</td> <td>    0.168</td> <td>  -11.190</td> <td> 0.000</td> <td>   -2.207</td> <td>   -1.549</td>\n",
       "</tr>\n",
       "<tr>\n",
       "  <th>DataPlan</th>        <td>   -1.7937</td> <td>    0.544</td> <td>   -3.295</td> <td> 0.001</td> <td>   -2.861</td> <td>   -0.727</td>\n",
       "</tr>\n",
       "<tr>\n",
       "  <th>DataUsage</th>       <td>   -0.3910</td> <td>    0.188</td> <td>   -2.080</td> <td> 0.038</td> <td>   -0.759</td> <td>   -0.023</td>\n",
       "</tr>\n",
       "<tr>\n",
       "  <th>CustServCalls</th>   <td>    0.4857</td> <td>    0.046</td> <td>   10.494</td> <td> 0.000</td> <td>    0.395</td> <td>    0.576</td>\n",
       "</tr>\n",
       "<tr>\n",
       "  <th>DayCalls</th>        <td>    0.0023</td> <td>    0.003</td> <td>    0.703</td> <td> 0.482</td> <td>   -0.004</td> <td>    0.009</td>\n",
       "</tr>\n",
       "<tr>\n",
       "  <th>MonthlyCharge</th>   <td>    0.0729</td> <td>    0.007</td> <td>    9.889</td> <td> 0.000</td> <td>    0.058</td> <td>    0.087</td>\n",
       "</tr>\n",
       "<tr>\n",
       "  <th>OverageFee</th>      <td>    0.0150</td> <td>    0.029</td> <td>    0.518</td> <td> 0.605</td> <td>   -0.042</td> <td>    0.072</td>\n",
       "</tr>\n",
       "<tr>\n",
       "  <th>RoamMins</th>        <td>    0.0560</td> <td>    0.025</td> <td>    2.218</td> <td> 0.027</td> <td>    0.007</td> <td>    0.105</td>\n",
       "</tr>\n",
       "</table>"
      ],
      "text/latex": [
       "\\begin{center}\n",
       "\\begin{tabular}{lclc}\n",
       "\\toprule\n",
       "\\textbf{Dep. Variable:}   &      Churn       & \\textbf{  No. Observations:  } &     2333    \\\\\n",
       "\\textbf{Model:}           &      Logit       & \\textbf{  Df Residuals:      } &     2323    \\\\\n",
       "\\textbf{Method:}          &       MLE        & \\textbf{  Df Model:          } &        9    \\\\\n",
       "\\textbf{Date:}            & Wed, 31 Jan 2024 & \\textbf{  Pseudo R-squ.:     } &   0.1990    \\\\\n",
       "\\textbf{Time:}            &     20:17:43     & \\textbf{  Log-Likelihood:    } &   -761.69   \\\\\n",
       "\\textbf{converged:}       &       True       & \\textbf{  LL-Null:           } &   -950.90   \\\\\n",
       "\\textbf{Covariance Type:} &    nonrobust     & \\textbf{  LLR p-value:       } & 5.533e-76   \\\\\n",
       "\\bottomrule\n",
       "\\end{tabular}\n",
       "\\begin{tabular}{lcccccc}\n",
       "                         & \\textbf{coef} & \\textbf{std err} & \\textbf{z} & \\textbf{P$> |$z$|$} & \\textbf{[0.025} & \\textbf{0.975]}  \\\\\n",
       "\\midrule\n",
       "\\textbf{const}           &      -5.7171  &        0.636     &    -8.992  &         0.000        &       -6.963    &       -4.471     \\\\\n",
       "\\textbf{AccountWeeks}    &       0.0010  &        0.002     &     0.619  &         0.536        &       -0.002    &        0.004     \\\\\n",
       "\\textbf{ContractRenewal} &      -1.8781  &        0.168     &   -11.190  &         0.000        &       -2.207    &       -1.549     \\\\\n",
       "\\textbf{DataPlan}        &      -1.7937  &        0.544     &    -3.295  &         0.001        &       -2.861    &       -0.727     \\\\\n",
       "\\textbf{DataUsage}       &      -0.3910  &        0.188     &    -2.080  &         0.038        &       -0.759    &       -0.023     \\\\\n",
       "\\textbf{CustServCalls}   &       0.4857  &        0.046     &    10.494  &         0.000        &        0.395    &        0.576     \\\\\n",
       "\\textbf{DayCalls}        &       0.0023  &        0.003     &     0.703  &         0.482        &       -0.004    &        0.009     \\\\\n",
       "\\textbf{MonthlyCharge}   &       0.0729  &        0.007     &     9.889  &         0.000        &        0.058    &        0.087     \\\\\n",
       "\\textbf{OverageFee}      &       0.0150  &        0.029     &     0.518  &         0.605        &       -0.042    &        0.072     \\\\\n",
       "\\textbf{RoamMins}        &       0.0560  &        0.025     &     2.218  &         0.027        &        0.007    &        0.105     \\\\\n",
       "\\bottomrule\n",
       "\\end{tabular}\n",
       "%\\caption{Logit Regression Results}\n",
       "\\end{center}"
      ],
      "text/plain": [
       "<class 'statsmodels.iolib.summary.Summary'>\n",
       "\"\"\"\n",
       "                           Logit Regression Results                           \n",
       "==============================================================================\n",
       "Dep. Variable:                  Churn   No. Observations:                 2333\n",
       "Model:                          Logit   Df Residuals:                     2323\n",
       "Method:                           MLE   Df Model:                            9\n",
       "Date:                Wed, 31 Jan 2024   Pseudo R-squ.:                  0.1990\n",
       "Time:                        20:17:43   Log-Likelihood:                -761.69\n",
       "converged:                       True   LL-Null:                       -950.90\n",
       "Covariance Type:            nonrobust   LLR p-value:                 5.533e-76\n",
       "===================================================================================\n",
       "                      coef    std err          z      P>|z|      [0.025      0.975]\n",
       "-----------------------------------------------------------------------------------\n",
       "const              -5.7171      0.636     -8.992      0.000      -6.963      -4.471\n",
       "AccountWeeks        0.0010      0.002      0.619      0.536      -0.002       0.004\n",
       "ContractRenewal    -1.8781      0.168    -11.190      0.000      -2.207      -1.549\n",
       "DataPlan           -1.7937      0.544     -3.295      0.001      -2.861      -0.727\n",
       "DataUsage          -0.3910      0.188     -2.080      0.038      -0.759      -0.023\n",
       "CustServCalls       0.4857      0.046     10.494      0.000       0.395       0.576\n",
       "DayCalls            0.0023      0.003      0.703      0.482      -0.004       0.009\n",
       "MonthlyCharge       0.0729      0.007      9.889      0.000       0.058       0.087\n",
       "OverageFee          0.0150      0.029      0.518      0.605      -0.042       0.072\n",
       "RoamMins            0.0560      0.025      2.218      0.027       0.007       0.105\n",
       "===================================================================================\n",
       "\"\"\""
      ]
     },
     "execution_count": 34,
     "metadata": {},
     "output_type": "execute_result"
    }
   ],
   "source": [
    "x_train1 = x_train.drop('DayMins', axis=1)\n",
    "logit = Logit(y_train, x_train1.astype('float')).fit()\n",
    "logit.summary()"
   ]
  },
  {
   "cell_type": "code",
   "execution_count": 35,
   "id": "c4d70f2c",
   "metadata": {
    "ExecuteTime": {
     "end_time": "2024-01-31T14:48:16.882314Z",
     "start_time": "2024-01-31T14:48:16.726676Z"
    }
   },
   "outputs": [
    {
     "name": "stdout",
     "output_type": "stream",
     "text": [
      "Optimization terminated successfully.\n",
      "         Current function value: 0.326545\n",
      "         Iterations 7\n"
     ]
    },
    {
     "data": {
      "text/html": [
       "<table class=\"simpletable\">\n",
       "<caption>Logit Regression Results</caption>\n",
       "<tr>\n",
       "  <th>Dep. Variable:</th>         <td>Churn</td>      <th>  No. Observations:  </th>  <td>  2333</td>  \n",
       "</tr>\n",
       "<tr>\n",
       "  <th>Model:</th>                 <td>Logit</td>      <th>  Df Residuals:      </th>  <td>  2324</td>  \n",
       "</tr>\n",
       "<tr>\n",
       "  <th>Method:</th>                 <td>MLE</td>       <th>  Df Model:          </th>  <td>     8</td>  \n",
       "</tr>\n",
       "<tr>\n",
       "  <th>Date:</th>            <td>Wed, 31 Jan 2024</td> <th>  Pseudo R-squ.:     </th>  <td>0.1988</td>  \n",
       "</tr>\n",
       "<tr>\n",
       "  <th>Time:</th>                <td>20:18:16</td>     <th>  Log-Likelihood:    </th> <td> -761.83</td> \n",
       "</tr>\n",
       "<tr>\n",
       "  <th>converged:</th>             <td>True</td>       <th>  LL-Null:           </th> <td> -950.90</td> \n",
       "</tr>\n",
       "<tr>\n",
       "  <th>Covariance Type:</th>     <td>nonrobust</td>    <th>  LLR p-value:       </th> <td>8.873e-77</td>\n",
       "</tr>\n",
       "</table>\n",
       "<table class=\"simpletable\">\n",
       "<tr>\n",
       "         <td></td>            <th>coef</th>     <th>std err</th>      <th>z</th>      <th>P>|z|</th>  <th>[0.025</th>    <th>0.975]</th>  \n",
       "</tr>\n",
       "<tr>\n",
       "  <th>const</th>           <td>   -5.6250</td> <td>    0.610</td> <td>   -9.228</td> <td> 0.000</td> <td>   -6.820</td> <td>   -4.430</td>\n",
       "</tr>\n",
       "<tr>\n",
       "  <th>AccountWeeks</th>    <td>    0.0010</td> <td>    0.002</td> <td>    0.605</td> <td> 0.545</td> <td>   -0.002</td> <td>    0.004</td>\n",
       "</tr>\n",
       "<tr>\n",
       "  <th>ContractRenewal</th> <td>   -1.8753</td> <td>    0.168</td> <td>  -11.181</td> <td> 0.000</td> <td>   -2.204</td> <td>   -1.547</td>\n",
       "</tr>\n",
       "<tr>\n",
       "  <th>DataPlan</th>        <td>   -1.8005</td> <td>    0.544</td> <td>   -3.308</td> <td> 0.001</td> <td>   -2.867</td> <td>   -0.734</td>\n",
       "</tr>\n",
       "<tr>\n",
       "  <th>DataUsage</th>       <td>   -0.4019</td> <td>    0.187</td> <td>   -2.153</td> <td> 0.031</td> <td>   -0.768</td> <td>   -0.036</td>\n",
       "</tr>\n",
       "<tr>\n",
       "  <th>CustServCalls</th>   <td>    0.4850</td> <td>    0.046</td> <td>   10.486</td> <td> 0.000</td> <td>    0.394</td> <td>    0.576</td>\n",
       "</tr>\n",
       "<tr>\n",
       "  <th>DayCalls</th>        <td>    0.0023</td> <td>    0.003</td> <td>    0.692</td> <td> 0.489</td> <td>   -0.004</td> <td>    0.009</td>\n",
       "</tr>\n",
       "<tr>\n",
       "  <th>MonthlyCharge</th>   <td>    0.0743</td> <td>    0.007</td> <td>   10.906</td> <td> 0.000</td> <td>    0.061</td> <td>    0.088</td>\n",
       "</tr>\n",
       "<tr>\n",
       "  <th>RoamMins</th>        <td>    0.0554</td> <td>    0.025</td> <td>    2.197</td> <td> 0.028</td> <td>    0.006</td> <td>    0.105</td>\n",
       "</tr>\n",
       "</table>"
      ],
      "text/latex": [
       "\\begin{center}\n",
       "\\begin{tabular}{lclc}\n",
       "\\toprule\n",
       "\\textbf{Dep. Variable:}   &      Churn       & \\textbf{  No. Observations:  } &     2333    \\\\\n",
       "\\textbf{Model:}           &      Logit       & \\textbf{  Df Residuals:      } &     2324    \\\\\n",
       "\\textbf{Method:}          &       MLE        & \\textbf{  Df Model:          } &        8    \\\\\n",
       "\\textbf{Date:}            & Wed, 31 Jan 2024 & \\textbf{  Pseudo R-squ.:     } &   0.1988    \\\\\n",
       "\\textbf{Time:}            &     20:18:16     & \\textbf{  Log-Likelihood:    } &   -761.83   \\\\\n",
       "\\textbf{converged:}       &       True       & \\textbf{  LL-Null:           } &   -950.90   \\\\\n",
       "\\textbf{Covariance Type:} &    nonrobust     & \\textbf{  LLR p-value:       } & 8.873e-77   \\\\\n",
       "\\bottomrule\n",
       "\\end{tabular}\n",
       "\\begin{tabular}{lcccccc}\n",
       "                         & \\textbf{coef} & \\textbf{std err} & \\textbf{z} & \\textbf{P$> |$z$|$} & \\textbf{[0.025} & \\textbf{0.975]}  \\\\\n",
       "\\midrule\n",
       "\\textbf{const}           &      -5.6250  &        0.610     &    -9.228  &         0.000        &       -6.820    &       -4.430     \\\\\n",
       "\\textbf{AccountWeeks}    &       0.0010  &        0.002     &     0.605  &         0.545        &       -0.002    &        0.004     \\\\\n",
       "\\textbf{ContractRenewal} &      -1.8753  &        0.168     &   -11.181  &         0.000        &       -2.204    &       -1.547     \\\\\n",
       "\\textbf{DataPlan}        &      -1.8005  &        0.544     &    -3.308  &         0.001        &       -2.867    &       -0.734     \\\\\n",
       "\\textbf{DataUsage}       &      -0.4019  &        0.187     &    -2.153  &         0.031        &       -0.768    &       -0.036     \\\\\n",
       "\\textbf{CustServCalls}   &       0.4850  &        0.046     &    10.486  &         0.000        &        0.394    &        0.576     \\\\\n",
       "\\textbf{DayCalls}        &       0.0023  &        0.003     &     0.692  &         0.489        &       -0.004    &        0.009     \\\\\n",
       "\\textbf{MonthlyCharge}   &       0.0743  &        0.007     &    10.906  &         0.000        &        0.061    &        0.088     \\\\\n",
       "\\textbf{RoamMins}        &       0.0554  &        0.025     &     2.197  &         0.028        &        0.006    &        0.105     \\\\\n",
       "\\bottomrule\n",
       "\\end{tabular}\n",
       "%\\caption{Logit Regression Results}\n",
       "\\end{center}"
      ],
      "text/plain": [
       "<class 'statsmodels.iolib.summary.Summary'>\n",
       "\"\"\"\n",
       "                           Logit Regression Results                           \n",
       "==============================================================================\n",
       "Dep. Variable:                  Churn   No. Observations:                 2333\n",
       "Model:                          Logit   Df Residuals:                     2324\n",
       "Method:                           MLE   Df Model:                            8\n",
       "Date:                Wed, 31 Jan 2024   Pseudo R-squ.:                  0.1988\n",
       "Time:                        20:18:16   Log-Likelihood:                -761.83\n",
       "converged:                       True   LL-Null:                       -950.90\n",
       "Covariance Type:            nonrobust   LLR p-value:                 8.873e-77\n",
       "===================================================================================\n",
       "                      coef    std err          z      P>|z|      [0.025      0.975]\n",
       "-----------------------------------------------------------------------------------\n",
       "const              -5.6250      0.610     -9.228      0.000      -6.820      -4.430\n",
       "AccountWeeks        0.0010      0.002      0.605      0.545      -0.002       0.004\n",
       "ContractRenewal    -1.8753      0.168    -11.181      0.000      -2.204      -1.547\n",
       "DataPlan           -1.8005      0.544     -3.308      0.001      -2.867      -0.734\n",
       "DataUsage          -0.4019      0.187     -2.153      0.031      -0.768      -0.036\n",
       "CustServCalls       0.4850      0.046     10.486      0.000       0.394       0.576\n",
       "DayCalls            0.0023      0.003      0.692      0.489      -0.004       0.009\n",
       "MonthlyCharge       0.0743      0.007     10.906      0.000       0.061       0.088\n",
       "RoamMins            0.0554      0.025      2.197      0.028       0.006       0.105\n",
       "===================================================================================\n",
       "\"\"\""
      ]
     },
     "execution_count": 35,
     "metadata": {},
     "output_type": "execute_result"
    }
   ],
   "source": [
    "x_train2 = x_train1.drop('OverageFee', axis=1)\n",
    "logit = Logit(y_train, x_train2.astype('float')).fit()\n",
    "logit.summary()"
   ]
  },
  {
   "cell_type": "code",
   "execution_count": 36,
   "id": "3b1a3f1a",
   "metadata": {
    "ExecuteTime": {
     "end_time": "2024-01-31T14:48:39.247390Z",
     "start_time": "2024-01-31T14:48:39.100014Z"
    }
   },
   "outputs": [
    {
     "name": "stdout",
     "output_type": "stream",
     "text": [
      "Optimization terminated successfully.\n",
      "         Current function value: 0.326623\n",
      "         Iterations 7\n"
     ]
    },
    {
     "data": {
      "text/html": [
       "<table class=\"simpletable\">\n",
       "<caption>Logit Regression Results</caption>\n",
       "<tr>\n",
       "  <th>Dep. Variable:</th>         <td>Churn</td>      <th>  No. Observations:  </th>  <td>  2333</td>  \n",
       "</tr>\n",
       "<tr>\n",
       "  <th>Model:</th>                 <td>Logit</td>      <th>  Df Residuals:      </th>  <td>  2325</td>  \n",
       "</tr>\n",
       "<tr>\n",
       "  <th>Method:</th>                 <td>MLE</td>       <th>  Df Model:          </th>  <td>     7</td>  \n",
       "</tr>\n",
       "<tr>\n",
       "  <th>Date:</th>            <td>Wed, 31 Jan 2024</td> <th>  Pseudo R-squ.:     </th>  <td>0.1986</td>  \n",
       "</tr>\n",
       "<tr>\n",
       "  <th>Time:</th>                <td>20:18:39</td>     <th>  Log-Likelihood:    </th> <td> -762.01</td> \n",
       "</tr>\n",
       "<tr>\n",
       "  <th>converged:</th>             <td>True</td>       <th>  LL-Null:           </th> <td> -950.90</td> \n",
       "</tr>\n",
       "<tr>\n",
       "  <th>Covariance Type:</th>     <td>nonrobust</td>    <th>  LLR p-value:       </th> <td>1.392e-77</td>\n",
       "</tr>\n",
       "</table>\n",
       "<table class=\"simpletable\">\n",
       "<tr>\n",
       "         <td></td>            <th>coef</th>     <th>std err</th>      <th>z</th>      <th>P>|z|</th>  <th>[0.025</th>    <th>0.975]</th>  \n",
       "</tr>\n",
       "<tr>\n",
       "  <th>const</th>           <td>   -5.5214</td> <td>    0.584</td> <td>   -9.451</td> <td> 0.000</td> <td>   -6.666</td> <td>   -4.376</td>\n",
       "</tr>\n",
       "<tr>\n",
       "  <th>ContractRenewal</th> <td>   -1.8795</td> <td>    0.168</td> <td>  -11.215</td> <td> 0.000</td> <td>   -2.208</td> <td>   -1.551</td>\n",
       "</tr>\n",
       "<tr>\n",
       "  <th>DataPlan</th>        <td>   -1.7965</td> <td>    0.544</td> <td>   -3.301</td> <td> 0.001</td> <td>   -2.863</td> <td>   -0.730</td>\n",
       "</tr>\n",
       "<tr>\n",
       "  <th>DataUsage</th>       <td>   -0.4022</td> <td>    0.187</td> <td>   -2.153</td> <td> 0.031</td> <td>   -0.768</td> <td>   -0.036</td>\n",
       "</tr>\n",
       "<tr>\n",
       "  <th>CustServCalls</th>   <td>    0.4860</td> <td>    0.046</td> <td>   10.512</td> <td> 0.000</td> <td>    0.395</td> <td>    0.577</td>\n",
       "</tr>\n",
       "<tr>\n",
       "  <th>DayCalls</th>        <td>    0.0023</td> <td>    0.003</td> <td>    0.701</td> <td> 0.483</td> <td>   -0.004</td> <td>    0.009</td>\n",
       "</tr>\n",
       "<tr>\n",
       "  <th>MonthlyCharge</th>   <td>    0.0743</td> <td>    0.007</td> <td>   10.907</td> <td> 0.000</td> <td>    0.061</td> <td>    0.088</td>\n",
       "</tr>\n",
       "<tr>\n",
       "  <th>RoamMins</th>        <td>    0.0553</td> <td>    0.025</td> <td>    2.194</td> <td> 0.028</td> <td>    0.006</td> <td>    0.105</td>\n",
       "</tr>\n",
       "</table>"
      ],
      "text/latex": [
       "\\begin{center}\n",
       "\\begin{tabular}{lclc}\n",
       "\\toprule\n",
       "\\textbf{Dep. Variable:}   &      Churn       & \\textbf{  No. Observations:  } &     2333    \\\\\n",
       "\\textbf{Model:}           &      Logit       & \\textbf{  Df Residuals:      } &     2325    \\\\\n",
       "\\textbf{Method:}          &       MLE        & \\textbf{  Df Model:          } &        7    \\\\\n",
       "\\textbf{Date:}            & Wed, 31 Jan 2024 & \\textbf{  Pseudo R-squ.:     } &   0.1986    \\\\\n",
       "\\textbf{Time:}            &     20:18:39     & \\textbf{  Log-Likelihood:    } &   -762.01   \\\\\n",
       "\\textbf{converged:}       &       True       & \\textbf{  LL-Null:           } &   -950.90   \\\\\n",
       "\\textbf{Covariance Type:} &    nonrobust     & \\textbf{  LLR p-value:       } & 1.392e-77   \\\\\n",
       "\\bottomrule\n",
       "\\end{tabular}\n",
       "\\begin{tabular}{lcccccc}\n",
       "                         & \\textbf{coef} & \\textbf{std err} & \\textbf{z} & \\textbf{P$> |$z$|$} & \\textbf{[0.025} & \\textbf{0.975]}  \\\\\n",
       "\\midrule\n",
       "\\textbf{const}           &      -5.5214  &        0.584     &    -9.451  &         0.000        &       -6.666    &       -4.376     \\\\\n",
       "\\textbf{ContractRenewal} &      -1.8795  &        0.168     &   -11.215  &         0.000        &       -2.208    &       -1.551     \\\\\n",
       "\\textbf{DataPlan}        &      -1.7965  &        0.544     &    -3.301  &         0.001        &       -2.863    &       -0.730     \\\\\n",
       "\\textbf{DataUsage}       &      -0.4022  &        0.187     &    -2.153  &         0.031        &       -0.768    &       -0.036     \\\\\n",
       "\\textbf{CustServCalls}   &       0.4860  &        0.046     &    10.512  &         0.000        &        0.395    &        0.577     \\\\\n",
       "\\textbf{DayCalls}        &       0.0023  &        0.003     &     0.701  &         0.483        &       -0.004    &        0.009     \\\\\n",
       "\\textbf{MonthlyCharge}   &       0.0743  &        0.007     &    10.907  &         0.000        &        0.061    &        0.088     \\\\\n",
       "\\textbf{RoamMins}        &       0.0553  &        0.025     &     2.194  &         0.028        &        0.006    &        0.105     \\\\\n",
       "\\bottomrule\n",
       "\\end{tabular}\n",
       "%\\caption{Logit Regression Results}\n",
       "\\end{center}"
      ],
      "text/plain": [
       "<class 'statsmodels.iolib.summary.Summary'>\n",
       "\"\"\"\n",
       "                           Logit Regression Results                           \n",
       "==============================================================================\n",
       "Dep. Variable:                  Churn   No. Observations:                 2333\n",
       "Model:                          Logit   Df Residuals:                     2325\n",
       "Method:                           MLE   Df Model:                            7\n",
       "Date:                Wed, 31 Jan 2024   Pseudo R-squ.:                  0.1986\n",
       "Time:                        20:18:39   Log-Likelihood:                -762.01\n",
       "converged:                       True   LL-Null:                       -950.90\n",
       "Covariance Type:            nonrobust   LLR p-value:                 1.392e-77\n",
       "===================================================================================\n",
       "                      coef    std err          z      P>|z|      [0.025      0.975]\n",
       "-----------------------------------------------------------------------------------\n",
       "const              -5.5214      0.584     -9.451      0.000      -6.666      -4.376\n",
       "ContractRenewal    -1.8795      0.168    -11.215      0.000      -2.208      -1.551\n",
       "DataPlan           -1.7965      0.544     -3.301      0.001      -2.863      -0.730\n",
       "DataUsage          -0.4022      0.187     -2.153      0.031      -0.768      -0.036\n",
       "CustServCalls       0.4860      0.046     10.512      0.000       0.395       0.577\n",
       "DayCalls            0.0023      0.003      0.701      0.483      -0.004       0.009\n",
       "MonthlyCharge       0.0743      0.007     10.907      0.000       0.061       0.088\n",
       "RoamMins            0.0553      0.025      2.194      0.028       0.006       0.105\n",
       "===================================================================================\n",
       "\"\"\""
      ]
     },
     "execution_count": 36,
     "metadata": {},
     "output_type": "execute_result"
    }
   ],
   "source": [
    "x_train3 = x_train2.drop('AccountWeeks', axis=1)\n",
    "logit = Logit(y_train, x_train3.astype('float')).fit()\n",
    "logit.summary()"
   ]
  },
  {
   "cell_type": "code",
   "execution_count": 38,
   "id": "f827ab30",
   "metadata": {
    "ExecuteTime": {
     "end_time": "2024-01-31T14:49:11.094402Z",
     "start_time": "2024-01-31T14:49:10.930102Z"
    }
   },
   "outputs": [
    {
     "name": "stdout",
     "output_type": "stream",
     "text": [
      "Optimization terminated successfully.\n",
      "         Current function value: 0.326728\n",
      "         Iterations 7\n"
     ]
    },
    {
     "data": {
      "text/html": [
       "<table class=\"simpletable\">\n",
       "<caption>Logit Regression Results</caption>\n",
       "<tr>\n",
       "  <th>Dep. Variable:</th>         <td>Churn</td>      <th>  No. Observations:  </th>  <td>  2333</td>  \n",
       "</tr>\n",
       "<tr>\n",
       "  <th>Model:</th>                 <td>Logit</td>      <th>  Df Residuals:      </th>  <td>  2326</td>  \n",
       "</tr>\n",
       "<tr>\n",
       "  <th>Method:</th>                 <td>MLE</td>       <th>  Df Model:          </th>  <td>     6</td>  \n",
       "</tr>\n",
       "<tr>\n",
       "  <th>Date:</th>            <td>Wed, 31 Jan 2024</td> <th>  Pseudo R-squ.:     </th>  <td>0.1984</td>  \n",
       "</tr>\n",
       "<tr>\n",
       "  <th>Time:</th>                <td>20:19:10</td>     <th>  Log-Likelihood:    </th> <td> -762.26</td> \n",
       "</tr>\n",
       "<tr>\n",
       "  <th>converged:</th>             <td>True</td>       <th>  LL-Null:           </th> <td> -950.90</td> \n",
       "</tr>\n",
       "<tr>\n",
       "  <th>Covariance Type:</th>     <td>nonrobust</td>    <th>  LLR p-value:       </th> <td>2.141e-78</td>\n",
       "</tr>\n",
       "</table>\n",
       "<table class=\"simpletable\">\n",
       "<tr>\n",
       "         <td></td>            <th>coef</th>     <th>std err</th>      <th>z</th>      <th>P>|z|</th>  <th>[0.025</th>    <th>0.975]</th>  \n",
       "</tr>\n",
       "<tr>\n",
       "  <th>const</th>           <td>   -5.2889</td> <td>    0.479</td> <td>  -11.042</td> <td> 0.000</td> <td>   -6.228</td> <td>   -4.350</td>\n",
       "</tr>\n",
       "<tr>\n",
       "  <th>ContractRenewal</th> <td>   -1.8785</td> <td>    0.168</td> <td>  -11.207</td> <td> 0.000</td> <td>   -2.207</td> <td>   -1.550</td>\n",
       "</tr>\n",
       "<tr>\n",
       "  <th>DataPlan</th>        <td>   -1.7939</td> <td>    0.544</td> <td>   -3.299</td> <td> 0.001</td> <td>   -2.860</td> <td>   -0.728</td>\n",
       "</tr>\n",
       "<tr>\n",
       "  <th>DataUsage</th>       <td>   -0.4037</td> <td>    0.187</td> <td>   -2.163</td> <td> 0.031</td> <td>   -0.769</td> <td>   -0.038</td>\n",
       "</tr>\n",
       "<tr>\n",
       "  <th>CustServCalls</th>   <td>    0.4852</td> <td>    0.046</td> <td>   10.507</td> <td> 0.000</td> <td>    0.395</td> <td>    0.576</td>\n",
       "</tr>\n",
       "<tr>\n",
       "  <th>MonthlyCharge</th>   <td>    0.0743</td> <td>    0.007</td> <td>   10.902</td> <td> 0.000</td> <td>    0.061</td> <td>    0.088</td>\n",
       "</tr>\n",
       "<tr>\n",
       "  <th>RoamMins</th>        <td>    0.0555</td> <td>    0.025</td> <td>    2.203</td> <td> 0.028</td> <td>    0.006</td> <td>    0.105</td>\n",
       "</tr>\n",
       "</table>"
      ],
      "text/latex": [
       "\\begin{center}\n",
       "\\begin{tabular}{lclc}\n",
       "\\toprule\n",
       "\\textbf{Dep. Variable:}   &      Churn       & \\textbf{  No. Observations:  } &     2333    \\\\\n",
       "\\textbf{Model:}           &      Logit       & \\textbf{  Df Residuals:      } &     2326    \\\\\n",
       "\\textbf{Method:}          &       MLE        & \\textbf{  Df Model:          } &        6    \\\\\n",
       "\\textbf{Date:}            & Wed, 31 Jan 2024 & \\textbf{  Pseudo R-squ.:     } &   0.1984    \\\\\n",
       "\\textbf{Time:}            &     20:19:10     & \\textbf{  Log-Likelihood:    } &   -762.26   \\\\\n",
       "\\textbf{converged:}       &       True       & \\textbf{  LL-Null:           } &   -950.90   \\\\\n",
       "\\textbf{Covariance Type:} &    nonrobust     & \\textbf{  LLR p-value:       } & 2.141e-78   \\\\\n",
       "\\bottomrule\n",
       "\\end{tabular}\n",
       "\\begin{tabular}{lcccccc}\n",
       "                         & \\textbf{coef} & \\textbf{std err} & \\textbf{z} & \\textbf{P$> |$z$|$} & \\textbf{[0.025} & \\textbf{0.975]}  \\\\\n",
       "\\midrule\n",
       "\\textbf{const}           &      -5.2889  &        0.479     &   -11.042  &         0.000        &       -6.228    &       -4.350     \\\\\n",
       "\\textbf{ContractRenewal} &      -1.8785  &        0.168     &   -11.207  &         0.000        &       -2.207    &       -1.550     \\\\\n",
       "\\textbf{DataPlan}        &      -1.7939  &        0.544     &    -3.299  &         0.001        &       -2.860    &       -0.728     \\\\\n",
       "\\textbf{DataUsage}       &      -0.4037  &        0.187     &    -2.163  &         0.031        &       -0.769    &       -0.038     \\\\\n",
       "\\textbf{CustServCalls}   &       0.4852  &        0.046     &    10.507  &         0.000        &        0.395    &        0.576     \\\\\n",
       "\\textbf{MonthlyCharge}   &       0.0743  &        0.007     &    10.902  &         0.000        &        0.061    &        0.088     \\\\\n",
       "\\textbf{RoamMins}        &       0.0555  &        0.025     &     2.203  &         0.028        &        0.006    &        0.105     \\\\\n",
       "\\bottomrule\n",
       "\\end{tabular}\n",
       "%\\caption{Logit Regression Results}\n",
       "\\end{center}"
      ],
      "text/plain": [
       "<class 'statsmodels.iolib.summary.Summary'>\n",
       "\"\"\"\n",
       "                           Logit Regression Results                           \n",
       "==============================================================================\n",
       "Dep. Variable:                  Churn   No. Observations:                 2333\n",
       "Model:                          Logit   Df Residuals:                     2326\n",
       "Method:                           MLE   Df Model:                            6\n",
       "Date:                Wed, 31 Jan 2024   Pseudo R-squ.:                  0.1984\n",
       "Time:                        20:19:10   Log-Likelihood:                -762.26\n",
       "converged:                       True   LL-Null:                       -950.90\n",
       "Covariance Type:            nonrobust   LLR p-value:                 2.141e-78\n",
       "===================================================================================\n",
       "                      coef    std err          z      P>|z|      [0.025      0.975]\n",
       "-----------------------------------------------------------------------------------\n",
       "const              -5.2889      0.479    -11.042      0.000      -6.228      -4.350\n",
       "ContractRenewal    -1.8785      0.168    -11.207      0.000      -2.207      -1.550\n",
       "DataPlan           -1.7939      0.544     -3.299      0.001      -2.860      -0.728\n",
       "DataUsage          -0.4037      0.187     -2.163      0.031      -0.769      -0.038\n",
       "CustServCalls       0.4852      0.046     10.507      0.000       0.395       0.576\n",
       "MonthlyCharge       0.0743      0.007     10.902      0.000       0.061       0.088\n",
       "RoamMins            0.0555      0.025      2.203      0.028       0.006       0.105\n",
       "===================================================================================\n",
       "\"\"\""
      ]
     },
     "execution_count": 38,
     "metadata": {},
     "output_type": "execute_result"
    }
   ],
   "source": [
    "x_train4 = x_train3.drop('DayCalls', axis=1)\n",
    "logit = Logit(y_train, x_train4.astype('float')).fit()\n",
    "logit.summary()"
   ]
  },
  {
   "cell_type": "code",
   "execution_count": 39,
   "id": "49c0fd57",
   "metadata": {
    "ExecuteTime": {
     "end_time": "2024-01-31T14:50:37.501546Z",
     "start_time": "2024-01-31T14:50:37.465116Z"
    }
   },
   "outputs": [
    {
     "data": {
      "text/plain": [
       "2016   -2.379205\n",
       "1362    0.122654\n",
       "2670   -1.037968\n",
       "2210   -0.220428\n",
       "1846   -3.087209\n",
       "          ...   \n",
       "1095   -3.776001\n",
       "1130   -0.185307\n",
       "1294   -3.850937\n",
       "860    -0.275230\n",
       "3174   -2.755804\n",
       "Length: 2333, dtype: float64"
      ]
     },
     "execution_count": 39,
     "metadata": {},
     "output_type": "execute_result"
    }
   ],
   "source": [
    "logit.fittedvalues"
   ]
  },
  {
   "cell_type": "code",
   "execution_count": 42,
   "id": "97500d87",
   "metadata": {
    "ExecuteTime": {
     "end_time": "2024-01-31T14:52:17.483888Z",
     "start_time": "2024-01-31T14:52:17.451781Z"
    }
   },
   "outputs": [],
   "source": [
    "pred_train = np.where(logit.predict(x_train4)>0.5, 1, 0)"
   ]
  },
  {
   "cell_type": "code",
   "execution_count": 43,
   "id": "7d0f69b2",
   "metadata": {
    "ExecuteTime": {
     "end_time": "2024-01-31T14:53:19.945848Z",
     "start_time": "2024-01-31T14:53:19.923591Z"
    }
   },
   "outputs": [],
   "source": [
    "x_test1 = x_test.drop(['DayMins', 'DayCalls', 'OverageFee', 'AccountWeeks'], axis=1)"
   ]
  },
  {
   "cell_type": "code",
   "execution_count": 45,
   "id": "8d0c13ed",
   "metadata": {
    "ExecuteTime": {
     "end_time": "2024-01-31T14:53:47.663554Z",
     "start_time": "2024-01-31T14:53:47.651991Z"
    }
   },
   "outputs": [],
   "source": [
    "pred_test = np.where(logit.predict(x_test1) > 0.5, 1, 0)"
   ]
  },
  {
   "cell_type": "code",
   "execution_count": null,
   "id": "f94728bb",
   "metadata": {},
   "outputs": [],
   "source": []
  },
  {
   "cell_type": "code",
   "execution_count": 46,
   "id": "2efd89c3",
   "metadata": {
    "ExecuteTime": {
     "end_time": "2024-01-31T14:54:27.697939Z",
     "start_time": "2024-01-31T14:54:27.654957Z"
    }
   },
   "outputs": [
    {
     "name": "stdout",
     "output_type": "stream",
     "text": [
      "              precision    recall  f1-score   support\n",
      "\n",
      "           0       0.88      0.98      0.92      2003\n",
      "           1       0.55      0.17      0.26       330\n",
      "\n",
      "    accuracy                           0.86      2333\n",
      "   macro avg       0.72      0.57      0.59      2333\n",
      "weighted avg       0.83      0.86      0.83      2333\n",
      "\n",
      "              precision    recall  f1-score   support\n",
      "\n",
      "           0       0.86      0.99      0.92       847\n",
      "           1       0.66      0.14      0.23       153\n",
      "\n",
      "    accuracy                           0.86      1000\n",
      "   macro avg       0.76      0.56      0.57      1000\n",
      "weighted avg       0.83      0.86      0.82      1000\n",
      "\n"
     ]
    }
   ],
   "source": [
    "print(metrics.classification_report(y_train, pred_train))\n",
    "print(metrics.classification_report(y_test, pred_test))"
   ]
  },
  {
   "cell_type": "code",
   "execution_count": null,
   "id": "5c12cd24",
   "metadata": {},
   "outputs": [],
   "source": []
  },
  {
   "cell_type": "code",
   "execution_count": null,
   "id": "8e94db5e",
   "metadata": {},
   "outputs": [],
   "source": []
  },
  {
   "cell_type": "code",
   "execution_count": null,
   "id": "cfbbc690",
   "metadata": {},
   "outputs": [],
   "source": []
  },
  {
   "cell_type": "code",
   "execution_count": null,
   "id": "54c4c5f3",
   "metadata": {},
   "outputs": [],
   "source": []
  },
  {
   "cell_type": "code",
   "execution_count": null,
   "id": "45d3ccba",
   "metadata": {},
   "outputs": [],
   "source": []
  },
  {
   "cell_type": "code",
   "execution_count": null,
   "id": "1c25aedf",
   "metadata": {},
   "outputs": [],
   "source": []
  },
  {
   "cell_type": "code",
   "execution_count": null,
   "id": "80a20240",
   "metadata": {},
   "outputs": [],
   "source": []
  },
  {
   "cell_type": "code",
   "execution_count": null,
   "id": "0aa3c4f0",
   "metadata": {},
   "outputs": [],
   "source": []
  },
  {
   "cell_type": "code",
   "execution_count": null,
   "id": "d624774e",
   "metadata": {},
   "outputs": [],
   "source": []
  },
  {
   "cell_type": "code",
   "execution_count": null,
   "id": "e35464a8",
   "metadata": {},
   "outputs": [],
   "source": []
  },
  {
   "cell_type": "code",
   "execution_count": null,
   "id": "3964df8e",
   "metadata": {},
   "outputs": [],
   "source": []
  },
  {
   "cell_type": "code",
   "execution_count": null,
   "id": "b5cc1ba8",
   "metadata": {},
   "outputs": [],
   "source": []
  },
  {
   "cell_type": "code",
   "execution_count": null,
   "id": "584ca2cf",
   "metadata": {},
   "outputs": [],
   "source": []
  },
  {
   "cell_type": "code",
   "execution_count": null,
   "id": "851578f4",
   "metadata": {},
   "outputs": [],
   "source": []
  },
  {
   "cell_type": "code",
   "execution_count": null,
   "id": "afe84117",
   "metadata": {},
   "outputs": [],
   "source": []
  },
  {
   "cell_type": "code",
   "execution_count": null,
   "id": "c552bf8b",
   "metadata": {},
   "outputs": [],
   "source": []
  },
  {
   "cell_type": "code",
   "execution_count": null,
   "id": "b0b15316",
   "metadata": {},
   "outputs": [],
   "source": []
  },
  {
   "cell_type": "code",
   "execution_count": null,
   "id": "cd50e51d",
   "metadata": {},
   "outputs": [],
   "source": []
  },
  {
   "cell_type": "code",
   "execution_count": null,
   "id": "1173b551",
   "metadata": {},
   "outputs": [],
   "source": []
  },
  {
   "cell_type": "code",
   "execution_count": null,
   "id": "0b3a14ab",
   "metadata": {},
   "outputs": [],
   "source": []
  },
  {
   "cell_type": "code",
   "execution_count": null,
   "id": "cde1b3c9",
   "metadata": {},
   "outputs": [],
   "source": []
  },
  {
   "cell_type": "code",
   "execution_count": null,
   "id": "4e093d29",
   "metadata": {},
   "outputs": [],
   "source": []
  },
  {
   "cell_type": "code",
   "execution_count": null,
   "id": "afcd4682",
   "metadata": {},
   "outputs": [],
   "source": []
  },
  {
   "cell_type": "code",
   "execution_count": null,
   "id": "f18bbcaf",
   "metadata": {},
   "outputs": [],
   "source": []
  },
  {
   "cell_type": "code",
   "execution_count": null,
   "id": "331dc39c",
   "metadata": {},
   "outputs": [],
   "source": []
  },
  {
   "cell_type": "code",
   "execution_count": null,
   "id": "36693a3e",
   "metadata": {},
   "outputs": [],
   "source": []
  },
  {
   "cell_type": "code",
   "execution_count": null,
   "id": "ef7aaced",
   "metadata": {},
   "outputs": [],
   "source": []
  },
  {
   "cell_type": "code",
   "execution_count": null,
   "id": "5f332586",
   "metadata": {},
   "outputs": [],
   "source": []
  },
  {
   "cell_type": "code",
   "execution_count": null,
   "id": "8cb20c1a",
   "metadata": {},
   "outputs": [],
   "source": []
  },
  {
   "cell_type": "code",
   "execution_count": null,
   "id": "b5fddd28",
   "metadata": {},
   "outputs": [],
   "source": []
  },
  {
   "cell_type": "code",
   "execution_count": null,
   "id": "44d7b4ee",
   "metadata": {},
   "outputs": [],
   "source": []
  },
  {
   "cell_type": "code",
   "execution_count": null,
   "id": "c45dfcf2",
   "metadata": {},
   "outputs": [],
   "source": []
  },
  {
   "cell_type": "code",
   "execution_count": null,
   "id": "4e9f74d7",
   "metadata": {},
   "outputs": [],
   "source": []
  },
  {
   "cell_type": "code",
   "execution_count": null,
   "id": "4a7e2dd5",
   "metadata": {},
   "outputs": [],
   "source": []
  },
  {
   "cell_type": "code",
   "execution_count": null,
   "id": "9c899d56",
   "metadata": {},
   "outputs": [],
   "source": []
  }
 ],
 "metadata": {
  "kernelspec": {
   "display_name": "Python 3 (ipykernel)",
   "language": "python",
   "name": "python3"
  },
  "language_info": {
   "codemirror_mode": {
    "name": "ipython",
    "version": 3
   },
   "file_extension": ".py",
   "mimetype": "text/x-python",
   "name": "python",
   "nbconvert_exporter": "python",
   "pygments_lexer": "ipython3",
   "version": "3.11.5"
  },
  "varInspector": {
   "cols": {
    "lenName": 16,
    "lenType": 16,
    "lenVar": 40
   },
   "kernels_config": {
    "python": {
     "delete_cmd_postfix": "",
     "delete_cmd_prefix": "del ",
     "library": "var_list.py",
     "varRefreshCmd": "print(var_dic_list())"
    },
    "r": {
     "delete_cmd_postfix": ") ",
     "delete_cmd_prefix": "rm(",
     "library": "var_list.r",
     "varRefreshCmd": "cat(var_dic_list()) "
    }
   },
   "types_to_exclude": [
    "module",
    "function",
    "builtin_function_or_method",
    "instance",
    "_Feature"
   ],
   "window_display": false
  }
 },
 "nbformat": 4,
 "nbformat_minor": 5
}
