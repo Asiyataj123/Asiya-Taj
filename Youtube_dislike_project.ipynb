{
 "cells": [
  {
   "cell_type": "markdown",
   "id": "4444f765",
   "metadata": {},
   "source": [
    "###  Importing required libraries and reading the provided dataset (youtube_dislike_dataset.csv) and retrieving top\n",
    "###  5 and bottom 5 records."
   ]
  },
  {
   "cell_type": "code",
   "execution_count": 102,
   "id": "9610db54",
   "metadata": {
    "ExecuteTime": {
     "end_time": "2024-01-27T16:10:37.282322Z",
     "start_time": "2024-01-27T16:10:37.270891Z"
    }
   },
   "outputs": [],
   "source": [
    "#Importing all required libraries. \n",
    "import pandas as pd \n",
    "import numpy as np  \n",
    "import datetime as dt \n",
    "import matplotlib.pyplot as plt \n",
    "import seaborn as sns \n",
    "%matplotlib inline \n",
    "import warnings     \n",
    "warnings.filterwarnings(\"ignore\")  "
   ]
  },
  {
   "cell_type": "code",
   "execution_count": 103,
   "id": "fda6867b",
   "metadata": {
    "ExecuteTime": {
     "end_time": "2024-01-27T16:11:17.960875Z",
     "start_time": "2024-01-27T16:11:14.245350Z"
    }
   },
   "outputs": [
    {
     "data": {
      "text/html": [
       "<div>\n",
       "<style scoped>\n",
       "    .dataframe tbody tr th:only-of-type {\n",
       "        vertical-align: middle;\n",
       "    }\n",
       "\n",
       "    .dataframe tbody tr th {\n",
       "        vertical-align: top;\n",
       "    }\n",
       "\n",
       "    .dataframe thead th {\n",
       "        text-align: right;\n",
       "    }\n",
       "</style>\n",
       "<table border=\"1\" class=\"dataframe\">\n",
       "  <thead>\n",
       "    <tr style=\"text-align: right;\">\n",
       "      <th></th>\n",
       "      <th>video_id</th>\n",
       "      <th>title</th>\n",
       "      <th>channel_id</th>\n",
       "      <th>channel_title</th>\n",
       "      <th>published_at</th>\n",
       "      <th>view_count</th>\n",
       "      <th>likes</th>\n",
       "      <th>dislikes</th>\n",
       "      <th>comment_count</th>\n",
       "      <th>tags</th>\n",
       "      <th>description</th>\n",
       "      <th>comments</th>\n",
       "    </tr>\n",
       "  </thead>\n",
       "  <tbody>\n",
       "    <tr>\n",
       "      <th>0</th>\n",
       "      <td>--0bCF-iK2E</td>\n",
       "      <td>Jadon Sancho  Magical Skills &amp; Goals</td>\n",
       "      <td>UC6UL29enLNe4mqwTfAyeNuw</td>\n",
       "      <td>Bundesliga</td>\n",
       "      <td>01-07-2021 10:00</td>\n",
       "      <td>1048888</td>\n",
       "      <td>19515</td>\n",
       "      <td>226</td>\n",
       "      <td>1319</td>\n",
       "      <td>football soccer ftbol alemn Bundesliga season ...</td>\n",
       "      <td>Enjoy the best skills and goals from Jadon San...</td>\n",
       "      <td>Respect to Dortmund fans,must be sad losing hi...</td>\n",
       "    </tr>\n",
       "    <tr>\n",
       "      <th>1</th>\n",
       "      <td>--14w5SOEUs</td>\n",
       "      <td>Migos - Avalanche (Official Video)</td>\n",
       "      <td>UCGIelM2Dj3zza3xyV3pL3WQ</td>\n",
       "      <td>MigosVEVO</td>\n",
       "      <td>10-06-2021 16:00</td>\n",
       "      <td>15352638</td>\n",
       "      <td>359277</td>\n",
       "      <td>7479</td>\n",
       "      <td>18729</td>\n",
       "      <td>Migos Avalanche Quality Control Music/Motown R...</td>\n",
       "      <td>Watch the the official video for Migos - \"Aval...</td>\n",
       "      <td>Migos just makes me want to live my live to th...</td>\n",
       "    </tr>\n",
       "    <tr>\n",
       "      <th>2</th>\n",
       "      <td>--40TEbZ9Is</td>\n",
       "      <td>Supporting Actress in a Comedy: 73rd Emmys</td>\n",
       "      <td>UClBKH8yZRcM4AsRjDVEdjMg</td>\n",
       "      <td>Television Academy</td>\n",
       "      <td>20-09-2021 01:03</td>\n",
       "      <td>925281</td>\n",
       "      <td>11212</td>\n",
       "      <td>401</td>\n",
       "      <td>831</td>\n",
       "      <td></td>\n",
       "      <td>Hannah Waddingham wins the Emmy for Supporting...</td>\n",
       "      <td>Hannah's energy bursts through any screen. Wel...</td>\n",
       "    </tr>\n",
       "    <tr>\n",
       "      <th>3</th>\n",
       "      <td>--4tfbSyYDE</td>\n",
       "      <td>JO1'YOUNG (JO1 ver.)' PERFORMANCE VIDEO</td>\n",
       "      <td>UCsmXiDP8S40uBeJYxvyulmA</td>\n",
       "      <td>JO1</td>\n",
       "      <td>03-03-2021 10:00</td>\n",
       "      <td>2641597</td>\n",
       "      <td>39131</td>\n",
       "      <td>441</td>\n",
       "      <td>3745</td>\n",
       "      <td>PRODUCE101JAPAN              JO1   TheSTAR STA...</td>\n",
       "      <td>JO1'YOUNG (JO1 ver.)' PERFORMANCE VIDEO\\n\\n---...</td>\n",
       "      <td>youngVer&gt;&lt;  REN is really PERFECT. It's not ju...</td>\n",
       "    </tr>\n",
       "    <tr>\n",
       "      <th>4</th>\n",
       "      <td>#NAME?</td>\n",
       "      <td>Why Retaining Walls Collapse</td>\n",
       "      <td>UCMOqf8ab-42UUQIdVoKwjlQ</td>\n",
       "      <td>Practical Engineering</td>\n",
       "      <td>07-12-2021 13:00</td>\n",
       "      <td>715724</td>\n",
       "      <td>32887</td>\n",
       "      <td>367</td>\n",
       "      <td>1067</td>\n",
       "      <td>retaining wall New Jersey highway Direct Conne...</td>\n",
       "      <td>One of the most important (and innocuous) part...</td>\n",
       "      <td>Keep up with all my projects here: https://pr...</td>\n",
       "    </tr>\n",
       "    <tr>\n",
       "      <th>...</th>\n",
       "      <td>...</td>\n",
       "      <td>...</td>\n",
       "      <td>...</td>\n",
       "      <td>...</td>\n",
       "      <td>...</td>\n",
       "      <td>...</td>\n",
       "      <td>...</td>\n",
       "      <td>...</td>\n",
       "      <td>...</td>\n",
       "      <td>...</td>\n",
       "      <td>...</td>\n",
       "      <td>...</td>\n",
       "    </tr>\n",
       "    <tr>\n",
       "      <th>37417</th>\n",
       "      <td>zzd4ydafGR0</td>\n",
       "      <td>Lil Tjay - Calling My Phone (feat. 6LACK) [Off...</td>\n",
       "      <td>UCEB4a5o_6KfjxHwNMnmj54Q</td>\n",
       "      <td>Lil Tjay</td>\n",
       "      <td>12-02-2021 05:03</td>\n",
       "      <td>120408275</td>\n",
       "      <td>2180780</td>\n",
       "      <td>35871</td>\n",
       "      <td>81360</td>\n",
       "      <td>Lil Tjay Steady Calling My Phone Calling My Ph...</td>\n",
       "      <td>Official video for \"Calling My Phone\" by Lil T...</td>\n",
       "      <td>'DESTINED 2 WIN' OUT NOW !! https://liltjay.ln...</td>\n",
       "    </tr>\n",
       "    <tr>\n",
       "      <th>37418</th>\n",
       "      <td>zziBybeSAtw</td>\n",
       "      <td>PELICANS at LAKERS | FULL GAME HIGHLIGHTS | Ja...</td>\n",
       "      <td>UCWJ2lWNubArHWmf3FIHbfcQ</td>\n",
       "      <td>NBA</td>\n",
       "      <td>16-01-2021 05:39</td>\n",
       "      <td>2841917</td>\n",
       "      <td>20759</td>\n",
       "      <td>1049</td>\n",
       "      <td>2624</td>\n",
       "      <td>NBA G League Basketball game-0022000187 Lakers...</td>\n",
       "      <td>PELICANS at LAKERS | FULL GAME HIGHLIGHTS | Ja...</td>\n",
       "      <td>Montrezl Harrell is going crazy with the rebou...</td>\n",
       "    </tr>\n",
       "    <tr>\n",
       "      <th>37419</th>\n",
       "      <td>zzk09ESX7e0</td>\n",
       "      <td>[MV]  (MAMAMOO) - Where Are We Now</td>\n",
       "      <td>UCuhAUMLzJxlP1W7mEk0_6lA</td>\n",
       "      <td>MAMAMOO</td>\n",
       "      <td>02-06-2021 09:00</td>\n",
       "      <td>13346678</td>\n",
       "      <td>720854</td>\n",
       "      <td>4426</td>\n",
       "      <td>90616</td>\n",
       "      <td>MAMAMOO  WAW  WAW MAMAMOO WAW Where Are We Now...</td>\n",
       "      <td>[MV]  (MAMAMOO) - Where Are We Now\\n\\nInstagra...</td>\n",
       "      <td>I honestly do not know why this song hit so ha...</td>\n",
       "    </tr>\n",
       "    <tr>\n",
       "      <th>37420</th>\n",
       "      <td>zzmQEb0Em5I</td>\n",
       "      <td>FELLIPE ESCUDERO- Master Podcast  #12</td>\n",
       "      <td>UC8NjnNWMsRqq11NYvHAQb1g</td>\n",
       "      <td>Master Podcast</td>\n",
       "      <td>20-10-2020 20:59</td>\n",
       "      <td>252057</td>\n",
       "      <td>19198</td>\n",
       "      <td>1234</td>\n",
       "      <td>1471</td>\n",
       "      <td>master masterpodcast lord lord vinheteiro z z ...</td>\n",
       "      <td>DOCTOR HAIR\\nhttps://www.thedoctorhair.com/?fb...</td>\n",
       "      <td>Foi um prazer passar esta tarde com vocs debat...</td>\n",
       "    </tr>\n",
       "    <tr>\n",
       "      <th>37421</th>\n",
       "      <td>zzxPZwaA-8w</td>\n",
       "      <td>Gareth Bale brace secures dramatic comeback on...</td>\n",
       "      <td>UCEg25rdRZXg32iwai6N6l0w</td>\n",
       "      <td>Tottenham Hotspur</td>\n",
       "      <td>23-05-2021 21:00</td>\n",
       "      <td>2252090</td>\n",
       "      <td>34063</td>\n",
       "      <td>868</td>\n",
       "      <td>2004</td>\n",
       "      <td>Spurs Tottenham Hotspur   Tottenham Leicester ...</td>\n",
       "      <td>Two minute highlights from Tottenham Hotspur's...</td>\n",
       "      <td>Thank you Kane for everything you have given t...</td>\n",
       "    </tr>\n",
       "  </tbody>\n",
       "</table>\n",
       "<p>37422 rows × 12 columns</p>\n",
       "</div>"
      ],
      "text/plain": [
       "          video_id                                              title  \\\n",
       "0      --0bCF-iK2E               Jadon Sancho  Magical Skills & Goals   \n",
       "1      --14w5SOEUs                 Migos - Avalanche (Official Video)   \n",
       "2      --40TEbZ9Is         Supporting Actress in a Comedy: 73rd Emmys   \n",
       "3      --4tfbSyYDE            JO1'YOUNG (JO1 ver.)' PERFORMANCE VIDEO   \n",
       "4           #NAME?                       Why Retaining Walls Collapse   \n",
       "...            ...                                                ...   \n",
       "37417  zzd4ydafGR0  Lil Tjay - Calling My Phone (feat. 6LACK) [Off...   \n",
       "37418  zziBybeSAtw  PELICANS at LAKERS | FULL GAME HIGHLIGHTS | Ja...   \n",
       "37419  zzk09ESX7e0                 [MV]  (MAMAMOO) - Where Are We Now   \n",
       "37420  zzmQEb0Em5I              FELLIPE ESCUDERO- Master Podcast  #12   \n",
       "37421  zzxPZwaA-8w  Gareth Bale brace secures dramatic comeback on...   \n",
       "\n",
       "                     channel_id          channel_title      published_at  \\\n",
       "0      UC6UL29enLNe4mqwTfAyeNuw             Bundesliga  01-07-2021 10:00   \n",
       "1      UCGIelM2Dj3zza3xyV3pL3WQ              MigosVEVO  10-06-2021 16:00   \n",
       "2      UClBKH8yZRcM4AsRjDVEdjMg     Television Academy  20-09-2021 01:03   \n",
       "3      UCsmXiDP8S40uBeJYxvyulmA                    JO1  03-03-2021 10:00   \n",
       "4      UCMOqf8ab-42UUQIdVoKwjlQ  Practical Engineering  07-12-2021 13:00   \n",
       "...                         ...                    ...               ...   \n",
       "37417  UCEB4a5o_6KfjxHwNMnmj54Q               Lil Tjay  12-02-2021 05:03   \n",
       "37418  UCWJ2lWNubArHWmf3FIHbfcQ                    NBA  16-01-2021 05:39   \n",
       "37419  UCuhAUMLzJxlP1W7mEk0_6lA                MAMAMOO  02-06-2021 09:00   \n",
       "37420  UC8NjnNWMsRqq11NYvHAQb1g         Master Podcast  20-10-2020 20:59   \n",
       "37421  UCEg25rdRZXg32iwai6N6l0w      Tottenham Hotspur  23-05-2021 21:00   \n",
       "\n",
       "       view_count    likes  dislikes  comment_count  \\\n",
       "0         1048888    19515       226           1319   \n",
       "1        15352638   359277      7479          18729   \n",
       "2          925281    11212       401            831   \n",
       "3         2641597    39131       441           3745   \n",
       "4          715724    32887       367           1067   \n",
       "...           ...      ...       ...            ...   \n",
       "37417   120408275  2180780     35871          81360   \n",
       "37418     2841917    20759      1049           2624   \n",
       "37419    13346678   720854      4426          90616   \n",
       "37420      252057    19198      1234           1471   \n",
       "37421     2252090    34063       868           2004   \n",
       "\n",
       "                                                    tags  \\\n",
       "0      football soccer ftbol alemn Bundesliga season ...   \n",
       "1      Migos Avalanche Quality Control Music/Motown R...   \n",
       "2                                                          \n",
       "3      PRODUCE101JAPAN              JO1   TheSTAR STA...   \n",
       "4      retaining wall New Jersey highway Direct Conne...   \n",
       "...                                                  ...   \n",
       "37417  Lil Tjay Steady Calling My Phone Calling My Ph...   \n",
       "37418  NBA G League Basketball game-0022000187 Lakers...   \n",
       "37419  MAMAMOO  WAW  WAW MAMAMOO WAW Where Are We Now...   \n",
       "37420  master masterpodcast lord lord vinheteiro z z ...   \n",
       "37421  Spurs Tottenham Hotspur   Tottenham Leicester ...   \n",
       "\n",
       "                                             description  \\\n",
       "0      Enjoy the best skills and goals from Jadon San...   \n",
       "1      Watch the the official video for Migos - \"Aval...   \n",
       "2      Hannah Waddingham wins the Emmy for Supporting...   \n",
       "3      JO1'YOUNG (JO1 ver.)' PERFORMANCE VIDEO\\n\\n---...   \n",
       "4      One of the most important (and innocuous) part...   \n",
       "...                                                  ...   \n",
       "37417  Official video for \"Calling My Phone\" by Lil T...   \n",
       "37418  PELICANS at LAKERS | FULL GAME HIGHLIGHTS | Ja...   \n",
       "37419  [MV]  (MAMAMOO) - Where Are We Now\\n\\nInstagra...   \n",
       "37420  DOCTOR HAIR\\nhttps://www.thedoctorhair.com/?fb...   \n",
       "37421  Two minute highlights from Tottenham Hotspur's...   \n",
       "\n",
       "                                                comments  \n",
       "0      Respect to Dortmund fans,must be sad losing hi...  \n",
       "1      Migos just makes me want to live my live to th...  \n",
       "2      Hannah's energy bursts through any screen. Wel...  \n",
       "3      youngVer><  REN is really PERFECT. It's not ju...  \n",
       "4       Keep up with all my projects here: https://pr...  \n",
       "...                                                  ...  \n",
       "37417  'DESTINED 2 WIN' OUT NOW !! https://liltjay.ln...  \n",
       "37418  Montrezl Harrell is going crazy with the rebou...  \n",
       "37419  I honestly do not know why this song hit so ha...  \n",
       "37420  Foi um prazer passar esta tarde com vocs debat...  \n",
       "37421  Thank you Kane for everything you have given t...  \n",
       "\n",
       "[37422 rows x 12 columns]"
      ]
     },
     "execution_count": 103,
     "metadata": {},
     "output_type": "execute_result"
    }
   ],
   "source": [
    "#Reading the csv file as df .\n",
    "df=pd.read_csv(r\"C:/Users/tabre/OneDrive/GL_Python/Python_Week1/python_week1_sir/week3_Pandas/Week3_PANDAS/youtube_dislike_dataset.csv\")\n",
    "df"
   ]
  },
  {
   "cell_type": "code",
   "execution_count": 104,
   "id": "de9436e7",
   "metadata": {
    "ExecuteTime": {
     "end_time": "2024-01-27T16:11:22.231764Z",
     "start_time": "2024-01-27T16:11:22.204957Z"
    }
   },
   "outputs": [
    {
     "data": {
      "text/html": [
       "<div>\n",
       "<style scoped>\n",
       "    .dataframe tbody tr th:only-of-type {\n",
       "        vertical-align: middle;\n",
       "    }\n",
       "\n",
       "    .dataframe tbody tr th {\n",
       "        vertical-align: top;\n",
       "    }\n",
       "\n",
       "    .dataframe thead th {\n",
       "        text-align: right;\n",
       "    }\n",
       "</style>\n",
       "<table border=\"1\" class=\"dataframe\">\n",
       "  <thead>\n",
       "    <tr style=\"text-align: right;\">\n",
       "      <th></th>\n",
       "      <th>video_id</th>\n",
       "      <th>title</th>\n",
       "      <th>channel_id</th>\n",
       "      <th>channel_title</th>\n",
       "      <th>published_at</th>\n",
       "      <th>view_count</th>\n",
       "      <th>likes</th>\n",
       "      <th>dislikes</th>\n",
       "      <th>comment_count</th>\n",
       "      <th>tags</th>\n",
       "      <th>description</th>\n",
       "      <th>comments</th>\n",
       "    </tr>\n",
       "  </thead>\n",
       "  <tbody>\n",
       "    <tr>\n",
       "      <th>0</th>\n",
       "      <td>--0bCF-iK2E</td>\n",
       "      <td>Jadon Sancho  Magical Skills &amp; Goals</td>\n",
       "      <td>UC6UL29enLNe4mqwTfAyeNuw</td>\n",
       "      <td>Bundesliga</td>\n",
       "      <td>01-07-2021 10:00</td>\n",
       "      <td>1048888</td>\n",
       "      <td>19515</td>\n",
       "      <td>226</td>\n",
       "      <td>1319</td>\n",
       "      <td>football soccer ftbol alemn Bundesliga season ...</td>\n",
       "      <td>Enjoy the best skills and goals from Jadon San...</td>\n",
       "      <td>Respect to Dortmund fans,must be sad losing hi...</td>\n",
       "    </tr>\n",
       "    <tr>\n",
       "      <th>1</th>\n",
       "      <td>--14w5SOEUs</td>\n",
       "      <td>Migos - Avalanche (Official Video)</td>\n",
       "      <td>UCGIelM2Dj3zza3xyV3pL3WQ</td>\n",
       "      <td>MigosVEVO</td>\n",
       "      <td>10-06-2021 16:00</td>\n",
       "      <td>15352638</td>\n",
       "      <td>359277</td>\n",
       "      <td>7479</td>\n",
       "      <td>18729</td>\n",
       "      <td>Migos Avalanche Quality Control Music/Motown R...</td>\n",
       "      <td>Watch the the official video for Migos - \"Aval...</td>\n",
       "      <td>Migos just makes me want to live my live to th...</td>\n",
       "    </tr>\n",
       "    <tr>\n",
       "      <th>2</th>\n",
       "      <td>--40TEbZ9Is</td>\n",
       "      <td>Supporting Actress in a Comedy: 73rd Emmys</td>\n",
       "      <td>UClBKH8yZRcM4AsRjDVEdjMg</td>\n",
       "      <td>Television Academy</td>\n",
       "      <td>20-09-2021 01:03</td>\n",
       "      <td>925281</td>\n",
       "      <td>11212</td>\n",
       "      <td>401</td>\n",
       "      <td>831</td>\n",
       "      <td></td>\n",
       "      <td>Hannah Waddingham wins the Emmy for Supporting...</td>\n",
       "      <td>Hannah's energy bursts through any screen. Wel...</td>\n",
       "    </tr>\n",
       "    <tr>\n",
       "      <th>3</th>\n",
       "      <td>--4tfbSyYDE</td>\n",
       "      <td>JO1'YOUNG (JO1 ver.)' PERFORMANCE VIDEO</td>\n",
       "      <td>UCsmXiDP8S40uBeJYxvyulmA</td>\n",
       "      <td>JO1</td>\n",
       "      <td>03-03-2021 10:00</td>\n",
       "      <td>2641597</td>\n",
       "      <td>39131</td>\n",
       "      <td>441</td>\n",
       "      <td>3745</td>\n",
       "      <td>PRODUCE101JAPAN              JO1   TheSTAR STA...</td>\n",
       "      <td>JO1'YOUNG (JO1 ver.)' PERFORMANCE VIDEO\\n\\n---...</td>\n",
       "      <td>youngVer&gt;&lt;  REN is really PERFECT. It's not ju...</td>\n",
       "    </tr>\n",
       "    <tr>\n",
       "      <th>4</th>\n",
       "      <td>#NAME?</td>\n",
       "      <td>Why Retaining Walls Collapse</td>\n",
       "      <td>UCMOqf8ab-42UUQIdVoKwjlQ</td>\n",
       "      <td>Practical Engineering</td>\n",
       "      <td>07-12-2021 13:00</td>\n",
       "      <td>715724</td>\n",
       "      <td>32887</td>\n",
       "      <td>367</td>\n",
       "      <td>1067</td>\n",
       "      <td>retaining wall New Jersey highway Direct Conne...</td>\n",
       "      <td>One of the most important (and innocuous) part...</td>\n",
       "      <td>Keep up with all my projects here: https://pr...</td>\n",
       "    </tr>\n",
       "  </tbody>\n",
       "</table>\n",
       "</div>"
      ],
      "text/plain": [
       "      video_id                                       title  \\\n",
       "0  --0bCF-iK2E        Jadon Sancho  Magical Skills & Goals   \n",
       "1  --14w5SOEUs          Migos - Avalanche (Official Video)   \n",
       "2  --40TEbZ9Is  Supporting Actress in a Comedy: 73rd Emmys   \n",
       "3  --4tfbSyYDE     JO1'YOUNG (JO1 ver.)' PERFORMANCE VIDEO   \n",
       "4       #NAME?                Why Retaining Walls Collapse   \n",
       "\n",
       "                 channel_id          channel_title      published_at  \\\n",
       "0  UC6UL29enLNe4mqwTfAyeNuw             Bundesliga  01-07-2021 10:00   \n",
       "1  UCGIelM2Dj3zza3xyV3pL3WQ              MigosVEVO  10-06-2021 16:00   \n",
       "2  UClBKH8yZRcM4AsRjDVEdjMg     Television Academy  20-09-2021 01:03   \n",
       "3  UCsmXiDP8S40uBeJYxvyulmA                    JO1  03-03-2021 10:00   \n",
       "4  UCMOqf8ab-42UUQIdVoKwjlQ  Practical Engineering  07-12-2021 13:00   \n",
       "\n",
       "   view_count   likes  dislikes  comment_count  \\\n",
       "0     1048888   19515       226           1319   \n",
       "1    15352638  359277      7479          18729   \n",
       "2      925281   11212       401            831   \n",
       "3     2641597   39131       441           3745   \n",
       "4      715724   32887       367           1067   \n",
       "\n",
       "                                                tags  \\\n",
       "0  football soccer ftbol alemn Bundesliga season ...   \n",
       "1  Migos Avalanche Quality Control Music/Motown R...   \n",
       "2                                                      \n",
       "3  PRODUCE101JAPAN              JO1   TheSTAR STA...   \n",
       "4  retaining wall New Jersey highway Direct Conne...   \n",
       "\n",
       "                                         description  \\\n",
       "0  Enjoy the best skills and goals from Jadon San...   \n",
       "1  Watch the the official video for Migos - \"Aval...   \n",
       "2  Hannah Waddingham wins the Emmy for Supporting...   \n",
       "3  JO1'YOUNG (JO1 ver.)' PERFORMANCE VIDEO\\n\\n---...   \n",
       "4  One of the most important (and innocuous) part...   \n",
       "\n",
       "                                            comments  \n",
       "0  Respect to Dortmund fans,must be sad losing hi...  \n",
       "1  Migos just makes me want to live my live to th...  \n",
       "2  Hannah's energy bursts through any screen. Wel...  \n",
       "3  youngVer><  REN is really PERFECT. It's not ju...  \n",
       "4   Keep up with all my projects here: https://pr...  "
      ]
     },
     "execution_count": 104,
     "metadata": {},
     "output_type": "execute_result"
    }
   ],
   "source": [
    "#Dsplaying top 5 records by using head() since by default it will display top most 5 records ,no need to spicify the number of record int\n",
    "#since we want only 5 records.\n",
    "df.head() "
   ]
  },
  {
   "cell_type": "code",
   "execution_count": 105,
   "id": "dc1dbf48",
   "metadata": {
    "ExecuteTime": {
     "end_time": "2024-01-27T16:11:22.780001Z",
     "start_time": "2024-01-27T16:11:22.753174Z"
    }
   },
   "outputs": [
    {
     "data": {
      "text/html": [
       "<div>\n",
       "<style scoped>\n",
       "    .dataframe tbody tr th:only-of-type {\n",
       "        vertical-align: middle;\n",
       "    }\n",
       "\n",
       "    .dataframe tbody tr th {\n",
       "        vertical-align: top;\n",
       "    }\n",
       "\n",
       "    .dataframe thead th {\n",
       "        text-align: right;\n",
       "    }\n",
       "</style>\n",
       "<table border=\"1\" class=\"dataframe\">\n",
       "  <thead>\n",
       "    <tr style=\"text-align: right;\">\n",
       "      <th></th>\n",
       "      <th>video_id</th>\n",
       "      <th>title</th>\n",
       "      <th>channel_id</th>\n",
       "      <th>channel_title</th>\n",
       "      <th>published_at</th>\n",
       "      <th>view_count</th>\n",
       "      <th>likes</th>\n",
       "      <th>dislikes</th>\n",
       "      <th>comment_count</th>\n",
       "      <th>tags</th>\n",
       "      <th>description</th>\n",
       "      <th>comments</th>\n",
       "    </tr>\n",
       "  </thead>\n",
       "  <tbody>\n",
       "    <tr>\n",
       "      <th>37417</th>\n",
       "      <td>zzd4ydafGR0</td>\n",
       "      <td>Lil Tjay - Calling My Phone (feat. 6LACK) [Off...</td>\n",
       "      <td>UCEB4a5o_6KfjxHwNMnmj54Q</td>\n",
       "      <td>Lil Tjay</td>\n",
       "      <td>12-02-2021 05:03</td>\n",
       "      <td>120408275</td>\n",
       "      <td>2180780</td>\n",
       "      <td>35871</td>\n",
       "      <td>81360</td>\n",
       "      <td>Lil Tjay Steady Calling My Phone Calling My Ph...</td>\n",
       "      <td>Official video for \"Calling My Phone\" by Lil T...</td>\n",
       "      <td>'DESTINED 2 WIN' OUT NOW !! https://liltjay.ln...</td>\n",
       "    </tr>\n",
       "    <tr>\n",
       "      <th>37418</th>\n",
       "      <td>zziBybeSAtw</td>\n",
       "      <td>PELICANS at LAKERS | FULL GAME HIGHLIGHTS | Ja...</td>\n",
       "      <td>UCWJ2lWNubArHWmf3FIHbfcQ</td>\n",
       "      <td>NBA</td>\n",
       "      <td>16-01-2021 05:39</td>\n",
       "      <td>2841917</td>\n",
       "      <td>20759</td>\n",
       "      <td>1049</td>\n",
       "      <td>2624</td>\n",
       "      <td>NBA G League Basketball game-0022000187 Lakers...</td>\n",
       "      <td>PELICANS at LAKERS | FULL GAME HIGHLIGHTS | Ja...</td>\n",
       "      <td>Montrezl Harrell is going crazy with the rebou...</td>\n",
       "    </tr>\n",
       "    <tr>\n",
       "      <th>37419</th>\n",
       "      <td>zzk09ESX7e0</td>\n",
       "      <td>[MV]  (MAMAMOO) - Where Are We Now</td>\n",
       "      <td>UCuhAUMLzJxlP1W7mEk0_6lA</td>\n",
       "      <td>MAMAMOO</td>\n",
       "      <td>02-06-2021 09:00</td>\n",
       "      <td>13346678</td>\n",
       "      <td>720854</td>\n",
       "      <td>4426</td>\n",
       "      <td>90616</td>\n",
       "      <td>MAMAMOO  WAW  WAW MAMAMOO WAW Where Are We Now...</td>\n",
       "      <td>[MV]  (MAMAMOO) - Where Are We Now\\n\\nInstagra...</td>\n",
       "      <td>I honestly do not know why this song hit so ha...</td>\n",
       "    </tr>\n",
       "    <tr>\n",
       "      <th>37420</th>\n",
       "      <td>zzmQEb0Em5I</td>\n",
       "      <td>FELLIPE ESCUDERO- Master Podcast  #12</td>\n",
       "      <td>UC8NjnNWMsRqq11NYvHAQb1g</td>\n",
       "      <td>Master Podcast</td>\n",
       "      <td>20-10-2020 20:59</td>\n",
       "      <td>252057</td>\n",
       "      <td>19198</td>\n",
       "      <td>1234</td>\n",
       "      <td>1471</td>\n",
       "      <td>master masterpodcast lord lord vinheteiro z z ...</td>\n",
       "      <td>DOCTOR HAIR\\nhttps://www.thedoctorhair.com/?fb...</td>\n",
       "      <td>Foi um prazer passar esta tarde com vocs debat...</td>\n",
       "    </tr>\n",
       "    <tr>\n",
       "      <th>37421</th>\n",
       "      <td>zzxPZwaA-8w</td>\n",
       "      <td>Gareth Bale brace secures dramatic comeback on...</td>\n",
       "      <td>UCEg25rdRZXg32iwai6N6l0w</td>\n",
       "      <td>Tottenham Hotspur</td>\n",
       "      <td>23-05-2021 21:00</td>\n",
       "      <td>2252090</td>\n",
       "      <td>34063</td>\n",
       "      <td>868</td>\n",
       "      <td>2004</td>\n",
       "      <td>Spurs Tottenham Hotspur   Tottenham Leicester ...</td>\n",
       "      <td>Two minute highlights from Tottenham Hotspur's...</td>\n",
       "      <td>Thank you Kane for everything you have given t...</td>\n",
       "    </tr>\n",
       "  </tbody>\n",
       "</table>\n",
       "</div>"
      ],
      "text/plain": [
       "          video_id                                              title  \\\n",
       "37417  zzd4ydafGR0  Lil Tjay - Calling My Phone (feat. 6LACK) [Off...   \n",
       "37418  zziBybeSAtw  PELICANS at LAKERS | FULL GAME HIGHLIGHTS | Ja...   \n",
       "37419  zzk09ESX7e0                 [MV]  (MAMAMOO) - Where Are We Now   \n",
       "37420  zzmQEb0Em5I              FELLIPE ESCUDERO- Master Podcast  #12   \n",
       "37421  zzxPZwaA-8w  Gareth Bale brace secures dramatic comeback on...   \n",
       "\n",
       "                     channel_id      channel_title      published_at  \\\n",
       "37417  UCEB4a5o_6KfjxHwNMnmj54Q           Lil Tjay  12-02-2021 05:03   \n",
       "37418  UCWJ2lWNubArHWmf3FIHbfcQ                NBA  16-01-2021 05:39   \n",
       "37419  UCuhAUMLzJxlP1W7mEk0_6lA            MAMAMOO  02-06-2021 09:00   \n",
       "37420  UC8NjnNWMsRqq11NYvHAQb1g     Master Podcast  20-10-2020 20:59   \n",
       "37421  UCEg25rdRZXg32iwai6N6l0w  Tottenham Hotspur  23-05-2021 21:00   \n",
       "\n",
       "       view_count    likes  dislikes  comment_count  \\\n",
       "37417   120408275  2180780     35871          81360   \n",
       "37418     2841917    20759      1049           2624   \n",
       "37419    13346678   720854      4426          90616   \n",
       "37420      252057    19198      1234           1471   \n",
       "37421     2252090    34063       868           2004   \n",
       "\n",
       "                                                    tags  \\\n",
       "37417  Lil Tjay Steady Calling My Phone Calling My Ph...   \n",
       "37418  NBA G League Basketball game-0022000187 Lakers...   \n",
       "37419  MAMAMOO  WAW  WAW MAMAMOO WAW Where Are We Now...   \n",
       "37420  master masterpodcast lord lord vinheteiro z z ...   \n",
       "37421  Spurs Tottenham Hotspur   Tottenham Leicester ...   \n",
       "\n",
       "                                             description  \\\n",
       "37417  Official video for \"Calling My Phone\" by Lil T...   \n",
       "37418  PELICANS at LAKERS | FULL GAME HIGHLIGHTS | Ja...   \n",
       "37419  [MV]  (MAMAMOO) - Where Are We Now\\n\\nInstagra...   \n",
       "37420  DOCTOR HAIR\\nhttps://www.thedoctorhair.com/?fb...   \n",
       "37421  Two minute highlights from Tottenham Hotspur's...   \n",
       "\n",
       "                                                comments  \n",
       "37417  'DESTINED 2 WIN' OUT NOW !! https://liltjay.ln...  \n",
       "37418  Montrezl Harrell is going crazy with the rebou...  \n",
       "37419  I honestly do not know why this song hit so ha...  \n",
       "37420  Foi um prazer passar esta tarde com vocs debat...  \n",
       "37421  Thank you Kane for everything you have given t...  "
      ]
     },
     "execution_count": 105,
     "metadata": {},
     "output_type": "execute_result"
    }
   ],
   "source": [
    "#Dsplaying top 5 records by using tail() since by default it will display bottom  most 5 records ,no need to spicify the number of record in it.\n",
    "#since we want only 5 records. \n",
    "df.tail()"
   ]
  },
  {
   "cell_type": "markdown",
   "id": "3026c5d6",
   "metadata": {},
   "source": [
    "###  Checking the info of the dataframe and writing inferences on data types and shape of the dataset."
   ]
  },
  {
   "cell_type": "code",
   "execution_count": 106,
   "id": "e014f9e9",
   "metadata": {
    "ExecuteTime": {
     "end_time": "2024-01-27T16:11:23.614959Z",
     "start_time": "2024-01-27T16:11:23.607286Z"
    }
   },
   "outputs": [],
   "source": [
    "# There are 12 columns and 37422 rowns in DataFrame which about Youtube  video's Likes and Dislikes\n",
    "#Columns nanes are  below\n",
    "# video_id        \n",
    "# title           \n",
    "# channel_id       \n",
    "# channel_title    \n",
    "# published_at    \n",
    "# view_count       \n",
    "# likes\n",
    "# dislikes         \n",
    "# comment_count    \n",
    "# tags\n",
    "# description      \n",
    "# comments\n",
    "#Out of 12 columns there are 8 object(4) type columns and 4 numerical(int64) columns \n",
    "#Indexing start from 0 to 37421 \n",
    "# Number of missing values in whole  dataframe is 158 which is  present only in comments column \n",
    "# Except comments column all other rows are non null columns."
   ]
  },
  {
   "cell_type": "code",
   "execution_count": 107,
   "id": "c723f81b",
   "metadata": {
    "ExecuteTime": {
     "end_time": "2024-01-27T16:11:24.206339Z",
     "start_time": "2024-01-27T16:11:24.193446Z"
    },
    "scrolled": true
   },
   "outputs": [
    {
     "data": {
      "text/plain": [
       "video_id         object\n",
       "title            object\n",
       "channel_id       object\n",
       "channel_title    object\n",
       "published_at     object\n",
       "view_count        int64\n",
       "likes             int64\n",
       "dislikes          int64\n",
       "comment_count     int64\n",
       "tags             object\n",
       "description      object\n",
       "comments         object\n",
       "dtype: object"
      ]
     },
     "execution_count": 107,
     "metadata": {},
     "output_type": "execute_result"
    }
   ],
   "source": [
    "df.dtypes"
   ]
  },
  {
   "cell_type": "code",
   "execution_count": 108,
   "id": "1330c35a",
   "metadata": {
    "ExecuteTime": {
     "end_time": "2024-01-27T16:11:24.689159Z",
     "start_time": "2024-01-27T16:11:24.678718Z"
    }
   },
   "outputs": [
    {
     "data": {
      "text/plain": [
       "(37422, 12)"
      ]
     },
     "execution_count": 108,
     "metadata": {},
     "output_type": "execute_result"
    }
   ],
   "source": [
    "df.shape"
   ]
  },
  {
   "cell_type": "code",
   "execution_count": 109,
   "id": "d0835c46",
   "metadata": {
    "ExecuteTime": {
     "end_time": "2024-01-27T16:11:25.139368Z",
     "start_time": "2024-01-27T16:11:25.070461Z"
    },
    "scrolled": false
   },
   "outputs": [
    {
     "name": "stdout",
     "output_type": "stream",
     "text": [
      "<class 'pandas.core.frame.DataFrame'>\n",
      "RangeIndex: 37422 entries, 0 to 37421\n",
      "Data columns (total 12 columns):\n",
      " #   Column         Non-Null Count  Dtype \n",
      "---  ------         --------------  ----- \n",
      " 0   video_id       37422 non-null  object\n",
      " 1   title          37422 non-null  object\n",
      " 2   channel_id     37422 non-null  object\n",
      " 3   channel_title  37422 non-null  object\n",
      " 4   published_at   37422 non-null  object\n",
      " 5   view_count     37422 non-null  int64 \n",
      " 6   likes          37422 non-null  int64 \n",
      " 7   dislikes       37422 non-null  int64 \n",
      " 8   comment_count  37422 non-null  int64 \n",
      " 9   tags           37422 non-null  object\n",
      " 10  description    37422 non-null  object\n",
      " 11  comments       37264 non-null  object\n",
      "dtypes: int64(4), object(8)\n",
      "memory usage: 3.4+ MB\n"
     ]
    }
   ],
   "source": [
    "df.info() "
   ]
  },
  {
   "cell_type": "code",
   "execution_count": 110,
   "id": "b4f19d36",
   "metadata": {
    "ExecuteTime": {
     "end_time": "2024-01-27T16:11:25.559336Z",
     "start_time": "2024-01-27T16:11:25.509402Z"
    }
   },
   "outputs": [
    {
     "data": {
      "text/plain": [
       "video_id           0\n",
       "title              0\n",
       "channel_id         0\n",
       "channel_title      0\n",
       "published_at       0\n",
       "view_count         0\n",
       "likes              0\n",
       "dislikes           0\n",
       "comment_count      0\n",
       "tags               0\n",
       "description        0\n",
       "comments         158\n",
       "dtype: int64"
      ]
     },
     "execution_count": 110,
     "metadata": {},
     "output_type": "execute_result"
    }
   ],
   "source": [
    "df.isnull().sum() "
   ]
  },
  {
   "cell_type": "markdown",
   "id": "3a9076c4",
   "metadata": {},
   "source": [
    "### Checking for the Percentage of the missing values and droping or imputing them."
   ]
  },
  {
   "cell_type": "code",
   "execution_count": 111,
   "id": "7045a8a3",
   "metadata": {
    "ExecuteTime": {
     "end_time": "2024-01-27T16:11:26.325992Z",
     "start_time": "2024-01-27T16:11:26.271745Z"
    }
   },
   "outputs": [
    {
     "data": {
      "text/plain": [
       "video_id           0\n",
       "title              0\n",
       "channel_id         0\n",
       "channel_title      0\n",
       "published_at       0\n",
       "view_count         0\n",
       "likes              0\n",
       "dislikes           0\n",
       "comment_count      0\n",
       "tags               0\n",
       "description        0\n",
       "comments         158\n",
       "dtype: int64"
      ]
     },
     "execution_count": 111,
     "metadata": {},
     "output_type": "execute_result"
    }
   ],
   "source": [
    "#Displaying the null values in the dataframe.\n",
    "df.isnull().sum() "
   ]
  },
  {
   "cell_type": "code",
   "execution_count": 112,
   "id": "9ff41309",
   "metadata": {
    "ExecuteTime": {
     "end_time": "2024-01-27T16:11:26.648060Z",
     "start_time": "2024-01-27T16:11:26.603108Z"
    }
   },
   "outputs": [
    {
     "data": {
      "text/plain": [
       "video_id         0.000000\n",
       "title            0.000000\n",
       "channel_id       0.000000\n",
       "channel_title    0.000000\n",
       "published_at     0.000000\n",
       "view_count       0.000000\n",
       "likes            0.000000\n",
       "dislikes         0.000000\n",
       "comment_count    0.000000\n",
       "tags             0.000000\n",
       "description      0.000000\n",
       "comments         0.422212\n",
       "dtype: float64"
      ]
     },
     "execution_count": 112,
     "metadata": {},
     "output_type": "execute_result"
    }
   ],
   "source": [
    "#Displaying the percentage of  null values in the dataframe.\n",
    "df.isnull().sum()*100/len(df) "
   ]
  },
  {
   "cell_type": "code",
   "execution_count": 113,
   "id": "3e3b6fd7",
   "metadata": {
    "ExecuteTime": {
     "end_time": "2024-01-27T16:11:26.978040Z",
     "start_time": "2024-01-27T16:11:26.922034Z"
    }
   },
   "outputs": [
    {
     "data": {
      "text/html": [
       "<div>\n",
       "<style scoped>\n",
       "    .dataframe tbody tr th:only-of-type {\n",
       "        vertical-align: middle;\n",
       "    }\n",
       "\n",
       "    .dataframe tbody tr th {\n",
       "        vertical-align: top;\n",
       "    }\n",
       "\n",
       "    .dataframe thead th {\n",
       "        text-align: right;\n",
       "    }\n",
       "</style>\n",
       "<table border=\"1\" class=\"dataframe\">\n",
       "  <thead>\n",
       "    <tr style=\"text-align: right;\">\n",
       "      <th></th>\n",
       "      <th>video_id</th>\n",
       "      <th>title</th>\n",
       "      <th>channel_id</th>\n",
       "      <th>channel_title</th>\n",
       "      <th>published_at</th>\n",
       "      <th>view_count</th>\n",
       "      <th>likes</th>\n",
       "      <th>dislikes</th>\n",
       "      <th>comment_count</th>\n",
       "      <th>tags</th>\n",
       "      <th>description</th>\n",
       "      <th>comments</th>\n",
       "    </tr>\n",
       "  </thead>\n",
       "  <tbody>\n",
       "    <tr>\n",
       "      <th>344</th>\n",
       "      <td>#NAME?</td>\n",
       "      <td>LEGO Star Wars Holiday Special | Official Trai...</td>\n",
       "      <td>UCZGYJFUizSax-yElQaFDp5Q</td>\n",
       "      <td>Star Wars</td>\n",
       "      <td>05-11-2020 14:00</td>\n",
       "      <td>1236365</td>\n",
       "      <td>44348</td>\n",
       "      <td>2259</td>\n",
       "      <td>0</td>\n",
       "      <td></td>\n",
       "      <td>The LEGO Star Wars Holiday Special reunites Re...</td>\n",
       "      <td>NaN</td>\n",
       "    </tr>\n",
       "    <tr>\n",
       "      <th>418</th>\n",
       "      <td>#NAME?</td>\n",
       "      <td>The National Lottery Lotto' draw results from ...</td>\n",
       "      <td>UCnOiv4Hp3fu43NDHl335cvQ</td>\n",
       "      <td>The National Lottery</td>\n",
       "      <td>12-05-2021 19:04</td>\n",
       "      <td>83155</td>\n",
       "      <td>184</td>\n",
       "      <td>39</td>\n",
       "      <td>0</td>\n",
       "      <td>Lotto National Lottery The National Lottery Lo...</td>\n",
       "      <td>The National Lottery draw results for Lotto re...</td>\n",
       "      <td>NaN</td>\n",
       "    </tr>\n",
       "    <tr>\n",
       "      <th>477</th>\n",
       "      <td>#NAME?</td>\n",
       "      <td>The National Lottery Lotto' draw results from ...</td>\n",
       "      <td>UCnOiv4Hp3fu43NDHl335cvQ</td>\n",
       "      <td>The National Lottery</td>\n",
       "      <td>30-01-2021 19:48</td>\n",
       "      <td>135946</td>\n",
       "      <td>263</td>\n",
       "      <td>138</td>\n",
       "      <td>0</td>\n",
       "      <td>Lotto National Lottery The National Lottery Lo...</td>\n",
       "      <td>The National Lottery draw results for Lotto re...</td>\n",
       "      <td>NaN</td>\n",
       "    </tr>\n",
       "    <tr>\n",
       "      <th>720</th>\n",
       "      <td>0IE1TVLH7eI</td>\n",
       "      <td>Amoureuse</td>\n",
       "      <td>UCntsZ2Irpt7Nc_-tNJmCtmA</td>\n",
       "      <td>Yanns - Topic</td>\n",
       "      <td>02-09-2021 10:01</td>\n",
       "      <td>2177257</td>\n",
       "      <td>21450</td>\n",
       "      <td>722</td>\n",
       "      <td>0</td>\n",
       "      <td>Yanns Noodels Marco Bressan Yannick Schweitzer...</td>\n",
       "      <td>Provided to YouTube by Believe SAS\\n\\nAmoureus...</td>\n",
       "      <td>NaN</td>\n",
       "    </tr>\n",
       "    <tr>\n",
       "      <th>727</th>\n",
       "      <td>0JFhV5sBUYo</td>\n",
       "      <td>Meu Corao Me Odeia</td>\n",
       "      <td>UCJltSNle2RK9jtOUuSdREZw</td>\n",
       "      <td>Taty Girl - Topic</td>\n",
       "      <td>12-08-2021 10:02</td>\n",
       "      <td>280350</td>\n",
       "      <td>3153</td>\n",
       "      <td>133</td>\n",
       "      <td>0</td>\n",
       "      <td>Taty Girl Wesley Safado Meu Corao Me Odeia</td>\n",
       "      <td>Provided to YouTube by Potencia Music\\n\\nMeu C...</td>\n",
       "      <td>NaN</td>\n",
       "    </tr>\n",
       "    <tr>\n",
       "      <th>...</th>\n",
       "      <td>...</td>\n",
       "      <td>...</td>\n",
       "      <td>...</td>\n",
       "      <td>...</td>\n",
       "      <td>...</td>\n",
       "      <td>...</td>\n",
       "      <td>...</td>\n",
       "      <td>...</td>\n",
       "      <td>...</td>\n",
       "      <td>...</td>\n",
       "      <td>...</td>\n",
       "      <td>...</td>\n",
       "    </tr>\n",
       "    <tr>\n",
       "      <th>35720</th>\n",
       "      <td>x7WtabxoTdQ</td>\n",
       "      <td>:BTSFilm out 90202142</td>\n",
       "      <td>UCTDMT3aL30noTVFgNPA9XtQ</td>\n",
       "      <td>MOVIE</td>\n",
       "      <td>15-02-2021 19:00</td>\n",
       "      <td>2275095</td>\n",
       "      <td>96958</td>\n",
       "      <td>552</td>\n",
       "      <td>0</td>\n",
       "      <td>STUDIO DRAGON ASTORY              BTS...</td>\n",
       "      <td>90\\nBTSFilm out\\nback number\\n\\nFilm outback ...</td>\n",
       "      <td>NaN</td>\n",
       "    </tr>\n",
       "    <tr>\n",
       "      <th>36335</th>\n",
       "      <td>yBfamIFpucw</td>\n",
       "      <td>A QUEDA</td>\n",
       "      <td>UCCt8cGO1NfZgi0XO_kbsesw</td>\n",
       "      <td>Gloria Groove - Topic</td>\n",
       "      <td>15-10-2021 00:01</td>\n",
       "      <td>4890598</td>\n",
       "      <td>119549</td>\n",
       "      <td>5154</td>\n",
       "      <td>0</td>\n",
       "      <td>Gloria Groove Lukinhas Pablo Bispo Ruxell A QUEDA</td>\n",
       "      <td>Provided to YouTube by The Orchard Enterprises...</td>\n",
       "      <td>NaN</td>\n",
       "    </tr>\n",
       "    <tr>\n",
       "      <th>36669</th>\n",
       "      <td>yiWErhQbUho</td>\n",
       "      <td>Hanuman Chalisa I GULSHAN KUMAR I HARIHARAN,...</td>\n",
       "      <td>UCaayLD9i5x4MmIoVZxXSv_g</td>\n",
       "      <td>T-Series Bhakti Sagar</td>\n",
       "      <td>05-01-2021 00:30</td>\n",
       "      <td>446713</td>\n",
       "      <td>8561</td>\n",
       "      <td>1047</td>\n",
       "      <td>857</td>\n",
       "      <td>Hanuman Chalisa Hanuman Chalisa Gulshan Kumar ...</td>\n",
       "      <td>SUBSCRIBE:http://www.youtube.com/tseriesbhakti...</td>\n",
       "      <td>NaN</td>\n",
       "    </tr>\n",
       "    <tr>\n",
       "      <th>36701</th>\n",
       "      <td>ylPCxAwqTLk</td>\n",
       "      <td>.  2 -  2D |   |  2021!</td>\n",
       "      <td>UC5A-Wp9ujcr5g9sYagAafEA</td>\n",
       "      <td>TVSmeshariki</td>\n",
       "      <td>06-08-2021 11:59</td>\n",
       "      <td>693473</td>\n",
       "      <td>8237</td>\n",
       "      <td>783</td>\n",
       "      <td>0</td>\n",
       "      <td>2  2d                2d             ...</td>\n",
       "      <td>:      .    ,   .    ,  .    ,  -  .  ,     ...</td>\n",
       "      <td>NaN</td>\n",
       "    </tr>\n",
       "    <tr>\n",
       "      <th>36981</th>\n",
       "      <td>zCkfx65Vjw4</td>\n",
       "      <td>. Broken Vow -   - . -  8</td>\n",
       "      <td>UCXBIIbGe37lKXFHdM050f2w</td>\n",
       "      <td>The Voice Kids Russia/</td>\n",
       "      <td>12-02-2021 20:37</td>\n",
       "      <td>665998</td>\n",
       "      <td>15913</td>\n",
       "      <td>225</td>\n",
       "      <td>0</td>\n",
       "      <td>the voice kids                    7  7   ...</td>\n",
       "      <td>Broken Vow.     Lara Fabian 1999 .       ...</td>\n",
       "      <td>NaN</td>\n",
       "    </tr>\n",
       "  </tbody>\n",
       "</table>\n",
       "<p>158 rows × 12 columns</p>\n",
       "</div>"
      ],
      "text/plain": [
       "          video_id                                              title  \\\n",
       "344         #NAME?  LEGO Star Wars Holiday Special | Official Trai...   \n",
       "418         #NAME?  The National Lottery Lotto' draw results from ...   \n",
       "477         #NAME?  The National Lottery Lotto' draw results from ...   \n",
       "720    0IE1TVLH7eI                                          Amoureuse   \n",
       "727    0JFhV5sBUYo                                 Meu Corao Me Odeia   \n",
       "...            ...                                                ...   \n",
       "35720  x7WtabxoTdQ                              :BTSFilm out 90202142   \n",
       "36335  yBfamIFpucw                                            A QUEDA   \n",
       "36669  yiWErhQbUho    Hanuman Chalisa I GULSHAN KUMAR I HARIHARAN,...   \n",
       "36701  ylPCxAwqTLk                            .  2 -  2D |   |  2021!   \n",
       "36981  zCkfx65Vjw4                          . Broken Vow -   - . -  8   \n",
       "\n",
       "                     channel_id            channel_title      published_at  \\\n",
       "344    UCZGYJFUizSax-yElQaFDp5Q                Star Wars  05-11-2020 14:00   \n",
       "418    UCnOiv4Hp3fu43NDHl335cvQ     The National Lottery  12-05-2021 19:04   \n",
       "477    UCnOiv4Hp3fu43NDHl335cvQ     The National Lottery  30-01-2021 19:48   \n",
       "720    UCntsZ2Irpt7Nc_-tNJmCtmA            Yanns - Topic  02-09-2021 10:01   \n",
       "727    UCJltSNle2RK9jtOUuSdREZw        Taty Girl - Topic  12-08-2021 10:02   \n",
       "...                         ...                      ...               ...   \n",
       "35720  UCTDMT3aL30noTVFgNPA9XtQ                    MOVIE  15-02-2021 19:00   \n",
       "36335  UCCt8cGO1NfZgi0XO_kbsesw    Gloria Groove - Topic  15-10-2021 00:01   \n",
       "36669  UCaayLD9i5x4MmIoVZxXSv_g    T-Series Bhakti Sagar  05-01-2021 00:30   \n",
       "36701  UC5A-Wp9ujcr5g9sYagAafEA             TVSmeshariki  06-08-2021 11:59   \n",
       "36981  UCXBIIbGe37lKXFHdM050f2w  The Voice Kids Russia/   12-02-2021 20:37   \n",
       "\n",
       "       view_count   likes  dislikes  comment_count  \\\n",
       "344       1236365   44348      2259              0   \n",
       "418         83155     184        39              0   \n",
       "477        135946     263       138              0   \n",
       "720       2177257   21450       722              0   \n",
       "727        280350    3153       133              0   \n",
       "...           ...     ...       ...            ...   \n",
       "35720     2275095   96958       552              0   \n",
       "36335     4890598  119549      5154              0   \n",
       "36669      446713    8561      1047            857   \n",
       "36701      693473    8237       783              0   \n",
       "36981      665998   15913       225              0   \n",
       "\n",
       "                                                    tags  \\\n",
       "344                                                        \n",
       "418    Lotto National Lottery The National Lottery Lo...   \n",
       "477    Lotto National Lottery The National Lottery Lo...   \n",
       "720    Yanns Noodels Marco Bressan Yannick Schweitzer...   \n",
       "727           Taty Girl Wesley Safado Meu Corao Me Odeia   \n",
       "...                                                  ...   \n",
       "35720           STUDIO DRAGON ASTORY              BTS...   \n",
       "36335  Gloria Groove Lukinhas Pablo Bispo Ruxell A QUEDA   \n",
       "36669  Hanuman Chalisa Hanuman Chalisa Gulshan Kumar ...   \n",
       "36701            2  2d                2d             ...   \n",
       "36981       the voice kids                    7  7   ...   \n",
       "\n",
       "                                             description comments  \n",
       "344    The LEGO Star Wars Holiday Special reunites Re...      NaN  \n",
       "418    The National Lottery draw results for Lotto re...      NaN  \n",
       "477    The National Lottery draw results for Lotto re...      NaN  \n",
       "720    Provided to YouTube by Believe SAS\\n\\nAmoureus...      NaN  \n",
       "727    Provided to YouTube by Potencia Music\\n\\nMeu C...      NaN  \n",
       "...                                                  ...      ...  \n",
       "35720   90\\nBTSFilm out\\nback number\\n\\nFilm outback ...      NaN  \n",
       "36335  Provided to YouTube by The Orchard Enterprises...      NaN  \n",
       "36669  SUBSCRIBE:http://www.youtube.com/tseriesbhakti...      NaN  \n",
       "36701    :      .    ,   .    ,  .    ,  -  .  ,     ...      NaN  \n",
       "36981       Broken Vow.     Lara Fabian 1999 .       ...      NaN  \n",
       "\n",
       "[158 rows x 12 columns]"
      ]
     },
     "execution_count": 113,
     "metadata": {},
     "output_type": "execute_result"
    }
   ],
   "source": [
    "#Displaying the records which are having null values.\n",
    "# Since only the comment column is having null values , we are using only comment column to display null values.\n",
    "df[df[\"comments\"].isnull()] "
   ]
  },
  {
   "cell_type": "code",
   "execution_count": 114,
   "id": "97b07bf9",
   "metadata": {
    "ExecuteTime": {
     "end_time": "2024-01-27T16:11:27.423001Z",
     "start_time": "2024-01-27T16:11:27.287895Z"
    }
   },
   "outputs": [
    {
     "data": {
      "text/plain": [
       "count                                                 37264\n",
       "unique                                                37264\n",
       "top       Respect to Dortmund fans,must be sad losing hi...\n",
       "freq                                                      1\n",
       "Name: comments, dtype: object"
      ]
     },
     "execution_count": 114,
     "metadata": {},
     "output_type": "execute_result"
    }
   ],
   "source": [
    "# Displaying the statistical summary for comment column , here we can say that every comment is unique that means there is no such \n",
    "#comment which has been repeated, we cant impute that with mode.\n",
    "df[\"comments\"].describe() "
   ]
  },
  {
   "cell_type": "code",
   "execution_count": 115,
   "id": "8c2f514f",
   "metadata": {
    "ExecuteTime": {
     "end_time": "2024-01-27T16:11:27.707306Z",
     "start_time": "2024-01-27T16:11:27.692161Z"
    }
   },
   "outputs": [],
   "source": [
    "# There is only comments column which is having missing values in it and it is about 0.422% only \n",
    "#droping all rows will not be a appropriate approach because it leads to loss of data (columns values which are not null values)\n",
    "# imputing with mode will not be a good approach because there is no comment which has been repeated in comments column \n",
    "#every comment is unique  .\n",
    "#Replace missing values with a placeholder string like \"Unknown\" or \"Not Available.\" This is a simple approach\n",
    "df[\"comments\"].fillna(\"Unknown\",inplace=True) "
   ]
  },
  {
   "cell_type": "code",
   "execution_count": 116,
   "id": "55bb83e8",
   "metadata": {
    "ExecuteTime": {
     "end_time": "2024-01-27T16:11:28.150060Z",
     "start_time": "2024-01-27T16:11:28.121046Z"
    }
   },
   "outputs": [
    {
     "data": {
      "text/plain": [
       "0"
      ]
     },
     "execution_count": 116,
     "metadata": {},
     "output_type": "execute_result"
    }
   ],
   "source": [
    "df[\"comments\"].isnull().sum()  "
   ]
  },
  {
   "cell_type": "code",
   "execution_count": 117,
   "id": "9fde6169",
   "metadata": {
    "ExecuteTime": {
     "end_time": "2024-01-27T16:11:28.919761Z",
     "start_time": "2024-01-27T16:11:28.865474Z"
    }
   },
   "outputs": [
    {
     "data": {
      "text/plain": [
       "video_id         0\n",
       "title            0\n",
       "channel_id       0\n",
       "channel_title    0\n",
       "published_at     0\n",
       "view_count       0\n",
       "likes            0\n",
       "dislikes         0\n",
       "comment_count    0\n",
       "tags             0\n",
       "description      0\n",
       "comments         0\n",
       "dtype: int64"
      ]
     },
     "execution_count": 117,
     "metadata": {},
     "output_type": "execute_result"
    }
   ],
   "source": [
    "#Displaying null values after imputation.\n",
    "df.isnull().sum() "
   ]
  },
  {
   "cell_type": "markdown",
   "id": "412e0123",
   "metadata": {},
   "source": [
    "### Checking the statistical summary of both numerical and categorical columns and writing your inferences."
   ]
  },
  {
   "cell_type": "code",
   "execution_count": 118,
   "id": "527aa47a",
   "metadata": {
    "ExecuteTime": {
     "end_time": "2024-01-27T16:11:29.824184Z",
     "start_time": "2024-01-27T16:11:29.818400Z"
    }
   },
   "outputs": [],
   "source": [
    "#There are 12 columns and 37422 rows in the dataframe , out of 12 ,4 columns of int64 datatype and 8 object8 datatype \n",
    "# by using .describe() method we can exact the sataistical summary of a dataframe ,  which tells about\n",
    "#count,mean,standard deviation,minimum,maximum , and 1st quartile , 2nd quartile , 3rd quartile, for all numerical columns \n",
    "# and for categorical culumns the describe will exact count,no of unique records,top(most frequent record),and its frequency."
   ]
  },
  {
   "cell_type": "code",
   "execution_count": 119,
   "id": "70398ecd",
   "metadata": {
    "ExecuteTime": {
     "end_time": "2024-01-27T16:11:30.256866Z",
     "start_time": "2024-01-27T16:11:30.204326Z"
    },
    "scrolled": true
   },
   "outputs": [
    {
     "data": {
      "text/html": [
       "<div>\n",
       "<style scoped>\n",
       "    .dataframe tbody tr th:only-of-type {\n",
       "        vertical-align: middle;\n",
       "    }\n",
       "\n",
       "    .dataframe tbody tr th {\n",
       "        vertical-align: top;\n",
       "    }\n",
       "\n",
       "    .dataframe thead th {\n",
       "        text-align: right;\n",
       "    }\n",
       "</style>\n",
       "<table border=\"1\" class=\"dataframe\">\n",
       "  <thead>\n",
       "    <tr style=\"text-align: right;\">\n",
       "      <th></th>\n",
       "      <th>count</th>\n",
       "      <th>mean</th>\n",
       "      <th>std</th>\n",
       "      <th>min</th>\n",
       "      <th>25%</th>\n",
       "      <th>50%</th>\n",
       "      <th>75%</th>\n",
       "      <th>max</th>\n",
       "    </tr>\n",
       "  </thead>\n",
       "  <tbody>\n",
       "    <tr>\n",
       "      <th>view_count</th>\n",
       "      <td>37422.0</td>\n",
       "      <td>5.697838e+06</td>\n",
       "      <td>2.426622e+07</td>\n",
       "      <td>20368.0</td>\n",
       "      <td>512297.0</td>\n",
       "      <td>1319078.5</td>\n",
       "      <td>3670231.25</td>\n",
       "      <td>1.322797e+09</td>\n",
       "    </tr>\n",
       "    <tr>\n",
       "      <th>likes</th>\n",
       "      <td>37422.0</td>\n",
       "      <td>1.668147e+05</td>\n",
       "      <td>5.375670e+05</td>\n",
       "      <td>0.0</td>\n",
       "      <td>13233.5</td>\n",
       "      <td>42330.5</td>\n",
       "      <td>130469.75</td>\n",
       "      <td>3.183768e+07</td>\n",
       "    </tr>\n",
       "    <tr>\n",
       "      <th>dislikes</th>\n",
       "      <td>37422.0</td>\n",
       "      <td>4.989862e+03</td>\n",
       "      <td>3.070824e+04</td>\n",
       "      <td>0.0</td>\n",
       "      <td>281.0</td>\n",
       "      <td>796.0</td>\n",
       "      <td>2461.75</td>\n",
       "      <td>2.397733e+06</td>\n",
       "    </tr>\n",
       "    <tr>\n",
       "      <th>comment_count</th>\n",
       "      <td>37422.0</td>\n",
       "      <td>9.924930e+03</td>\n",
       "      <td>1.171003e+05</td>\n",
       "      <td>0.0</td>\n",
       "      <td>900.0</td>\n",
       "      <td>2328.0</td>\n",
       "      <td>6184.00</td>\n",
       "      <td>1.607103e+07</td>\n",
       "    </tr>\n",
       "  </tbody>\n",
       "</table>\n",
       "</div>"
      ],
      "text/plain": [
       "                 count          mean           std      min       25%  \\\n",
       "view_count     37422.0  5.697838e+06  2.426622e+07  20368.0  512297.0   \n",
       "likes          37422.0  1.668147e+05  5.375670e+05      0.0   13233.5   \n",
       "dislikes       37422.0  4.989862e+03  3.070824e+04      0.0     281.0   \n",
       "comment_count  37422.0  9.924930e+03  1.171003e+05      0.0     900.0   \n",
       "\n",
       "                     50%         75%           max  \n",
       "view_count     1319078.5  3670231.25  1.322797e+09  \n",
       "likes            42330.5   130469.75  3.183768e+07  \n",
       "dislikes           796.0     2461.75  2.397733e+06  \n",
       "comment_count     2328.0     6184.00  1.607103e+07  "
      ]
     },
     "execution_count": 119,
     "metadata": {},
     "output_type": "execute_result"
    }
   ],
   "source": [
    "df.describe().T "
   ]
  },
  {
   "cell_type": "code",
   "execution_count": 120,
   "id": "84f928b7",
   "metadata": {
    "ExecuteTime": {
     "end_time": "2024-01-27T16:11:30.891391Z",
     "start_time": "2024-01-27T16:11:30.596420Z"
    }
   },
   "outputs": [
    {
     "data": {
      "text/html": [
       "<div>\n",
       "<style scoped>\n",
       "    .dataframe tbody tr th:only-of-type {\n",
       "        vertical-align: middle;\n",
       "    }\n",
       "\n",
       "    .dataframe tbody tr th {\n",
       "        vertical-align: top;\n",
       "    }\n",
       "\n",
       "    .dataframe thead th {\n",
       "        text-align: right;\n",
       "    }\n",
       "</style>\n",
       "<table border=\"1\" class=\"dataframe\">\n",
       "  <thead>\n",
       "    <tr style=\"text-align: right;\">\n",
       "      <th></th>\n",
       "      <th>count</th>\n",
       "      <th>unique</th>\n",
       "      <th>top</th>\n",
       "      <th>freq</th>\n",
       "    </tr>\n",
       "  </thead>\n",
       "  <tbody>\n",
       "    <tr>\n",
       "      <th>video_id</th>\n",
       "      <td>37422</td>\n",
       "      <td>36964</td>\n",
       "      <td>#NAME?</td>\n",
       "      <td>459</td>\n",
       "    </tr>\n",
       "    <tr>\n",
       "      <th>title</th>\n",
       "      <td>37422</td>\n",
       "      <td>37111</td>\n",
       "      <td>www</td>\n",
       "      <td>21</td>\n",
       "    </tr>\n",
       "    <tr>\n",
       "      <th>channel_id</th>\n",
       "      <td>37422</td>\n",
       "      <td>10961</td>\n",
       "      <td>UCNAf1k0yIjyGu3k9BwAg3lg</td>\n",
       "      <td>533</td>\n",
       "    </tr>\n",
       "    <tr>\n",
       "      <th>channel_title</th>\n",
       "      <td>37422</td>\n",
       "      <td>10880</td>\n",
       "      <td>Sky Sports Football</td>\n",
       "      <td>533</td>\n",
       "    </tr>\n",
       "    <tr>\n",
       "      <th>published_at</th>\n",
       "      <td>37422</td>\n",
       "      <td>30031</td>\n",
       "      <td>18-09-2020 04:00</td>\n",
       "      <td>18</td>\n",
       "    </tr>\n",
       "    <tr>\n",
       "      <th>tags</th>\n",
       "      <td>37422</td>\n",
       "      <td>28788</td>\n",
       "      <td></td>\n",
       "      <td>3817</td>\n",
       "    </tr>\n",
       "    <tr>\n",
       "      <th>description</th>\n",
       "      <td>37422</td>\n",
       "      <td>35630</td>\n",
       "      <td></td>\n",
       "      <td>589</td>\n",
       "    </tr>\n",
       "    <tr>\n",
       "      <th>comments</th>\n",
       "      <td>37422</td>\n",
       "      <td>37265</td>\n",
       "      <td>Unknown</td>\n",
       "      <td>158</td>\n",
       "    </tr>\n",
       "  </tbody>\n",
       "</table>\n",
       "</div>"
      ],
      "text/plain": [
       "               count unique                       top  freq\n",
       "video_id       37422  36964                    #NAME?   459\n",
       "title          37422  37111                       www    21\n",
       "channel_id     37422  10961  UCNAf1k0yIjyGu3k9BwAg3lg   533\n",
       "channel_title  37422  10880       Sky Sports Football   533\n",
       "published_at   37422  30031          18-09-2020 04:00    18\n",
       "tags           37422  28788                            3817\n",
       "description    37422  35630                             589\n",
       "comments       37422  37265                   Unknown   158"
      ]
     },
     "execution_count": 120,
     "metadata": {},
     "output_type": "execute_result"
    }
   ],
   "source": [
    "df.describe(include=\"object\").T "
   ]
  },
  {
   "cell_type": "markdown",
   "id": "3832271f",
   "metadata": {},
   "source": [
    "### Converting datatype of column published_at from object to pandas datetime."
   ]
  },
  {
   "cell_type": "code",
   "execution_count": 121,
   "id": "f551e681",
   "metadata": {
    "ExecuteTime": {
     "end_time": "2024-01-27T16:11:31.576135Z",
     "start_time": "2024-01-27T16:11:31.287436Z"
    }
   },
   "outputs": [],
   "source": [
    "#Converting column published_at from object to pandas datetime. \n",
    "df['published_at'] = pd.to_datetime(df['published_at'],format='%d-%m-%Y %H:%M',errors='coerce') "
   ]
  },
  {
   "cell_type": "code",
   "execution_count": 122,
   "id": "be4a11f1",
   "metadata": {
    "ExecuteTime": {
     "end_time": "2024-01-27T16:11:31.678424Z",
     "start_time": "2024-01-27T16:11:31.667542Z"
    }
   },
   "outputs": [
    {
     "name": "stdout",
     "output_type": "stream",
     "text": [
      "<class 'pandas.core.series.Series'>\n",
      "RangeIndex: 37422 entries, 0 to 37421\n",
      "Series name: published_at\n",
      "Non-Null Count  Dtype         \n",
      "--------------  -----         \n",
      "37422 non-null  datetime64[ns]\n",
      "dtypes: datetime64[ns](1)\n",
      "memory usage: 292.5 KB\n"
     ]
    }
   ],
   "source": [
    "#checkhing info of the column published_at after converting it to pandas datetime.\n",
    "df['published_at'].info() "
   ]
  },
  {
   "cell_type": "code",
   "execution_count": 123,
   "id": "e3bb808b",
   "metadata": {
    "ExecuteTime": {
     "end_time": "2024-01-27T16:11:32.005628Z",
     "start_time": "2024-01-27T16:11:31.994544Z"
    },
    "scrolled": true
   },
   "outputs": [
    {
     "data": {
      "text/plain": [
       "0   2021-07-01 10:00:00\n",
       "1   2021-06-10 16:00:00\n",
       "2   2021-09-20 01:03:00\n",
       "3   2021-03-03 10:00:00\n",
       "4   2021-12-07 13:00:00\n",
       "Name: published_at, dtype: datetime64[ns]"
      ]
     },
     "execution_count": 123,
     "metadata": {},
     "output_type": "execute_result"
    }
   ],
   "source": [
    "df['published_at'].head()   "
   ]
  },
  {
   "cell_type": "markdown",
   "id": "c9a5ab33",
   "metadata": {},
   "source": [
    "###  Creating a new column as 'published_month' using the column published_at (display the months only)"
   ]
  },
  {
   "cell_type": "code",
   "execution_count": 124,
   "id": "0720de03",
   "metadata": {
    "ExecuteTime": {
     "end_time": "2024-01-27T16:11:32.699411Z",
     "start_time": "2024-01-27T16:11:32.676136Z"
    }
   },
   "outputs": [
    {
     "data": {
      "text/html": [
       "<div>\n",
       "<style scoped>\n",
       "    .dataframe tbody tr th:only-of-type {\n",
       "        vertical-align: middle;\n",
       "    }\n",
       "\n",
       "    .dataframe tbody tr th {\n",
       "        vertical-align: top;\n",
       "    }\n",
       "\n",
       "    .dataframe thead th {\n",
       "        text-align: right;\n",
       "    }\n",
       "</style>\n",
       "<table border=\"1\" class=\"dataframe\">\n",
       "  <thead>\n",
       "    <tr style=\"text-align: right;\">\n",
       "      <th></th>\n",
       "      <th>published_month</th>\n",
       "      <th>published_at</th>\n",
       "    </tr>\n",
       "  </thead>\n",
       "  <tbody>\n",
       "    <tr>\n",
       "      <th>0</th>\n",
       "      <td>7</td>\n",
       "      <td>2021-07-01 10:00:00</td>\n",
       "    </tr>\n",
       "    <tr>\n",
       "      <th>1</th>\n",
       "      <td>6</td>\n",
       "      <td>2021-06-10 16:00:00</td>\n",
       "    </tr>\n",
       "    <tr>\n",
       "      <th>2</th>\n",
       "      <td>9</td>\n",
       "      <td>2021-09-20 01:03:00</td>\n",
       "    </tr>\n",
       "    <tr>\n",
       "      <th>3</th>\n",
       "      <td>3</td>\n",
       "      <td>2021-03-03 10:00:00</td>\n",
       "    </tr>\n",
       "    <tr>\n",
       "      <th>4</th>\n",
       "      <td>12</td>\n",
       "      <td>2021-12-07 13:00:00</td>\n",
       "    </tr>\n",
       "  </tbody>\n",
       "</table>\n",
       "</div>"
      ],
      "text/plain": [
       "   published_month        published_at\n",
       "0                7 2021-07-01 10:00:00\n",
       "1                6 2021-06-10 16:00:00\n",
       "2                9 2021-09-20 01:03:00\n",
       "3                3 2021-03-03 10:00:00\n",
       "4               12 2021-12-07 13:00:00"
      ]
     },
     "execution_count": 124,
     "metadata": {},
     "output_type": "execute_result"
    }
   ],
   "source": [
    " #Creating the new  'published_month' column \n",
    "import datetime as dt \n",
    "df['published_month'] = df['published_at'].dt.month \n",
    "df[['published_month','published_at']].head()  "
   ]
  },
  {
   "cell_type": "code",
   "execution_count": 125,
   "id": "8ceb735e",
   "metadata": {
    "ExecuteTime": {
     "end_time": "2024-01-27T16:11:33.031578Z",
     "start_time": "2024-01-27T16:11:33.003094Z"
    }
   },
   "outputs": [
    {
     "data": {
      "text/html": [
       "<div>\n",
       "<style scoped>\n",
       "    .dataframe tbody tr th:only-of-type {\n",
       "        vertical-align: middle;\n",
       "    }\n",
       "\n",
       "    .dataframe tbody tr th {\n",
       "        vertical-align: top;\n",
       "    }\n",
       "\n",
       "    .dataframe thead th {\n",
       "        text-align: right;\n",
       "    }\n",
       "</style>\n",
       "<table border=\"1\" class=\"dataframe\">\n",
       "  <thead>\n",
       "    <tr style=\"text-align: right;\">\n",
       "      <th></th>\n",
       "      <th>video_id</th>\n",
       "      <th>title</th>\n",
       "      <th>channel_id</th>\n",
       "      <th>channel_title</th>\n",
       "      <th>published_at</th>\n",
       "      <th>view_count</th>\n",
       "      <th>likes</th>\n",
       "      <th>dislikes</th>\n",
       "      <th>comment_count</th>\n",
       "      <th>tags</th>\n",
       "      <th>description</th>\n",
       "      <th>comments</th>\n",
       "      <th>published_month</th>\n",
       "    </tr>\n",
       "  </thead>\n",
       "  <tbody>\n",
       "    <tr>\n",
       "      <th>0</th>\n",
       "      <td>--0bCF-iK2E</td>\n",
       "      <td>Jadon Sancho  Magical Skills &amp; Goals</td>\n",
       "      <td>UC6UL29enLNe4mqwTfAyeNuw</td>\n",
       "      <td>Bundesliga</td>\n",
       "      <td>2021-07-01 10:00:00</td>\n",
       "      <td>1048888</td>\n",
       "      <td>19515</td>\n",
       "      <td>226</td>\n",
       "      <td>1319</td>\n",
       "      <td>football soccer ftbol alemn Bundesliga season ...</td>\n",
       "      <td>Enjoy the best skills and goals from Jadon San...</td>\n",
       "      <td>Respect to Dortmund fans,must be sad losing hi...</td>\n",
       "      <td>7</td>\n",
       "    </tr>\n",
       "    <tr>\n",
       "      <th>1</th>\n",
       "      <td>--14w5SOEUs</td>\n",
       "      <td>Migos - Avalanche (Official Video)</td>\n",
       "      <td>UCGIelM2Dj3zza3xyV3pL3WQ</td>\n",
       "      <td>MigosVEVO</td>\n",
       "      <td>2021-06-10 16:00:00</td>\n",
       "      <td>15352638</td>\n",
       "      <td>359277</td>\n",
       "      <td>7479</td>\n",
       "      <td>18729</td>\n",
       "      <td>Migos Avalanche Quality Control Music/Motown R...</td>\n",
       "      <td>Watch the the official video for Migos - \"Aval...</td>\n",
       "      <td>Migos just makes me want to live my live to th...</td>\n",
       "      <td>6</td>\n",
       "    </tr>\n",
       "    <tr>\n",
       "      <th>2</th>\n",
       "      <td>--40TEbZ9Is</td>\n",
       "      <td>Supporting Actress in a Comedy: 73rd Emmys</td>\n",
       "      <td>UClBKH8yZRcM4AsRjDVEdjMg</td>\n",
       "      <td>Television Academy</td>\n",
       "      <td>2021-09-20 01:03:00</td>\n",
       "      <td>925281</td>\n",
       "      <td>11212</td>\n",
       "      <td>401</td>\n",
       "      <td>831</td>\n",
       "      <td></td>\n",
       "      <td>Hannah Waddingham wins the Emmy for Supporting...</td>\n",
       "      <td>Hannah's energy bursts through any screen. Wel...</td>\n",
       "      <td>9</td>\n",
       "    </tr>\n",
       "    <tr>\n",
       "      <th>3</th>\n",
       "      <td>--4tfbSyYDE</td>\n",
       "      <td>JO1'YOUNG (JO1 ver.)' PERFORMANCE VIDEO</td>\n",
       "      <td>UCsmXiDP8S40uBeJYxvyulmA</td>\n",
       "      <td>JO1</td>\n",
       "      <td>2021-03-03 10:00:00</td>\n",
       "      <td>2641597</td>\n",
       "      <td>39131</td>\n",
       "      <td>441</td>\n",
       "      <td>3745</td>\n",
       "      <td>PRODUCE101JAPAN              JO1   TheSTAR STA...</td>\n",
       "      <td>JO1'YOUNG (JO1 ver.)' PERFORMANCE VIDEO\\n\\n---...</td>\n",
       "      <td>youngVer&gt;&lt;  REN is really PERFECT. It's not ju...</td>\n",
       "      <td>3</td>\n",
       "    </tr>\n",
       "    <tr>\n",
       "      <th>4</th>\n",
       "      <td>#NAME?</td>\n",
       "      <td>Why Retaining Walls Collapse</td>\n",
       "      <td>UCMOqf8ab-42UUQIdVoKwjlQ</td>\n",
       "      <td>Practical Engineering</td>\n",
       "      <td>2021-12-07 13:00:00</td>\n",
       "      <td>715724</td>\n",
       "      <td>32887</td>\n",
       "      <td>367</td>\n",
       "      <td>1067</td>\n",
       "      <td>retaining wall New Jersey highway Direct Conne...</td>\n",
       "      <td>One of the most important (and innocuous) part...</td>\n",
       "      <td>Keep up with all my projects here: https://pr...</td>\n",
       "      <td>12</td>\n",
       "    </tr>\n",
       "  </tbody>\n",
       "</table>\n",
       "</div>"
      ],
      "text/plain": [
       "      video_id                                       title  \\\n",
       "0  --0bCF-iK2E        Jadon Sancho  Magical Skills & Goals   \n",
       "1  --14w5SOEUs          Migos - Avalanche (Official Video)   \n",
       "2  --40TEbZ9Is  Supporting Actress in a Comedy: 73rd Emmys   \n",
       "3  --4tfbSyYDE     JO1'YOUNG (JO1 ver.)' PERFORMANCE VIDEO   \n",
       "4       #NAME?                Why Retaining Walls Collapse   \n",
       "\n",
       "                 channel_id          channel_title        published_at  \\\n",
       "0  UC6UL29enLNe4mqwTfAyeNuw             Bundesliga 2021-07-01 10:00:00   \n",
       "1  UCGIelM2Dj3zza3xyV3pL3WQ              MigosVEVO 2021-06-10 16:00:00   \n",
       "2  UClBKH8yZRcM4AsRjDVEdjMg     Television Academy 2021-09-20 01:03:00   \n",
       "3  UCsmXiDP8S40uBeJYxvyulmA                    JO1 2021-03-03 10:00:00   \n",
       "4  UCMOqf8ab-42UUQIdVoKwjlQ  Practical Engineering 2021-12-07 13:00:00   \n",
       "\n",
       "   view_count   likes  dislikes  comment_count  \\\n",
       "0     1048888   19515       226           1319   \n",
       "1    15352638  359277      7479          18729   \n",
       "2      925281   11212       401            831   \n",
       "3     2641597   39131       441           3745   \n",
       "4      715724   32887       367           1067   \n",
       "\n",
       "                                                tags  \\\n",
       "0  football soccer ftbol alemn Bundesliga season ...   \n",
       "1  Migos Avalanche Quality Control Music/Motown R...   \n",
       "2                                                      \n",
       "3  PRODUCE101JAPAN              JO1   TheSTAR STA...   \n",
       "4  retaining wall New Jersey highway Direct Conne...   \n",
       "\n",
       "                                         description  \\\n",
       "0  Enjoy the best skills and goals from Jadon San...   \n",
       "1  Watch the the official video for Migos - \"Aval...   \n",
       "2  Hannah Waddingham wins the Emmy for Supporting...   \n",
       "3  JO1'YOUNG (JO1 ver.)' PERFORMANCE VIDEO\\n\\n---...   \n",
       "4  One of the most important (and innocuous) part...   \n",
       "\n",
       "                                            comments  published_month  \n",
       "0  Respect to Dortmund fans,must be sad losing hi...                7  \n",
       "1  Migos just makes me want to live my live to th...                6  \n",
       "2  Hannah's energy bursts through any screen. Wel...                9  \n",
       "3  youngVer><  REN is really PERFECT. It's not ju...                3  \n",
       "4   Keep up with all my projects here: https://pr...               12  "
      ]
     },
     "execution_count": 125,
     "metadata": {},
     "output_type": "execute_result"
    }
   ],
   "source": [
    "#Checking the df again in order to see whaeter new column has added or not\n",
    "df.head()"
   ]
  },
  {
   "cell_type": "markdown",
   "id": "8231746a",
   "metadata": {},
   "source": [
    "### 7. Replace the numbers in the column published_month as names of the months i,e., 1 as 'Jan', 2 as 'Feb'\n",
    "and so on"
   ]
  },
  {
   "cell_type": "code",
   "execution_count": 126,
   "id": "473099c9",
   "metadata": {
    "ExecuteTime": {
     "end_time": "2024-01-27T16:11:33.724569Z",
     "start_time": "2024-01-27T16:11:33.711099Z"
    }
   },
   "outputs": [],
   "source": [
    "# Replacing the published month values from 1,2,,,,12 to \"Jan\",\"Feb\",,,,,\"Dec\"\n",
    "df['published_month'] = df['published_month'].map({\n",
    "    1: 'Jan',\n",
    "    2: 'Feb',\n",
    "    3: 'Mar',\n",
    "    4: 'Apr',\n",
    "    5: 'May',\n",
    "    6: 'Jun',\n",
    "    7: 'Jul',\n",
    "    8: 'Aug',\n",
    "    9: 'Sep',\n",
    "    10: 'Oct',\n",
    "    11: 'Nov',\n",
    "    12: 'Dec'\n",
    "}) "
   ]
  },
  {
   "cell_type": "code",
   "execution_count": 127,
   "id": "d0b44988",
   "metadata": {
    "ExecuteTime": {
     "end_time": "2024-01-27T16:11:34.078200Z",
     "start_time": "2024-01-27T16:11:34.059009Z"
    }
   },
   "outputs": [
    {
     "data": {
      "text/plain": [
       "0        Jul\n",
       "1        Jun\n",
       "2        Sep\n",
       "3        Mar\n",
       "4        Dec\n",
       "        ... \n",
       "37417    Feb\n",
       "37418    Jan\n",
       "37419    Jun\n",
       "37420    Oct\n",
       "37421    May\n",
       "Name: published_month, Length: 37422, dtype: object"
      ]
     },
     "execution_count": 127,
     "metadata": {},
     "output_type": "execute_result"
    }
   ],
   "source": [
    "#Checking the published month column again \n",
    "df['published_month'] "
   ]
  },
  {
   "cell_type": "markdown",
   "id": "7f1ac54c",
   "metadata": {},
   "source": [
    "###   Finding the number of videos published each month and arranging the months in a decreasing order based\n",
    "### on the video count."
   ]
  },
  {
   "cell_type": "code",
   "execution_count": 128,
   "id": "9ff93554",
   "metadata": {
    "ExecuteTime": {
     "end_time": "2024-01-27T16:11:34.784528Z",
     "start_time": "2024-01-27T16:11:34.761702Z"
    }
   },
   "outputs": [
    {
     "data": {
      "text/html": [
       "<div>\n",
       "<style scoped>\n",
       "    .dataframe tbody tr th:only-of-type {\n",
       "        vertical-align: middle;\n",
       "    }\n",
       "\n",
       "    .dataframe tbody tr th {\n",
       "        vertical-align: top;\n",
       "    }\n",
       "\n",
       "    .dataframe thead th {\n",
       "        text-align: right;\n",
       "    }\n",
       "</style>\n",
       "<table border=\"1\" class=\"dataframe\">\n",
       "  <thead>\n",
       "    <tr style=\"text-align: right;\">\n",
       "      <th></th>\n",
       "      <th>published_month</th>\n",
       "      <th>video_id</th>\n",
       "    </tr>\n",
       "  </thead>\n",
       "  <tbody>\n",
       "    <tr>\n",
       "      <th>0</th>\n",
       "      <td>Oct</td>\n",
       "      <td>4991</td>\n",
       "    </tr>\n",
       "    <tr>\n",
       "      <th>1</th>\n",
       "      <td>Sep</td>\n",
       "      <td>4880</td>\n",
       "    </tr>\n",
       "    <tr>\n",
       "      <th>2</th>\n",
       "      <td>Nov</td>\n",
       "      <td>4851</td>\n",
       "    </tr>\n",
       "    <tr>\n",
       "      <th>3</th>\n",
       "      <td>Aug</td>\n",
       "      <td>4262</td>\n",
       "    </tr>\n",
       "    <tr>\n",
       "      <th>4</th>\n",
       "      <td>Dec</td>\n",
       "      <td>3072</td>\n",
       "    </tr>\n",
       "    <tr>\n",
       "      <th>5</th>\n",
       "      <td>Jul</td>\n",
       "      <td>2340</td>\n",
       "    </tr>\n",
       "    <tr>\n",
       "      <th>6</th>\n",
       "      <td>Jun</td>\n",
       "      <td>2316</td>\n",
       "    </tr>\n",
       "    <tr>\n",
       "      <th>7</th>\n",
       "      <td>Mar</td>\n",
       "      <td>2258</td>\n",
       "    </tr>\n",
       "    <tr>\n",
       "      <th>8</th>\n",
       "      <td>Feb</td>\n",
       "      <td>2137</td>\n",
       "    </tr>\n",
       "    <tr>\n",
       "      <th>9</th>\n",
       "      <td>Apr</td>\n",
       "      <td>2126</td>\n",
       "    </tr>\n",
       "    <tr>\n",
       "      <th>10</th>\n",
       "      <td>Jan</td>\n",
       "      <td>2108</td>\n",
       "    </tr>\n",
       "    <tr>\n",
       "      <th>11</th>\n",
       "      <td>May</td>\n",
       "      <td>2081</td>\n",
       "    </tr>\n",
       "  </tbody>\n",
       "</table>\n",
       "</div>"
      ],
      "text/plain": [
       "   published_month  video_id\n",
       "0              Oct      4991\n",
       "1              Sep      4880\n",
       "2              Nov      4851\n",
       "3              Aug      4262\n",
       "4              Dec      3072\n",
       "5              Jul      2340\n",
       "6              Jun      2316\n",
       "7              Mar      2258\n",
       "8              Feb      2137\n",
       "9              Apr      2126\n",
       "10             Jan      2108\n",
       "11             May      2081"
      ]
     },
     "execution_count": 128,
     "metadata": {},
     "output_type": "execute_result"
    }
   ],
   "source": [
    "# grouping data on  published_month then agregating it on count and sorting the data in decending order in order to\n",
    "# get video_id on descending order.\n",
    "pd.DataFrame(df.groupby(\"published_month\")[\"video_id\"].count()).sort_values(\"video_id\",ascending=False).reset_index()  "
   ]
  },
  {
   "cell_type": "markdown",
   "id": "a01fcb66",
   "metadata": {},
   "source": [
    "###  Finding the count of unique video_id, channel_id and channel_title."
   ]
  },
  {
   "cell_type": "code",
   "execution_count": 129,
   "id": "8e7f0122",
   "metadata": {
    "ExecuteTime": {
     "end_time": "2024-01-27T16:11:35.455855Z",
     "start_time": "2024-01-27T16:11:35.401602Z"
    }
   },
   "outputs": [
    {
     "data": {
      "text/plain": [
       "video_id         36964\n",
       "channel_id       10961\n",
       "channel_title    10880\n",
       "dtype: int64"
      ]
     },
     "execution_count": 129,
     "metadata": {},
     "output_type": "execute_result"
    }
   ],
   "source": [
    "# Displaying the unique count of video_id, channel_id and channel_title.\n",
    "df[[\"video_id\",\"channel_id\",\"channel_title\"]].nunique() "
   ]
  },
  {
   "cell_type": "markdown",
   "id": "f0c29709",
   "metadata": {},
   "source": [
    "###  Finding the top10 channel names having the highest number of videos in the dataset and the bottom10\n",
    "### having lowest number of videos."
   ]
  },
  {
   "cell_type": "code",
   "execution_count": 130,
   "id": "bd81ef41",
   "metadata": {
    "ExecuteTime": {
     "end_time": "2024-01-27T16:11:36.036054Z",
     "start_time": "2024-01-27T16:11:36.012134Z"
    },
    "scrolled": true
   },
   "outputs": [
    {
     "data": {
      "text/html": [
       "<div>\n",
       "<style scoped>\n",
       "    .dataframe tbody tr th:only-of-type {\n",
       "        vertical-align: middle;\n",
       "    }\n",
       "\n",
       "    .dataframe tbody tr th {\n",
       "        vertical-align: top;\n",
       "    }\n",
       "\n",
       "    .dataframe thead th {\n",
       "        text-align: right;\n",
       "    }\n",
       "</style>\n",
       "<table border=\"1\" class=\"dataframe\">\n",
       "  <thead>\n",
       "    <tr style=\"text-align: right;\">\n",
       "      <th></th>\n",
       "      <th>channel_title</th>\n",
       "      <th>count</th>\n",
       "    </tr>\n",
       "  </thead>\n",
       "  <tbody>\n",
       "    <tr>\n",
       "      <th>0</th>\n",
       "      <td>Sky Sports Football</td>\n",
       "      <td>533</td>\n",
       "    </tr>\n",
       "    <tr>\n",
       "      <th>1</th>\n",
       "      <td>The United Stand</td>\n",
       "      <td>301</td>\n",
       "    </tr>\n",
       "    <tr>\n",
       "      <th>2</th>\n",
       "      <td>BT Sport</td>\n",
       "      <td>246</td>\n",
       "    </tr>\n",
       "    <tr>\n",
       "      <th>3</th>\n",
       "      <td>NBA</td>\n",
       "      <td>209</td>\n",
       "    </tr>\n",
       "    <tr>\n",
       "      <th>4</th>\n",
       "      <td>NFL</td>\n",
       "      <td>162</td>\n",
       "    </tr>\n",
       "    <tr>\n",
       "      <th>5</th>\n",
       "      <td>WWE</td>\n",
       "      <td>122</td>\n",
       "    </tr>\n",
       "    <tr>\n",
       "      <th>6</th>\n",
       "      <td>SSSniperWolf</td>\n",
       "      <td>99</td>\n",
       "    </tr>\n",
       "    <tr>\n",
       "      <th>7</th>\n",
       "      <td>SSundee</td>\n",
       "      <td>98</td>\n",
       "    </tr>\n",
       "    <tr>\n",
       "      <th>8</th>\n",
       "      <td>FORMULA 1</td>\n",
       "      <td>87</td>\n",
       "    </tr>\n",
       "    <tr>\n",
       "      <th>9</th>\n",
       "      <td>NHL</td>\n",
       "      <td>86</td>\n",
       "    </tr>\n",
       "  </tbody>\n",
       "</table>\n",
       "</div>"
      ],
      "text/plain": [
       "         channel_title  count\n",
       "0  Sky Sports Football    533\n",
       "1     The United Stand    301\n",
       "2             BT Sport    246\n",
       "3                  NBA    209\n",
       "4                  NFL    162\n",
       "5                  WWE    122\n",
       "6         SSSniperWolf     99\n",
       "7              SSundee     98\n",
       "8            FORMULA 1     87\n",
       "9                  NHL     86"
      ]
     },
     "execution_count": 130,
     "metadata": {},
     "output_type": "execute_result"
    }
   ],
   "source": [
    "#Displaying top10 channel names having the highest number of videos.\n",
    "df[\"channel_title\"].value_counts().reset_index().head(10)   "
   ]
  },
  {
   "cell_type": "code",
   "execution_count": 131,
   "id": "f94909f5",
   "metadata": {
    "ExecuteTime": {
     "end_time": "2024-01-27T16:11:36.367675Z",
     "start_time": "2024-01-27T16:11:36.335917Z"
    }
   },
   "outputs": [
    {
     "data": {
      "text/html": [
       "<div>\n",
       "<style scoped>\n",
       "    .dataframe tbody tr th:only-of-type {\n",
       "        vertical-align: middle;\n",
       "    }\n",
       "\n",
       "    .dataframe tbody tr th {\n",
       "        vertical-align: top;\n",
       "    }\n",
       "\n",
       "    .dataframe thead th {\n",
       "        text-align: right;\n",
       "    }\n",
       "</style>\n",
       "<table border=\"1\" class=\"dataframe\">\n",
       "  <thead>\n",
       "    <tr style=\"text-align: right;\">\n",
       "      <th></th>\n",
       "      <th>channel_title</th>\n",
       "      <th>count</th>\n",
       "    </tr>\n",
       "  </thead>\n",
       "  <tbody>\n",
       "    <tr>\n",
       "      <th>0</th>\n",
       "      <td>Mehaboob Dil Se</td>\n",
       "      <td>1</td>\n",
       "    </tr>\n",
       "    <tr>\n",
       "      <th>1</th>\n",
       "      <td>PietSmietTV</td>\n",
       "      <td>1</td>\n",
       "    </tr>\n",
       "    <tr>\n",
       "      <th>2</th>\n",
       "      <td>Jessica Kellgren-Fozard</td>\n",
       "      <td>1</td>\n",
       "    </tr>\n",
       "    <tr>\n",
       "      <th>3</th>\n",
       "      <td>White Cottage Company</td>\n",
       "      <td>1</td>\n",
       "    </tr>\n",
       "    <tr>\n",
       "      <th>4</th>\n",
       "      <td>ItsLoru</td>\n",
       "      <td>1</td>\n",
       "    </tr>\n",
       "    <tr>\n",
       "      <th>5</th>\n",
       "      <td>My Self Reliance</td>\n",
       "      <td>1</td>\n",
       "    </tr>\n",
       "    <tr>\n",
       "      <th>6</th>\n",
       "      <td>SEOULiAN</td>\n",
       "      <td>1</td>\n",
       "    </tr>\n",
       "    <tr>\n",
       "      <th>7</th>\n",
       "      <td>gymvirtual</td>\n",
       "      <td>1</td>\n",
       "    </tr>\n",
       "    <tr>\n",
       "      <th>8</th>\n",
       "      <td>MarshmelloVEVO</td>\n",
       "      <td>1</td>\n",
       "    </tr>\n",
       "    <tr>\n",
       "      <th>9</th>\n",
       "      <td>LifeisPainTv</td>\n",
       "      <td>1</td>\n",
       "    </tr>\n",
       "  </tbody>\n",
       "</table>\n",
       "</div>"
      ],
      "text/plain": [
       "             channel_title  count\n",
       "0          Mehaboob Dil Se      1\n",
       "1              PietSmietTV      1\n",
       "2  Jessica Kellgren-Fozard      1\n",
       "3    White Cottage Company      1\n",
       "4                  ItsLoru      1\n",
       "5         My Self Reliance      1\n",
       "6                 SEOULiAN      1\n",
       "7               gymvirtual      1\n",
       "8           MarshmelloVEVO      1\n",
       "9             LifeisPainTv      1"
      ]
     },
     "execution_count": 131,
     "metadata": {},
     "output_type": "execute_result"
    }
   ],
   "source": [
    "#Displaying bottom 10 channel names having the lowest number of videos.\n",
    "df[\"channel_title\"].value_counts().sort_values().head(10).reset_index() "
   ]
  },
  {
   "cell_type": "markdown",
   "id": "7f331c81",
   "metadata": {},
   "source": [
    "### Finding the title of the video which has the maximum number of likes and the title of the video having\n",
    "### minimum likes and writing inferences."
   ]
  },
  {
   "cell_type": "code",
   "execution_count": 132,
   "id": "c8935edf",
   "metadata": {
    "ExecuteTime": {
     "end_time": "2024-01-27T16:11:37.028857Z",
     "start_time": "2024-01-27T16:11:37.023044Z"
    }
   },
   "outputs": [],
   "source": [
    "# The title which has got maximum likes is BTS () 'Dynamite' Official MV becuase it is very popular in youngsters \n",
    "# the video content is attracting viewers more and more , so likes are for this video .\n",
    "# The title which has got minimum  likes is Kim Kardashian's Must-See Moments on \"Saturday.\n",
    "# which has got zero likes may the video content is not upto the mark in order attract more viewers to watch it and like it \n",
    "# the youtuber need to work on video content to get more likes."
   ]
  },
  {
   "cell_type": "code",
   "execution_count": 133,
   "id": "ea420e87",
   "metadata": {
    "ExecuteTime": {
     "end_time": "2024-01-27T16:11:37.525075Z",
     "start_time": "2024-01-27T16:11:37.387639Z"
    },
    "scrolled": true
   },
   "outputs": [
    {
     "data": {
      "text/html": [
       "<div>\n",
       "<style scoped>\n",
       "    .dataframe tbody tr th:only-of-type {\n",
       "        vertical-align: middle;\n",
       "    }\n",
       "\n",
       "    .dataframe tbody tr th {\n",
       "        vertical-align: top;\n",
       "    }\n",
       "\n",
       "    .dataframe thead th {\n",
       "        text-align: right;\n",
       "    }\n",
       "</style>\n",
       "<table border=\"1\" class=\"dataframe\">\n",
       "  <thead>\n",
       "    <tr style=\"text-align: right;\">\n",
       "      <th></th>\n",
       "      <th>title</th>\n",
       "      <th>likes</th>\n",
       "    </tr>\n",
       "  </thead>\n",
       "  <tbody>\n",
       "    <tr>\n",
       "      <th>0</th>\n",
       "      <td>BTS () 'Dynamite' Official MV</td>\n",
       "      <td>31837675</td>\n",
       "    </tr>\n",
       "    <tr>\n",
       "      <th>1</th>\n",
       "      <td>BTS () 'Butter' Official MV</td>\n",
       "      <td>20649409</td>\n",
       "    </tr>\n",
       "    <tr>\n",
       "      <th>2</th>\n",
       "      <td>BLACKPINK - 'Ice Cream (with Selena Gomez)' M/V</td>\n",
       "      <td>17864527</td>\n",
       "    </tr>\n",
       "    <tr>\n",
       "      <th>3</th>\n",
       "      <td>BTS () 'Life Goes On' Official MV</td>\n",
       "      <td>16354127</td>\n",
       "    </tr>\n",
       "    <tr>\n",
       "      <th>4</th>\n",
       "      <td>BTS () 'Permission to Dance' Official MV</td>\n",
       "      <td>15449003</td>\n",
       "    </tr>\n",
       "    <tr>\n",
       "      <th>...</th>\n",
       "      <td>...</td>\n",
       "      <td>...</td>\n",
       "    </tr>\n",
       "    <tr>\n",
       "      <th>37106</th>\n",
       "      <td>Virtual Pub Quiz, Live! Saturday 12th December</td>\n",
       "      <td>97</td>\n",
       "    </tr>\n",
       "    <tr>\n",
       "      <th>37107</th>\n",
       "      <td>Small Business Loans from OnDeck</td>\n",
       "      <td>29</td>\n",
       "    </tr>\n",
       "    <tr>\n",
       "      <th>37108</th>\n",
       "      <td>Tims For Good: A Taste Of The Familiar</td>\n",
       "      <td>28</td>\n",
       "    </tr>\n",
       "    <tr>\n",
       "      <th>37109</th>\n",
       "      <td>Leading the Charge | Circle K</td>\n",
       "      <td>22</td>\n",
       "    </tr>\n",
       "    <tr>\n",
       "      <th>37110</th>\n",
       "      <td>Kim Kardashian's Must-See Moments on \"Saturday...</td>\n",
       "      <td>0</td>\n",
       "    </tr>\n",
       "  </tbody>\n",
       "</table>\n",
       "<p>37111 rows × 2 columns</p>\n",
       "</div>"
      ],
      "text/plain": [
       "                                                   title     likes\n",
       "0                          BTS () 'Dynamite' Official MV  31837675\n",
       "1                            BTS () 'Butter' Official MV  20649409\n",
       "2        BLACKPINK - 'Ice Cream (with Selena Gomez)' M/V  17864527\n",
       "3                      BTS () 'Life Goes On' Official MV  16354127\n",
       "4               BTS () 'Permission to Dance' Official MV  15449003\n",
       "...                                                  ...       ...\n",
       "37106     Virtual Pub Quiz, Live! Saturday 12th December        97\n",
       "37107                   Small Business Loans from OnDeck        29\n",
       "37108             Tims For Good: A Taste Of The Familiar        28\n",
       "37109                      Leading the Charge | Circle K        22\n",
       "37110  Kim Kardashian's Must-See Moments on \"Saturday...         0\n",
       "\n",
       "[37111 rows x 2 columns]"
      ]
     },
     "execution_count": 133,
     "metadata": {},
     "output_type": "execute_result"
    }
   ],
   "source": [
    "# grouping data on title , aggregating the sum on likes and sorting likes on descending order in order to get number likes \n",
    "# in descending order.\n",
    "pd.DataFrame(df.groupby(\"title\")[\"likes\"].sum()).sort_values(\"likes\",ascending=False).reset_index()\n"
   ]
  },
  {
   "cell_type": "code",
   "execution_count": 134,
   "id": "b816c56f",
   "metadata": {
    "ExecuteTime": {
     "end_time": "2024-01-27T16:11:37.880448Z",
     "start_time": "2024-01-27T16:11:37.771290Z"
    }
   },
   "outputs": [
    {
     "data": {
      "text/html": [
       "<div>\n",
       "<style scoped>\n",
       "    .dataframe tbody tr th:only-of-type {\n",
       "        vertical-align: middle;\n",
       "    }\n",
       "\n",
       "    .dataframe tbody tr th {\n",
       "        vertical-align: top;\n",
       "    }\n",
       "\n",
       "    .dataframe thead th {\n",
       "        text-align: right;\n",
       "    }\n",
       "</style>\n",
       "<table border=\"1\" class=\"dataframe\">\n",
       "  <thead>\n",
       "    <tr style=\"text-align: right;\">\n",
       "      <th></th>\n",
       "      <th>title</th>\n",
       "      <th>likes</th>\n",
       "    </tr>\n",
       "  </thead>\n",
       "  <tbody>\n",
       "    <tr>\n",
       "      <th>0</th>\n",
       "      <td>BTS () 'Dynamite' Official MV</td>\n",
       "      <td>31837675</td>\n",
       "    </tr>\n",
       "  </tbody>\n",
       "</table>\n",
       "</div>"
      ],
      "text/plain": [
       "                           title     likes\n",
       "0  BTS () 'Dynamite' Official MV  31837675"
      ]
     },
     "execution_count": 134,
     "metadata": {},
     "output_type": "execute_result"
    }
   ],
   "source": [
    "#Displaying the title which has got maximum likes.\n",
    "pd.DataFrame(df.groupby(\"title\")[\"likes\"].sum()).sort_values(\"likes\",ascending=False).reset_index().head(1)\n"
   ]
  },
  {
   "cell_type": "code",
   "execution_count": 135,
   "id": "1d636a8a",
   "metadata": {
    "ExecuteTime": {
     "end_time": "2024-01-27T16:11:38.254871Z",
     "start_time": "2024-01-27T16:11:38.124258Z"
    }
   },
   "outputs": [
    {
     "data": {
      "text/html": [
       "<div>\n",
       "<style scoped>\n",
       "    .dataframe tbody tr th:only-of-type {\n",
       "        vertical-align: middle;\n",
       "    }\n",
       "\n",
       "    .dataframe tbody tr th {\n",
       "        vertical-align: top;\n",
       "    }\n",
       "\n",
       "    .dataframe thead th {\n",
       "        text-align: right;\n",
       "    }\n",
       "</style>\n",
       "<table border=\"1\" class=\"dataframe\">\n",
       "  <thead>\n",
       "    <tr style=\"text-align: right;\">\n",
       "      <th></th>\n",
       "      <th>title</th>\n",
       "      <th>likes</th>\n",
       "    </tr>\n",
       "  </thead>\n",
       "  <tbody>\n",
       "    <tr>\n",
       "      <th>37110</th>\n",
       "      <td>Kim Kardashian's Must-See Moments on \"Saturday...</td>\n",
       "      <td>0</td>\n",
       "    </tr>\n",
       "  </tbody>\n",
       "</table>\n",
       "</div>"
      ],
      "text/plain": [
       "                                                   title  likes\n",
       "37110  Kim Kardashian's Must-See Moments on \"Saturday...      0"
      ]
     },
     "execution_count": 135,
     "metadata": {},
     "output_type": "execute_result"
    }
   ],
   "source": [
    "#Displaying the title which has got minimum likes.\n",
    "pd.DataFrame(df.groupby(\"title\")[\"likes\"].sum()).sort_values(\"likes\",ascending=False).reset_index().tail(1)"
   ]
  },
  {
   "cell_type": "markdown",
   "id": "da893cba",
   "metadata": {},
   "source": [
    "### Finding the title of the video which has the maximum number of dislikes and the title of the video having\n",
    "### minimum dislikes and writing inferences."
   ]
  },
  {
   "cell_type": "code",
   "execution_count": 136,
   "id": "228b5b20",
   "metadata": {
    "ExecuteTime": {
     "end_time": "2024-01-27T16:11:38.802474Z",
     "start_time": "2024-01-27T16:11:38.796928Z"
    }
   },
   "outputs": [],
   "source": [
    "# The title which has got maximum dislikes is  Cuties | Official Trailer | Netflix ,may be content  of the video is  misleading the viewers\n",
    "# or may the viewers are not relating to what video has projected , because of which viewers are watching it and then dislikeking it \n",
    "# The title which has got minimum dislikes is Kim Kardashian's Must-See Moments on \"Saturday."
   ]
  },
  {
   "cell_type": "code",
   "execution_count": 137,
   "id": "2b395ad9",
   "metadata": {
    "ExecuteTime": {
     "end_time": "2024-01-27T16:11:39.277938Z",
     "start_time": "2024-01-27T16:11:39.139767Z"
    }
   },
   "outputs": [
    {
     "data": {
      "text/html": [
       "<div>\n",
       "<style scoped>\n",
       "    .dataframe tbody tr th:only-of-type {\n",
       "        vertical-align: middle;\n",
       "    }\n",
       "\n",
       "    .dataframe tbody tr th {\n",
       "        vertical-align: top;\n",
       "    }\n",
       "\n",
       "    .dataframe thead th {\n",
       "        text-align: right;\n",
       "    }\n",
       "</style>\n",
       "<table border=\"1\" class=\"dataframe\">\n",
       "  <thead>\n",
       "    <tr style=\"text-align: right;\">\n",
       "      <th></th>\n",
       "      <th>title</th>\n",
       "      <th>dislikes</th>\n",
       "    </tr>\n",
       "  </thead>\n",
       "  <tbody>\n",
       "    <tr>\n",
       "      <th>0</th>\n",
       "      <td>Cuties | Official Trailer | Netflix</td>\n",
       "      <td>2397733</td>\n",
       "    </tr>\n",
       "    <tr>\n",
       "      <th>1</th>\n",
       "      <td>BTS () 'Dynamite' Official MV</td>\n",
       "      <td>1814333</td>\n",
       "    </tr>\n",
       "    <tr>\n",
       "      <th>2</th>\n",
       "      <td>Cardi B - WAP feat. Megan Thee Stallion [Offic...</td>\n",
       "      <td>1331181</td>\n",
       "    </tr>\n",
       "    <tr>\n",
       "      <th>3</th>\n",
       "      <td>52 GAJ KA DAMAN | PRANJAL DAHIYA | AMAN JAJI |...</td>\n",
       "      <td>1259533</td>\n",
       "    </tr>\n",
       "    <tr>\n",
       "      <th>4</th>\n",
       "      <td>BLACKPINK - 'Ice Cream (with Selena Gomez)' M/V</td>\n",
       "      <td>1253187</td>\n",
       "    </tr>\n",
       "    <tr>\n",
       "      <th>...</th>\n",
       "      <td>...</td>\n",
       "      <td>...</td>\n",
       "    </tr>\n",
       "    <tr>\n",
       "      <th>37106</th>\n",
       "      <td>Leicester v Gloucester | Wigglesworth Impresse...</td>\n",
       "      <td>7</td>\n",
       "    </tr>\n",
       "    <tr>\n",
       "      <th>37107</th>\n",
       "      <td>Leeds Rhinos vs Wakefield Trinity | Super Leag...</td>\n",
       "      <td>6</td>\n",
       "    </tr>\n",
       "    <tr>\n",
       "      <th>37108</th>\n",
       "      <td>Live Stream: Hampshire v Yorkshire - LV= Count...</td>\n",
       "      <td>4</td>\n",
       "    </tr>\n",
       "    <tr>\n",
       "      <th>37109</th>\n",
       "      <td>Tims For Good: A Taste Of The Familiar</td>\n",
       "      <td>3</td>\n",
       "    </tr>\n",
       "    <tr>\n",
       "      <th>37110</th>\n",
       "      <td>Kim Kardashian's Must-See Moments on \"Saturday...</td>\n",
       "      <td>0</td>\n",
       "    </tr>\n",
       "  </tbody>\n",
       "</table>\n",
       "<p>37111 rows × 2 columns</p>\n",
       "</div>"
      ],
      "text/plain": [
       "                                                   title  dislikes\n",
       "0                    Cuties | Official Trailer | Netflix   2397733\n",
       "1                          BTS () 'Dynamite' Official MV   1814333\n",
       "2      Cardi B - WAP feat. Megan Thee Stallion [Offic...   1331181\n",
       "3      52 GAJ KA DAMAN | PRANJAL DAHIYA | AMAN JAJI |...   1259533\n",
       "4        BLACKPINK - 'Ice Cream (with Selena Gomez)' M/V   1253187\n",
       "...                                                  ...       ...\n",
       "37106  Leicester v Gloucester | Wigglesworth Impresse...         7\n",
       "37107  Leeds Rhinos vs Wakefield Trinity | Super Leag...         6\n",
       "37108  Live Stream: Hampshire v Yorkshire - LV= Count...         4\n",
       "37109             Tims For Good: A Taste Of The Familiar         3\n",
       "37110  Kim Kardashian's Must-See Moments on \"Saturday...         0\n",
       "\n",
       "[37111 rows x 2 columns]"
      ]
     },
     "execution_count": 137,
     "metadata": {},
     "output_type": "execute_result"
    }
   ],
   "source": [
    "# grouping data on title , aggregating the sum on dislikes and sorting dislikes on descending order in order to get number dislikes \n",
    "# in descending order.\n",
    "pd.DataFrame(df.groupby(\"title\")[\"dislikes\"].sum()).sort_values(\"dislikes\",ascending=False).reset_index()\n"
   ]
  },
  {
   "cell_type": "code",
   "execution_count": 138,
   "id": "35e96952",
   "metadata": {
    "ExecuteTime": {
     "end_time": "2024-01-27T16:11:39.616004Z",
     "start_time": "2024-01-27T16:11:39.474545Z"
    }
   },
   "outputs": [
    {
     "data": {
      "text/html": [
       "<div>\n",
       "<style scoped>\n",
       "    .dataframe tbody tr th:only-of-type {\n",
       "        vertical-align: middle;\n",
       "    }\n",
       "\n",
       "    .dataframe tbody tr th {\n",
       "        vertical-align: top;\n",
       "    }\n",
       "\n",
       "    .dataframe thead th {\n",
       "        text-align: right;\n",
       "    }\n",
       "</style>\n",
       "<table border=\"1\" class=\"dataframe\">\n",
       "  <thead>\n",
       "    <tr style=\"text-align: right;\">\n",
       "      <th></th>\n",
       "      <th>title</th>\n",
       "      <th>dislikes</th>\n",
       "    </tr>\n",
       "  </thead>\n",
       "  <tbody>\n",
       "    <tr>\n",
       "      <th>0</th>\n",
       "      <td>Cuties | Official Trailer | Netflix</td>\n",
       "      <td>2397733</td>\n",
       "    </tr>\n",
       "  </tbody>\n",
       "</table>\n",
       "</div>"
      ],
      "text/plain": [
       "                                 title  dislikes\n",
       "0  Cuties | Official Trailer | Netflix   2397733"
      ]
     },
     "execution_count": 138,
     "metadata": {},
     "output_type": "execute_result"
    }
   ],
   "source": [
    "#Displaying the title which has got maximum dislikes.\n",
    "pd.DataFrame(df.groupby(\"title\")[\"dislikes\"].sum()).sort_values(\"dislikes\",ascending=False).reset_index().head(1)"
   ]
  },
  {
   "cell_type": "code",
   "execution_count": 139,
   "id": "352e3964",
   "metadata": {
    "ExecuteTime": {
     "end_time": "2024-01-27T16:11:39.986946Z",
     "start_time": "2024-01-27T16:11:39.858314Z"
    }
   },
   "outputs": [
    {
     "data": {
      "text/html": [
       "<div>\n",
       "<style scoped>\n",
       "    .dataframe tbody tr th:only-of-type {\n",
       "        vertical-align: middle;\n",
       "    }\n",
       "\n",
       "    .dataframe tbody tr th {\n",
       "        vertical-align: top;\n",
       "    }\n",
       "\n",
       "    .dataframe thead th {\n",
       "        text-align: right;\n",
       "    }\n",
       "</style>\n",
       "<table border=\"1\" class=\"dataframe\">\n",
       "  <thead>\n",
       "    <tr style=\"text-align: right;\">\n",
       "      <th></th>\n",
       "      <th>title</th>\n",
       "      <th>dislikes</th>\n",
       "    </tr>\n",
       "  </thead>\n",
       "  <tbody>\n",
       "    <tr>\n",
       "      <th>37110</th>\n",
       "      <td>Kim Kardashian's Must-See Moments on \"Saturday...</td>\n",
       "      <td>0</td>\n",
       "    </tr>\n",
       "  </tbody>\n",
       "</table>\n",
       "</div>"
      ],
      "text/plain": [
       "                                                   title  dislikes\n",
       "37110  Kim Kardashian's Must-See Moments on \"Saturday...         0"
      ]
     },
     "execution_count": 139,
     "metadata": {},
     "output_type": "execute_result"
    }
   ],
   "source": [
    "#Displaying the title which has got minimum dislikes.\n",
    "pd.DataFrame(df.groupby(\"title\")[\"dislikes\"].sum()).sort_values(\"dislikes\",ascending=False).reset_index().tail(1)"
   ]
  },
  {
   "cell_type": "markdown",
   "id": "41ff8788",
   "metadata": {},
   "source": [
    "### Checking, Does the number of views have any effect on how many people disliked the video"
   ]
  },
  {
   "cell_type": "code",
   "execution_count": 140,
   "id": "dcc0574d",
   "metadata": {
    "ExecuteTime": {
     "end_time": "2024-01-27T16:11:40.477418Z",
     "start_time": "2024-01-27T16:11:40.470973Z"
    }
   },
   "outputs": [],
   "source": [
    "# The more number of views leads to many people disliking the videos by using plot and matric we csn see that 68% of the viewers\n",
    "#who are watching the vedeos and then disliking it ."
   ]
  },
  {
   "cell_type": "code",
   "execution_count": 141,
   "id": "a2aad7d7",
   "metadata": {
    "ExecuteTime": {
     "end_time": "2024-01-27T16:11:40.858273Z",
     "start_time": "2024-01-27T16:11:40.836395Z"
    },
    "scrolled": true
   },
   "outputs": [
    {
     "data": {
      "text/html": [
       "<div>\n",
       "<style scoped>\n",
       "    .dataframe tbody tr th:only-of-type {\n",
       "        vertical-align: middle;\n",
       "    }\n",
       "\n",
       "    .dataframe tbody tr th {\n",
       "        vertical-align: top;\n",
       "    }\n",
       "\n",
       "    .dataframe thead th {\n",
       "        text-align: right;\n",
       "    }\n",
       "</style>\n",
       "<table border=\"1\" class=\"dataframe\">\n",
       "  <thead>\n",
       "    <tr style=\"text-align: right;\">\n",
       "      <th></th>\n",
       "      <th>view_count</th>\n",
       "      <th>dislikes</th>\n",
       "    </tr>\n",
       "  </thead>\n",
       "  <tbody>\n",
       "    <tr>\n",
       "      <th>view_count</th>\n",
       "      <td>1.000000</td>\n",
       "      <td>0.684469</td>\n",
       "    </tr>\n",
       "    <tr>\n",
       "      <th>dislikes</th>\n",
       "      <td>0.684469</td>\n",
       "      <td>1.000000</td>\n",
       "    </tr>\n",
       "  </tbody>\n",
       "</table>\n",
       "</div>"
      ],
      "text/plain": [
       "            view_count  dislikes\n",
       "view_count    1.000000  0.684469\n",
       "dislikes      0.684469  1.000000"
      ]
     },
     "execution_count": 141,
     "metadata": {},
     "output_type": "execute_result"
    }
   ],
   "source": [
    "#Displaying correlation between view_count and dislikes columns.\n",
    "df[[\"view_count\",\"dislikes\"]].corr()  "
   ]
  },
  {
   "cell_type": "code",
   "execution_count": 142,
   "id": "04d56cfc",
   "metadata": {
    "ExecuteTime": {
     "end_time": "2024-01-27T16:11:41.806601Z",
     "start_time": "2024-01-27T16:11:41.152073Z"
    }
   },
   "outputs": [
    {
     "data": {
      "text/plain": [
       "<Axes: xlabel='view_count', ylabel='dislikes'>"
      ]
     },
     "execution_count": 142,
     "metadata": {},
     "output_type": "execute_result"
    },
    {
     "data": {
      "image/png": "[encoded data removed]",
      "text/plain": [
       "<Figure size 640x480 with 1 Axes>"
      ]
     },
     "metadata": {},
     "output_type": "display_data"
    }
   ],
   "source": [
    " # plot to see correlation between number of viewers and no of viewers disking it.\n",
    "sns.scatterplot(data=df,x=\"view_count\",y=\"dislikes\")"
   ]
  },
  {
   "cell_type": "code",
   "execution_count": 143,
   "id": "64387698",
   "metadata": {
    "ExecuteTime": {
     "end_time": "2024-01-27T16:11:49.106814Z",
     "start_time": "2024-01-27T16:11:41.890710Z"
    }
   },
   "outputs": [
    {
     "data": {
      "text/plain": [
       "<seaborn.axisgrid.FacetGrid at 0x1dfe614d250>"
      ]
     },
     "execution_count": 143,
     "metadata": {},
     "output_type": "execute_result"
    },
    {
     "data": {
      "image/png": "[encoded data removed]",
      "text/plain": [
       "<Figure size 500x500 with 1 Axes>"
      ]
     },
     "metadata": {},
     "output_type": "display_data"
    }
   ],
   "source": [
    "#plot to see correlation with trend or ols line with the help of lm plot.\n",
    "sns.lmplot(data=df,x=\"view_count\",y=\"dislikes\") "
   ]
  },
  {
   "cell_type": "code",
   "execution_count": 144,
   "id": "2daaf1cd",
   "metadata": {
    "ExecuteTime": {
     "end_time": "2024-01-27T16:11:49.690338Z",
     "start_time": "2024-01-27T16:11:49.209729Z"
    }
   },
   "outputs": [
    {
     "data": {
      "text/plain": [
       "<Axes: >"
      ]
     },
     "execution_count": 144,
     "metadata": {},
     "output_type": "execute_result"
    },
    {
     "data": {
      "image/png": "[encoded data removed]",
      "text/plain": [
       "<Figure size 640x480 with 2 Axes>"
      ]
     },
     "metadata": {},
     "output_type": "display_data"
    }
   ],
   "source": [
    "#Matric to see correlation between number of viewers and no of viewers disking it.\n",
    "sns.heatmap(df[[\"view_count\",\"dislikes\"]].corr() ,annot=True,cmap=\"Greens\") "
   ]
  },
  {
   "cell_type": "markdown",
   "id": "6db63947",
   "metadata": {},
   "source": [
    "###  Displaying all the information about the videos that were published in January, and mentioning the count of\n",
    "### videos that were published in January."
   ]
  },
  {
   "cell_type": "code",
   "execution_count": 145,
   "id": "a9645661",
   "metadata": {
    "ExecuteTime": {
     "end_time": "2024-01-27T16:11:49.815614Z",
     "start_time": "2024-01-27T16:11:49.780808Z"
    }
   },
   "outputs": [
    {
     "data": {
      "text/html": [
       "<div>\n",
       "<style scoped>\n",
       "    .dataframe tbody tr th:only-of-type {\n",
       "        vertical-align: middle;\n",
       "    }\n",
       "\n",
       "    .dataframe tbody tr th {\n",
       "        vertical-align: top;\n",
       "    }\n",
       "\n",
       "    .dataframe thead th {\n",
       "        text-align: right;\n",
       "    }\n",
       "</style>\n",
       "<table border=\"1\" class=\"dataframe\">\n",
       "  <thead>\n",
       "    <tr style=\"text-align: right;\">\n",
       "      <th></th>\n",
       "      <th>video_id</th>\n",
       "      <th>title</th>\n",
       "      <th>channel_id</th>\n",
       "      <th>channel_title</th>\n",
       "      <th>published_at</th>\n",
       "      <th>view_count</th>\n",
       "      <th>likes</th>\n",
       "      <th>dislikes</th>\n",
       "      <th>comment_count</th>\n",
       "      <th>tags</th>\n",
       "      <th>description</th>\n",
       "      <th>comments</th>\n",
       "      <th>published_month</th>\n",
       "    </tr>\n",
       "  </thead>\n",
       "  <tbody>\n",
       "    <tr>\n",
       "      <th>27</th>\n",
       "      <td>-2Gwm7QfBnE</td>\n",
       "      <td>Q&amp;A With Naisha</td>\n",
       "      <td>UCYwNMbogQFzMccPSuy-pPWg</td>\n",
       "      <td>MianTwins</td>\n",
       "      <td>2021-01-21 00:05:00</td>\n",
       "      <td>872372</td>\n",
       "      <td>38626</td>\n",
       "      <td>239</td>\n",
       "      <td>621</td>\n",
       "      <td></td>\n",
       "      <td>Hey Guys!!! this has been the most requested v...</td>\n",
       "      <td>I feel like Nate and Aishas personality match ...</td>\n",
       "      <td>Jan</td>\n",
       "    </tr>\n",
       "    <tr>\n",
       "      <th>48</th>\n",
       "      <td>-4sfXSHSxzA</td>\n",
       "      <td>SURPRISING BRENT WITH HIS TIKTOK CRUSH!!</td>\n",
       "      <td>UCPpATKqmMV-CNRNWYaDUwiA</td>\n",
       "      <td>Alexa Rivera</td>\n",
       "      <td>2021-01-16 21:40:00</td>\n",
       "      <td>6504784</td>\n",
       "      <td>262477</td>\n",
       "      <td>5779</td>\n",
       "      <td>7907</td>\n",
       "      <td></td>\n",
       "      <td>He had no idea! Thank you guys so much for wat...</td>\n",
       "      <td>Thank you guys for watching and don't forget t...</td>\n",
       "      <td>Jan</td>\n",
       "    </tr>\n",
       "    <tr>\n",
       "      <th>95</th>\n",
       "      <td>#NAME?</td>\n",
       "      <td>WE ARE HAVING A BABY! | finding out i'm pregna...</td>\n",
       "      <td>UCVsTboAhpnuL6j-tDePvNwQ</td>\n",
       "      <td>Tess Christine</td>\n",
       "      <td>2021-01-03 21:53:00</td>\n",
       "      <td>533084</td>\n",
       "      <td>38965</td>\n",
       "      <td>119</td>\n",
       "      <td>1650</td>\n",
       "      <td></td>\n",
       "      <td>I am so happy to tell you that I am pregnant!!...</td>\n",
       "      <td>Okay I needed a moment to collect my thoughts ...</td>\n",
       "      <td>Jan</td>\n",
       "    </tr>\n",
       "    <tr>\n",
       "      <th>103</th>\n",
       "      <td>#NAME?</td>\n",
       "      <td>Do Ugly Foods Taste Worse? Taste Test</td>\n",
       "      <td>UCzpCc5n9hqiVC7HhPwcIKEg</td>\n",
       "      <td>Good Mythical MORE</td>\n",
       "      <td>2021-01-19 11:00:00</td>\n",
       "      <td>1057077</td>\n",
       "      <td>22526</td>\n",
       "      <td>531</td>\n",
       "      <td>773</td>\n",
       "      <td>gmm good mythical morning rhettandlink rhett a...</td>\n",
       "      <td>Today, we're doing a blind taste test to deter...</td>\n",
       "      <td>\"there's nothing wrong with it being bent\"\\nI ...</td>\n",
       "      <td>Jan</td>\n",
       "    </tr>\n",
       "    <tr>\n",
       "      <th>182</th>\n",
       "      <td>#NAME?</td>\n",
       "      <td>Schlatt gets fit</td>\n",
       "      <td>UCWZp4y1jqBuvLtiyxSs_ZBw</td>\n",
       "      <td>Big guy</td>\n",
       "      <td>2021-01-24 22:50:00</td>\n",
       "      <td>1724965</td>\n",
       "      <td>119431</td>\n",
       "      <td>325</td>\n",
       "      <td>1578</td>\n",
       "      <td>jschlatt big guy jschlatt highlights schlatt j...</td>\n",
       "      <td>#jschlatt #schlatt #bigguy #short</td>\n",
       "      <td>Schlatt is single handedly wiping out all the ...</td>\n",
       "      <td>Jan</td>\n",
       "    </tr>\n",
       "    <tr>\n",
       "      <th>...</th>\n",
       "      <td>...</td>\n",
       "      <td>...</td>\n",
       "      <td>...</td>\n",
       "      <td>...</td>\n",
       "      <td>...</td>\n",
       "      <td>...</td>\n",
       "      <td>...</td>\n",
       "      <td>...</td>\n",
       "      <td>...</td>\n",
       "      <td>...</td>\n",
       "      <td>...</td>\n",
       "      <td>...</td>\n",
       "      <td>...</td>\n",
       "    </tr>\n",
       "    <tr>\n",
       "      <th>37300</th>\n",
       "      <td>zmzFL5bG-jc</td>\n",
       "      <td>DEVINE MON PERSONNAGE AVANT AKINATOR ! (c'est ...</td>\n",
       "      <td>UCIlr3byh6wmXgcPx_Tm9Ocw</td>\n",
       "      <td>Piwerre</td>\n",
       "      <td>2021-01-16 16:12:00</td>\n",
       "      <td>670357</td>\n",
       "      <td>54462</td>\n",
       "      <td>832</td>\n",
       "      <td>1249</td>\n",
       "      <td>Piwerre frere de michou crouton among us devin...</td>\n",
       "      <td>Discord Piwerre : https://discord.gg/QBduPgAA...</td>\n",
       "      <td>Mdr michou quand c'est pas ses tournage il fou...</td>\n",
       "      <td>Jan</td>\n",
       "    </tr>\n",
       "    <tr>\n",
       "      <th>37329</th>\n",
       "      <td>zpzjex7qwrA</td>\n",
       "      <td>Lampard Sacked Within Days Rorys Misery | Chel...</td>\n",
       "      <td>UCkD-ZOixI0a9FjIExDsHsbg</td>\n",
       "      <td>The Kick Off</td>\n",
       "      <td>2021-01-03 20:13:00</td>\n",
       "      <td>428646</td>\n",
       "      <td>12060</td>\n",
       "      <td>296</td>\n",
       "      <td>1505</td>\n",
       "      <td>Premier league Chelsea chelsea 1-3 Man City Ch...</td>\n",
       "      <td>The Kick Off watched Manchester City destroy C...</td>\n",
       "      <td>True Its like a fighter who Geordie But I thou...</td>\n",
       "      <td>Jan</td>\n",
       "    </tr>\n",
       "    <tr>\n",
       "      <th>37345</th>\n",
       "      <td>zqyv-B6mnBM</td>\n",
       "      <td>Lil Wayne - Ain't Got Time (Audio)</td>\n",
       "      <td>UCO9zJy7HWrIS3ojB4Lr7Yqw</td>\n",
       "      <td>Lil Wayne</td>\n",
       "      <td>2021-01-21 05:00:00</td>\n",
       "      <td>2238244</td>\n",
       "      <td>58925</td>\n",
       "      <td>2365</td>\n",
       "      <td>5539</td>\n",
       "      <td>lil wayne weezy weezy wednesday wayne carter y...</td>\n",
       "      <td>Official audio for Lil Wayne \"Ain't Got Time\",...</td>\n",
       "      <td>RIP Juice Wrld, wrote that on two cups, pour o...</td>\n",
       "      <td>Jan</td>\n",
       "    </tr>\n",
       "    <tr>\n",
       "      <th>37383</th>\n",
       "      <td>zwfu1-24T7Q</td>\n",
       "      <td>PRADA Cup Day 1 | Full Race Replay | PRADA Cup...</td>\n",
       "      <td>UCo15ZYO_XDRU9LI30OPtxAg</td>\n",
       "      <td>America's Cup</td>\n",
       "      <td>2021-01-15 04:07:00</td>\n",
       "      <td>317382</td>\n",
       "      <td>2008</td>\n",
       "      <td>83</td>\n",
       "      <td>192</td>\n",
       "      <td>America's Cup Americas Cup AC36 AC75 Presented...</td>\n",
       "      <td>The opening day of the PRADA Cup in Auckland, ...</td>\n",
       "      <td>Incredible how these boats evolve in a short t...</td>\n",
       "      <td>Jan</td>\n",
       "    </tr>\n",
       "    <tr>\n",
       "      <th>37418</th>\n",
       "      <td>zziBybeSAtw</td>\n",
       "      <td>PELICANS at LAKERS | FULL GAME HIGHLIGHTS | Ja...</td>\n",
       "      <td>UCWJ2lWNubArHWmf3FIHbfcQ</td>\n",
       "      <td>NBA</td>\n",
       "      <td>2021-01-16 05:39:00</td>\n",
       "      <td>2841917</td>\n",
       "      <td>20759</td>\n",
       "      <td>1049</td>\n",
       "      <td>2624</td>\n",
       "      <td>NBA G League Basketball game-0022000187 Lakers...</td>\n",
       "      <td>PELICANS at LAKERS | FULL GAME HIGHLIGHTS | Ja...</td>\n",
       "      <td>Montrezl Harrell is going crazy with the rebou...</td>\n",
       "      <td>Jan</td>\n",
       "    </tr>\n",
       "  </tbody>\n",
       "</table>\n",
       "<p>2108 rows × 13 columns</p>\n",
       "</div>"
      ],
      "text/plain": [
       "          video_id                                              title  \\\n",
       "27     -2Gwm7QfBnE                                    Q&A With Naisha   \n",
       "48     -4sfXSHSxzA           SURPRISING BRENT WITH HIS TIKTOK CRUSH!!   \n",
       "95          #NAME?  WE ARE HAVING A BABY! | finding out i'm pregna...   \n",
       "103         #NAME?              Do Ugly Foods Taste Worse? Taste Test   \n",
       "182         #NAME?                                   Schlatt gets fit   \n",
       "...            ...                                                ...   \n",
       "37300  zmzFL5bG-jc  DEVINE MON PERSONNAGE AVANT AKINATOR ! (c'est ...   \n",
       "37329  zpzjex7qwrA  Lampard Sacked Within Days Rorys Misery | Chel...   \n",
       "37345  zqyv-B6mnBM                 Lil Wayne - Ain't Got Time (Audio)   \n",
       "37383  zwfu1-24T7Q  PRADA Cup Day 1 | Full Race Replay | PRADA Cup...   \n",
       "37418  zziBybeSAtw  PELICANS at LAKERS | FULL GAME HIGHLIGHTS | Ja...   \n",
       "\n",
       "                     channel_id       channel_title        published_at  \\\n",
       "27     UCYwNMbogQFzMccPSuy-pPWg           MianTwins 2021-01-21 00:05:00   \n",
       "48     UCPpATKqmMV-CNRNWYaDUwiA        Alexa Rivera 2021-01-16 21:40:00   \n",
       "95     UCVsTboAhpnuL6j-tDePvNwQ      Tess Christine 2021-01-03 21:53:00   \n",
       "103    UCzpCc5n9hqiVC7HhPwcIKEg  Good Mythical MORE 2021-01-19 11:00:00   \n",
       "182    UCWZp4y1jqBuvLtiyxSs_ZBw             Big guy 2021-01-24 22:50:00   \n",
       "...                         ...                 ...                 ...   \n",
       "37300  UCIlr3byh6wmXgcPx_Tm9Ocw             Piwerre 2021-01-16 16:12:00   \n",
       "37329  UCkD-ZOixI0a9FjIExDsHsbg        The Kick Off 2021-01-03 20:13:00   \n",
       "37345  UCO9zJy7HWrIS3ojB4Lr7Yqw           Lil Wayne 2021-01-21 05:00:00   \n",
       "37383  UCo15ZYO_XDRU9LI30OPtxAg       America's Cup 2021-01-15 04:07:00   \n",
       "37418  UCWJ2lWNubArHWmf3FIHbfcQ                 NBA 2021-01-16 05:39:00   \n",
       "\n",
       "       view_count   likes  dislikes  comment_count  \\\n",
       "27         872372   38626       239            621   \n",
       "48        6504784  262477      5779           7907   \n",
       "95         533084   38965       119           1650   \n",
       "103       1057077   22526       531            773   \n",
       "182       1724965  119431       325           1578   \n",
       "...           ...     ...       ...            ...   \n",
       "37300      670357   54462       832           1249   \n",
       "37329      428646   12060       296           1505   \n",
       "37345     2238244   58925      2365           5539   \n",
       "37383      317382    2008        83            192   \n",
       "37418     2841917   20759      1049           2624   \n",
       "\n",
       "                                                    tags  \\\n",
       "27                                                         \n",
       "48                                                         \n",
       "95                                                         \n",
       "103    gmm good mythical morning rhettandlink rhett a...   \n",
       "182    jschlatt big guy jschlatt highlights schlatt j...   \n",
       "...                                                  ...   \n",
       "37300  Piwerre frere de michou crouton among us devin...   \n",
       "37329  Premier league Chelsea chelsea 1-3 Man City Ch...   \n",
       "37345  lil wayne weezy weezy wednesday wayne carter y...   \n",
       "37383  America's Cup Americas Cup AC36 AC75 Presented...   \n",
       "37418  NBA G League Basketball game-0022000187 Lakers...   \n",
       "\n",
       "                                             description  \\\n",
       "27     Hey Guys!!! this has been the most requested v...   \n",
       "48     He had no idea! Thank you guys so much for wat...   \n",
       "95     I am so happy to tell you that I am pregnant!!...   \n",
       "103    Today, we're doing a blind taste test to deter...   \n",
       "182                    #jschlatt #schlatt #bigguy #short   \n",
       "...                                                  ...   \n",
       "37300   Discord Piwerre : https://discord.gg/QBduPgAA...   \n",
       "37329  The Kick Off watched Manchester City destroy C...   \n",
       "37345  Official audio for Lil Wayne \"Ain't Got Time\",...   \n",
       "37383  The opening day of the PRADA Cup in Auckland, ...   \n",
       "37418  PELICANS at LAKERS | FULL GAME HIGHLIGHTS | Ja...   \n",
       "\n",
       "                                                comments published_month  \n",
       "27     I feel like Nate and Aishas personality match ...             Jan  \n",
       "48     Thank you guys for watching and don't forget t...             Jan  \n",
       "95     Okay I needed a moment to collect my thoughts ...             Jan  \n",
       "103    \"there's nothing wrong with it being bent\"\\nI ...             Jan  \n",
       "182    Schlatt is single handedly wiping out all the ...             Jan  \n",
       "...                                                  ...             ...  \n",
       "37300  Mdr michou quand c'est pas ses tournage il fou...             Jan  \n",
       "37329  True Its like a fighter who Geordie But I thou...             Jan  \n",
       "37345  RIP Juice Wrld, wrote that on two cups, pour o...             Jan  \n",
       "37383  Incredible how these boats evolve in a short t...             Jan  \n",
       "37418  Montrezl Harrell is going crazy with the rebou...             Jan  \n",
       "\n",
       "[2108 rows x 13 columns]"
      ]
     },
     "execution_count": 145,
     "metadata": {},
     "output_type": "execute_result"
    }
   ],
   "source": [
    "#Displaying all the information about the videos that were published in January by using query function.\n",
    "df.query('published_month==\"Jan\"')  "
   ]
  },
  {
   "cell_type": "code",
   "execution_count": 146,
   "id": "01ce00c5",
   "metadata": {
    "ExecuteTime": {
     "end_time": "2024-01-27T16:11:49.955306Z",
     "start_time": "2024-01-27T16:11:49.927351Z"
    }
   },
   "outputs": [
    {
     "data": {
      "text/plain": [
       "video_id           2108\n",
       "title              2108\n",
       "channel_id         2108\n",
       "channel_title      2108\n",
       "published_at       2108\n",
       "view_count         2108\n",
       "likes              2108\n",
       "dislikes           2108\n",
       "comment_count      2108\n",
       "tags               2108\n",
       "description        2108\n",
       "comments           2108\n",
       "published_month    2108\n",
       "dtype: int64"
      ]
     },
     "execution_count": 146,
     "metadata": {},
     "output_type": "execute_result"
    }
   ],
   "source": [
    "#DIsplaying the count of videos which were published in january only.\n",
    "df.query('published_month==\"Jan\"').count()  "
   ]
  },
  {
   "cell_type": "code",
   "execution_count": null,
   "id": "7922e641",
   "metadata": {},
   "outputs": [],
   "source": []
  },
  {
   "cell_type": "code",
   "execution_count": null,
   "id": "d7c8154e",
   "metadata": {},
   "outputs": [],
   "source": []
  }
 ],
 "metadata": {
  "kernelspec": {
   "display_name": "Python 3 (ipykernel)",
   "language": "python",
   "name": "python3"
  },
  "language_info": {
   "codemirror_mode": {
    "name": "ipython",
    "version": 3
   },
   "file_extension": ".py",
   "mimetype": "text/x-python",
   "name": "python",
   "nbconvert_exporter": "python",
   "pygments_lexer": "ipython3",
   "version": "3.11.5"
  },
  "varInspector": {
   "cols": {
    "lenName": 16,
    "lenType": 16,
    "lenVar": 40
   },
   "kernels_config": {
    "python": {
     "delete_cmd_postfix": "",
     "delete_cmd_prefix": "del ",
     "library": "var_list.py",
     "varRefreshCmd": "print(var_dic_list())"
    },
    "r": {
     "delete_cmd_postfix": ") ",
     "delete_cmd_prefix": "rm(",
     "library": "var_list.r",
     "varRefreshCmd": "cat(var_dic_list()) "
    }
   },
   "types_to_exclude": [
    "module",
    "function",
    "builtin_function_or_method",
    "instance",
    "_Feature"
   ],
   "window_display": false
  }
 },
 "nbformat": 4,
 "nbformat_minor": 5
}
